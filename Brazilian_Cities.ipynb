{
  "nbformat": 4,
  "nbformat_minor": 0,
  "metadata": {
    "colab": {
      "name": "Brazilian_Cities.ipynb",
      "provenance": [],
      "toc_visible": true
    },
    "kernelspec": {
      "name": "python3",
      "display_name": "Python 3"
    },
    "language_info": {
      "name": "python"
    }
  },
  "cells": [
    {
      "cell_type": "markdown",
      "metadata": {
        "id": "6PYZBKSTURtT"
      },
      "source": [
        "Predction of IDHM of brazilian cities based on data about location, population age, amount basic sanitation companies, vehicles and so on."
      ]
    },
    {
      "cell_type": "code",
      "metadata": {
        "id": "6tNrS_df0kgQ"
      },
      "source": [
        "import pandas as pd\n",
        "import numpy as np\n",
        "import seaborn as sns\n",
        "import matplotlib.pyplot as plt\n",
        "import optuna\n",
        "\n",
        "from sklearn.model_selection import train_test_split\n",
        "from sklearn.model_selection import cross_val_score\n",
        "from sklearn.model_selection import KFold\n",
        "from sklearn.model_selection import GridSearchCV\n",
        "\n",
        "from sklearn.pipeline import Pipeline\n",
        "from sklearn.pipeline import make_pipeline\n",
        "\n",
        "from sklearn.compose import ColumnTransformer\n",
        "from sklearn.compose import make_column_transformer\n",
        "from sklearn.compose import make_column_selector\n",
        "\n",
        "from sklearn.impute import SimpleImputer\n",
        "from sklearn.base import BaseEstimator, TransformerMixin\n",
        "from sklearn.feature_selection import SelectKBest, f_classif\n",
        "\n",
        "from sklearn.ensemble import GradientBoostingRegressor\n",
        "from sklearn.ensemble import RandomForestRegressor\n",
        "from sklearn.svm import SVR\n",
        "from sklearn.linear_model import SGDRegressor\n",
        "from sklearn.ensemble import VotingRegressor\n",
        "from xgboost import XGBRegressor\n",
        "from lightgbm import LGBMRegressor\n",
        "\n",
        "from sklearn.preprocessing import FunctionTransformer\n",
        "from sklearn.preprocessing import OneHotEncoder\n",
        "from sklearn.preprocessing import MinMaxScaler\n",
        "from sklearn.preprocessing import StandardScaler\n",
        "\n",
        "from sklearn.decomposition import PCA"
      ],
      "execution_count": 212,
      "outputs": []
    },
    {
      "cell_type": "markdown",
      "metadata": {
        "id": "b3nbvc9m0fAI"
      },
      "source": [
        "#Load the Data"
      ]
    },
    {
      "cell_type": "code",
      "metadata": {
        "colab": {
          "base_uri": "https://localhost:8080/"
        },
        "id": "aWtquKQhojy2",
        "outputId": "8b6f30cf-c176-4fb1-a3d4-581cef480911"
      },
      "source": [
        "from google.colab import drive\n",
        "drive.mount('/content/drive')"
      ],
      "execution_count": 2,
      "outputs": [
        {
          "output_type": "stream",
          "name": "stdout",
          "text": [
            "Mounted at /content/drive\n"
          ]
        }
      ]
    },
    {
      "cell_type": "code",
      "metadata": {
        "id": "MkfT2eSeooWk"
      },
      "source": [
        "#load data\n",
        "df=pd.read_csv('/content/drive/MyDrive/Colab Notebooks/Data Science/Analysis/Brazilian_Cities-incomp-RandomForest/BRAZIL_CITIES.csv',\n",
        "               sep=';')"
      ],
      "execution_count": 17,
      "outputs": []
    },
    {
      "cell_type": "markdown",
      "metadata": {
        "id": "HEOu-wxbUGza"
      },
      "source": [
        "The dataframe looks like this:"
      ]
    },
    {
      "cell_type": "code",
      "metadata": {
        "colab": {
          "base_uri": "https://localhost:8080/",
          "height": 245
        },
        "id": "c6kGTVvPpIR0",
        "outputId": "24256405-16eb-4a1b-d37f-5af29cd4cc41"
      },
      "source": [
        "df.head(2)"
      ],
      "execution_count": 18,
      "outputs": [
        {
          "output_type": "execute_result",
          "data": {
            "text/html": [
              "<div>\n",
              "<style scoped>\n",
              "    .dataframe tbody tr th:only-of-type {\n",
              "        vertical-align: middle;\n",
              "    }\n",
              "\n",
              "    .dataframe tbody tr th {\n",
              "        vertical-align: top;\n",
              "    }\n",
              "\n",
              "    .dataframe thead th {\n",
              "        text-align: right;\n",
              "    }\n",
              "</style>\n",
              "<table border=\"1\" class=\"dataframe\">\n",
              "  <thead>\n",
              "    <tr style=\"text-align: right;\">\n",
              "      <th></th>\n",
              "      <th>CITY</th>\n",
              "      <th>STATE</th>\n",
              "      <th>CAPITAL</th>\n",
              "      <th>IBGE_RES_POP</th>\n",
              "      <th>IBGE_RES_POP_BRAS</th>\n",
              "      <th>IBGE_RES_POP_ESTR</th>\n",
              "      <th>IBGE_DU</th>\n",
              "      <th>IBGE_DU_URBAN</th>\n",
              "      <th>IBGE_DU_RURAL</th>\n",
              "      <th>IBGE_POP</th>\n",
              "      <th>IBGE_1</th>\n",
              "      <th>IBGE_1-4</th>\n",
              "      <th>IBGE_5-9</th>\n",
              "      <th>IBGE_10-14</th>\n",
              "      <th>IBGE_15-59</th>\n",
              "      <th>IBGE_60+</th>\n",
              "      <th>IBGE_PLANTED_AREA</th>\n",
              "      <th>IBGE_CROP_PRODUCTION_$</th>\n",
              "      <th>IDHM Ranking 2010</th>\n",
              "      <th>IDHM</th>\n",
              "      <th>IDHM_Renda</th>\n",
              "      <th>IDHM_Longevidade</th>\n",
              "      <th>IDHM_Educacao</th>\n",
              "      <th>LONG</th>\n",
              "      <th>LAT</th>\n",
              "      <th>ALT</th>\n",
              "      <th>PAY_TV</th>\n",
              "      <th>FIXED_PHONES</th>\n",
              "      <th>AREA</th>\n",
              "      <th>REGIAO_TUR</th>\n",
              "      <th>CATEGORIA_TUR</th>\n",
              "      <th>ESTIMATED_POP</th>\n",
              "      <th>RURAL_URBAN</th>\n",
              "      <th>GVA_AGROPEC</th>\n",
              "      <th>GVA_INDUSTRY</th>\n",
              "      <th>GVA_SERVICES</th>\n",
              "      <th>GVA_PUBLIC</th>\n",
              "      <th>GVA_TOTAL</th>\n",
              "      <th>TAXES</th>\n",
              "      <th>GDP</th>\n",
              "      <th>...</th>\n",
              "      <th>GDP_CAPITA</th>\n",
              "      <th>GVA_MAIN</th>\n",
              "      <th>MUN_EXPENDIT</th>\n",
              "      <th>COMP_TOT</th>\n",
              "      <th>COMP_A</th>\n",
              "      <th>COMP_B</th>\n",
              "      <th>COMP_C</th>\n",
              "      <th>COMP_D</th>\n",
              "      <th>COMP_E</th>\n",
              "      <th>COMP_F</th>\n",
              "      <th>COMP_G</th>\n",
              "      <th>COMP_H</th>\n",
              "      <th>COMP_I</th>\n",
              "      <th>COMP_J</th>\n",
              "      <th>COMP_K</th>\n",
              "      <th>COMP_L</th>\n",
              "      <th>COMP_M</th>\n",
              "      <th>COMP_N</th>\n",
              "      <th>COMP_O</th>\n",
              "      <th>COMP_P</th>\n",
              "      <th>COMP_Q</th>\n",
              "      <th>COMP_R</th>\n",
              "      <th>COMP_S</th>\n",
              "      <th>COMP_T</th>\n",
              "      <th>COMP_U</th>\n",
              "      <th>HOTELS</th>\n",
              "      <th>BEDS</th>\n",
              "      <th>Pr_Agencies</th>\n",
              "      <th>Pu_Agencies</th>\n",
              "      <th>Pr_Bank</th>\n",
              "      <th>Pu_Bank</th>\n",
              "      <th>Pr_Assets</th>\n",
              "      <th>Pu_Assets</th>\n",
              "      <th>Cars</th>\n",
              "      <th>Motorcycles</th>\n",
              "      <th>Wheeled_tractor</th>\n",
              "      <th>UBER</th>\n",
              "      <th>MAC</th>\n",
              "      <th>WAL-MART</th>\n",
              "      <th>POST_OFFICES</th>\n",
              "    </tr>\n",
              "  </thead>\n",
              "  <tbody>\n",
              "    <tr>\n",
              "      <th>0</th>\n",
              "      <td>Abadia De Goiás</td>\n",
              "      <td>GO</td>\n",
              "      <td>0</td>\n",
              "      <td>6876.0</td>\n",
              "      <td>6876.0</td>\n",
              "      <td>0.0</td>\n",
              "      <td>2137.0</td>\n",
              "      <td>1546.0</td>\n",
              "      <td>591.0</td>\n",
              "      <td>5300.0</td>\n",
              "      <td>69.0</td>\n",
              "      <td>318.0</td>\n",
              "      <td>438.0</td>\n",
              "      <td>517.0</td>\n",
              "      <td>3542.0</td>\n",
              "      <td>416.0</td>\n",
              "      <td>319.0</td>\n",
              "      <td>1843.0</td>\n",
              "      <td>1689.0</td>\n",
              "      <td>0.708</td>\n",
              "      <td>0.687</td>\n",
              "      <td>0.830</td>\n",
              "      <td>0.622</td>\n",
              "      <td>-49.440548</td>\n",
              "      <td>-16.758812</td>\n",
              "      <td>893.60</td>\n",
              "      <td>360.0</td>\n",
              "      <td>842.0</td>\n",
              "      <td>147.26</td>\n",
              "      <td>NaN</td>\n",
              "      <td>NaN</td>\n",
              "      <td>8583.0</td>\n",
              "      <td>Urbano</td>\n",
              "      <td>6.20</td>\n",
              "      <td>27991.25</td>\n",
              "      <td>74750.32</td>\n",
              "      <td>36915.04</td>\n",
              "      <td>145857.60</td>\n",
              "      <td>20554.2</td>\n",
              "      <td>166.41</td>\n",
              "      <td>...</td>\n",
              "      <td>20664.57</td>\n",
              "      <td>Demais serviços</td>\n",
              "      <td>28227691.0</td>\n",
              "      <td>284.0</td>\n",
              "      <td>5.0</td>\n",
              "      <td>1.0</td>\n",
              "      <td>56.0</td>\n",
              "      <td>0.0</td>\n",
              "      <td>2.0</td>\n",
              "      <td>29.0</td>\n",
              "      <td>110.0</td>\n",
              "      <td>26.0</td>\n",
              "      <td>4.0</td>\n",
              "      <td>5.0</td>\n",
              "      <td>0.0</td>\n",
              "      <td>2.0</td>\n",
              "      <td>10.0</td>\n",
              "      <td>12.0</td>\n",
              "      <td>4.0</td>\n",
              "      <td>6.0</td>\n",
              "      <td>6.0</td>\n",
              "      <td>1.0</td>\n",
              "      <td>5.0</td>\n",
              "      <td>0.0</td>\n",
              "      <td>0.0</td>\n",
              "      <td>NaN</td>\n",
              "      <td>NaN</td>\n",
              "      <td>NaN</td>\n",
              "      <td>NaN</td>\n",
              "      <td>NaN</td>\n",
              "      <td>NaN</td>\n",
              "      <td>NaN</td>\n",
              "      <td>NaN</td>\n",
              "      <td>2158.0</td>\n",
              "      <td>1246.0</td>\n",
              "      <td>0.0</td>\n",
              "      <td>NaN</td>\n",
              "      <td>NaN</td>\n",
              "      <td>NaN</td>\n",
              "      <td>1.0</td>\n",
              "    </tr>\n",
              "    <tr>\n",
              "      <th>1</th>\n",
              "      <td>Abadia Dos Dourados</td>\n",
              "      <td>MG</td>\n",
              "      <td>0</td>\n",
              "      <td>6704.0</td>\n",
              "      <td>6704.0</td>\n",
              "      <td>0.0</td>\n",
              "      <td>2328.0</td>\n",
              "      <td>1481.0</td>\n",
              "      <td>847.0</td>\n",
              "      <td>4154.0</td>\n",
              "      <td>38.0</td>\n",
              "      <td>207.0</td>\n",
              "      <td>260.0</td>\n",
              "      <td>351.0</td>\n",
              "      <td>2709.0</td>\n",
              "      <td>589.0</td>\n",
              "      <td>4479.0</td>\n",
              "      <td>18017.0</td>\n",
              "      <td>2207.0</td>\n",
              "      <td>0.690</td>\n",
              "      <td>0.693</td>\n",
              "      <td>0.839</td>\n",
              "      <td>0.563</td>\n",
              "      <td>-47.396832</td>\n",
              "      <td>-18.487565</td>\n",
              "      <td>753.12</td>\n",
              "      <td>77.0</td>\n",
              "      <td>296.0</td>\n",
              "      <td>881.06</td>\n",
              "      <td>Caminhos Do Cerrado</td>\n",
              "      <td>D</td>\n",
              "      <td>6972.0</td>\n",
              "      <td>Rural Adjacente</td>\n",
              "      <td>50524.57</td>\n",
              "      <td>25917.70</td>\n",
              "      <td>62689.23</td>\n",
              "      <td>28083.79</td>\n",
              "      <td>167215.28</td>\n",
              "      <td>12873.5</td>\n",
              "      <td>180.09</td>\n",
              "      <td>...</td>\n",
              "      <td>25591.70</td>\n",
              "      <td>Demais serviços</td>\n",
              "      <td>17909274.0</td>\n",
              "      <td>476.0</td>\n",
              "      <td>6.0</td>\n",
              "      <td>6.0</td>\n",
              "      <td>30.0</td>\n",
              "      <td>1.0</td>\n",
              "      <td>2.0</td>\n",
              "      <td>34.0</td>\n",
              "      <td>190.0</td>\n",
              "      <td>70.0</td>\n",
              "      <td>28.0</td>\n",
              "      <td>11.0</td>\n",
              "      <td>0.0</td>\n",
              "      <td>4.0</td>\n",
              "      <td>15.0</td>\n",
              "      <td>29.0</td>\n",
              "      <td>2.0</td>\n",
              "      <td>9.0</td>\n",
              "      <td>14.0</td>\n",
              "      <td>6.0</td>\n",
              "      <td>19.0</td>\n",
              "      <td>0.0</td>\n",
              "      <td>0.0</td>\n",
              "      <td>NaN</td>\n",
              "      <td>NaN</td>\n",
              "      <td>NaN</td>\n",
              "      <td>NaN</td>\n",
              "      <td>NaN</td>\n",
              "      <td>NaN</td>\n",
              "      <td>NaN</td>\n",
              "      <td>NaN</td>\n",
              "      <td>2227.0</td>\n",
              "      <td>1142.0</td>\n",
              "      <td>0.0</td>\n",
              "      <td>NaN</td>\n",
              "      <td>NaN</td>\n",
              "      <td>NaN</td>\n",
              "      <td>1.0</td>\n",
              "    </tr>\n",
              "  </tbody>\n",
              "</table>\n",
              "<p>2 rows × 81 columns</p>\n",
              "</div>"
            ],
            "text/plain": [
              "                  CITY STATE  CAPITAL  ...  MAC  WAL-MART  POST_OFFICES\n",
              "0      Abadia De Goiás    GO        0  ...  NaN       NaN           1.0\n",
              "1  Abadia Dos Dourados    MG        0  ...  NaN       NaN           1.0\n",
              "\n",
              "[2 rows x 81 columns]"
            ]
          },
          "metadata": {},
          "execution_count": 18
        }
      ]
    },
    {
      "cell_type": "markdown",
      "metadata": {
        "id": "ydYOXSrNd96D"
      },
      "source": [
        "#####Pipe1"
      ]
    },
    {
      "cell_type": "code",
      "metadata": {
        "id": "VPzbOnd1vBGD"
      },
      "source": [
        "#defining columns with useless data to out model or to avoid data leakage\n",
        "bad_columns = ['CATEGORIA_TUR','CITY', 'IDHM Ranking 2010', 'IDHM_Renda', \n",
        "               'IDHM_Longevidade', 'IDHM_Educacao', 'LONG', 'LAT', 'GVA_MAIN', \n",
        "               'REGIAO_TUR', 'MUN_EXPENDIT', 'HOTELS', 'BEDS', 'Pr_Agencies', \n",
        "               'Pu_Agencies', 'Pr_Bank', 'Pu_Bank', 'Pr_Assets', 'Pu_Assets',\n",
        "               'UBER','MAC','WAL-MART']\n",
        "               \n",
        "#drop bad columns\n",
        "def drop_bad_cols_cattur(df):\n",
        "  df1=df.copy()\n",
        "  df1.drop(bad_columns, \n",
        "          axis=1, \n",
        "          inplace=True)\n",
        "  return df1"
      ],
      "execution_count": 19,
      "outputs": []
    },
    {
      "cell_type": "code",
      "metadata": {
        "id": "jocdTqS749fG"
      },
      "source": [
        "#drop columns where target is null\n",
        "def drop_null_rows(df):\n",
        "  return df.dropna(subset=['IDHM'])"
      ],
      "execution_count": 20,
      "outputs": []
    },
    {
      "cell_type": "code",
      "metadata": {
        "id": "5K-BcpaBg980"
      },
      "source": [
        "#making the functions into transformers for the Pipeline() class\n",
        "get_drop_bad_cols_incial = FunctionTransformer(drop_bad_cols_cattur)\n",
        "get_drop_row_null_target = FunctionTransformer(drop_null_rows)\n",
        "\n",
        "#pipeline to remove bad columns and rows with missing target\n",
        "pipe_inicial = make_pipeline(get_drop_bad_cols_incial, get_drop_row_null_target)\n",
        "\n",
        "# df with bad columns and rows with na in target removed\n",
        "df_sem_cols_nan = pipe_inicial.fit_transform(df)"
      ],
      "execution_count": 21,
      "outputs": []
    },
    {
      "cell_type": "code",
      "metadata": {
        "colab": {
          "base_uri": "https://localhost:8080/",
          "height": 165
        },
        "id": "eotlAOXEhpgz",
        "outputId": "2345e607-a3ef-4626-cac7-38825638cf72"
      },
      "source": [
        "df_sem_cols_nan.head(2)"
      ],
      "execution_count": 22,
      "outputs": [
        {
          "output_type": "execute_result",
          "data": {
            "text/html": [
              "<div>\n",
              "<style scoped>\n",
              "    .dataframe tbody tr th:only-of-type {\n",
              "        vertical-align: middle;\n",
              "    }\n",
              "\n",
              "    .dataframe tbody tr th {\n",
              "        vertical-align: top;\n",
              "    }\n",
              "\n",
              "    .dataframe thead th {\n",
              "        text-align: right;\n",
              "    }\n",
              "</style>\n",
              "<table border=\"1\" class=\"dataframe\">\n",
              "  <thead>\n",
              "    <tr style=\"text-align: right;\">\n",
              "      <th></th>\n",
              "      <th>STATE</th>\n",
              "      <th>CAPITAL</th>\n",
              "      <th>IBGE_RES_POP</th>\n",
              "      <th>IBGE_RES_POP_BRAS</th>\n",
              "      <th>IBGE_RES_POP_ESTR</th>\n",
              "      <th>IBGE_DU</th>\n",
              "      <th>IBGE_DU_URBAN</th>\n",
              "      <th>IBGE_DU_RURAL</th>\n",
              "      <th>IBGE_POP</th>\n",
              "      <th>IBGE_1</th>\n",
              "      <th>IBGE_1-4</th>\n",
              "      <th>IBGE_5-9</th>\n",
              "      <th>IBGE_10-14</th>\n",
              "      <th>IBGE_15-59</th>\n",
              "      <th>IBGE_60+</th>\n",
              "      <th>IBGE_PLANTED_AREA</th>\n",
              "      <th>IBGE_CROP_PRODUCTION_$</th>\n",
              "      <th>IDHM</th>\n",
              "      <th>ALT</th>\n",
              "      <th>PAY_TV</th>\n",
              "      <th>FIXED_PHONES</th>\n",
              "      <th>AREA</th>\n",
              "      <th>ESTIMATED_POP</th>\n",
              "      <th>RURAL_URBAN</th>\n",
              "      <th>GVA_AGROPEC</th>\n",
              "      <th>GVA_INDUSTRY</th>\n",
              "      <th>GVA_SERVICES</th>\n",
              "      <th>GVA_PUBLIC</th>\n",
              "      <th>GVA_TOTAL</th>\n",
              "      <th>TAXES</th>\n",
              "      <th>GDP</th>\n",
              "      <th>POP_GDP</th>\n",
              "      <th>GDP_CAPITA</th>\n",
              "      <th>COMP_TOT</th>\n",
              "      <th>COMP_A</th>\n",
              "      <th>COMP_B</th>\n",
              "      <th>COMP_C</th>\n",
              "      <th>COMP_D</th>\n",
              "      <th>COMP_E</th>\n",
              "      <th>COMP_F</th>\n",
              "      <th>COMP_G</th>\n",
              "      <th>COMP_H</th>\n",
              "      <th>COMP_I</th>\n",
              "      <th>COMP_J</th>\n",
              "      <th>COMP_K</th>\n",
              "      <th>COMP_L</th>\n",
              "      <th>COMP_M</th>\n",
              "      <th>COMP_N</th>\n",
              "      <th>COMP_O</th>\n",
              "      <th>COMP_P</th>\n",
              "      <th>COMP_Q</th>\n",
              "      <th>COMP_R</th>\n",
              "      <th>COMP_S</th>\n",
              "      <th>COMP_T</th>\n",
              "      <th>COMP_U</th>\n",
              "      <th>Cars</th>\n",
              "      <th>Motorcycles</th>\n",
              "      <th>Wheeled_tractor</th>\n",
              "      <th>POST_OFFICES</th>\n",
              "    </tr>\n",
              "  </thead>\n",
              "  <tbody>\n",
              "    <tr>\n",
              "      <th>0</th>\n",
              "      <td>GO</td>\n",
              "      <td>0</td>\n",
              "      <td>6876.0</td>\n",
              "      <td>6876.0</td>\n",
              "      <td>0.0</td>\n",
              "      <td>2137.0</td>\n",
              "      <td>1546.0</td>\n",
              "      <td>591.0</td>\n",
              "      <td>5300.0</td>\n",
              "      <td>69.0</td>\n",
              "      <td>318.0</td>\n",
              "      <td>438.0</td>\n",
              "      <td>517.0</td>\n",
              "      <td>3542.0</td>\n",
              "      <td>416.0</td>\n",
              "      <td>319.0</td>\n",
              "      <td>1843.0</td>\n",
              "      <td>0.708</td>\n",
              "      <td>893.60</td>\n",
              "      <td>360.0</td>\n",
              "      <td>842.0</td>\n",
              "      <td>147.26</td>\n",
              "      <td>8583.0</td>\n",
              "      <td>Urbano</td>\n",
              "      <td>6.20</td>\n",
              "      <td>27991.25</td>\n",
              "      <td>74750.32</td>\n",
              "      <td>36915.04</td>\n",
              "      <td>145857.60</td>\n",
              "      <td>20554.2</td>\n",
              "      <td>166.41</td>\n",
              "      <td>8053.0</td>\n",
              "      <td>20664.57</td>\n",
              "      <td>284.0</td>\n",
              "      <td>5.0</td>\n",
              "      <td>1.0</td>\n",
              "      <td>56.0</td>\n",
              "      <td>0.0</td>\n",
              "      <td>2.0</td>\n",
              "      <td>29.0</td>\n",
              "      <td>110.0</td>\n",
              "      <td>26.0</td>\n",
              "      <td>4.0</td>\n",
              "      <td>5.0</td>\n",
              "      <td>0.0</td>\n",
              "      <td>2.0</td>\n",
              "      <td>10.0</td>\n",
              "      <td>12.0</td>\n",
              "      <td>4.0</td>\n",
              "      <td>6.0</td>\n",
              "      <td>6.0</td>\n",
              "      <td>1.0</td>\n",
              "      <td>5.0</td>\n",
              "      <td>0.0</td>\n",
              "      <td>0.0</td>\n",
              "      <td>2158.0</td>\n",
              "      <td>1246.0</td>\n",
              "      <td>0.0</td>\n",
              "      <td>1.0</td>\n",
              "    </tr>\n",
              "    <tr>\n",
              "      <th>1</th>\n",
              "      <td>MG</td>\n",
              "      <td>0</td>\n",
              "      <td>6704.0</td>\n",
              "      <td>6704.0</td>\n",
              "      <td>0.0</td>\n",
              "      <td>2328.0</td>\n",
              "      <td>1481.0</td>\n",
              "      <td>847.0</td>\n",
              "      <td>4154.0</td>\n",
              "      <td>38.0</td>\n",
              "      <td>207.0</td>\n",
              "      <td>260.0</td>\n",
              "      <td>351.0</td>\n",
              "      <td>2709.0</td>\n",
              "      <td>589.0</td>\n",
              "      <td>4479.0</td>\n",
              "      <td>18017.0</td>\n",
              "      <td>0.690</td>\n",
              "      <td>753.12</td>\n",
              "      <td>77.0</td>\n",
              "      <td>296.0</td>\n",
              "      <td>881.06</td>\n",
              "      <td>6972.0</td>\n",
              "      <td>Rural Adjacente</td>\n",
              "      <td>50524.57</td>\n",
              "      <td>25917.70</td>\n",
              "      <td>62689.23</td>\n",
              "      <td>28083.79</td>\n",
              "      <td>167215.28</td>\n",
              "      <td>12873.5</td>\n",
              "      <td>180.09</td>\n",
              "      <td>7037.0</td>\n",
              "      <td>25591.70</td>\n",
              "      <td>476.0</td>\n",
              "      <td>6.0</td>\n",
              "      <td>6.0</td>\n",
              "      <td>30.0</td>\n",
              "      <td>1.0</td>\n",
              "      <td>2.0</td>\n",
              "      <td>34.0</td>\n",
              "      <td>190.0</td>\n",
              "      <td>70.0</td>\n",
              "      <td>28.0</td>\n",
              "      <td>11.0</td>\n",
              "      <td>0.0</td>\n",
              "      <td>4.0</td>\n",
              "      <td>15.0</td>\n",
              "      <td>29.0</td>\n",
              "      <td>2.0</td>\n",
              "      <td>9.0</td>\n",
              "      <td>14.0</td>\n",
              "      <td>6.0</td>\n",
              "      <td>19.0</td>\n",
              "      <td>0.0</td>\n",
              "      <td>0.0</td>\n",
              "      <td>2227.0</td>\n",
              "      <td>1142.0</td>\n",
              "      <td>0.0</td>\n",
              "      <td>1.0</td>\n",
              "    </tr>\n",
              "  </tbody>\n",
              "</table>\n",
              "</div>"
            ],
            "text/plain": [
              "  STATE  CAPITAL  IBGE_RES_POP  ...  Motorcycles  Wheeled_tractor  POST_OFFICES\n",
              "0    GO        0        6876.0  ...       1246.0              0.0           1.0\n",
              "1    MG        0        6704.0  ...       1142.0              0.0           1.0\n",
              "\n",
              "[2 rows x 59 columns]"
            ]
          },
          "metadata": {},
          "execution_count": 22
        }
      ]
    },
    {
      "cell_type": "markdown",
      "metadata": {
        "id": "_g0nvs5RpReY"
      },
      "source": [
        "#Exploratory Data Analysis"
      ]
    },
    {
      "cell_type": "markdown",
      "metadata": {
        "id": "trLH3M-3rxEk"
      },
      "source": [
        "In the file cols_explain there's a description of each column in the dataframe"
      ]
    },
    {
      "cell_type": "code",
      "metadata": {
        "id": "OHNCaskpzW8V",
        "colab": {
          "base_uri": "https://localhost:8080/",
          "height": 142
        },
        "outputId": "dd19ca70-473e-45c9-d8de-e4d7a06de1ec"
      },
      "source": [
        "#load columns explanation\n",
        "cols_explain=pd.read_csv('/content/drive/MyDrive/Colab Notebooks/Data Science/Analysis/Brazilian_Cities-incomp-RandomForest/Data_Dictionary.csv',\n",
        "               sep=';', \n",
        "               decimal=',')\n",
        "#drop empty rows\n",
        "cols_explain.dropna(axis=0, inplace=True, how='all')\n",
        "\n",
        "cols_explain.head(3)"
      ],
      "execution_count": 23,
      "outputs": [
        {
          "output_type": "execute_result",
          "data": {
            "text/html": [
              "<div>\n",
              "<style scoped>\n",
              "    .dataframe tbody tr th:only-of-type {\n",
              "        vertical-align: middle;\n",
              "    }\n",
              "\n",
              "    .dataframe tbody tr th {\n",
              "        vertical-align: top;\n",
              "    }\n",
              "\n",
              "    .dataframe thead th {\n",
              "        text-align: right;\n",
              "    }\n",
              "</style>\n",
              "<table border=\"1\" class=\"dataframe\">\n",
              "  <thead>\n",
              "    <tr style=\"text-align: right;\">\n",
              "      <th></th>\n",
              "      <th>FIELD</th>\n",
              "      <th>DESCRIPTION</th>\n",
              "      <th>REFERENCE</th>\n",
              "      <th>UNIT</th>\n",
              "      <th>SOURCE</th>\n",
              "      <th>Unnamed: 5</th>\n",
              "    </tr>\n",
              "  </thead>\n",
              "  <tbody>\n",
              "    <tr>\n",
              "      <th>0</th>\n",
              "      <td>CITY</td>\n",
              "      <td>Name of the City</td>\n",
              "      <td>NaN</td>\n",
              "      <td>NaN</td>\n",
              "      <td>-</td>\n",
              "      <td>NaN</td>\n",
              "    </tr>\n",
              "    <tr>\n",
              "      <th>1</th>\n",
              "      <td>STATE</td>\n",
              "      <td>Name of the State</td>\n",
              "      <td>NaN</td>\n",
              "      <td>NaN</td>\n",
              "      <td>-</td>\n",
              "      <td>NaN</td>\n",
              "    </tr>\n",
              "    <tr>\n",
              "      <th>2</th>\n",
              "      <td>CAPITAL</td>\n",
              "      <td>1 if Capital of State</td>\n",
              "      <td>NaN</td>\n",
              "      <td>NaN</td>\n",
              "      <td>-</td>\n",
              "      <td>NaN</td>\n",
              "    </tr>\n",
              "  </tbody>\n",
              "</table>\n",
              "</div>"
            ],
            "text/plain": [
              "     FIELD            DESCRIPTION REFERENCE UNIT SOURCE Unnamed: 5\n",
              "0     CITY       Name of the City       NaN  NaN      -        NaN\n",
              "1    STATE      Name of the State       NaN  NaN      -        NaN\n",
              "2  CAPITAL  1 if Capital of State       NaN  NaN      -        NaN"
            ]
          },
          "metadata": {},
          "execution_count": 23
        }
      ]
    },
    {
      "cell_type": "markdown",
      "metadata": {
        "id": "SvKyDTiz4Bpu"
      },
      "source": [
        "##Correlation\n",
        "\n",
        "The correlation helps us to know the data better, which features are most related to the target or to another feature."
      ]
    },
    {
      "cell_type": "code",
      "metadata": {
        "colab": {
          "base_uri": "https://localhost:8080/",
          "height": 0
        },
        "id": "He8WK-gWGL0Z",
        "outputId": "597238b1-4f67-4e52-caf5-47f1bc98b74d"
      },
      "source": [
        "import seaborn as sns\n",
        "\n",
        "numeric_vars = df_sem_cols_nan.columns.drop(['STATE','RURAL_URBAN','IDHM'],errors='ignore').to_list()\n",
        "sns.heatmap(df_sem_cols_nan[numeric_vars].corr())"
      ],
      "execution_count": 30,
      "outputs": [
        {
          "output_type": "execute_result",
          "data": {
            "text/plain": [
              "<matplotlib.axes._subplots.AxesSubplot at 0x7f64e3a8f210>"
            ]
          },
          "metadata": {},
          "execution_count": 30
        },
        {
          "output_type": "display_data",
          "data": {
            "image/png": "[encoded data removed]",
            "text/plain": [
              "<Figure size 432x288 with 2 Axes>"
            ]
          },
          "metadata": {
            "needs_background": "light"
          }
        }
      ]
    },
    {
      "cell_type": "code",
      "metadata": {
        "colab": {
          "base_uri": "https://localhost:8080/"
        },
        "id": "IxDJ4xyI4Df0",
        "outputId": "ee97c541-58cb-4988-f8ee-929e18a29f59"
      },
      "source": [
        "fclassif_drop_vars = ['STATE','RURAL_URBAN','AREA']\n",
        "#score_func defines the function and k means it will return the k best (highest score) vars\n",
        "df_fclassif = df_sem_cols_nan.drop(fclassif_drop_vars,axis=1).copy()\n",
        "df_fclassif_nan = df_fclassif.dropna(axis=0,how='any')\n",
        "y_fclassif = df_fclassif_nan.IDHM\n",
        "x_fclassif = df_fclassif_nan.drop('IDHM',axis=1).copy()\n",
        "\n",
        "algoritmo = SelectKBest(score_func=f_classif, k=10)\n",
        "best_k_features = algoritmo.fit_transform(x_fclassif,y_fclassif)\n",
        "\n",
        "scores_fclassif = pd.DataFrame(algoritmo.scores_,x_fclassif.columns)\n",
        "#print results\n",
        "print(scores_fclassif.sort_values(by=0, ascending=False).head(10))"
      ],
      "execution_count": 25,
      "outputs": [
        {
          "output_type": "stream",
          "name": "stdout",
          "text": [
            "                        0\n",
            "COMP_E           9.255847\n",
            "COMP_D           9.235137\n",
            "Wheeled_tractor  9.231580\n",
            "COMP_H           8.968747\n",
            "GDP_CAPITA       8.430360\n",
            "COMP_I           8.315375\n",
            "COMP_G           8.281256\n",
            "GVA_INDUSTRY     8.239485\n",
            "PAY_TV           8.222975\n",
            "Motorcycles      8.141012\n"
          ]
        },
        {
          "output_type": "stream",
          "name": "stderr",
          "text": [
            "/usr/local/lib/python3.7/dist-packages/sklearn/feature_selection/_univariate_selection.py:114: UserWarning: Features [49] are constant.\n",
            "  UserWarning)\n",
            "/usr/local/lib/python3.7/dist-packages/sklearn/feature_selection/_univariate_selection.py:115: RuntimeWarning: invalid value encountered in true_divide\n",
            "  f = msb / msw\n"
          ]
        }
      ]
    },
    {
      "cell_type": "markdown",
      "metadata": {
        "id": "I_ApxpgcQZKq"
      },
      "source": [
        "COMP_E and COMP_D seems to be very important to the IDHM of a city. Checking in the `cols_explain`, we see that this columns are the amount of companies that provide Electricity and gas and the amount of companies that provide Water, sewage, waste management and decontamination activities. That makes sanse, this cities have better basic services, so it has a better IDHM.\n",
        "\n",
        "The surprise is the 3rd place, `Wheeled_tractor` also appear to be a important indicator of IDHM."
      ]
    },
    {
      "cell_type": "code",
      "metadata": {
        "colab": {
          "base_uri": "https://localhost:8080/",
          "height": 519
        },
        "id": "USWQL7z4LaPp",
        "outputId": "be9dacdc-5a17-41f3-b301-211829f92441"
      },
      "source": [
        "columns_of_interest = ['COMP_E','COMP_D','Wheeled_tractor','COMP_H','GDP_CAPITA',\n",
        "                       'COMP_I','COMP_G','GVA_INDUSTRY','PAY_TV','Motorcycles']\n",
        "\n",
        "# Correlation between numeric variables\n",
        "fig=plt.figure(figsize=(10,7))\n",
        "axis=sns.heatmap(x_fclassif[columns_of_interest].corr(), annot=True, linewidths=3, square=True, cmap='Blues', fmt=\".0%\",)\n",
        "\n",
        "#styling the plot\n",
        "axis.set_title('Correlation between numeric features', fontsize=16, weight='bold', y=1.05);\n",
        "#axis.set_xticklabels(num_var, fontsize=12)\n",
        "#axis.set_yticklabels(num_var, fontsize=12, rotation=0);\n",
        "\n",
        "fig.text(0.5, 0.0, 'Numeric Features', ha = 'center', fontsize = 14, weight = 'bold');"
      ],
      "execution_count": null,
      "outputs": [
        {
          "output_type": "display_data",
          "data": {
            "image/png": "[encoded data removed]",
            "text/plain": [
              "<Figure size 720x504 with 2 Axes>"
            ]
          },
          "metadata": {
            "tags": [],
            "needs_background": "light"
          }
        }
      ]
    },
    {
      "cell_type": "markdown",
      "metadata": {
        "id": "87S6ViZF543S"
      },
      "source": [
        "##Columns types"
      ]
    },
    {
      "cell_type": "markdown",
      "metadata": {
        "id": "_-pm0Uwvx1Yl"
      },
      "source": [
        "Let's find out which columns are dtype object "
      ]
    },
    {
      "cell_type": "code",
      "metadata": {
        "colab": {
          "base_uri": "https://localhost:8080/"
        },
        "id": "5G-dayrP4Qv7",
        "outputId": "366f0028-a64e-42dc-9e2d-76274d9a1de0"
      },
      "source": [
        "object_columns = df_sem_cols_nan.select_dtypes(object).columns\n",
        "object_columns"
      ],
      "execution_count": 31,
      "outputs": [
        {
          "output_type": "execute_result",
          "data": {
            "text/plain": [
              "Index(['STATE', 'AREA', 'RURAL_URBAN'], dtype='object')"
            ]
          },
          "metadata": {},
          "execution_count": 31
        }
      ]
    },
    {
      "cell_type": "markdown",
      "metadata": {
        "id": "X5fJT64Prbzq"
      },
      "source": [
        "`STATE`, `CATEGORIA_TUR`, `RURAL_URBAN` are actual categorical variables, we're going to One hot econde it.\n",
        "\n",
        "The `AREA` is a numerical feature but it has commas separating the thousands. We're going to remove the commas and transform the columns in numerical."
      ]
    },
    {
      "cell_type": "code",
      "metadata": {
        "id": "pGxfQleErH1s"
      },
      "source": [
        "numeric_vars = df_sem_cols_nan.columns.drop(['STATE','RURAL_URBAN','IDHM'],errors='ignore').to_list()\n",
        "categorical_vars = ['STATE','RURAL_URBAN'] \n",
        "\n",
        "#declaring selectors to use in column transformers\n",
        "cat_selector = make_column_selector(dtype_include=object)\n",
        "num_selector = make_column_selector(dtype_include=np.number)"
      ],
      "execution_count": 28,
      "outputs": []
    },
    {
      "cell_type": "markdown",
      "metadata": {
        "id": "YSC1tKIStGuJ"
      },
      "source": [
        "##Missing Values"
      ]
    },
    {
      "cell_type": "code",
      "metadata": {
        "id": "CLkL3WPeqiPs"
      },
      "source": [
        "def faltantes_percentual(df):\n",
        "  \"\"\"we can see how much (%) of each column is missing \"\"\"\n",
        "  print((df.isnull().sum() / len(df.iloc[:,0])*100).sort_values(ascending=False))"
      ],
      "execution_count": null,
      "outputs": []
    },
    {
      "cell_type": "code",
      "metadata": {
        "id": "PB8zu1-Npzte",
        "colab": {
          "base_uri": "https://localhost:8080/"
        },
        "outputId": "882a3f0d-1813-43e6-8cb3-81f496a7db69"
      },
      "source": [
        "faltantes_percentual(df1)"
      ],
      "execution_count": 78,
      "outputs": [
        {
          "output_type": "stream",
          "name": "stdout",
          "text": [
            "POST_OFFICES              2.120395\n",
            "IBGE_DU_RURAL             1.329739\n",
            "Cars                      0.143756\n",
            "Wheeled_tractor           0.143756\n",
            "Motorcycles               0.143756\n",
            "IBGE_DU                   0.053908\n",
            "IBGE_DU_URBAN             0.053908\n",
            "AREA                      0.035939\n",
            "IBGE_RES_POP              0.017969\n",
            "IBGE_CROP_PRODUCTION_$    0.017969\n",
            " GVA_TOTAL                0.017969\n",
            "GVA_PUBLIC                0.017969\n",
            "GVA_SERVICES              0.017969\n",
            "GVA_INDUSTRY              0.017969\n",
            "GVA_AGROPEC               0.017969\n",
            "RURAL_URBAN               0.017969\n",
            "ALT                       0.017969\n",
            "IBGE_60+                  0.017969\n",
            "IBGE_PLANTED_AREA         0.017969\n",
            "IBGE_RES_POP_BRAS         0.017969\n",
            "IBGE_15-59                0.017969\n",
            "GDP                       0.017969\n",
            "IBGE_5-9                  0.017969\n",
            "IBGE_1-4                  0.017969\n",
            "IBGE_1                    0.017969\n",
            "IBGE_POP                  0.017969\n",
            "IBGE_RES_POP_ESTR         0.017969\n",
            "IBGE_10-14                0.017969\n",
            "TAXES                     0.017969\n",
            "POP_GDP                   0.017969\n",
            "GDP_CAPITA                0.017969\n",
            "COMP_U                    0.017969\n",
            "COMP_T                    0.017969\n",
            "COMP_S                    0.017969\n",
            "COMP_R                    0.017969\n",
            "COMP_Q                    0.017969\n",
            "COMP_P                    0.017969\n",
            "COMP_O                    0.017969\n",
            "COMP_N                    0.017969\n",
            "COMP_M                    0.017969\n",
            "COMP_L                    0.017969\n",
            "COMP_K                    0.017969\n",
            "COMP_J                    0.017969\n",
            "COMP_I                    0.017969\n",
            "COMP_H                    0.017969\n",
            "COMP_G                    0.017969\n",
            "COMP_F                    0.017969\n",
            "COMP_E                    0.017969\n",
            "COMP_D                    0.017969\n",
            "COMP_C                    0.017969\n",
            "COMP_B                    0.017969\n",
            "COMP_A                    0.017969\n",
            "COMP_TOT                  0.017969\n",
            "IDHM                      0.000000\n",
            "PAY_TV                    0.000000\n",
            "FIXED_PHONES              0.000000\n",
            "ESTIMATED_POP             0.000000\n",
            "CAPITAL                   0.000000\n",
            "STATE                     0.000000\n",
            "dtype: float64\n"
          ]
        }
      ]
    },
    {
      "cell_type": "code",
      "metadata": {
        "colab": {
          "base_uri": "https://localhost:8080/",
          "height": 396
        },
        "id": "_fXbNlX1RcPC",
        "outputId": "9c98ba22-f84e-4280-9acd-d95b3b281af3"
      },
      "source": [
        "import missingno as mno\n",
        "mno.matrix(df1)"
      ],
      "execution_count": 80,
      "outputs": [
        {
          "output_type": "execute_result",
          "data": {
            "text/plain": [
              "<matplotlib.axes._subplots.AxesSubplot at 0x7f64ddbd2a90>"
            ]
          },
          "metadata": {},
          "execution_count": 80
        },
        {
          "output_type": "display_data",
          "data": {
            "image/png": "[encoded data removed]",
            "text/plain": [
              "<Figure size 1800x720 with 2 Axes>"
            ]
          },
          "metadata": {
            "needs_background": "light"
          }
        }
      ]
    },
    {
      "cell_type": "markdown",
      "metadata": {
        "id": "8MUll8hw9Evu"
      },
      "source": [
        "Most of the features has less than 0.2% missing data and the continuos horizontal line means a few samples are missing a lot of data. Let's drop those samples setting the threshold to more than 40% missing data per sample."
      ]
    },
    {
      "cell_type": "code",
      "metadata": {
        "colab": {
          "base_uri": "https://localhost:8080/"
        },
        "id": "ToeEjP_KUPNi",
        "outputId": "1937d9e0-d6a7-4f66-a4c2-16ad798fa625"
      },
      "source": [
        "df1.isnull().sum(axis=1).sort_values(ascending=False)"
      ],
      "execution_count": 113,
      "outputs": [
        {
          "output_type": "execute_result",
          "data": {
            "text/plain": [
              "4481    49\n",
              "2519     4\n",
              "427      4\n",
              "4617     4\n",
              "4919     4\n",
              "        ..\n",
              "3645     0\n",
              "3646     0\n",
              "3647     0\n",
              "3648     0\n",
              "0        0\n",
              "Length: 5565, dtype: int64"
            ]
          },
          "metadata": {},
          "execution_count": 113
        }
      ]
    },
    {
      "cell_type": "markdown",
      "metadata": {
        "id": "tVA4T9WXV8SD"
      },
      "source": [
        "The sample 4481 has 49 missing values, we're removing it."
      ]
    },
    {
      "cell_type": "code",
      "metadata": {
        "colab": {
          "base_uri": "https://localhost:8080/"
        },
        "id": "Xgh09hjvbnXG",
        "outputId": "a1d45793-850d-43d4-e04c-0f4557888305"
      },
      "source": [
        "print(f'number of samples with missing values: {(df1.shape[0] - df1.dropna().shape[0])}, or {round((df1.shape[0] - df1.dropna().shape[0])/len(df1),4)*100}%')"
      ],
      "execution_count": 164,
      "outputs": [
        {
          "output_type": "stream",
          "name": "stdout",
          "text": [
            "number of samples with missing values: 197, or 3.54%\n"
          ]
        }
      ]
    },
    {
      "cell_type": "markdown",
      "metadata": {
        "id": "Qx3fTYzo46Ha"
      },
      "source": [
        "#Spliting the data"
      ]
    },
    {
      "cell_type": "code",
      "metadata": {
        "id": "k2axGjXH49SQ"
      },
      "source": [
        "df1 = pipe_inicial.fit_transform(df) #drop_null_rows(df_sem_cols_nan)\n",
        "x = df1.drop('IDHM', axis=1).copy()\n",
        "y = df1.IDHM\n",
        "x_train, x_test, y_train, y_test = train_test_split(x,y, test_size=0.3, random_state=0)"
      ],
      "execution_count": 36,
      "outputs": []
    },
    {
      "cell_type": "code",
      "metadata": {
        "colab": {
          "base_uri": "https://localhost:8080/",
          "height": 134
        },
        "id": "yW7eRS4i5pp2",
        "outputId": "cc22a5a8-2b92-4757-fa0c-f35e8cecc236"
      },
      "source": [
        "x_train.head(1)"
      ],
      "execution_count": 37,
      "outputs": [
        {
          "output_type": "execute_result",
          "data": {
            "text/html": [
              "<div>\n",
              "<style scoped>\n",
              "    .dataframe tbody tr th:only-of-type {\n",
              "        vertical-align: middle;\n",
              "    }\n",
              "\n",
              "    .dataframe tbody tr th {\n",
              "        vertical-align: top;\n",
              "    }\n",
              "\n",
              "    .dataframe thead th {\n",
              "        text-align: right;\n",
              "    }\n",
              "</style>\n",
              "<table border=\"1\" class=\"dataframe\">\n",
              "  <thead>\n",
              "    <tr style=\"text-align: right;\">\n",
              "      <th></th>\n",
              "      <th>STATE</th>\n",
              "      <th>CAPITAL</th>\n",
              "      <th>IBGE_RES_POP</th>\n",
              "      <th>IBGE_RES_POP_BRAS</th>\n",
              "      <th>IBGE_RES_POP_ESTR</th>\n",
              "      <th>IBGE_DU</th>\n",
              "      <th>IBGE_DU_URBAN</th>\n",
              "      <th>IBGE_DU_RURAL</th>\n",
              "      <th>IBGE_POP</th>\n",
              "      <th>IBGE_1</th>\n",
              "      <th>IBGE_1-4</th>\n",
              "      <th>IBGE_5-9</th>\n",
              "      <th>IBGE_10-14</th>\n",
              "      <th>IBGE_15-59</th>\n",
              "      <th>IBGE_60+</th>\n",
              "      <th>IBGE_PLANTED_AREA</th>\n",
              "      <th>IBGE_CROP_PRODUCTION_$</th>\n",
              "      <th>ALT</th>\n",
              "      <th>PAY_TV</th>\n",
              "      <th>FIXED_PHONES</th>\n",
              "      <th>AREA</th>\n",
              "      <th>ESTIMATED_POP</th>\n",
              "      <th>RURAL_URBAN</th>\n",
              "      <th>GVA_AGROPEC</th>\n",
              "      <th>GVA_INDUSTRY</th>\n",
              "      <th>GVA_SERVICES</th>\n",
              "      <th>GVA_PUBLIC</th>\n",
              "      <th>GVA_TOTAL</th>\n",
              "      <th>TAXES</th>\n",
              "      <th>GDP</th>\n",
              "      <th>POP_GDP</th>\n",
              "      <th>GDP_CAPITA</th>\n",
              "      <th>COMP_TOT</th>\n",
              "      <th>COMP_A</th>\n",
              "      <th>COMP_B</th>\n",
              "      <th>COMP_C</th>\n",
              "      <th>COMP_D</th>\n",
              "      <th>COMP_E</th>\n",
              "      <th>COMP_F</th>\n",
              "      <th>COMP_G</th>\n",
              "      <th>COMP_H</th>\n",
              "      <th>COMP_I</th>\n",
              "      <th>COMP_J</th>\n",
              "      <th>COMP_K</th>\n",
              "      <th>COMP_L</th>\n",
              "      <th>COMP_M</th>\n",
              "      <th>COMP_N</th>\n",
              "      <th>COMP_O</th>\n",
              "      <th>COMP_P</th>\n",
              "      <th>COMP_Q</th>\n",
              "      <th>COMP_R</th>\n",
              "      <th>COMP_S</th>\n",
              "      <th>COMP_T</th>\n",
              "      <th>COMP_U</th>\n",
              "      <th>Cars</th>\n",
              "      <th>Motorcycles</th>\n",
              "      <th>Wheeled_tractor</th>\n",
              "      <th>POST_OFFICES</th>\n",
              "    </tr>\n",
              "  </thead>\n",
              "  <tbody>\n",
              "    <tr>\n",
              "      <th>3890</th>\n",
              "      <td>RN</td>\n",
              "      <td>0</td>\n",
              "      <td>13949.0</td>\n",
              "      <td>13949.0</td>\n",
              "      <td>0.0</td>\n",
              "      <td>3365.0</td>\n",
              "      <td>1804.0</td>\n",
              "      <td>1561.0</td>\n",
              "      <td>7399.0</td>\n",
              "      <td>110.0</td>\n",
              "      <td>450.0</td>\n",
              "      <td>696.0</td>\n",
              "      <td>757.0</td>\n",
              "      <td>4577.0</td>\n",
              "      <td>809.0</td>\n",
              "      <td>1153.0</td>\n",
              "      <td>5417.0</td>\n",
              "      <td>88.66</td>\n",
              "      <td>109.0</td>\n",
              "      <td>116.0</td>\n",
              "      <td>230.40</td>\n",
              "      <td>15294.0</td>\n",
              "      <td>Rural Adjacente</td>\n",
              "      <td>6283.53</td>\n",
              "      <td>3.83</td>\n",
              "      <td>17311.89</td>\n",
              "      <td>66527.8</td>\n",
              "      <td>93952.06</td>\n",
              "      <td>2517.95</td>\n",
              "      <td>96470.01</td>\n",
              "      <td>15280.0</td>\n",
              "      <td>6313.48</td>\n",
              "      <td>59.0</td>\n",
              "      <td>0.0</td>\n",
              "      <td>0.0</td>\n",
              "      <td>3.0</td>\n",
              "      <td>0.0</td>\n",
              "      <td>0.0</td>\n",
              "      <td>4.0</td>\n",
              "      <td>43.0</td>\n",
              "      <td>0.0</td>\n",
              "      <td>1.0</td>\n",
              "      <td>0.0</td>\n",
              "      <td>0.0</td>\n",
              "      <td>0.0</td>\n",
              "      <td>0.0</td>\n",
              "      <td>1.0</td>\n",
              "      <td>2.0</td>\n",
              "      <td>1.0</td>\n",
              "      <td>0.0</td>\n",
              "      <td>0.0</td>\n",
              "      <td>4.0</td>\n",
              "      <td>0.0</td>\n",
              "      <td>0.0</td>\n",
              "      <td>842.0</td>\n",
              "      <td>1462.0</td>\n",
              "      <td>0.0</td>\n",
              "      <td>1.0</td>\n",
              "    </tr>\n",
              "  </tbody>\n",
              "</table>\n",
              "</div>"
            ],
            "text/plain": [
              "     STATE  CAPITAL  IBGE_RES_POP  ...  Motorcycles  Wheeled_tractor  POST_OFFICES\n",
              "3890    RN        0       13949.0  ...       1462.0              0.0           1.0\n",
              "\n",
              "[1 rows x 58 columns]"
            ]
          },
          "metadata": {},
          "execution_count": 37
        }
      ]
    },
    {
      "cell_type": "markdown",
      "metadata": {
        "id": "M4egSGJ_33HV"
      },
      "source": [
        "#Baseline"
      ]
    },
    {
      "cell_type": "markdown",
      "metadata": {
        "id": "PZ9Z4bjL35a6"
      },
      "source": [
        "Let's build a DecisionTreeRegressor baseline to compare the improvements in the model. We're starting as simple as possible, dropping categorical columns and imputing missing values with the mean of each feature."
      ]
    },
    {
      "cell_type": "code",
      "metadata": {
        "id": "jGUxXF9K4LSu"
      },
      "source": [
        "def drop_object_cols(df):\n",
        "  \"\"\"\" drop object type columns\"\"\"\n",
        "  return df.drop(object_columns,axis=1).copy()\n",
        "\n",
        "get_drop_object_cols = FunctionTransformer(drop_object_cols)"
      ],
      "execution_count": 38,
      "outputs": []
    },
    {
      "cell_type": "code",
      "metadata": {
        "id": "-n6kjlVpC_yI"
      },
      "source": [
        "from sklearn.tree import DecisionTreeRegressor\n",
        "# set up a simple baseline pipeline\n",
        "pipe_base = Pipeline([\n",
        "                      ('Drop_cat',get_drop_object_cols),\n",
        "                      ('Fill_na',SimpleImputer(strategy='mean')),\n",
        "                      ('model',DecisionTreeRegressor())])\n",
        "\n",
        "base_score = cross_val_score(pipe_base,x,y,cv=5)"
      ],
      "execution_count": 59,
      "outputs": []
    },
    {
      "cell_type": "code",
      "metadata": {
        "colab": {
          "base_uri": "https://localhost:8080/"
        },
        "id": "LOo-RuqWKHf2",
        "outputId": "f3031ec5-4022-4d97-c548-7e8717d021c1"
      },
      "source": [
        "print(base_score.mean())"
      ],
      "execution_count": 60,
      "outputs": [
        {
          "output_type": "stream",
          "name": "stdout",
          "text": [
            "0.7124479799104178\n"
          ]
        }
      ]
    },
    {
      "cell_type": "markdown",
      "metadata": {
        "id": "ynUDfhPGNNee"
      },
      "source": [
        "That's our baseline R2 score: 0.71244 on DecisionTreeRegressor dropping cat cols and imputing missing values with mean."
      ]
    },
    {
      "cell_type": "markdown",
      "metadata": {
        "id": "qAwFOnqpOSQ-"
      },
      "source": [
        "# Feature Engineer"
      ]
    },
    {
      "cell_type": "markdown",
      "metadata": {
        "id": "7a_4YW9ctIYp"
      },
      "source": [
        "## Fixing Columns dtype"
      ]
    },
    {
      "cell_type": "markdown",
      "metadata": {
        "id": "1gT7qc7l3uXO"
      },
      "source": [
        "Let's write a function to erase any commas that might appear in the data and change all numeric feature columns to numeric:"
      ]
    },
    {
      "cell_type": "code",
      "metadata": {
        "id": "AKMKOYgs165x"
      },
      "source": [
        "#Remove commas\n",
        "def erase_commas(df):\n",
        "  df1 = df.replace(',','', regex=True).copy()\n",
        "  return df1"
      ],
      "execution_count": 71,
      "outputs": []
    },
    {
      "cell_type": "code",
      "metadata": {
        "id": "5m-TSfAs05uD"
      },
      "source": [
        "def change_to_numeric(df):\n",
        "  # transforming object columns to numeric\n",
        "  df[numeric_vars] = df[numeric_vars].apply(pd.to_numeric,errors='raise').copy()\n",
        "\n",
        "  return df"
      ],
      "execution_count": 72,
      "outputs": []
    },
    {
      "cell_type": "markdown",
      "metadata": {
        "id": "0c3wu8W3Sp1Y"
      },
      "source": [
        "## Fixing missing values"
      ]
    },
    {
      "cell_type": "markdown",
      "metadata": {
        "id": "rzsRHi2PSsy1"
      },
      "source": [
        "Let's drop samples with more than 75% of missing data:"
      ]
    },
    {
      "cell_type": "code",
      "metadata": {
        "id": "YzLMxOt3TICC"
      },
      "source": [
        "df_mv = df1.dropna(axis=0, thresh=df1.columns.shape[0]*0.4)"
      ],
      "execution_count": 114,
      "outputs": []
    },
    {
      "cell_type": "code",
      "metadata": {
        "colab": {
          "base_uri": "https://localhost:8080/"
        },
        "id": "tWp8D5-ETU4i",
        "outputId": "219ddda5-182f-46f4-e579-6d41ceb94fa5"
      },
      "source": [
        "print(df_mv.shape)\n",
        "print(df1.shape)"
      ],
      "execution_count": 116,
      "outputs": [
        {
          "output_type": "stream",
          "name": "stdout",
          "text": [
            "(5564, 59)\n",
            "(5565, 59)\n"
          ]
        }
      ]
    },
    {
      "cell_type": "markdown",
      "metadata": {
        "id": "R9xiJhAfWYUB"
      },
      "source": [
        "Sample 4481 removed"
      ]
    },
    {
      "cell_type": "markdown",
      "metadata": {
        "id": "Kng4nR2SWgaN"
      },
      "source": [
        "\n",
        "### Custom estimator "
      ]
    },
    {
      "cell_type": "code",
      "metadata": {
        "id": "sdVkeOEMWi60"
      },
      "source": [
        "class rm_bad_sample(BaseEstimator,TransformerMixin):\n",
        "  def __init__(self, thresh_limit:int=0.4):\n",
        "    self.thresh_limit = thresh_limit \n",
        "    pass\n",
        " \n",
        "  def fit(self,x:pd.DataFrame ,y:pd.Series=None):\n",
        "    return self\n",
        "\n",
        "  def transform(self, df:pd.DataFrame):\n",
        "    df1 = df.copy()\n",
        "    return df1.dropna(axis=0, thresh=df1.columns.shape[0]*self.thresh_limit)"
      ],
      "execution_count": 124,
      "outputs": []
    },
    {
      "cell_type": "markdown",
      "metadata": {
        "id": "ayYKX8tgfAOV"
      },
      "source": [
        "Currently, this custom estimator doesn't work properly because it doesn't remove the corresponding sample in the target. I'll think about and fix it latter."
      ]
    },
    {
      "cell_type": "markdown",
      "metadata": {
        "id": "Hio8-eKMYsQc"
      },
      "source": [
        "#Pipeline"
      ]
    },
    {
      "cell_type": "markdown",
      "metadata": {
        "id": "O1HEEea_E7FV"
      },
      "source": [
        "Let's build a `Pipeline` for preprocessing the data"
      ]
    },
    {
      "cell_type": "markdown",
      "metadata": {
        "id": "BoAR_JojFEF8"
      },
      "source": [
        "First, we need to call `FunctionTransformer` to make our functions into transformers so we can use them on the `Pipeline`."
      ]
    },
    {
      "cell_type": "code",
      "metadata": {
        "id": "6tukXwg2pNdC"
      },
      "source": [
        "get_erase_commas = FunctionTransformer(erase_commas, validate=False)\n",
        "get_numeric_feat = FunctionTransformer(change_to_numeric, validate=False)\n",
        "\n",
        "clean_data = Pipeline([\n",
        "                  ('Erase Commas',get_erase_commas),\n",
        "                  ('Change dtype to numeric', get_numeric_feat),\n",
        "                  #('Remove bad samples', rm_bad_sample(thresh_limit=0.4))\n",
        "                  ])"
      ],
      "execution_count": 173,
      "outputs": []
    },
    {
      "cell_type": "code",
      "metadata": {
        "id": "u5qWg5fEJduf"
      },
      "source": [
        "#pipeline for columns transformations on categorical features\n",
        "cat_preprocessing = make_pipeline(\n",
        "                SimpleImputer(missing_values=np.nan, strategy='most_frequent'), \n",
        "                OneHotEncoder(handle_unknown='ignore',))\n",
        "\n",
        "#column transformer to fill na in numeric columns with median\n",
        "#and fill na in categorical cols with most frequent and apply OneHotEconder\n",
        "merge_num_cat= ColumnTransformer(\n",
        "     [(\"numeric transf\", SimpleImputer(missing_values=np.nan, strategy='median'), num_selector),\n",
        "      (\"categorical transf\", cat_preprocessing, cat_selector)])"
      ],
      "execution_count": 198,
      "outputs": []
    },
    {
      "cell_type": "code",
      "metadata": {
        "id": "tE_SeQGFwxFm"
      },
      "source": [
        "pipe1 = Pipeline([\n",
        "                  ('Data Cleaning', clean_data), \n",
        "                  ('Fill cat with most frequent and num with median and apply OneHotEncoder',merge_num_cat),\n",
        "                  ('Apply Random Forest Model', RandomForestRegressor(random_state=0))])"
      ],
      "execution_count": 199,
      "outputs": []
    },
    {
      "cell_type": "code",
      "metadata": {
        "colab": {
          "base_uri": "https://localhost:8080/"
        },
        "id": "CLtVyKDoT56B",
        "outputId": "edbd493c-46b8-4344-e3ce-54e68d908d3e"
      },
      "source": [
        "score_pipe1 = cross_val_score(pipe1, x_train, y_train, cv=5)\n",
        "print(f'accuracy of {np.round(score_pipe1.mean(),4)} and standard deviation of {score_pipe1.std()}')"
      ],
      "execution_count": 200,
      "outputs": [
        {
          "output_type": "stream",
          "name": "stdout",
          "text": [
            "accuracy of 0.8646 and standard deviation of 0.005653002115631265\n"
          ]
        }
      ]
    },
    {
      "cell_type": "markdown",
      "metadata": {
        "id": "gFSf8uCLYrum"
      },
      "source": [
        "Including the categorical features  `'STATE'` and `'RURAL_URBAN'` and the column `AREA` that had the wrong dtype (object but the feature is numerical), and applying OneHotEncoder to them has increased our model accuracy from  85.65% (baseline) to 86.46%."
      ]
    },
    {
      "cell_type": "markdown",
      "metadata": {
        "id": "xf2797tMvijE"
      },
      "source": [
        "## Final Pipeline"
      ]
    },
    {
      "cell_type": "markdown",
      "metadata": {
        "id": "6i7NRhrSyQid"
      },
      "source": [
        "Scaling the numerical features:"
      ]
    },
    {
      "cell_type": "code",
      "metadata": {
        "id": "-smzrnKjvkGi"
      },
      "source": [
        "# numerical preprocessing, impute median and scales the data\n",
        "num_preprocessing = make_pipeline(SimpleImputer(missing_values=np.nan, \n",
        "                                                strategy='median'),\n",
        "                                  MinMaxScaler())\n",
        "\n",
        "# merges numerical and categorical preprocessing\n",
        "merge_pipes= ColumnTransformer(\n",
        "     [(\"numeric transf\", num_preprocessing, num_selector),\n",
        "      (\"categorical transf\", cat_preprocessing, cat_selector)])\n",
        "\n",
        "# pipeline to clean and preprocess numerical and categorical the data\n",
        "full_preprocess = Pipeline([\n",
        "                  ('Data Cleaning', clean_data), \n",
        "                  ('Fill cat with most frequent and num with median and apply OneHotEncoder',merge_pipes)])"
      ],
      "execution_count": 277,
      "outputs": []
    },
    {
      "cell_type": "code",
      "metadata": {
        "colab": {
          "base_uri": "https://localhost:8080/"
        },
        "id": "9IhQOXjAw6_W",
        "outputId": "06f94289-7955-4788-abb6-446e49f7d75a"
      },
      "source": [
        "pipe_final = make_pipeline(full_preprocess,RandomForestRegressor(random_state=0))\n",
        "score_full = cross_val_score(pipe_final,x,y,cv=5)\n",
        "print(f'accuracy of {np.round(score_full.mean(),4)} and standard deviation of {score_full.std()}')"
      ],
      "execution_count": 278,
      "outputs": [
        {
          "output_type": "stream",
          "name": "stdout",
          "text": [
            "accuracy of 0.8722 and standard deviation of 0.005147911725242343\n"
          ]
        }
      ]
    },
    {
      "cell_type": "markdown",
      "metadata": {
        "id": "sFXKBeIxCZZn"
      },
      "source": [
        "# The Best Model"
      ]
    },
    {
      "cell_type": "markdown",
      "metadata": {
        "id": "jG-O_y9bwrzZ"
      },
      "source": [
        "Let's compare a few different regressors and choose the best performances."
      ]
    },
    {
      "cell_type": "code",
      "metadata": {
        "id": "UXIzjTzvijRp",
        "colab": {
          "base_uri": "https://localhost:8080/"
        },
        "outputId": "4dc885ee-2790-426a-be71-0744ab91b478"
      },
      "source": [
        "# regressors search list\n",
        "grid_base = {'model': [GradientBoostingRegressor(),\n",
        "                       RandomForestRegressor(),\n",
        "                       SVR(),\n",
        "                       SGDRegressor(),\n",
        "                       DecisionTreeRegressor()]}\n",
        "\n",
        "# grid search with baseline pipeline\n",
        "search_models = GridSearchCV(estimator=pipe_base,\n",
        "                             param_grid=grid_base,\n",
        "                             n_jobs=-1, \n",
        "                             cv=5)\n",
        "search_models.fit(x_train,y_train)"
      ],
      "execution_count": null,
      "outputs": [
        {
          "output_type": "execute_result",
          "data": {
            "text/plain": [
              "GridSearchCV(cv=5, error_score=nan,\n",
              "             estimator=Pipeline(memory=None,\n",
              "                                steps=[('Drop_cat',\n",
              "                                        FunctionTransformer(accept_sparse=False,\n",
              "                                                            check_inverse=True,\n",
              "                                                            func=<function drop_object_cols at 0x7f64deabd200>,\n",
              "                                                            inv_kw_args=None,\n",
              "                                                            inverse_func=None,\n",
              "                                                            kw_args=None,\n",
              "                                                            validate=False)),\n",
              "                                       ('Fill_na',\n",
              "                                        SimpleImputer(add_indicator=False,\n",
              "                                                      copy=True,\n",
              "                                                      fill_value=None,\n",
              "                                                      missing_values=nan,\n",
              "                                                      stra...\n",
              "                                   DecisionTreeRegressor(ccp_alpha=0.0,\n",
              "                                                         criterion='mse',\n",
              "                                                         max_depth=None,\n",
              "                                                         max_features=None,\n",
              "                                                         max_leaf_nodes=None,\n",
              "                                                         min_impurity_decrease=0.0,\n",
              "                                                         min_impurity_split=None,\n",
              "                                                         min_samples_leaf=1,\n",
              "                                                         min_samples_split=2,\n",
              "                                                         min_weight_fraction_leaf=0.0,\n",
              "                                                         presort='deprecated',\n",
              "                                                         random_state=None,\n",
              "                                                         splitter='best')]},\n",
              "             pre_dispatch='2*n_jobs', refit=True, return_train_score=False,\n",
              "             scoring=None, verbose=0)"
            ]
          },
          "metadata": {},
          "execution_count": 65
        }
      ]
    },
    {
      "cell_type": "code",
      "metadata": {
        "id": "uUkgRIg6w40A",
        "colab": {
          "base_uri": "https://localhost:8080/"
        },
        "outputId": "9d091543-bd35-4280-cb10-3c020bba17f2"
      },
      "source": [
        "print(search_models.best_estimator_,\n",
        "      f'\\nBest Score: {search_models.best_score_}')"
      ],
      "execution_count": null,
      "outputs": [
        {
          "output_type": "stream",
          "name": "stdout",
          "text": [
            "Pipeline(memory=None,\n",
            "         steps=[('Drop_cat',\n",
            "                 FunctionTransformer(accept_sparse=False, check_inverse=True,\n",
            "                                     func=<function drop_object_cols at 0x7f64deabd200>,\n",
            "                                     inv_kw_args=None, inverse_func=None,\n",
            "                                     kw_args=None, validate=False)),\n",
            "                ('Fill_na',\n",
            "                 SimpleImputer(add_indicator=False, copy=True, fill_value=None,\n",
            "                               missing_values=nan, strategy='mean',\n",
            "                               verbose=0)),\n",
            "                ('model',\n",
            "                 RandomForestRegressor(bootstrap=True, ccp_alpha=0.0,\n",
            "                                       criterion='mse', max_depth=None,\n",
            "                                       max_features='auto', max_leaf_nodes=None,\n",
            "                                       max_samples=None,\n",
            "                                       min_impurity_decrease=0.0,\n",
            "                                       min_impurity_split=None,\n",
            "                                       min_samples_leaf=1, min_samples_split=2,\n",
            "                                       min_weight_fraction_leaf=0.0,\n",
            "                                       n_estimators=100, n_jobs=None,\n",
            "                                       oob_score=False, random_state=None,\n",
            "                                       verbose=0, warm_start=False))],\n",
            "         verbose=False) \n",
            "Best Score: 0.8561560328721907\n"
          ]
        }
      ]
    },
    {
      "cell_type": "markdown",
      "metadata": {
        "id": "GpWxgilYQyq7"
      },
      "source": [
        "RandomForest has the best performance with score of 0.8561"
      ]
    },
    {
      "cell_type": "code",
      "metadata": {
        "colab": {
          "base_uri": "https://localhost:8080/"
        },
        "id": "i3tFGTpNBytD",
        "outputId": "9963c897-69f6-47e3-dd14-5745833c2ca4"
      },
      "source": [
        "#cross validation in the train data so we don't have to partition it into train \n",
        "#and validation and reduce even more the train data\n",
        "score_base = cross_val_score(search_models.best_estimator_, x_train, y_train, cv=5)\n",
        "print(f'accuracy of {np.round(score_base.mean(),4)} and standard deviation of {score_base.std()}')"
      ],
      "execution_count": null,
      "outputs": [
        {
          "output_type": "stream",
          "name": "stdout",
          "text": [
            "accuracy of 0.8565 and standard deviation of 0.006480667393862035\n"
          ]
        }
      ]
    },
    {
      "cell_type": "markdown",
      "metadata": {
        "id": "zVaOhXCVIPHL"
      },
      "source": [
        "That's the randomforest (best model)  score on cross_val: 0.8565 on numerical vars only and imputing missing value with the mean."
      ]
    },
    {
      "cell_type": "markdown",
      "metadata": {
        "id": "8HG86Mj9vpnw"
      },
      "source": [
        "# PCA"
      ]
    },
    {
      "cell_type": "markdown",
      "metadata": {
        "id": "QRjz_XwdqAw1"
      },
      "source": [
        "Let's normalize the num data with StandardScaler and apply PCA with 30 components to lower the dimensionality of the dataset."
      ]
    },
    {
      "cell_type": "code",
      "metadata": {
        "id": "PfPlMHzcqGlC"
      },
      "source": [
        "#pipeline for columns transformations on numeric features\n",
        "num_prepro_PCA = make_pipeline(\n",
        "                SimpleImputer(missing_values=np.nan, strategy='median'), \n",
        "                StandardScaler(),\n",
        "                PCA(n_components=10))\n",
        "\n",
        "#column transformer to fill na in numeric columns with median\n",
        "#and fill na in categorical cols with most frequent and apply OneHotEconder\n",
        "merge_PCA= ColumnTransformer(\n",
        "     [(\"num\", num_prepro_PCA, num_selector),\n",
        "      (\"cat\", cat_preprocessing, cat_selector)])"
      ],
      "execution_count": null,
      "outputs": []
    },
    {
      "cell_type": "code",
      "metadata": {
        "id": "IYWEWK1QqKp1"
      },
      "source": [
        "pipe2 = Pipeline([\n",
        "                  ('Preprocessing', clean_data), \n",
        "                  ('Fill cat(mode) and num(median), OneHot and PCA',merge_PCA),\n",
        "                  (' Random Forest Model', RandomForestRegressor(random_state=0))])"
      ],
      "execution_count": null,
      "outputs": []
    },
    {
      "cell_type": "code",
      "metadata": {
        "id": "YLElAMNNoOOb",
        "colab": {
          "base_uri": "https://localhost:8080/"
        },
        "outputId": "f94e1a08-e1da-4dcb-94ad-1fdf6ac20602"
      },
      "source": [
        "score_pipe2 = cross_val_score(pipe2, x_train, y_train, cv=5)\n",
        "print(f'accuracy of {np.round(score_pipe2.mean(),4)} and standard deviation of {score_pipe2.std()}')"
      ],
      "execution_count": null,
      "outputs": [
        {
          "output_type": "stream",
          "name": "stdout",
          "text": [
            "accuracy of 0.8103 and standard deviation of 0.004882627001153765\n"
          ]
        }
      ]
    },
    {
      "cell_type": "markdown",
      "metadata": {
        "id": "PQPS2YTvrwgP"
      },
      "source": [
        "The score now is 81.03%, considerably lower than the baseline so let's drop PCA"
      ]
    },
    {
      "cell_type": "markdown",
      "metadata": {
        "id": "wuEivSrlqjME"
      },
      "source": [
        "#Hyperparameter tunning"
      ]
    },
    {
      "cell_type": "markdown",
      "metadata": {
        "id": "orJOQzj_ucXG"
      },
      "source": [
        "## GridSearch"
      ]
    },
    {
      "cell_type": "code",
      "metadata": {
        "id": "MGslJlOOf7Aa"
      },
      "source": [
        "#drop cat features\n",
        "clean_data_hyper = Pipeline([\n",
        "                  ('Erase Commas',get_erase_commas),\n",
        "                  ('Change dtype to numeric', get_numeric_feat),\n",
        "                  ('drop cat cols', get_drop_object_cols)\n",
        "                  ])"
      ],
      "execution_count": 196,
      "outputs": []
    },
    {
      "cell_type": "code",
      "metadata": {
        "id": "uWb-EA_uqobp"
      },
      "source": [
        "pipe_hyper = Pipeline([\n",
        "                  ('Preprocessing', clean_data_hyper),\n",
        "                  ('Fill_NaN',SimpleImputer(strategy='mean')),\n",
        "                  ('model_param',RandomForestRegressor())\n",
        "                  ])\n",
        "\n",
        "n_estimators_param = [50,100,200]\n",
        "max_depth = [3,4,5,6]\n",
        "min_samples_split = [2,3,4,5]\n",
        "param_grid_RF = [{\n",
        "              'model_param': [RandomForestRegressor()],\n",
        "              'model_param__n_estimators': n_estimators_param,\n",
        "              #'model_param__criterion': ['mse','mae'],\n",
        "              'model_param__max_depth' : max_depth,\n",
        "              'model_param__bootstrap' : [False, True],\n",
        "              'model_param__min_samples_split' : min_samples_split,\n",
        "              'Fill_NaN__strategy': ['median', 'mean']\n",
        "           }]\n",
        "param_grid_GB =[{  \n",
        "              'model_param': [GradientBoostingRegressor()],\n",
        "              'model_param__loss': ['ls','lad', 'huber', 'quantile'],\n",
        "              'model_param__learning_rate': [0.01,0.1,0.5,1,10],\n",
        "              'model_param__criterion' : ['friedman_mse', 'mse', 'mae'],\n",
        "              'model_param__min_samples_split' : min_samples_split,\n",
        "              'Fill_NaN__strategy': ['median', 'mean']    \n",
        "           }]"
      ],
      "execution_count": 197,
      "outputs": []
    },
    {
      "cell_type": "code",
      "metadata": {
        "id": "VvPkZCXfzp1C"
      },
      "source": [
        "grid_RF = GridSearchCV(pipe_hyper, param_grid=param_grid_RF, cv=5)\n",
        "grid.fit(x_train, y_train)"
      ],
      "execution_count": null,
      "outputs": []
    },
    {
      "cell_type": "code",
      "metadata": {
        "id": "nN7ZYtl-eLTc"
      },
      "source": [
        "print(grid.best_estimator_,\n",
        "      f'\\nBest Score: {grid.best_score_}',\n",
        "      f'\\nBest Params: {grid.best_params_}')"
      ],
      "execution_count": null,
      "outputs": []
    },
    {
      "cell_type": "code",
      "metadata": {
        "id": "s3AXrEc4e5TU"
      },
      "source": [
        "print(score_hyper.best_estimator_,\n",
        "      f'\\nBest Score: {score_hyper.best_score_}', score_hyper.best_params_)"
      ],
      "execution_count": null,
      "outputs": []
    },
    {
      "cell_type": "code",
      "metadata": {
        "colab": {
          "base_uri": "https://localhost:8080/"
        },
        "id": "2yNaVc47fkkF",
        "outputId": "f6a67d13-c82d-4a68-ad02-a850bd026b33"
      },
      "source": [
        "score_hyper.mean()"
      ],
      "execution_count": null,
      "outputs": [
        {
          "output_type": "execute_result",
          "data": {
            "text/plain": [
              "0.856616057371047"
            ]
          },
          "metadata": {
            "tags": []
          },
          "execution_count": 45
        }
      ]
    },
    {
      "cell_type": "code",
      "metadata": {
        "id": "oYKqqE72g5Ev"
      },
      "source": [
        "import pprint as pp\n",
        "\n",
        "pp.pprint(sorted(pipe_hyper.get_params().keys()))"
      ],
      "execution_count": null,
      "outputs": []
    },
    {
      "cell_type": "markdown",
      "metadata": {
        "id": "9Vh487v5uecd"
      },
      "source": [
        "## Baysian Opt - Optuna"
      ]
    },
    {
      "cell_type": "markdown",
      "metadata": {
        "id": "c3vfOZw95o_V"
      },
      "source": [
        "Let's apply the full_preprocess pipeline to the dataset so we can pass it already preprocessed to the study."
      ]
    },
    {
      "cell_type": "code",
      "metadata": {
        "id": "uRgCNsk15U0b"
      },
      "source": [
        "x_final = full_preprocess.fit_transform(x)"
      ],
      "execution_count": 299,
      "outputs": []
    },
    {
      "cell_type": "markdown",
      "metadata": {
        "id": "KZ1Yk5HY8hDY"
      },
      "source": [
        "### LGBM tuning"
      ]
    },
    {
      "cell_type": "code",
      "metadata": {
        "colab": {
          "base_uri": "https://localhost:8080/"
        },
        "id": "73z4nZn3EYWU",
        "outputId": "47b9a4df-e213-4ee4-c353-c442cf1f46fc"
      },
      "source": [
        "LGBMRegressor()"
      ],
      "execution_count": 325,
      "outputs": [
        {
          "output_type": "execute_result",
          "data": {
            "text/plain": [
              "LGBMRegressor(boosting_type='gbdt', class_weight=None, colsample_bytree=1.0,\n",
              "              importance_type='split', learning_rate=0.1, max_depth=-1,\n",
              "              min_child_samples=20, min_child_weight=0.001, min_split_gain=0.0,\n",
              "              n_estimators=100, n_jobs=-1, num_leaves=31, objective=None,\n",
              "              random_state=None, reg_alpha=0.0, reg_lambda=0.0, silent=True,\n",
              "              subsample=1.0, subsample_for_bin=200000, subsample_freq=0)"
            ]
          },
          "metadata": {},
          "execution_count": 325
        }
      ]
    },
    {
      "cell_type": "code",
      "metadata": {
        "id": "ABiP_TT2ufvB"
      },
      "source": [
        "# obejctive optimization function\n",
        "def objective(trial, data=x, target=y):\n",
        "  \"\"\" objetive function to be optmized by optuna \"\"\"\n",
        "\n",
        "  # split the data  \n",
        "  train_x, valid_x, train_y, valid_y = train_test_split(data, target, test_size=0.3)\n",
        "  # grid params\n",
        "  lgbm_params ={\n",
        "    'num_leaves': trial.suggest_int('num_leaves', 200, 1200),\n",
        "    'max_depth': trial.suggest_int('max_depth', 7,12),\n",
        "    'min_data_in_leaf': trial.suggest_int('min_data_in_leaf', 80,800),\n",
        "    'learning_rate': trial.suggest_float('learning_rate', 0.01,0.2),\n",
        "    'n_estimators' : trial.suggest_int('n_estimators',100, 900),\n",
        "    'lambda_l2' : trial.suggest_float('lambda_l2', 1e-8, 0.01, log=True),\n",
        "    'bagging_fraction': trial.suggest_float('bagging_fraction', 0.3,1),\n",
        "    'bagging_freq': trial.suggest_int('bagging_freq', 1,5),\n",
        "    'random_state': 0,\n",
        "    'num_threads':-1}\n",
        "  # the model\n",
        "  lgbm_model = LGBMRegressor(**lgbm_params)\n",
        "  # fit the data\n",
        "  lgbm_model.fit(train_x, train_y)\n",
        "  # predict\n",
        "  pred = lgbm_model.predict(valid_x)\n",
        "  # score\n",
        "  score = r2_score(valid_y, pred)\n",
        "  return score"
      ],
      "execution_count": 350,
      "outputs": []
    },
    {
      "cell_type": "code",
      "metadata": {
        "colab": {
          "base_uri": "https://localhost:8080/"
        },
        "id": "HEMbGXLT7ii1",
        "outputId": "ad53dc38-e188-4925-9bfa-309c4ccc0777"
      },
      "source": [
        "# Create the study\n",
        "study = optuna.create_study(direction=\"maximize\")"
      ],
      "execution_count": 352,
      "outputs": [
        {
          "output_type": "stream",
          "name": "stderr",
          "text": [
            "\u001b[32m[I 2021-09-23 05:20:53,788]\u001b[0m A new study created in memory with name: no-name-87fe8d30-2169-4cd8-b6d9-4d1285f9c49a\u001b[0m\n"
          ]
        }
      ]
    },
    {
      "cell_type": "code",
      "metadata": {
        "colab": {
          "base_uri": "https://localhost:8080/"
        },
        "id": "9yHfEct-uy1B",
        "outputId": "56c01c27-01a2-41a1-cb3c-b271b6cb1868"
      },
      "source": [
        "# Start the study\n",
        "study.optimize(lambda trial: objective(trial,\n",
        "                                       data=x_final,\n",
        "                                       target=y),\n",
        "               n_trials=1000)"
      ],
      "execution_count": 353,
      "outputs": [
        {
          "output_type": "stream",
          "name": "stderr",
          "text": [
            "\u001b[32m[I 2021-09-23 05:20:55,322]\u001b[0m Trial 0 finished with value: 0.8448879897062619 and parameters: {'num_leaves': 506, 'max_depth': 9, 'min_data_in_leaf': 333, 'learning_rate': 0.19068911415911574, 'n_estimators': 121, 'lambda_l2': 1.5358173786985746e-08, 'bagging_fraction': 0.5509274848056283, 'bagging_freq': 1}. Best is trial 0 with value: 0.8448879897062619.\u001b[0m\n",
            "\u001b[32m[I 2021-09-23 05:20:56,916]\u001b[0m Trial 1 finished with value: 0.8710489228297827 and parameters: {'num_leaves': 926, 'max_depth': 11, 'min_data_in_leaf': 324, 'learning_rate': 0.18717222287063992, 'n_estimators': 606, 'lambda_l2': 2.0048888013795377e-07, 'bagging_fraction': 0.9657196444169407, 'bagging_freq': 1}. Best is trial 1 with value: 0.8710489228297827.\u001b[0m\n",
            "\u001b[32m[I 2021-09-23 05:20:59,071]\u001b[0m Trial 2 finished with value: 0.8763476664432892 and parameters: {'num_leaves': 1093, 'max_depth': 8, 'min_data_in_leaf': 361, 'learning_rate': 0.07866035224738716, 'n_estimators': 830, 'lambda_l2': 0.00011108223958374186, 'bagging_fraction': 0.9779948298891104, 'bagging_freq': 5}. Best is trial 2 with value: 0.8763476664432892.\u001b[0m\n",
            "\u001b[32m[I 2021-09-23 05:21:00,215]\u001b[0m Trial 3 finished with value: 0.8524419242164302 and parameters: {'num_leaves': 317, 'max_depth': 9, 'min_data_in_leaf': 544, 'learning_rate': 0.0304803743898164, 'n_estimators': 896, 'lambda_l2': 0.0011452024107227472, 'bagging_fraction': 0.7547235313074627, 'bagging_freq': 4}. Best is trial 2 with value: 0.8763476664432892.\u001b[0m\n",
            "\u001b[32m[I 2021-09-23 05:21:00,865]\u001b[0m Trial 4 finished with value: 0.8336454971406269 and parameters: {'num_leaves': 708, 'max_depth': 8, 'min_data_in_leaf': 384, 'learning_rate': 0.1862973474983422, 'n_estimators': 715, 'lambda_l2': 0.0011769519219149895, 'bagging_fraction': 0.35478183338293645, 'bagging_freq': 1}. Best is trial 2 with value: 0.8763476664432892.\u001b[0m\n",
            "\u001b[32m[I 2021-09-23 05:21:03,554]\u001b[0m Trial 5 finished with value: 0.8805603072611654 and parameters: {'num_leaves': 654, 'max_depth': 8, 'min_data_in_leaf': 100, 'learning_rate': 0.15166451892543262, 'n_estimators': 663, 'lambda_l2': 0.00203831788170701, 'bagging_fraction': 0.8292808327466477, 'bagging_freq': 4}. Best is trial 5 with value: 0.8805603072611654.\u001b[0m\n",
            "\u001b[32m[I 2021-09-23 05:21:04,115]\u001b[0m Trial 6 finished with value: 0.8702409275618496 and parameters: {'num_leaves': 1102, 'max_depth': 12, 'min_data_in_leaf': 417, 'learning_rate': 0.12881947468498123, 'n_estimators': 242, 'lambda_l2': 1.2516160359410818e-06, 'bagging_fraction': 0.8047358391250505, 'bagging_freq': 3}. Best is trial 5 with value: 0.8805603072611654.\u001b[0m\n",
            "\u001b[32m[I 2021-09-23 05:21:06,304]\u001b[0m Trial 7 finished with value: 0.8758110529980843 and parameters: {'num_leaves': 895, 'max_depth': 12, 'min_data_in_leaf': 100, 'learning_rate': 0.11541504514537708, 'n_estimators': 406, 'lambda_l2': 0.0008285625805477194, 'bagging_fraction': 0.7780682090393823, 'bagging_freq': 2}. Best is trial 5 with value: 0.8805603072611654.\u001b[0m\n",
            "\u001b[32m[I 2021-09-23 05:21:06,555]\u001b[0m Trial 8 finished with value: 0.7662216402625173 and parameters: {'num_leaves': 747, 'max_depth': 12, 'min_data_in_leaf': 694, 'learning_rate': 0.10831187344686226, 'n_estimators': 305, 'lambda_l2': 4.4101290297908104e-08, 'bagging_fraction': 0.4368047115000149, 'bagging_freq': 4}. Best is trial 5 with value: 0.8805603072611654.\u001b[0m\n",
            "\u001b[32m[I 2021-09-23 05:21:07,910]\u001b[0m Trial 9 finished with value: 0.866394556182754 and parameters: {'num_leaves': 315, 'max_depth': 12, 'min_data_in_leaf': 190, 'learning_rate': 0.0462117973164941, 'n_estimators': 617, 'lambda_l2': 4.944315832448696e-06, 'bagging_fraction': 0.5629406496421371, 'bagging_freq': 3}. Best is trial 5 with value: 0.8805603072611654.\u001b[0m\n",
            "\u001b[32m[I 2021-09-23 05:21:08,532]\u001b[0m Trial 10 finished with value: 0.8434537611990447 and parameters: {'num_leaves': 457, 'max_depth': 7, 'min_data_in_leaf': 791, 'learning_rate': 0.14964078913636025, 'n_estimators': 497, 'lambda_l2': 0.00728771056632855, 'bagging_fraction': 0.8777663976839213, 'bagging_freq': 5}. Best is trial 5 with value: 0.8805603072611654.\u001b[0m\n",
            "\u001b[32m[I 2021-09-23 05:21:11,397]\u001b[0m Trial 11 finished with value: 0.8876800091671344 and parameters: {'num_leaves': 1152, 'max_depth': 7, 'min_data_in_leaf': 174, 'learning_rate': 0.07330813526968015, 'n_estimators': 850, 'lambda_l2': 6.526479129972399e-05, 'bagging_fraction': 0.9909586968294275, 'bagging_freq': 5}. Best is trial 11 with value: 0.8876800091671344.\u001b[0m\n",
            "\u001b[32m[I 2021-09-23 05:21:14,420]\u001b[0m Trial 12 finished with value: 0.8804799258099352 and parameters: {'num_leaves': 1200, 'max_depth': 7, 'min_data_in_leaf': 100, 'learning_rate': 0.0697490013800222, 'n_estimators': 753, 'lambda_l2': 4.319107262873925e-05, 'bagging_fraction': 0.8988490305974738, 'bagging_freq': 4}. Best is trial 11 with value: 0.8876800091671344.\u001b[0m\n",
            "\u001b[32m[I 2021-09-23 05:21:16,059]\u001b[0m Trial 13 finished with value: 0.8708874302714715 and parameters: {'num_leaves': 532, 'max_depth': 8, 'min_data_in_leaf': 211, 'learning_rate': 0.1537143490076745, 'n_estimators': 668, 'lambda_l2': 9.150835985814046e-05, 'bagging_fraction': 0.6743209955070634, 'bagging_freq': 5}. Best is trial 11 with value: 0.8876800091671344.\u001b[0m\n",
            "\u001b[32m[I 2021-09-23 05:21:18,364]\u001b[0m Trial 14 finished with value: 0.8769674977571951 and parameters: {'num_leaves': 868, 'max_depth': 7, 'min_data_in_leaf': 233, 'learning_rate': 0.07982497940361616, 'n_estimators': 820, 'lambda_l2': 0.009332027044347851, 'bagging_fraction': 0.8805524196062263, 'bagging_freq': 4}. Best is trial 11 with value: 0.8876800091671344.\u001b[0m\n",
            "\u001b[32m[I 2021-09-23 05:21:19,390]\u001b[0m Trial 15 finished with value: 0.8748202189700853 and parameters: {'num_leaves': 632, 'max_depth': 10, 'min_data_in_leaf': 534, 'learning_rate': 0.14976770461525285, 'n_estimators': 530, 'lambda_l2': 1.894923641332239e-05, 'bagging_fraction': 0.9896690584415009, 'bagging_freq': 5}. Best is trial 11 with value: 0.8876800091671344.\u001b[0m\n",
            "\u001b[32m[I 2021-09-23 05:21:23,320]\u001b[0m Trial 16 finished with value: 0.8858177708002767 and parameters: {'num_leaves': 792, 'max_depth': 8, 'min_data_in_leaf': 82, 'learning_rate': 0.018015262434034354, 'n_estimators': 895, 'lambda_l2': 0.0002825373022885032, 'bagging_fraction': 0.6761932631206272, 'bagging_freq': 4}. Best is trial 11 with value: 0.8876800091671344.\u001b[0m\n",
            "\u001b[32m[I 2021-09-23 05:21:25,325]\u001b[0m Trial 17 finished with value: 0.8712185388098801 and parameters: {'num_leaves': 986, 'max_depth': 9, 'min_data_in_leaf': 230, 'learning_rate': 0.012751545044441162, 'n_estimators': 856, 'lambda_l2': 0.00017521638305280368, 'bagging_fraction': 0.6788583623071349, 'bagging_freq': 3}. Best is trial 11 with value: 0.8876800091671344.\u001b[0m\n",
            "\u001b[32m[I 2021-09-23 05:21:27,066]\u001b[0m Trial 18 finished with value: 0.874655373924096 and parameters: {'num_leaves': 800, 'max_depth': 7, 'min_data_in_leaf': 171, 'learning_rate': 0.0543023438942348, 'n_estimators': 779, 'lambda_l2': 3.752678780231582e-06, 'bagging_fraction': 0.520201756070618, 'bagging_freq': 5}. Best is trial 11 with value: 0.8876800091671344.\u001b[0m\n",
            "\u001b[32m[I 2021-09-23 05:21:27,928]\u001b[0m Trial 19 finished with value: 0.8216072662548357 and parameters: {'num_leaves': 1039, 'max_depth': 10, 'min_data_in_leaf': 280, 'learning_rate': 0.010331064413396124, 'n_estimators': 893, 'lambda_l2': 0.0002542603021339911, 'bagging_fraction': 0.31089512155856164, 'bagging_freq': 3}. Best is trial 11 with value: 0.8876800091671344.\u001b[0m\n",
            "\u001b[32m[I 2021-09-23 05:21:28,443]\u001b[0m Trial 20 finished with value: 0.818032713418949 and parameters: {'num_leaves': 239, 'max_depth': 8, 'min_data_in_leaf': 490, 'learning_rate': 0.048179708408141425, 'n_estimators': 545, 'lambda_l2': 8.542877676205901e-07, 'bagging_fraction': 0.45176568358225055, 'bagging_freq': 2}. Best is trial 11 with value: 0.8876800091671344.\u001b[0m\n",
            "\u001b[32m[I 2021-09-23 05:21:31,417]\u001b[0m Trial 21 finished with value: 0.8915901009936515 and parameters: {'num_leaves': 607, 'max_depth': 8, 'min_data_in_leaf': 90, 'learning_rate': 0.08862004780435914, 'n_estimators': 702, 'lambda_l2': 0.00048589962813015984, 'bagging_fraction': 0.7136673566356668, 'bagging_freq': 4}. Best is trial 21 with value: 0.8915901009936515.\u001b[0m\n",
            "\u001b[32m[I 2021-09-23 05:21:33,561]\u001b[0m Trial 22 finished with value: 0.8784094027147926 and parameters: {'num_leaves': 580, 'max_depth': 7, 'min_data_in_leaf': 146, 'learning_rate': 0.09291977867879021, 'n_estimators': 761, 'lambda_l2': 2.185060104668212e-05, 'bagging_fraction': 0.6212142183612099, 'bagging_freq': 4}. Best is trial 21 with value: 0.8915901009936515.\u001b[0m\n",
            "\u001b[32m[I 2021-09-23 05:21:36,208]\u001b[0m Trial 23 finished with value: 0.8774242181153424 and parameters: {'num_leaves': 774, 'max_depth': 8, 'min_data_in_leaf': 154, 'learning_rate': 0.031438742729857604, 'n_estimators': 808, 'lambda_l2': 0.00045170474141697635, 'bagging_fraction': 0.7292026936927074, 'bagging_freq': 5}. Best is trial 21 with value: 0.8915901009936515.\u001b[0m\n",
            "\u001b[32m[I 2021-09-23 05:21:39,141]\u001b[0m Trial 24 finished with value: 0.8788274591108098 and parameters: {'num_leaves': 435, 'max_depth': 9, 'min_data_in_leaf': 82, 'learning_rate': 0.09391727608610567, 'n_estimators': 698, 'lambda_l2': 6.008553863450914e-05, 'bagging_fraction': 0.6361170565255634, 'bagging_freq': 4}. Best is trial 21 with value: 0.8915901009936515.\u001b[0m\n",
            "\u001b[32m[I 2021-09-23 05:21:41,113]\u001b[0m Trial 25 finished with value: 0.8799840936452964 and parameters: {'num_leaves': 818, 'max_depth': 7, 'min_data_in_leaf': 268, 'learning_rate': 0.06584037997271831, 'n_estimators': 900, 'lambda_l2': 0.00028634138351499533, 'bagging_fraction': 0.7214381433692145, 'bagging_freq': 5}. Best is trial 21 with value: 0.8915901009936515.\u001b[0m\n",
            "\u001b[32m[I 2021-09-23 05:21:43,285]\u001b[0m Trial 26 finished with value: 0.8705527454937159 and parameters: {'num_leaves': 1176, 'max_depth': 8, 'min_data_in_leaf': 145, 'learning_rate': 0.12725198169007798, 'n_estimators': 744, 'lambda_l2': 0.003328085445359884, 'bagging_fraction': 0.5934689210422873, 'bagging_freq': 4}. Best is trial 21 with value: 0.8915901009936515.\u001b[0m\n",
            "\u001b[32m[I 2021-09-23 05:21:44,541]\u001b[0m Trial 27 finished with value: 0.8775726016095474 and parameters: {'num_leaves': 947, 'max_depth': 10, 'min_data_in_leaf': 273, 'learning_rate': 0.03447861788655257, 'n_estimators': 445, 'lambda_l2': 1.0291232851302839e-05, 'bagging_fraction': 0.8355134042190447, 'bagging_freq': 3}. Best is trial 21 with value: 0.8915901009936515.\u001b[0m\n",
            "\u001b[32m[I 2021-09-23 05:21:46,230]\u001b[0m Trial 28 finished with value: 0.8637087511250955 and parameters: {'num_leaves': 658, 'max_depth': 9, 'min_data_in_leaf': 131, 'learning_rate': 0.09131602397235981, 'n_estimators': 614, 'lambda_l2': 0.0006523688128727101, 'bagging_fraction': 0.4894715631425678, 'bagging_freq': 4}. Best is trial 21 with value: 0.8915901009936515.\u001b[0m\n",
            "\u001b[32m[I 2021-09-23 05:21:47,521]\u001b[0m Trial 29 finished with value: 0.8633475178047622 and parameters: {'num_leaves': 557, 'max_depth': 9, 'min_data_in_leaf': 630, 'learning_rate': 0.06144963614531802, 'n_estimators': 843, 'lambda_l2': 1.4486969011484401e-08, 'bagging_fraction': 0.9264961747787492, 'bagging_freq': 5}. Best is trial 21 with value: 0.8915901009936515.\u001b[0m\n",
            "\u001b[32m[I 2021-09-23 05:21:49,115]\u001b[0m Trial 30 finished with value: 0.8685129154885438 and parameters: {'num_leaves': 477, 'max_depth': 7, 'min_data_in_leaf': 304, 'learning_rate': 0.0803711395444483, 'n_estimators': 794, 'lambda_l2': 3.662653900946818e-05, 'bagging_fraction': 0.723894354089948, 'bagging_freq': 3}. Best is trial 21 with value: 0.8915901009936515.\u001b[0m\n",
            "\u001b[32m[I 2021-09-23 05:21:52,155]\u001b[0m Trial 31 finished with value: 0.8778577394213515 and parameters: {'num_leaves': 638, 'max_depth': 8, 'min_data_in_leaf': 82, 'learning_rate': 0.16946411418839716, 'n_estimators': 676, 'lambda_l2': 0.0027292905042819266, 'bagging_fraction': 0.8287082044539925, 'bagging_freq': 4}. Best is trial 21 with value: 0.8915901009936515.\u001b[0m\n",
            "\u001b[32m[I 2021-09-23 05:21:54,415]\u001b[0m Trial 32 finished with value: 0.8842306820518563 and parameters: {'num_leaves': 711, 'max_depth': 8, 'min_data_in_leaf': 124, 'learning_rate': 0.1251674210403559, 'n_estimators': 646, 'lambda_l2': 0.0026384852124367642, 'bagging_fraction': 0.6759917333536933, 'bagging_freq': 4}. Best is trial 21 with value: 0.8915901009936515.\u001b[0m\n",
            "\u001b[32m[I 2021-09-23 05:21:56,125]\u001b[0m Trial 33 finished with value: 0.873090425765741 and parameters: {'num_leaves': 869, 'max_depth': 8, 'min_data_in_leaf': 184, 'learning_rate': 0.12486944612301784, 'n_estimators': 591, 'lambda_l2': 0.00014699682818267206, 'bagging_fraction': 0.6810949509867672, 'bagging_freq': 2}. Best is trial 21 with value: 0.8915901009936515.\u001b[0m\n",
            "\u001b[32m[I 2021-09-23 05:21:57,911]\u001b[0m Trial 34 finished with value: 0.8746930641067485 and parameters: {'num_leaves': 693, 'max_depth': 7, 'min_data_in_leaf': 228, 'learning_rate': 0.10445657990694662, 'n_estimators': 853, 'lambda_l2': 0.0004978861044211489, 'bagging_fraction': 0.5827194316229495, 'bagging_freq': 4}. Best is trial 21 with value: 0.8915901009936515.\u001b[0m\n",
            "\u001b[32m[I 2021-09-23 05:22:00,461]\u001b[0m Trial 35 finished with value: 0.8824161024721803 and parameters: {'num_leaves': 408, 'max_depth': 8, 'min_data_in_leaf': 140, 'learning_rate': 0.022276503355955338, 'n_estimators': 725, 'lambda_l2': 0.0015114292131360493, 'bagging_fraction': 0.7578868081870793, 'bagging_freq': 5}. Best is trial 21 with value: 0.8915901009936515.\u001b[0m\n",
            "\u001b[32m[I 2021-09-23 05:22:02,032]\u001b[0m Trial 36 finished with value: 0.8814331363556596 and parameters: {'num_leaves': 737, 'max_depth': 9, 'min_data_in_leaf': 352, 'learning_rate': 0.13951426073229012, 'n_estimators': 639, 'lambda_l2': 0.004250439893774765, 'bagging_fraction': 0.9346169630562196, 'bagging_freq': 4}. Best is trial 21 with value: 0.8915901009936515.\u001b[0m\n",
            "\u001b[32m[I 2021-09-23 05:22:02,711]\u001b[0m Trial 37 finished with value: 0.8704710477636589 and parameters: {'num_leaves': 1120, 'max_depth': 11, 'min_data_in_leaf': 122, 'learning_rate': 0.11601639674687614, 'n_estimators': 177, 'lambda_l2': 9.104229106585656e-05, 'bagging_fraction': 0.531489862043757, 'bagging_freq': 3}. Best is trial 21 with value: 0.8915901009936515.\u001b[0m\n",
            "\u001b[32m[I 2021-09-23 05:22:04,519]\u001b[0m Trial 38 finished with value: 0.8719285812162894 and parameters: {'num_leaves': 1016, 'max_depth': 8, 'min_data_in_leaf': 194, 'learning_rate': 0.16681893725286606, 'n_estimators': 711, 'lambda_l2': 0.001353221904098284, 'bagging_fraction': 0.6213101579858982, 'bagging_freq': 5}. Best is trial 21 with value: 0.8915901009936515.\u001b[0m\n",
            "\u001b[32m[I 2021-09-23 05:22:05,143]\u001b[0m Trial 39 finished with value: 0.8471391229556928 and parameters: {'num_leaves': 592, 'max_depth': 8, 'min_data_in_leaf': 330, 'learning_rate': 0.10410262885026741, 'n_estimators': 570, 'lambda_l2': 0.0003937514971754495, 'bagging_fraction': 0.401678865577363, 'bagging_freq': 4}. Best is trial 21 with value: 0.8915901009936515.\u001b[0m\n",
            "\u001b[32m[I 2021-09-23 05:22:05,807]\u001b[0m Trial 40 finished with value: 0.8575915112577688 and parameters: {'num_leaves': 373, 'max_depth': 9, 'min_data_in_leaf': 450, 'learning_rate': 0.07404988041934814, 'n_estimators': 377, 'lambda_l2': 0.0008639143321855471, 'bagging_fraction': 0.7743823663748715, 'bagging_freq': 1}. Best is trial 21 with value: 0.8915901009936515.\u001b[0m\n",
            "\u001b[32m[I 2021-09-23 05:22:08,591]\u001b[0m Trial 41 finished with value: 0.880694512106466 and parameters: {'num_leaves': 383, 'max_depth': 8, 'min_data_in_leaf': 122, 'learning_rate': 0.025427238358867996, 'n_estimators': 745, 'lambda_l2': 0.0018709675728675987, 'bagging_fraction': 0.7012584642289938, 'bagging_freq': 5}. Best is trial 21 with value: 0.8915901009936515.\u001b[0m\n",
            "\u001b[32m[I 2021-09-23 05:22:10,916]\u001b[0m Trial 42 finished with value: 0.8768530704382231 and parameters: {'num_leaves': 709, 'max_depth': 8, 'min_data_in_leaf': 168, 'learning_rate': 0.021451592182359015, 'n_estimators': 706, 'lambda_l2': 0.0002018846349497796, 'bagging_fraction': 0.7646629718861929, 'bagging_freq': 5}. Best is trial 21 with value: 0.8915901009936515.\u001b[0m\n",
            "\u001b[32m[I 2021-09-23 05:22:13,928]\u001b[0m Trial 43 finished with value: 0.886444430955039 and parameters: {'num_leaves': 262, 'max_depth': 7, 'min_data_in_leaf': 116, 'learning_rate': 0.03963398867592803, 'n_estimators': 864, 'lambda_l2': 0.004065693907380332, 'bagging_fraction': 0.806555426630562, 'bagging_freq': 5}. Best is trial 21 with value: 0.8915901009936515.\u001b[0m\n",
            "\u001b[32m[I 2021-09-23 05:22:17,493]\u001b[0m Trial 44 finished with value: 0.8959550370501147 and parameters: {'num_leaves': 285, 'max_depth': 7, 'min_data_in_leaf': 80, 'learning_rate': 0.04159162765877158, 'n_estimators': 874, 'lambda_l2': 0.005194133795681347, 'bagging_fraction': 0.8116757777087265, 'bagging_freq': 4}. Best is trial 44 with value: 0.8959550370501147.\u001b[0m\n",
            "\u001b[32m[I 2021-09-23 05:22:21,008]\u001b[0m Trial 45 finished with value: 0.888074988445629 and parameters: {'num_leaves': 244, 'max_depth': 7, 'min_data_in_leaf': 80, 'learning_rate': 0.03978507223311746, 'n_estimators': 872, 'lambda_l2': 0.0057049800229532705, 'bagging_fraction': 0.8456244506492795, 'bagging_freq': 5}. Best is trial 44 with value: 0.8959550370501147.\u001b[0m\n",
            "\u001b[32m[I 2021-09-23 05:22:24,215]\u001b[0m Trial 46 finished with value: 0.885127848030828 and parameters: {'num_leaves': 233, 'max_depth': 7, 'min_data_in_leaf': 104, 'learning_rate': 0.03898517327615834, 'n_estimators': 864, 'lambda_l2': 0.006367114304106981, 'bagging_fraction': 0.8543379949219736, 'bagging_freq': 5}. Best is trial 44 with value: 0.8959550370501147.\u001b[0m\n",
            "\u001b[32m[I 2021-09-23 05:22:25,715]\u001b[0m Trial 47 finished with value: 0.8685805144966291 and parameters: {'num_leaves': 320, 'max_depth': 7, 'min_data_in_leaf': 389, 'learning_rate': 0.056457862314433796, 'n_estimators': 812, 'lambda_l2': 0.00520157433637865, 'bagging_fraction': 0.8024254918472219, 'bagging_freq': 5}. Best is trial 44 with value: 0.8959550370501147.\u001b[0m\n",
            "\u001b[32m[I 2021-09-23 05:22:28,225]\u001b[0m Trial 48 finished with value: 0.880189982521872 and parameters: {'num_leaves': 205, 'max_depth': 7, 'min_data_in_leaf': 175, 'learning_rate': 0.04570553412746265, 'n_estimators': 782, 'lambda_l2': 0.007245680289525093, 'bagging_fraction': 0.9579213940090395, 'bagging_freq': 5}. Best is trial 44 with value: 0.8959550370501147.\u001b[0m\n",
            "\u001b[32m[I 2021-09-23 05:22:30,523]\u001b[0m Trial 49 finished with value: 0.8798814180539962 and parameters: {'num_leaves': 286, 'max_depth': 7, 'min_data_in_leaf': 206, 'learning_rate': 0.05199431598226148, 'n_estimators': 838, 'lambda_l2': 0.009930647038386763, 'bagging_fraction': 0.8003950188316794, 'bagging_freq': 5}. Best is trial 44 with value: 0.8959550370501147.\u001b[0m\n",
            "\u001b[32m[I 2021-09-23 05:22:33,827]\u001b[0m Trial 50 finished with value: 0.8838868971100134 and parameters: {'num_leaves': 288, 'max_depth': 7, 'min_data_in_leaf': 107, 'learning_rate': 0.039333939644682236, 'n_estimators': 873, 'lambda_l2': 0.001052679669743645, 'bagging_fraction': 0.9160308629131837, 'bagging_freq': 5}. Best is trial 44 with value: 0.8959550370501147.\u001b[0m\n",
            "\u001b[32m[I 2021-09-23 05:22:37,803]\u001b[0m Trial 51 finished with value: 0.8872301157159146 and parameters: {'num_leaves': 340, 'max_depth': 7, 'min_data_in_leaf': 80, 'learning_rate': 0.01774342997643691, 'n_estimators': 900, 'lambda_l2': 0.0031306389453799877, 'bagging_fraction': 0.8716750371456962, 'bagging_freq': 4}. Best is trial 44 with value: 0.8959550370501147.\u001b[0m\n",
            "\u001b[32m[I 2021-09-23 05:22:41,284]\u001b[0m Trial 52 finished with value: 0.8897734171322238 and parameters: {'num_leaves': 354, 'max_depth': 7, 'min_data_in_leaf': 80, 'learning_rate': 0.041938483174900995, 'n_estimators': 818, 'lambda_l2': 0.0036320674585470134, 'bagging_fraction': 0.8770522346954364, 'bagging_freq': 4}. Best is trial 44 with value: 0.8959550370501147.\u001b[0m\n",
            "\u001b[32m[I 2021-09-23 05:22:44,558]\u001b[0m Trial 53 finished with value: 0.887397111862829 and parameters: {'num_leaves': 342, 'max_depth': 7, 'min_data_in_leaf': 80, 'learning_rate': 0.08505694497817334, 'n_estimators': 818, 'lambda_l2': 0.0017704136077719725, 'bagging_fraction': 0.87301322896202, 'bagging_freq': 4}. Best is trial 44 with value: 0.8959550370501147.\u001b[0m\n",
            "\u001b[32m[I 2021-09-23 05:22:47,276]\u001b[0m Trial 54 finished with value: 0.886580711696119 and parameters: {'num_leaves': 486, 'max_depth': 7, 'min_data_in_leaf': 159, 'learning_rate': 0.08330378525198592, 'n_estimators': 824, 'lambda_l2': 0.0018679119176215006, 'bagging_fraction': 0.979237734704216, 'bagging_freq': 4}. Best is trial 44 with value: 0.8959550370501147.\u001b[0m\n",
            "\u001b[32m[I 2021-09-23 05:22:50,319]\u001b[0m Trial 55 finished with value: 0.8846899774994603 and parameters: {'num_leaves': 207, 'max_depth': 7, 'min_data_in_leaf': 81, 'learning_rate': 0.06853426567011656, 'n_estimators': 778, 'lambda_l2': 0.00079671241783758, 'bagging_fraction': 0.9025649312498659, 'bagging_freq': 3}. Best is trial 44 with value: 0.8959550370501147.\u001b[0m\n",
            "\u001b[32m[I 2021-09-23 05:22:52,515]\u001b[0m Trial 56 finished with value: 0.8748387326921924 and parameters: {'num_leaves': 372, 'max_depth': 7, 'min_data_in_leaf': 249, 'learning_rate': 0.1999979116014063, 'n_estimators': 789, 'lambda_l2': 2.7147083689490922e-08, 'bagging_fraction': 0.9411014507963174, 'bagging_freq': 4}. Best is trial 44 with value: 0.8959550370501147.\u001b[0m\n",
            "\u001b[32m[I 2021-09-23 05:22:55,615]\u001b[0m Trial 57 finished with value: 0.8872227560150867 and parameters: {'num_leaves': 343, 'max_depth': 7, 'min_data_in_leaf': 107, 'learning_rate': 0.060873131043572136, 'n_estimators': 829, 'lambda_l2': 1.571865097821285e-07, 'bagging_fraction': 0.8523717488194962, 'bagging_freq': 4}. Best is trial 44 with value: 0.8959550370501147.\u001b[0m\n",
            "\u001b[32m[I 2021-09-23 05:22:56,600]\u001b[0m Trial 58 finished with value: 0.8364685474946549 and parameters: {'num_leaves': 435, 'max_depth': 7, 'min_data_in_leaf': 775, 'learning_rate': 0.07235925684111788, 'n_estimators': 760, 'lambda_l2': 0.0047663162018551225, 'bagging_fraction': 0.8871379957118227, 'bagging_freq': 2}. Best is trial 44 with value: 0.8959550370501147.\u001b[0m\n",
            "\u001b[32m[I 2021-09-23 05:22:59,587]\u001b[0m Trial 59 finished with value: 0.8772383734382738 and parameters: {'num_leaves': 286, 'max_depth': 7, 'min_data_in_leaf': 140, 'learning_rate': 0.08684024902670727, 'n_estimators': 866, 'lambda_l2': 0.0013364070535842188, 'bagging_fraction': 0.9643289898653236, 'bagging_freq': 3}. Best is trial 44 with value: 0.8959550370501147.\u001b[0m\n",
            "\u001b[32m[I 2021-09-23 05:23:01,825]\u001b[0m Trial 60 finished with value: 0.881900527371796 and parameters: {'num_leaves': 252, 'max_depth': 7, 'min_data_in_leaf': 210, 'learning_rate': 0.09808898558204379, 'n_estimators': 815, 'lambda_l2': 0.009848454960380353, 'bagging_fraction': 0.8285578181121452, 'bagging_freq': 4}. Best is trial 44 with value: 0.8959550370501147.\u001b[0m\n",
            "\u001b[32m[I 2021-09-23 05:23:05,653]\u001b[0m Trial 61 finished with value: 0.8802168978560165 and parameters: {'num_leaves': 339, 'max_depth': 7, 'min_data_in_leaf': 93, 'learning_rate': 0.015030611086933696, 'n_estimators': 899, 'lambda_l2': 0.002162551053303524, 'bagging_fraction': 0.8592727860741683, 'bagging_freq': 4}. Best is trial 44 with value: 0.8959550370501147.\u001b[0m\n",
            "\u001b[32m[I 2021-09-23 05:23:09,447]\u001b[0m Trial 62 finished with value: 0.8776133834626932 and parameters: {'num_leaves': 512, 'max_depth': 7, 'min_data_in_leaf': 81, 'learning_rate': 0.033114680165372445, 'n_estimators': 890, 'lambda_l2': 0.0033097400837987156, 'bagging_fraction': 0.876199395205363, 'bagging_freq': 4}. Best is trial 44 with value: 0.8959550370501147.\u001b[0m\n",
            "\u001b[32m[I 2021-09-23 05:23:12,982]\u001b[0m Trial 63 finished with value: 0.8783336878884533 and parameters: {'num_leaves': 346, 'max_depth': 11, 'min_data_in_leaf': 160, 'learning_rate': 0.046644836312844155, 'n_estimators': 838, 'lambda_l2': 0.0005352304838484256, 'bagging_fraction': 0.913373505574671, 'bagging_freq': 4}. Best is trial 44 with value: 0.8959550370501147.\u001b[0m\n",
            "\u001b[32m[I 2021-09-23 05:23:16,394]\u001b[0m Trial 64 finished with value: 0.881213583386565 and parameters: {'num_leaves': 413, 'max_depth': 7, 'min_data_in_leaf': 117, 'learning_rate': 0.024650493049637238, 'n_estimators': 876, 'lambda_l2': 0.002753424178286225, 'bagging_fraction': 0.8796354430049472, 'bagging_freq': 4}. Best is trial 44 with value: 0.8959550370501147.\u001b[0m\n",
            "\u001b[32m[I 2021-09-23 05:23:19,014]\u001b[0m Trial 65 finished with value: 0.8849086400534851 and parameters: {'num_leaves': 304, 'max_depth': 7, 'min_data_in_leaf': 141, 'learning_rate': 0.028595745137652097, 'n_estimators': 807, 'lambda_l2': 0.0011043818287461826, 'bagging_fraction': 0.7424558995698097, 'bagging_freq': 3}. Best is trial 44 with value: 0.8959550370501147.\u001b[0m\n",
            "\u001b[32m[I 2021-09-23 05:23:22,280]\u001b[0m Trial 66 finished with value: 0.8862738600465959 and parameters: {'num_leaves': 449, 'max_depth': 8, 'min_data_in_leaf': 101, 'learning_rate': 0.07568913337282042, 'n_estimators': 736, 'lambda_l2': 0.006020674861449315, 'bagging_fraction': 0.9901629303644113, 'bagging_freq': 4}. Best is trial 44 with value: 0.8959550370501147.\u001b[0m\n",
            "\u001b[32m[I 2021-09-23 05:23:23,308]\u001b[0m Trial 67 finished with value: 0.8599547315809942 and parameters: {'num_leaves': 262, 'max_depth': 7, 'min_data_in_leaf': 589, 'learning_rate': 0.06381713261933128, 'n_estimators': 768, 'lambda_l2': 7.011752533006517e-05, 'bagging_fraction': 0.7874707251738038, 'bagging_freq': 4}. Best is trial 44 with value: 0.8959550370501147.\u001b[0m\n",
            "\u001b[32m[I 2021-09-23 05:23:25,968]\u001b[0m Trial 68 finished with value: 0.8829837831261693 and parameters: {'num_leaves': 405, 'max_depth': 7, 'min_data_in_leaf': 182, 'learning_rate': 0.05582421405511135, 'n_estimators': 848, 'lambda_l2': 3.0928612475961738e-06, 'bagging_fraction': 0.8209211532218554, 'bagging_freq': 4}. Best is trial 44 with value: 0.8959550370501147.\u001b[0m\n",
            "\u001b[32m[I 2021-09-23 05:23:28,626]\u001b[0m Trial 69 finished with value: 0.891087251120937 and parameters: {'num_leaves': 361, 'max_depth': 8, 'min_data_in_leaf': 128, 'learning_rate': 0.0860181917205398, 'n_estimators': 682, 'lambda_l2': 0.00036848137328786854, 'bagging_fraction': 0.9444996866841773, 'bagging_freq': 3}. Best is trial 44 with value: 0.8959550370501147.\u001b[0m\n",
            "\u001b[32m[I 2021-09-23 05:23:31,214]\u001b[0m Trial 70 finished with value: 0.8839119253934661 and parameters: {'num_leaves': 545, 'max_depth': 8, 'min_data_in_leaf': 130, 'learning_rate': 0.08795350141341492, 'n_estimators': 682, 'lambda_l2': 0.0003372149800985382, 'bagging_fraction': 0.9529631697457354, 'bagging_freq': 3}. Best is trial 44 with value: 0.8959550370501147.\u001b[0m\n",
            "\u001b[32m[I 2021-09-23 05:23:34,375]\u001b[0m Trial 71 finished with value: 0.882041544277699 and parameters: {'num_leaves': 327, 'max_depth': 7, 'min_data_in_leaf': 97, 'learning_rate': 0.09661808386555704, 'n_estimators': 880, 'lambda_l2': 0.0006552854671881737, 'bagging_fraction': 0.8526108852684764, 'bagging_freq': 3}. Best is trial 44 with value: 0.8959550370501147.\u001b[0m\n",
            "\u001b[32m[I 2021-09-23 05:23:36,167]\u001b[0m Trial 72 finished with value: 0.8744741998847494 and parameters: {'num_leaves': 387, 'max_depth': 8, 'min_data_in_leaf': 159, 'learning_rate': 0.10871625213652017, 'n_estimators': 491, 'lambda_l2': 0.00014039703437893983, 'bagging_fraction': 0.9062083570560477, 'bagging_freq': 3}. Best is trial 44 with value: 0.8959550370501147.\u001b[0m\n",
            "\u001b[32m[I 2021-09-23 05:23:39,614]\u001b[0m Trial 73 finished with value: 0.8705728778915199 and parameters: {'num_leaves': 231, 'max_depth': 7, 'min_data_in_leaf': 80, 'learning_rate': 0.07986885519381878, 'n_estimators': 845, 'lambda_l2': 1.777039811678865e-05, 'bagging_fraction': 0.9352478590905282, 'bagging_freq': 2}. Best is trial 44 with value: 0.8959550370501147.\u001b[0m\n",
            "\u001b[32m[I 2021-09-23 05:23:43,023]\u001b[0m Trial 74 finished with value: 0.8856824478192358 and parameters: {'num_leaves': 352, 'max_depth': 10, 'min_data_in_leaf': 132, 'learning_rate': 0.042521181487105264, 'n_estimators': 798, 'lambda_l2': 0.002067298733890118, 'bagging_fraction': 0.8871317929554979, 'bagging_freq': 4}. Best is trial 44 with value: 0.8959550370501147.\u001b[0m\n",
            "\u001b[32m[I 2021-09-23 05:23:46,226]\u001b[0m Trial 75 finished with value: 0.8793990325569334 and parameters: {'num_leaves': 934, 'max_depth': 8, 'min_data_in_leaf': 107, 'learning_rate': 0.015996653634819048, 'n_estimators': 648, 'lambda_l2': 0.0035289040700398062, 'bagging_fraction': 0.9991606870380974, 'bagging_freq': 3}. Best is trial 44 with value: 0.8959550370501147.\u001b[0m\n",
            "\u001b[32m[I 2021-09-23 05:23:48,585]\u001b[0m Trial 76 finished with value: 0.8769014428155295 and parameters: {'num_leaves': 304, 'max_depth': 7, 'min_data_in_leaf': 142, 'learning_rate': 0.10057514950650753, 'n_estimators': 726, 'lambda_l2': 0.0015476248683606107, 'bagging_fraction': 0.8659368545870908, 'bagging_freq': 5}. Best is trial 44 with value: 0.8959550370501147.\u001b[0m\n",
            "\u001b[32m[I 2021-09-23 05:23:52,046]\u001b[0m Trial 77 finished with value: 0.8818773927359622 and parameters: {'num_leaves': 457, 'max_depth': 7, 'min_data_in_leaf': 119, 'learning_rate': 0.05177474765389022, 'n_estimators': 898, 'lambda_l2': 0.000192731330497948, 'bagging_fraction': 0.9736177105448269, 'bagging_freq': 3}. Best is trial 44 with value: 0.8959550370501147.\u001b[0m\n",
            "\u001b[32m[I 2021-09-23 05:23:54,754]\u001b[0m Trial 78 finished with value: 0.8767277879721341 and parameters: {'num_leaves': 606, 'max_depth': 8, 'min_data_in_leaf': 193, 'learning_rate': 0.1132473714697502, 'n_estimators': 821, 'lambda_l2': 0.000754425764931563, 'bagging_fraction': 0.84184864969667, 'bagging_freq': 4}. Best is trial 44 with value: 0.8959550370501147.\u001b[0m\n",
            "\u001b[32m[I 2021-09-23 05:23:58,122]\u001b[0m Trial 79 finished with value: 0.8784285862653272 and parameters: {'num_leaves': 829, 'max_depth': 8, 'min_data_in_leaf': 97, 'learning_rate': 0.08909439346238501, 'n_estimators': 757, 'lambda_l2': 0.00027496371100066294, 'bagging_fraction': 0.9258137645242652, 'bagging_freq': 5}. Best is trial 44 with value: 0.8959550370501147.\u001b[0m\n",
            "\u001b[32m[I 2021-09-23 05:24:00,533]\u001b[0m Trial 80 finished with value: 0.8789629340660112 and parameters: {'num_leaves': 270, 'max_depth': 7, 'min_data_in_leaf': 236, 'learning_rate': 0.08398792024985831, 'n_estimators': 859, 'lambda_l2': 3.209926104976258e-05, 'bagging_fraction': 0.8955686331764356, 'bagging_freq': 4}. Best is trial 44 with value: 0.8959550370501147.\u001b[0m\n",
            "\u001b[32m[I 2021-09-23 05:24:03,688]\u001b[0m Trial 81 finished with value: 0.8848758727055298 and parameters: {'num_leaves': 358, 'max_depth': 7, 'min_data_in_leaf': 98, 'learning_rate': 0.05779134126351797, 'n_estimators': 829, 'lambda_l2': 9.733341653796739e-06, 'bagging_fraction': 0.8151803439378768, 'bagging_freq': 4}. Best is trial 44 with value: 0.8959550370501147.\u001b[0m\n",
            "\u001b[32m[I 2021-09-23 05:24:06,916]\u001b[0m Trial 82 finished with value: 0.8882233368036709 and parameters: {'num_leaves': 321, 'max_depth': 7, 'min_data_in_leaf': 80, 'learning_rate': 0.06090757309086916, 'n_estimators': 798, 'lambda_l2': 1.735718546987458e-07, 'bagging_fraction': 0.8448672541032796, 'bagging_freq': 4}. Best is trial 44 with value: 0.8959550370501147.\u001b[0m\n",
            "\u001b[32m[I 2021-09-23 05:24:10,095]\u001b[0m Trial 83 finished with value: 0.8789922770483964 and parameters: {'num_leaves': 226, 'max_depth': 7, 'min_data_in_leaf': 80, 'learning_rate': 0.06780347661633565, 'n_estimators': 792, 'lambda_l2': 5.920622111569394e-07, 'bagging_fraction': 0.9484314471483501, 'bagging_freq': 4}. Best is trial 44 with value: 0.8959550370501147.\u001b[0m\n",
            "\u001b[32m[I 2021-09-23 05:24:12,457]\u001b[0m Trial 84 finished with value: 0.8845379003140578 and parameters: {'num_leaves': 307, 'max_depth': 7, 'min_data_in_leaf': 152, 'learning_rate': 0.035291402577668524, 'n_estimators': 692, 'lambda_l2': 1.7329752446147233e-07, 'bagging_fraction': 0.8706862910350351, 'bagging_freq': 5}. Best is trial 44 with value: 0.8959550370501147.\u001b[0m\n",
            "\u001b[32m[I 2021-09-23 05:24:13,653]\u001b[0m Trial 85 finished with value: 0.884102079493275 and parameters: {'num_leaves': 428, 'max_depth': 7, 'min_data_in_leaf': 123, 'learning_rate': 0.0768381843331627, 'n_estimators': 302, 'lambda_l2': 0.00717537083239019, 'bagging_fraction': 0.8435067540795096, 'bagging_freq': 4}. Best is trial 44 with value: 0.8959550370501147.\u001b[0m\n",
            "\u001b[32m[I 2021-09-23 05:24:16,921]\u001b[0m Trial 86 finished with value: 0.877728254491225 and parameters: {'num_leaves': 1129, 'max_depth': 7, 'min_data_in_leaf': 117, 'learning_rate': 0.050038309401169045, 'n_estimators': 882, 'lambda_l2': 8.371425131660997e-08, 'bagging_fraction': 0.7881246590129505, 'bagging_freq': 4}. Best is trial 44 with value: 0.8959550370501147.\u001b[0m\n",
            "\u001b[32m[I 2021-09-23 05:24:19,346]\u001b[0m Trial 87 finished with value: 0.877403556367077 and parameters: {'num_leaves': 395, 'max_depth': 9, 'min_data_in_leaf': 174, 'learning_rate': 0.07049996854725199, 'n_estimators': 804, 'lambda_l2': 0.004447663337628741, 'bagging_fraction': 0.7442220492525924, 'bagging_freq': 5}. Best is trial 44 with value: 0.8959550370501147.\u001b[0m\n",
            "\u001b[32m[I 2021-09-23 05:24:20,825]\u001b[0m Trial 88 finished with value: 0.8614466494839694 and parameters: {'num_leaves': 967, 'max_depth': 8, 'min_data_in_leaf': 487, 'learning_rate': 0.02961221941825068, 'n_estimators': 778, 'lambda_l2': 5.425567830452142e-07, 'bagging_fraction': 0.9182134868969045, 'bagging_freq': 3}. Best is trial 44 with value: 0.8959550370501147.\u001b[0m\n",
            "\u001b[32m[I 2021-09-23 05:24:24,166]\u001b[0m Trial 89 finished with value: 0.8854845597206592 and parameters: {'num_leaves': 1056, 'max_depth': 7, 'min_data_in_leaf': 95, 'learning_rate': 0.06068767434189982, 'n_estimators': 843, 'lambda_l2': 0.00280068602321092, 'bagging_fraction': 0.897542967560081, 'bagging_freq': 4}. Best is trial 44 with value: 0.8959550370501147.\u001b[0m\n",
            "\u001b[32m[I 2021-09-23 05:24:27,017]\u001b[0m Trial 90 finished with value: 0.8810812806321019 and parameters: {'num_leaves': 483, 'max_depth': 7, 'min_data_in_leaf': 136, 'learning_rate': 0.09326025261312686, 'n_estimators': 857, 'lambda_l2': 1.69087891266066e-06, 'bagging_fraction': 0.8323098224013945, 'bagging_freq': 5}. Best is trial 44 with value: 0.8959550370501147.\u001b[0m\n",
            "\u001b[32m[I 2021-09-23 05:24:29,779]\u001b[0m Trial 91 finished with value: 0.8744939426846977 and parameters: {'num_leaves': 337, 'max_depth': 7, 'min_data_in_leaf': 108, 'learning_rate': 0.06258542196059107, 'n_estimators': 823, 'lambda_l2': 1.6877764783644985e-07, 'bagging_fraction': 0.6575962265623643, 'bagging_freq': 4}. Best is trial 44 with value: 0.8959550370501147.\u001b[0m\n",
            "\u001b[32m[I 2021-09-23 05:24:33,036]\u001b[0m Trial 92 finished with value: 0.8830975913996935 and parameters: {'num_leaves': 286, 'max_depth': 7, 'min_data_in_leaf': 80, 'learning_rate': 0.07412092063279954, 'n_estimators': 872, 'lambda_l2': 2.835698276549751e-07, 'bagging_fraction': 0.7087996670271345, 'bagging_freq': 4}. Best is trial 44 with value: 0.8959550370501147.\u001b[0m\n",
            "\u001b[32m[I 2021-09-23 05:24:35,524]\u001b[0m Trial 93 finished with value: 0.8625708697813647 and parameters: {'num_leaves': 319, 'max_depth': 7, 'min_data_in_leaf': 108, 'learning_rate': 0.01006580233676313, 'n_estimators': 580, 'lambda_l2': 3.5113924190997137e-07, 'bagging_fraction': 0.8550300876407082, 'bagging_freq': 4}. Best is trial 44 with value: 0.8959550370501147.\u001b[0m\n",
            "\u001b[32m[I 2021-09-23 05:24:38,011]\u001b[0m Trial 94 finished with value: 0.8825750572432564 and parameters: {'num_leaves': 363, 'max_depth': 7, 'min_data_in_leaf': 155, 'learning_rate': 0.04388614399040661, 'n_estimators': 823, 'lambda_l2': 1.18172746571666e-07, 'bagging_fraction': 0.7690809237408036, 'bagging_freq': 4}. Best is trial 44 with value: 0.8959550370501147.\u001b[0m\n",
            "\u001b[32m[I 2021-09-23 05:24:41,263]\u001b[0m Trial 95 finished with value: 0.8753491475862167 and parameters: {'num_leaves': 267, 'max_depth': 7, 'min_data_in_leaf': 94, 'learning_rate': 0.08219552122477058, 'n_estimators': 883, 'lambda_l2': 0.0001162355233647299, 'bagging_fraction': 0.8136748606207851, 'bagging_freq': 4}. Best is trial 44 with value: 0.8959550370501147.\u001b[0m\n",
            "\u001b[32m[I 2021-09-23 05:24:42,877]\u001b[0m Trial 96 finished with value: 0.8660538902113243 and parameters: {'num_leaves': 204, 'max_depth': 11, 'min_data_in_leaf': 299, 'learning_rate': 0.05971414045334357, 'n_estimators': 749, 'lambda_l2': 4.710429774513663e-08, 'bagging_fraction': 0.7920529467400679, 'bagging_freq': 4}. Best is trial 44 with value: 0.8959550370501147.\u001b[0m\n",
            "\u001b[32m[I 2021-09-23 05:24:45,134]\u001b[0m Trial 97 finished with value: 0.8761690056858434 and parameters: {'num_leaves': 676, 'max_depth': 7, 'min_data_in_leaf': 133, 'learning_rate': 0.06481902164650928, 'n_estimators': 630, 'lambda_l2': 8.411081126965408e-08, 'bagging_fraction': 0.8653778694269149, 'bagging_freq': 4}. Best is trial 44 with value: 0.8959550370501147.\u001b[0m\n",
            "\u001b[32m[I 2021-09-23 05:24:48,354]\u001b[0m Trial 98 finished with value: 0.8834745752637323 and parameters: {'num_leaves': 375, 'max_depth': 9, 'min_data_in_leaf': 114, 'learning_rate': 0.03829655320689014, 'n_estimators': 773, 'lambda_l2': 0.005720753233110125, 'bagging_fraction': 0.8442783050384317, 'bagging_freq': 1}. Best is trial 44 with value: 0.8959550370501147.\u001b[0m\n",
            "\u001b[32m[I 2021-09-23 05:24:50,733]\u001b[0m Trial 99 finished with value: 0.8878509978601258 and parameters: {'num_leaves': 246, 'max_depth': 8, 'min_data_in_leaf': 166, 'learning_rate': 0.0491168116396504, 'n_estimators': 662, 'lambda_l2': 1.045143860753476e-08, 'bagging_fraction': 0.9662094898390438, 'bagging_freq': 5}. Best is trial 44 with value: 0.8959550370501147.\u001b[0m\n",
            "\u001b[32m[I 2021-09-23 05:24:53,083]\u001b[0m Trial 100 finished with value: 0.8750500084948934 and parameters: {'num_leaves': 226, 'max_depth': 8, 'min_data_in_leaf': 194, 'learning_rate': 0.01918607378072794, 'n_estimators': 662, 'lambda_l2': 1.2018073042152749e-08, 'bagging_fraction': 0.9710090678336273, 'bagging_freq': 5}. Best is trial 44 with value: 0.8959550370501147.\u001b[0m\n",
            "\u001b[32m[I 2021-09-23 05:24:55,608]\u001b[0m Trial 101 finished with value: 0.8831035375506358 and parameters: {'num_leaves': 294, 'max_depth': 8, 'min_data_in_leaf': 169, 'learning_rate': 0.04875399297724964, 'n_estimators': 718, 'lambda_l2': 1.7909459723441403e-08, 'bagging_fraction': 0.9581033395445785, 'bagging_freq': 5}. Best is trial 44 with value: 0.8959550370501147.\u001b[0m\n",
            "\u001b[32m[I 2021-09-23 05:24:58,033]\u001b[0m Trial 102 finished with value: 0.8814898612891112 and parameters: {'num_leaves': 330, 'max_depth': 8, 'min_data_in_leaf': 93, 'learning_rate': 0.051196565511019296, 'n_estimators': 528, 'lambda_l2': 3.3661684916975455e-08, 'bagging_fraction': 0.9328532950322448, 'bagging_freq': 5}. Best is trial 44 with value: 0.8959550370501147.\u001b[0m\n",
            "\u001b[32m[I 2021-09-23 05:24:58,537]\u001b[0m Trial 103 finished with value: 0.8649030869812057 and parameters: {'num_leaves': 248, 'max_depth': 7, 'min_data_in_leaf': 144, 'learning_rate': 0.05454554261369218, 'n_estimators': 102, 'lambda_l2': 0.0010759207607441384, 'bagging_fraction': 0.989965530448628, 'bagging_freq': 5}. Best is trial 44 with value: 0.8959550370501147.\u001b[0m\n",
            "\u001b[32m[I 2021-09-23 05:25:01,587]\u001b[0m Trial 104 finished with value: 0.8857871415285632 and parameters: {'num_leaves': 323, 'max_depth': 7, 'min_data_in_leaf': 124, 'learning_rate': 0.04157720822360561, 'n_estimators': 837, 'lambda_l2': 1.279405198026271e-06, 'bagging_fraction': 0.8848814426102171, 'bagging_freq': 4}. Best is trial 44 with value: 0.8959550370501147.\u001b[0m\n",
            "\u001b[32m[I 2021-09-23 05:25:05,186]\u001b[0m Trial 105 finished with value: 0.8866822610960947 and parameters: {'num_leaves': 271, 'max_depth': 9, 'min_data_in_leaf': 112, 'learning_rate': 0.035958571790346394, 'n_estimators': 802, 'lambda_l2': 8.64508053916467e-06, 'bagging_fraction': 0.9117150768355673, 'bagging_freq': 5}. Best is trial 44 with value: 0.8959550370501147.\u001b[0m\n",
            "\u001b[32m[I 2021-09-23 05:25:08,508]\u001b[0m Trial 106 finished with value: 0.8880049081280834 and parameters: {'num_leaves': 418, 'max_depth': 7, 'min_data_in_leaf': 90, 'learning_rate': 0.06722018552870133, 'n_estimators': 852, 'lambda_l2': 0.0017131969855537282, 'bagging_fraction': 0.9439139596205322, 'bagging_freq': 3}. Best is trial 44 with value: 0.8959550370501147.\u001b[0m\n",
            "\u001b[32m[I 2021-09-23 05:25:12,153]\u001b[0m Trial 107 finished with value: 0.8925074789886978 and parameters: {'num_leaves': 418, 'max_depth': 8, 'min_data_in_leaf': 91, 'learning_rate': 0.07805731828506414, 'n_estimators': 861, 'lambda_l2': 0.0017616175196724366, 'bagging_fraction': 0.9448204660842362, 'bagging_freq': 3}. Best is trial 44 with value: 0.8959550370501147.\u001b[0m\n",
            "\u001b[32m[I 2021-09-23 05:25:13,121]\u001b[0m Trial 108 finished with value: 0.8597375406572837 and parameters: {'num_leaves': 423, 'max_depth': 8, 'min_data_in_leaf': 711, 'learning_rate': 0.08510623589150117, 'n_estimators': 692, 'lambda_l2': 0.0005122226273505581, 'bagging_fraction': 0.9443810186923527, 'bagging_freq': 3}. Best is trial 44 with value: 0.8959550370501147.\u001b[0m\n",
            "\u001b[32m[I 2021-09-23 05:25:16,596]\u001b[0m Trial 109 finished with value: 0.8839631619188721 and parameters: {'num_leaves': 407, 'max_depth': 8, 'min_data_in_leaf': 94, 'learning_rate': 0.07726929760021647, 'n_estimators': 851, 'lambda_l2': 0.0016219550142537544, 'bagging_fraction': 0.9746319895335714, 'bagging_freq': 3}. Best is trial 44 with value: 0.8959550370501147.\u001b[0m\n",
            "\u001b[32m[I 2021-09-23 05:25:19,454]\u001b[0m Trial 110 finished with value: 0.8770874030798428 and parameters: {'num_leaves': 524, 'max_depth': 8, 'min_data_in_leaf': 156, 'learning_rate': 0.0680720636437659, 'n_estimators': 789, 'lambda_l2': 0.0003832464585201932, 'bagging_fraction': 0.999727159957054, 'bagging_freq': 3}. Best is trial 44 with value: 0.8959550370501147.\u001b[0m\n",
            "\u001b[32m[I 2021-09-23 05:25:21,865]\u001b[0m Trial 111 finished with value: 0.8859216999770254 and parameters: {'num_leaves': 900, 'max_depth': 7, 'min_data_in_leaf': 90, 'learning_rate': 0.07234311865104452, 'n_estimators': 600, 'lambda_l2': 0.0026992744464994513, 'bagging_fraction': 0.9294582646590104, 'bagging_freq': 3}. Best is trial 44 with value: 0.8959550370501147.\u001b[0m\n",
            "\u001b[32m[I 2021-09-23 05:25:25,232]\u001b[0m Trial 112 finished with value: 0.876442592306385 and parameters: {'num_leaves': 360, 'max_depth': 8, 'min_data_in_leaf': 124, 'learning_rate': 0.08074724264785058, 'n_estimators': 869, 'lambda_l2': 0.0019848391331851807, 'bagging_fraction': 0.9819865839246432, 'bagging_freq': 3}. Best is trial 44 with value: 0.8959550370501147.\u001b[0m\n",
            "\u001b[32m[I 2021-09-23 05:25:28,641]\u001b[0m Trial 113 finished with value: 0.8931001794253142 and parameters: {'num_leaves': 763, 'max_depth': 7, 'min_data_in_leaf': 109, 'learning_rate': 0.08960411306950908, 'n_estimators': 889, 'lambda_l2': 0.0009308951810127346, 'bagging_fraction': 0.9579592177846602, 'bagging_freq': 3}. Best is trial 44 with value: 0.8959550370501147.\u001b[0m\n",
            "\u001b[32m[I 2021-09-23 05:25:31,704]\u001b[0m Trial 114 finished with value: 0.881908688140349 and parameters: {'num_leaves': 392, 'max_depth': 7, 'min_data_in_leaf': 133, 'learning_rate': 0.09206289537827711, 'n_estimators': 859, 'lambda_l2': 0.000802912333753563, 'bagging_fraction': 0.9456489641817821, 'bagging_freq': 3}. Best is trial 44 with value: 0.8959550370501147.\u001b[0m\n",
            "\u001b[32m[I 2021-09-23 05:25:34,777]\u001b[0m Trial 115 finished with value: 0.8827209718222568 and parameters: {'num_leaves': 761, 'max_depth': 8, 'min_data_in_leaf': 106, 'learning_rate': 0.10001889005728593, 'n_estimators': 735, 'lambda_l2': 0.0011174597542485067, 'bagging_fraction': 0.9565546136767931, 'bagging_freq': 3}. Best is trial 44 with value: 0.8959550370501147.\u001b[0m\n",
            "\u001b[32m[I 2021-09-23 05:25:37,886]\u001b[0m Trial 116 finished with value: 0.8807160268929511 and parameters: {'num_leaves': 566, 'max_depth': 7, 'min_data_in_leaf': 147, 'learning_rate': 0.08853020473335634, 'n_estimators': 887, 'lambda_l2': 0.0037693041818147102, 'bagging_fraction': 0.9651392926427589, 'bagging_freq': 2}. Best is trial 44 with value: 0.8959550370501147.\u001b[0m\n",
            "\u001b[32m[I 2021-09-23 05:25:41,366]\u001b[0m Trial 117 finished with value: 0.8851457832998052 and parameters: {'num_leaves': 619, 'max_depth': 12, 'min_data_in_leaf': 166, 'learning_rate': 0.07835185142444434, 'n_estimators': 811, 'lambda_l2': 0.0006146220319373456, 'bagging_fraction': 0.9199956625620933, 'bagging_freq': 3}. Best is trial 44 with value: 0.8959550370501147.\u001b[0m\n",
            "\u001b[32m[I 2021-09-23 05:25:43,343]\u001b[0m Trial 118 finished with value: 0.8746377438843659 and parameters: {'num_leaves': 457, 'max_depth': 7, 'min_data_in_leaf': 393, 'learning_rate': 0.09686158898786125, 'n_estimators': 834, 'lambda_l2': 0.00229745211119149, 'bagging_fraction': 0.987616921828793, 'bagging_freq': 3}. Best is trial 44 with value: 0.8959550370501147.\u001b[0m\n",
            "\u001b[32m[I 2021-09-23 05:25:46,338]\u001b[0m Trial 119 finished with value: 0.8828092128902667 and parameters: {'num_leaves': 1157, 'max_depth': 8, 'min_data_in_leaf': 92, 'learning_rate': 0.08602867076221038, 'n_estimators': 668, 'lambda_l2': 0.001458280823714804, 'bagging_fraction': 0.8927043619499695, 'bagging_freq': 3}. Best is trial 44 with value: 0.8959550370501147.\u001b[0m\n",
            "\u001b[32m[I 2021-09-23 05:25:47,919]\u001b[0m Trial 120 finished with value: 0.8754423503487079 and parameters: {'num_leaves': 842, 'max_depth': 9, 'min_data_in_leaf': 180, 'learning_rate': 0.06615082433973861, 'n_estimators': 418, 'lambda_l2': 0.007669881104544653, 'bagging_fraction': 0.9049954830223581, 'bagging_freq': 3}. Best is trial 44 with value: 0.8959550370501147.\u001b[0m\n",
            "\u001b[32m[I 2021-09-23 05:25:51,284]\u001b[0m Trial 121 finished with value: 0.875843909681206 and parameters: {'num_leaves': 302, 'max_depth': 7, 'min_data_in_leaf': 109, 'learning_rate': 0.045711925300653405, 'n_estimators': 892, 'lambda_l2': 0.004930290192058479, 'bagging_fraction': 0.8744515278607572, 'bagging_freq': 3}. Best is trial 44 with value: 0.8959550370501147.\u001b[0m\n",
            "\u001b[32m[I 2021-09-23 05:25:54,842]\u001b[0m Trial 122 finished with value: 0.8819647519309578 and parameters: {'num_leaves': 241, 'max_depth': 7, 'min_data_in_leaf': 80, 'learning_rate': 0.07211636377864665, 'n_estimators': 899, 'lambda_l2': 0.0008925635363665682, 'bagging_fraction': 0.9439227624743778, 'bagging_freq': 3}. Best is trial 44 with value: 0.8959550370501147.\u001b[0m\n",
            "\u001b[32m[I 2021-09-23 05:25:57,993]\u001b[0m Trial 123 finished with value: 0.8880713653702857 and parameters: {'num_leaves': 280, 'max_depth': 7, 'min_data_in_leaf': 125, 'learning_rate': 0.02901483935462888, 'n_estimators': 872, 'lambda_l2': 0.0035059661722499475, 'bagging_fraction': 0.8257417541936252, 'bagging_freq': 3}. Best is trial 44 with value: 0.8959550370501147.\u001b[0m\n",
            "\u001b[32m[I 2021-09-23 05:26:01,110]\u001b[0m Trial 124 finished with value: 0.875190575711952 and parameters: {'num_leaves': 275, 'max_depth': 7, 'min_data_in_leaf': 129, 'learning_rate': 0.026857142330938992, 'n_estimators': 872, 'lambda_l2': 0.003387737510856846, 'bagging_fraction': 0.8318494634782007, 'bagging_freq': 3}. Best is trial 44 with value: 0.8959550370501147.\u001b[0m\n",
            "\u001b[32m[I 2021-09-23 05:26:03,708]\u001b[0m Trial 125 finished with value: 0.8834346103658245 and parameters: {'num_leaves': 253, 'max_depth': 7, 'min_data_in_leaf': 217, 'learning_rate': 0.030802201566465657, 'n_estimators': 857, 'lambda_l2': 0.007882240958244743, 'bagging_fraction': 0.9696101518284574, 'bagging_freq': 3}. Best is trial 44 with value: 0.8959550370501147.\u001b[0m\n",
            "\u001b[32m[I 2021-09-23 05:26:06,602]\u001b[0m Trial 126 finished with value: 0.8907911144439075 and parameters: {'num_leaves': 306, 'max_depth': 7, 'min_data_in_leaf': 118, 'learning_rate': 0.09126030917126522, 'n_estimators': 844, 'lambda_l2': 0.0017406323920212386, 'bagging_fraction': 0.8193903739380612, 'bagging_freq': 3}. Best is trial 44 with value: 0.8959550370501147.\u001b[0m\n",
            "\u001b[32m[I 2021-09-23 05:26:09,213]\u001b[0m Trial 127 finished with value: 0.8812069452501549 and parameters: {'num_leaves': 218, 'max_depth': 7, 'min_data_in_leaf': 146, 'learning_rate': 0.05442702989888902, 'n_estimators': 836, 'lambda_l2': 0.00022601592153071012, 'bagging_fraction': 0.8067254238371527, 'bagging_freq': 3}. Best is trial 44 with value: 0.8959550370501147.\u001b[0m\n",
            "\u001b[32m[I 2021-09-23 05:26:12,731]\u001b[0m Trial 128 finished with value: 0.8878400838852645 and parameters: {'num_leaves': 1064, 'max_depth': 8, 'min_data_in_leaf': 107, 'learning_rate': 0.10659418033003407, 'n_estimators': 879, 'lambda_l2': 0.002379725139227649, 'bagging_fraction': 0.7486775313507295, 'bagging_freq': 2}. Best is trial 44 with value: 0.8959550370501147.\u001b[0m\n",
            "\u001b[32m[I 2021-09-23 05:26:15,866]\u001b[0m Trial 129 finished with value: 0.873098340079985 and parameters: {'num_leaves': 308, 'max_depth': 8, 'min_data_in_leaf': 114, 'learning_rate': 0.09043094892716583, 'n_estimators': 878, 'lambda_l2': 0.0022453789642215534, 'bagging_fraction': 0.6953145247498325, 'bagging_freq': 2}. Best is trial 44 with value: 0.8959550370501147.\u001b[0m\n",
            "\u001b[32m[I 2021-09-23 05:26:19,373]\u001b[0m Trial 130 finished with value: 0.878703647266095 and parameters: {'num_leaves': 649, 'max_depth': 8, 'min_data_in_leaf': 99, 'learning_rate': 0.12001485395316441, 'n_estimators': 852, 'lambda_l2': 0.004450127357149898, 'bagging_fraction': 0.7703157532740659, 'bagging_freq': 2}. Best is trial 44 with value: 0.8959550370501147.\u001b[0m\n",
            "\u001b[32m[I 2021-09-23 05:26:22,768]\u001b[0m Trial 131 finished with value: 0.8820285781231872 and parameters: {'num_leaves': 1100, 'max_depth': 8, 'min_data_in_leaf': 126, 'learning_rate': 0.10512497585113198, 'n_estimators': 863, 'lambda_l2': 0.0012162438326406874, 'bagging_fraction': 0.7836197728340777, 'bagging_freq': 2}. Best is trial 44 with value: 0.8959550370501147.\u001b[0m\n",
            "\u001b[32m[I 2021-09-23 05:26:25,857]\u001b[0m Trial 132 finished with value: 0.8811130131093631 and parameters: {'num_leaves': 1071, 'max_depth': 7, 'min_data_in_leaf': 105, 'learning_rate': 0.11015129895006769, 'n_estimators': 882, 'lambda_l2': 0.0016963011916759354, 'bagging_fraction': 0.7464033847239071, 'bagging_freq': 1}. Best is trial 44 with value: 0.8959550370501147.\u001b[0m\n",
            "\u001b[32m[I 2021-09-23 05:26:29,079]\u001b[0m Trial 133 finished with value: 0.8729551951363322 and parameters: {'num_leaves': 1152, 'max_depth': 8, 'min_data_in_leaf': 139, 'learning_rate': 0.10345565225126356, 'n_estimators': 850, 'lambda_l2': 0.002844068302952745, 'bagging_fraction': 0.813471090878401, 'bagging_freq': 3}. Best is trial 44 with value: 0.8959550370501147.\u001b[0m\n",
            "\u001b[32m[I 2021-09-23 05:26:32,038]\u001b[0m Trial 134 finished with value: 0.8781751621205004 and parameters: {'num_leaves': 1195, 'max_depth': 7, 'min_data_in_leaf': 123, 'learning_rate': 0.09653463689968356, 'n_estimators': 826, 'lambda_l2': 6.247413139507223e-05, 'bagging_fraction': 0.7987754221821446, 'bagging_freq': 3}. Best is trial 44 with value: 0.8959550370501147.\u001b[0m\n",
            "\u001b[32m[I 2021-09-23 05:26:36,058]\u001b[0m Trial 135 finished with value: 0.885194139304626 and parameters: {'num_leaves': 248, 'max_depth': 10, 'min_data_in_leaf': 91, 'learning_rate': 0.04057990409319131, 'n_estimators': 803, 'lambda_l2': 0.005390308502093425, 'bagging_fraction': 0.8217010992564961, 'bagging_freq': 3}. Best is trial 44 with value: 0.8959550370501147.\u001b[0m\n",
            "\u001b[32m[I 2021-09-23 05:26:39,404]\u001b[0m Trial 136 finished with value: 0.8820116413684945 and parameters: {'num_leaves': 727, 'max_depth': 7, 'min_data_in_leaf': 110, 'learning_rate': 0.032866850952684386, 'n_estimators': 870, 'lambda_l2': 0.00047140487601155835, 'bagging_fraction': 0.8405431644419896, 'bagging_freq': 3}. Best is trial 44 with value: 0.8959550370501147.\u001b[0m\n",
            "\u001b[32m[I 2021-09-23 05:26:40,711]\u001b[0m Trial 137 finished with value: 0.8619859966120988 and parameters: {'num_leaves': 440, 'max_depth': 7, 'min_data_in_leaf': 159, 'learning_rate': 0.13581781917313, 'n_estimators': 842, 'lambda_l2': 0.0009028316336178626, 'bagging_fraction': 0.3388572611049897, 'bagging_freq': 5}. Best is trial 44 with value: 0.8959550370501147.\u001b[0m\n",
            "\u001b[32m[I 2021-09-23 05:26:41,261]\u001b[0m Trial 138 finished with value: 0.8545462531829402 and parameters: {'num_leaves': 802, 'max_depth': 8, 'min_data_in_leaf': 195, 'learning_rate': 0.03685744928929628, 'n_estimators': 174, 'lambda_l2': 0.003735760515771179, 'bagging_fraction': 0.643647677369509, 'bagging_freq': 2}. Best is trial 44 with value: 0.8959550370501147.\u001b[0m\n",
            "\u001b[32m[I 2021-09-23 05:26:44,646]\u001b[0m Trial 139 finished with value: 0.8835474637826739 and parameters: {'num_leaves': 1007, 'max_depth': 7, 'min_data_in_leaf': 81, 'learning_rate': 0.09490810480226358, 'n_estimators': 818, 'lambda_l2': 0.0003193772164960743, 'bagging_fraction': 0.7581256178774807, 'bagging_freq': 3}. Best is trial 44 with value: 0.8959550370501147.\u001b[0m\n",
            "\u001b[32m[I 2021-09-23 05:26:47,770]\u001b[0m Trial 140 finished with value: 0.8866977905429445 and parameters: {'num_leaves': 367, 'max_depth': 7, 'min_data_in_leaf': 139, 'learning_rate': 0.045959967579416026, 'n_estimators': 900, 'lambda_l2': 0.0014591074696824855, 'bagging_fraction': 0.9330865937059338, 'bagging_freq': 5}. Best is trial 44 with value: 0.8959550370501147.\u001b[0m\n",
            "\u001b[32m[I 2021-09-23 05:26:50,957]\u001b[0m Trial 141 finished with value: 0.8832571231700731 and parameters: {'num_leaves': 348, 'max_depth': 7, 'min_data_in_leaf': 94, 'learning_rate': 0.08384999037382283, 'n_estimators': 840, 'lambda_l2': 0.0020129991077349795, 'bagging_fraction': 0.7229382332037977, 'bagging_freq': 3}. Best is trial 44 with value: 0.8959550370501147.\u001b[0m\n",
            "\u001b[32m[I 2021-09-23 05:26:54,289]\u001b[0m Trial 142 finished with value: 0.8874667024458788 and parameters: {'num_leaves': 319, 'max_depth': 7, 'min_data_in_leaf': 80, 'learning_rate': 0.07689801491984026, 'n_estimators': 813, 'lambda_l2': 0.00262749996860298, 'bagging_fraction': 0.8658003795180966, 'bagging_freq': 5}. Best is trial 44 with value: 0.8959550370501147.\u001b[0m\n",
            "\u001b[32m[I 2021-09-23 05:26:57,078]\u001b[0m Trial 143 finished with value: 0.8751618004993594 and parameters: {'num_leaves': 282, 'max_depth': 7, 'min_data_in_leaf': 119, 'learning_rate': 0.0748007400071901, 'n_estimators': 770, 'lambda_l2': 0.002480682694051058, 'bagging_fraction': 0.8610968739854824, 'bagging_freq': 5}. Best is trial 44 with value: 0.8959550370501147.\u001b[0m\n",
            "\u001b[32m[I 2021-09-23 05:27:00,269]\u001b[0m Trial 144 finished with value: 0.8868793759777527 and parameters: {'num_leaves': 319, 'max_depth': 7, 'min_data_in_leaf': 102, 'learning_rate': 0.08210779620305225, 'n_estimators': 869, 'lambda_l2': 0.0034597664827989982, 'bagging_fraction': 0.8308311990754382, 'bagging_freq': 5}. Best is trial 44 with value: 0.8959550370501147.\u001b[0m\n",
            "\u001b[32m[I 2021-09-23 05:27:02,963]\u001b[0m Trial 145 finished with value: 0.8843590166788379 and parameters: {'num_leaves': 294, 'max_depth': 7, 'min_data_in_leaf': 90, 'learning_rate': 0.07856867983251345, 'n_estimators': 707, 'lambda_l2': 4.4789674693843655e-05, 'bagging_fraction': 0.8485187876361469, 'bagging_freq': 5}. Best is trial 44 with value: 0.8959550370501147.\u001b[0m\n",
            "\u001b[32m[I 2021-09-23 05:27:06,840]\u001b[0m Trial 146 finished with value: 0.8838446769347739 and parameters: {'num_leaves': 1126, 'max_depth': 8, 'min_data_in_leaf': 80, 'learning_rate': 0.06879602480448291, 'n_estimators': 793, 'lambda_l2': 0.00606833697733851, 'bagging_fraction': 0.9532223390062374, 'bagging_freq': 5}. Best is trial 44 with value: 0.8959550370501147.\u001b[0m\n",
            "\u001b[32m[I 2021-09-23 05:27:09,972]\u001b[0m Trial 147 finished with value: 0.8863297984195972 and parameters: {'num_leaves': 382, 'max_depth': 7, 'min_data_in_leaf': 115, 'learning_rate': 0.09164467193334064, 'n_estimators': 881, 'lambda_l2': 0.0006374209739315617, 'bagging_fraction': 0.9799214773058922, 'bagging_freq': 5}. Best is trial 44 with value: 0.8959550370501147.\u001b[0m\n",
            "\u001b[32m[I 2021-09-23 05:27:10,769]\u001b[0m Trial 148 finished with value: 0.850362569416588 and parameters: {'num_leaves': 328, 'max_depth': 7, 'min_data_in_leaf': 561, 'learning_rate': 0.059293954278979925, 'n_estimators': 559, 'lambda_l2': 0.009436064460426722, 'bagging_fraction': 0.7794856430386459, 'bagging_freq': 3}. Best is trial 44 with value: 0.8959550370501147.\u001b[0m\n",
            "\u001b[32m[I 2021-09-23 05:27:14,326]\u001b[0m Trial 149 finished with value: 0.8781738524418016 and parameters: {'num_leaves': 267, 'max_depth': 8, 'min_data_in_leaf': 129, 'learning_rate': 0.023623805879231855, 'n_estimators': 857, 'lambda_l2': 5.649678077739403e-06, 'bagging_fraction': 0.9160102757479731, 'bagging_freq': 5}. Best is trial 44 with value: 0.8959550370501147.\u001b[0m\n",
            "\u001b[32m[I 2021-09-23 05:27:17,309]\u001b[0m Trial 150 finished with value: 0.8813268240232047 and parameters: {'num_leaves': 476, 'max_depth': 7, 'min_data_in_leaf': 103, 'learning_rate': 0.06339919273312716, 'n_estimators': 826, 'lambda_l2': 0.004516634058510753, 'bagging_fraction': 0.7345170663352645, 'bagging_freq': 3}. Best is trial 44 with value: 0.8959550370501147.\u001b[0m\n",
            "\u001b[32m[I 2021-09-23 05:27:20,567]\u001b[0m Trial 151 finished with value: 0.8966915301875942 and parameters: {'num_leaves': 338, 'max_depth': 7, 'min_data_in_leaf': 90, 'learning_rate': 0.08480053977764712, 'n_estimators': 812, 'lambda_l2': 0.0012678975208657256, 'bagging_fraction': 0.8808420588429173, 'bagging_freq': 4}. Best is trial 151 with value: 0.8966915301875942.\u001b[0m\n",
            "\u001b[32m[I 2021-09-23 05:27:23,076]\u001b[0m Trial 152 finished with value: 0.8791348764090464 and parameters: {'num_leaves': 311, 'max_depth': 7, 'min_data_in_leaf': 96, 'learning_rate': 0.0881064798053556, 'n_estimators': 627, 'lambda_l2': 0.0010655992811045248, 'bagging_fraction': 0.8883673773557825, 'bagging_freq': 4}. Best is trial 151 with value: 0.8966915301875942.\u001b[0m\n",
            "\u001b[32m[I 2021-09-23 05:27:26,037]\u001b[0m Trial 153 finished with value: 0.8865682077764481 and parameters: {'num_leaves': 286, 'max_depth': 7, 'min_data_in_leaf': 118, 'learning_rate': 0.07935614756868765, 'n_estimators': 848, 'lambda_l2': 0.0015983233584341136, 'bagging_fraction': 0.8619588569564802, 'bagging_freq': 1}. Best is trial 151 with value: 0.8966915301875942.\u001b[0m\n",
            "\u001b[32m[I 2021-09-23 05:27:28,716]\u001b[0m Trial 154 finished with value: 0.8802926149591359 and parameters: {'num_leaves': 346, 'max_depth': 7, 'min_data_in_leaf': 147, 'learning_rate': 0.10080645869813384, 'n_estimators': 811, 'lambda_l2': 0.0025480599989716577, 'bagging_fraction': 0.8224121660368362, 'bagging_freq': 4}. Best is trial 151 with value: 0.8966915301875942.\u001b[0m\n",
            "\u001b[32m[I 2021-09-23 05:27:31,624]\u001b[0m Trial 155 finished with value: 0.8821577207824205 and parameters: {'num_leaves': 384, 'max_depth': 7, 'min_data_in_leaf': 104, 'learning_rate': 0.07444145978560922, 'n_estimators': 834, 'lambda_l2': 0.0012759728943504427, 'bagging_fraction': 0.658272301739321, 'bagging_freq': 4}. Best is trial 151 with value: 0.8966915301875942.\u001b[0m\n",
            "\u001b[32m[I 2021-09-23 05:27:34,876]\u001b[0m Trial 156 finished with value: 0.8889372901639216 and parameters: {'num_leaves': 236, 'max_depth': 7, 'min_data_in_leaf': 89, 'learning_rate': 0.04831086334515487, 'n_estimators': 788, 'lambda_l2': 0.0019058245308539402, 'bagging_fraction': 0.9631196687880106, 'bagging_freq': 5}. Best is trial 151 with value: 0.8966915301875942.\u001b[0m\n",
            "\u001b[32m[I 2021-09-23 05:27:37,712]\u001b[0m Trial 157 finished with value: 0.8868179317561107 and parameters: {'num_leaves': 208, 'max_depth': 7, 'min_data_in_leaf': 133, 'learning_rate': 0.04879509073567453, 'n_estimators': 787, 'lambda_l2': 0.0007220937153097705, 'bagging_fraction': 0.9554936814454268, 'bagging_freq': 4}. Best is trial 151 with value: 0.8966915301875942.\u001b[0m\n",
            "\u001b[32m[I 2021-09-23 05:27:40,430]\u001b[0m Trial 158 finished with value: 0.8849662703144892 and parameters: {'num_leaves': 234, 'max_depth': 8, 'min_data_in_leaf': 115, 'learning_rate': 0.043384730496773306, 'n_estimators': 655, 'lambda_l2': 2.184729241999153e-08, 'bagging_fraction': 0.9992228367872943, 'bagging_freq': 2}. Best is trial 151 with value: 0.8966915301875942.\u001b[0m\n",
            "\u001b[32m[I 2021-09-23 05:27:42,838]\u001b[0m Trial 159 finished with value: 0.883279406331241 and parameters: {'num_leaves': 249, 'max_depth': 7, 'min_data_in_leaf': 174, 'learning_rate': 0.053116001818316015, 'n_estimators': 762, 'lambda_l2': 0.0018478933890366605, 'bagging_fraction': 0.9341855243140461, 'bagging_freq': 4}. Best is trial 151 with value: 0.8966915301875942.\u001b[0m\n",
            "\u001b[32m[I 2021-09-23 05:27:44,464]\u001b[0m Trial 160 finished with value: 0.8728819912439754 and parameters: {'num_leaves': 412, 'max_depth': 7, 'min_data_in_leaf': 362, 'learning_rate': 0.03394233902198255, 'n_estimators': 685, 'lambda_l2': 4.672396717524477e-08, 'bagging_fraction': 0.9717391488033311, 'bagging_freq': 5}. Best is trial 151 with value: 0.8966915301875942.\u001b[0m\n",
            "\u001b[32m[I 2021-09-23 05:27:47,590]\u001b[0m Trial 161 finished with value: 0.8810963749956198 and parameters: {'num_leaves': 270, 'max_depth': 7, 'min_data_in_leaf': 81, 'learning_rate': 0.07129329549429535, 'n_estimators': 810, 'lambda_l2': 0.003116634516074423, 'bagging_fraction': 0.9063361396939908, 'bagging_freq': 5}. Best is trial 151 with value: 0.8966915301875942.\u001b[0m\n",
            "\u001b[32m[I 2021-09-23 05:27:50,815]\u001b[0m Trial 162 finished with value: 0.8865803351095243 and parameters: {'num_leaves': 303, 'max_depth': 7, 'min_data_in_leaf': 91, 'learning_rate': 0.05692020213968872, 'n_estimators': 866, 'lambda_l2': 0.0021906320550907567, 'bagging_fraction': 0.8406286909990657, 'bagging_freq': 5}. Best is trial 151 with value: 0.8966915301875942.\u001b[0m\n",
            "\u001b[32m[I 2021-09-23 05:27:53,462]\u001b[0m Trial 163 finished with value: 0.8889480798428423 and parameters: {'num_leaves': 1083, 'max_depth': 7, 'min_data_in_leaf': 106, 'learning_rate': 0.08283876390805817, 'n_estimators': 743, 'lambda_l2': 0.0009093855885116862, 'bagging_fraction': 0.7998370422134329, 'bagging_freq': 5}. Best is trial 151 with value: 0.8966915301875942.\u001b[0m\n",
            "\u001b[32m[I 2021-09-23 05:27:56,161]\u001b[0m Trial 164 finished with value: 0.8744808261731294 and parameters: {'num_leaves': 1078, 'max_depth': 7, 'min_data_in_leaf': 105, 'learning_rate': 0.0851652306550807, 'n_estimators': 742, 'lambda_l2': 0.001016525599238106, 'bagging_fraction': 0.8029897950987772, 'bagging_freq': 5}. Best is trial 151 with value: 0.8966915301875942.\u001b[0m\n",
            "\u001b[32m[I 2021-09-23 05:27:58,749]\u001b[0m Trial 165 finished with value: 0.8780664128728145 and parameters: {'num_leaves': 1041, 'max_depth': 7, 'min_data_in_leaf': 126, 'learning_rate': 0.0929018213509198, 'n_estimators': 721, 'lambda_l2': 0.0013525521689442637, 'bagging_fraction': 0.9611327056427458, 'bagging_freq': 5}. Best is trial 151 with value: 0.8966915301875942.\u001b[0m\n",
            "\u001b[32m[I 2021-09-23 05:28:02,030]\u001b[0m Trial 166 finished with value: 0.8851910392364458 and parameters: {'num_leaves': 1146, 'max_depth': 8, 'min_data_in_leaf': 95, 'learning_rate': 0.041436220776360326, 'n_estimators': 760, 'lambda_l2': 0.00043332970304648825, 'bagging_fraction': 0.7914346724508918, 'bagging_freq': 5}. Best is trial 151 with value: 0.8966915301875942.\u001b[0m\n",
            "\u001b[32m[I 2021-09-23 05:28:04,474]\u001b[0m Trial 167 finished with value: 0.8828357870112343 and parameters: {'num_leaves': 960, 'max_depth': 7, 'min_data_in_leaf': 149, 'learning_rate': 0.08926607792357456, 'n_estimators': 699, 'lambda_l2': 2.5770846193569637e-05, 'bagging_fraction': 0.9448273415525834, 'bagging_freq': 3}. Best is trial 151 with value: 0.8966915301875942.\u001b[0m\n",
            "\u001b[32m[I 2021-09-23 05:28:06,222]\u001b[0m Trial 168 finished with value: 0.8748921635061353 and parameters: {'num_leaves': 1008, 'max_depth': 7, 'min_data_in_leaf': 430, 'learning_rate': 0.08395319295093402, 'n_estimators': 783, 'lambda_l2': 2.493304232218819e-06, 'bagging_fraction': 0.9826418342586055, 'bagging_freq': 4}. Best is trial 151 with value: 0.8966915301875942.\u001b[0m\n",
            "\u001b[32m[I 2021-09-23 05:28:09,732]\u001b[0m Trial 169 finished with value: 0.8929838277416613 and parameters: {'num_leaves': 223, 'max_depth': 8, 'min_data_in_leaf': 113, 'learning_rate': 0.048644110090621945, 'n_estimators': 886, 'lambda_l2': 0.0007860022110191653, 'bagging_fraction': 0.9220113557140205, 'bagging_freq': 3}. Best is trial 151 with value: 0.8966915301875942.\u001b[0m\n",
            "\u001b[32m[I 2021-09-23 05:28:13,239]\u001b[0m Trial 170 finished with value: 0.8835881231042233 and parameters: {'num_leaves': 200, 'max_depth': 8, 'min_data_in_leaf': 111, 'learning_rate': 0.03815492008638881, 'n_estimators': 880, 'lambda_l2': 1.0348937811607927e-08, 'bagging_fraction': 0.9180396613756489, 'bagging_freq': 3}. Best is trial 151 with value: 0.8966915301875942.\u001b[0m\n",
            "\u001b[32m[I 2021-09-23 05:28:17,205]\u001b[0m Trial 171 finished with value: 0.8798859886271422 and parameters: {'num_leaves': 1111, 'max_depth': 8, 'min_data_in_leaf': 99, 'learning_rate': 0.049077713842236, 'n_estimators': 900, 'lambda_l2': 0.0008307469223773837, 'bagging_fraction': 0.9279567958314825, 'bagging_freq': 3}. Best is trial 151 with value: 0.8966915301875942.\u001b[0m\n",
            "\u001b[32m[I 2021-09-23 05:28:20,538]\u001b[0m Trial 172 finished with value: 0.8909066312204835 and parameters: {'num_leaves': 223, 'max_depth': 8, 'min_data_in_leaf': 131, 'learning_rate': 0.044032086961848564, 'n_estimators': 855, 'lambda_l2': 0.0005485659274932366, 'bagging_fraction': 0.9672072789277514, 'bagging_freq': 3}. Best is trial 151 with value: 0.8966915301875942.\u001b[0m\n",
            "\u001b[32m[I 2021-09-23 05:28:23,871]\u001b[0m Trial 173 finished with value: 0.8836282710156816 and parameters: {'num_leaves': 222, 'max_depth': 8, 'min_data_in_leaf': 132, 'learning_rate': 0.04477190714118163, 'n_estimators': 858, 'lambda_l2': 0.0005938089540855088, 'bagging_fraction': 0.8952061566908954, 'bagging_freq': 3}. Best is trial 151 with value: 0.8966915301875942.\u001b[0m\n",
            "\u001b[32m[I 2021-09-23 05:28:27,165]\u001b[0m Trial 174 finished with value: 0.8877783715448933 and parameters: {'num_leaves': 246, 'max_depth': 8, 'min_data_in_leaf': 116, 'learning_rate': 0.05190940864925559, 'n_estimators': 843, 'lambda_l2': 0.000754547149379884, 'bagging_fraction': 0.8167859723776993, 'bagging_freq': 3}. Best is trial 151 with value: 0.8966915301875942.\u001b[0m\n",
            "\u001b[32m[I 2021-09-23 05:28:30,918]\u001b[0m Trial 175 finished with value: 0.8809546164632216 and parameters: {'num_leaves': 222, 'max_depth': 8, 'min_data_in_leaf': 80, 'learning_rate': 0.04769255114122582, 'n_estimators': 829, 'lambda_l2': 0.00037948163804305565, 'bagging_fraction': 0.9433289246893081, 'bagging_freq': 3}. Best is trial 151 with value: 0.8966915301875942.\u001b[0m\n",
            "\u001b[32m[I 2021-09-23 05:28:34,815]\u001b[0m Trial 176 finished with value: 0.8846898026639939 and parameters: {'num_leaves': 257, 'max_depth': 8, 'min_data_in_leaf': 97, 'learning_rate': 0.039690637075312056, 'n_estimators': 884, 'lambda_l2': 0.0010349759636527134, 'bagging_fraction': 0.959492902640181, 'bagging_freq': 3}. Best is trial 151 with value: 0.8966915301875942.\u001b[0m\n",
            "\u001b[32m[I 2021-09-23 05:28:38,203]\u001b[0m Trial 177 finished with value: 0.8892200323452295 and parameters: {'num_leaves': 276, 'max_depth': 8, 'min_data_in_leaf': 123, 'learning_rate': 0.02984762540078934, 'n_estimators': 871, 'lambda_l2': 0.0016294094854814758, 'bagging_fraction': 0.8493715581586884, 'bagging_freq': 3}. Best is trial 151 with value: 0.8966915301875942.\u001b[0m\n",
            "\u001b[32m[I 2021-09-23 05:28:41,611]\u001b[0m Trial 178 finished with value: 0.8833569459602975 and parameters: {'num_leaves': 238, 'max_depth': 8, 'min_data_in_leaf': 136, 'learning_rate': 0.027503110925279815, 'n_estimators': 860, 'lambda_l2': 0.00048068567296502974, 'bagging_fraction': 0.8806038639923561, 'bagging_freq': 3}. Best is trial 151 with value: 0.8966915301875942.\u001b[0m\n",
            "\u001b[32m[I 2021-09-23 05:28:44,562]\u001b[0m Trial 179 finished with value: 0.8833104633019865 and parameters: {'num_leaves': 281, 'max_depth': 8, 'min_data_in_leaf': 122, 'learning_rate': 0.03325636340690498, 'n_estimators': 736, 'lambda_l2': 0.0013040730882619234, 'bagging_fraction': 0.8547597548272476, 'bagging_freq': 3}. Best is trial 151 with value: 0.8966915301875942.\u001b[0m\n",
            "\u001b[32m[I 2021-09-23 05:28:45,640]\u001b[0m Trial 180 finished with value: 0.8588743416891721 and parameters: {'num_leaves': 270, 'max_depth': 9, 'min_data_in_leaf': 642, 'learning_rate': 0.04182219902990695, 'n_estimators': 843, 'lambda_l2': 0.0017350671824445255, 'bagging_fraction': 0.8373522976516126, 'bagging_freq': 3}. Best is trial 151 with value: 0.8966915301875942.\u001b[0m\n",
            "\u001b[32m[I 2021-09-23 05:28:49,225]\u001b[0m Trial 181 finished with value: 0.8896624296771987 and parameters: {'num_leaves': 227, 'max_depth': 8, 'min_data_in_leaf': 109, 'learning_rate': 0.030022662687552278, 'n_estimators': 886, 'lambda_l2': 0.000588505279641298, 'bagging_fraction': 0.82664864917411, 'bagging_freq': 3}. Best is trial 151 with value: 0.8966915301875942.\u001b[0m\n",
            "\u001b[32m[I 2021-09-23 05:28:53,162]\u001b[0m Trial 182 finished with value: 0.8852762393369986 and parameters: {'num_leaves': 231, 'max_depth': 8, 'min_data_in_leaf': 95, 'learning_rate': 0.029945303697675382, 'n_estimators': 887, 'lambda_l2': 0.0005841036356905642, 'bagging_fraction': 0.8284402109749021, 'bagging_freq': 3}. Best is trial 151 with value: 0.8966915301875942.\u001b[0m\n",
            "\u001b[32m[I 2021-09-23 05:28:55,934]\u001b[0m Trial 183 finished with value: 0.884322019453715 and parameters: {'num_leaves': 258, 'max_depth': 8, 'min_data_in_leaf': 114, 'learning_rate': 0.037004377005606506, 'n_estimators': 866, 'lambda_l2': 0.0007951098716549312, 'bagging_fraction': 0.5783424495872408, 'bagging_freq': 3}. Best is trial 151 with value: 0.8966915301875942.\u001b[0m\n",
            "\u001b[32m[I 2021-09-23 05:28:58,372]\u001b[0m Trial 184 finished with value: 0.876823727360121 and parameters: {'num_leaves': 207, 'max_depth': 8, 'min_data_in_leaf': 150, 'learning_rate': 0.023808698547459303, 'n_estimators': 673, 'lambda_l2': 0.00033799286536998467, 'bagging_fraction': 0.8487756140009, 'bagging_freq': 3}. Best is trial 151 with value: 0.8966915301875942.\u001b[0m\n",
            "\u001b[32m[I 2021-09-23 05:28:59,955]\u001b[0m Trial 185 finished with value: 0.8861726364975951 and parameters: {'num_leaves': 288, 'max_depth': 8, 'min_data_in_leaf': 92, 'learning_rate': 0.04506242447771992, 'n_estimators': 340, 'lambda_l2': 0.0010790554041613834, 'bagging_fraction': 0.8059885137777986, 'bagging_freq': 3}. Best is trial 151 with value: 0.8966915301875942.\u001b[0m\n",
            "\u001b[32m[I 2021-09-23 05:29:01,932]\u001b[0m Trial 186 finished with value: 0.8802878695410086 and parameters: {'num_leaves': 900, 'max_depth': 8, 'min_data_in_leaf': 130, 'learning_rate': 0.030946194200346725, 'n_estimators': 465, 'lambda_l2': 0.0013708455571581418, 'bagging_fraction': 0.8777194167330097, 'bagging_freq': 3}. Best is trial 151 with value: 0.8966915301875942.\u001b[0m\n",
            "\u001b[32m[I 2021-09-23 05:29:05,833]\u001b[0m Trial 187 finished with value: 0.8853626871514166 and parameters: {'num_leaves': 226, 'max_depth': 8, 'min_data_in_leaf': 110, 'learning_rate': 0.020427377772881103, 'n_estimators': 873, 'lambda_l2': 0.006918450330230187, 'bagging_fraction': 0.9255700254055289, 'bagging_freq': 3}. Best is trial 151 with value: 0.8966915301875942.\u001b[0m\n",
            "\u001b[32m[I 2021-09-23 05:29:10,149]\u001b[0m Trial 188 finished with value: 0.8841985599955519 and parameters: {'num_leaves': 258, 'max_depth': 9, 'min_data_in_leaf': 90, 'learning_rate': 0.03869829274546887, 'n_estimators': 899, 'lambda_l2': 0.004062799193372379, 'bagging_fraction': 0.8201855773890471, 'bagging_freq': 3}. Best is trial 151 with value: 0.8966915301875942.\u001b[0m\n",
            "\u001b[32m[I 2021-09-23 05:29:13,188]\u001b[0m Trial 189 finished with value: 0.8837566351080226 and parameters: {'num_leaves': 683, 'max_depth': 7, 'min_data_in_leaf': 122, 'learning_rate': 0.035026385929149785, 'n_estimators': 798, 'lambda_l2': 0.0002477768973210709, 'bagging_fraction': 0.9628264452527259, 'bagging_freq': 3}. Best is trial 151 with value: 0.8966915301875942.\u001b[0m\n",
            "\u001b[32m[I 2021-09-23 05:29:16,237]\u001b[0m Trial 190 finished with value: 0.8839252782363411 and parameters: {'num_leaves': 337, 'max_depth': 8, 'min_data_in_leaf': 160, 'learning_rate': 0.05029009132013789, 'n_estimators': 851, 'lambda_l2': 0.0005361078073502016, 'bagging_fraction': 0.9004729297734025, 'bagging_freq': 3}. Best is trial 151 with value: 0.8966915301875942.\u001b[0m\n",
            "\u001b[32m[I 2021-09-23 05:29:19,635]\u001b[0m Trial 191 finished with value: 0.8791867319917093 and parameters: {'num_leaves': 498, 'max_depth': 8, 'min_data_in_leaf': 107, 'learning_rate': 0.10754706054118049, 'n_estimators': 873, 'lambda_l2': 0.001975705032190759, 'bagging_fraction': 0.8351000580449512, 'bagging_freq': 3}. Best is trial 151 with value: 0.8966915301875942.\u001b[0m\n",
            "\u001b[32m[I 2021-09-23 05:29:23,218]\u001b[0m Trial 192 finished with value: 0.8825839804347264 and parameters: {'num_leaves': 297, 'max_depth': 8, 'min_data_in_leaf': 102, 'learning_rate': 0.05576775641759138, 'n_estimators': 884, 'lambda_l2': 0.0031918853564975604, 'bagging_fraction': 0.7998528927494805, 'bagging_freq': 4}. Best is trial 151 with value: 0.8966915301875942.\u001b[0m\n",
            "\u001b[32m[I 2021-09-23 05:29:26,964]\u001b[0m Trial 193 finished with value: 0.8854229315968568 and parameters: {'num_leaves': 247, 'max_depth': 8, 'min_data_in_leaf': 80, 'learning_rate': 0.026906372204651637, 'n_estimators': 825, 'lambda_l2': 0.0008756554241633294, 'bagging_fraction': 0.7726971997397255, 'bagging_freq': 3}. Best is trial 151 with value: 0.8966915301875942.\u001b[0m\n",
            "\u001b[32m[I 2021-09-23 05:29:30,161]\u001b[0m Trial 194 finished with value: 0.8810739925228089 and parameters: {'num_leaves': 353, 'max_depth': 8, 'min_data_in_leaf': 137, 'learning_rate': 0.08679572551989315, 'n_estimators': 856, 'lambda_l2': 0.0017097353249876791, 'bagging_fraction': 0.847032260640177, 'bagging_freq': 2}. Best is trial 151 with value: 0.8966915301875942.\u001b[0m\n",
            "\u001b[32m[I 2021-09-23 05:29:33,590]\u001b[0m Trial 195 finished with value: 0.8806442338815444 and parameters: {'num_leaves': 318, 'max_depth': 7, 'min_data_in_leaf': 106, 'learning_rate': 0.04381448589574739, 'n_estimators': 885, 'lambda_l2': 0.0055878463189136885, 'bagging_fraction': 0.9761005368977634, 'bagging_freq': 3}. Best is trial 151 with value: 0.8966915301875942.\u001b[0m\n",
            "\u001b[32m[I 2021-09-23 05:29:36,513]\u001b[0m Trial 196 finished with value: 0.8665116147367375 and parameters: {'num_leaves': 200, 'max_depth': 8, 'min_data_in_leaf': 122, 'learning_rate': 0.17240491145261663, 'n_estimators': 843, 'lambda_l2': 0.002536250038202744, 'bagging_fraction': 0.6959490778530151, 'bagging_freq': 4}. Best is trial 151 with value: 0.8966915301875942.\u001b[0m\n",
            "\u001b[32m[I 2021-09-23 05:29:39,855]\u001b[0m Trial 197 finished with value: 0.881196007143995 and parameters: {'num_leaves': 280, 'max_depth': 7, 'min_data_in_leaf': 98, 'learning_rate': 0.08046322702607722, 'n_estimators': 871, 'lambda_l2': 7.090947282555879e-08, 'bagging_fraction': 0.9518034839376001, 'bagging_freq': 3}. Best is trial 151 with value: 0.8966915301875942.\u001b[0m\n",
            "\u001b[32m[I 2021-09-23 05:29:40,924]\u001b[0m Trial 198 finished with value: 0.8557547645221263 and parameters: {'num_leaves': 220, 'max_depth': 8, 'min_data_in_leaf': 488, 'learning_rate': 0.09548180955819924, 'n_estimators': 830, 'lambda_l2': 0.0006551808614907941, 'bagging_fraction': 0.7132994443551577, 'bagging_freq': 1}. Best is trial 151 with value: 0.8966915301875942.\u001b[0m\n",
            "\u001b[32m[I 2021-09-23 05:29:44,371]\u001b[0m Trial 199 finished with value: 0.8825635051395264 and parameters: {'num_leaves': 298, 'max_depth': 7, 'min_data_in_leaf': 89, 'learning_rate': 0.11549110431424882, 'n_estimators': 899, 'lambda_l2': 0.00139589944088355, 'bagging_fraction': 0.9409999415299762, 'bagging_freq': 4}. Best is trial 151 with value: 0.8966915301875942.\u001b[0m\n",
            "\u001b[32m[I 2021-09-23 05:29:47,465]\u001b[0m Trial 200 finished with value: 0.8844402743394151 and parameters: {'num_leaves': 580, 'max_depth': 7, 'min_data_in_leaf': 111, 'learning_rate': 0.09060545483402047, 'n_estimators': 857, 'lambda_l2': 0.003615502150589334, 'bagging_fraction': 0.862180024498265, 'bagging_freq': 3}. Best is trial 151 with value: 0.8966915301875942.\u001b[0m\n",
            "\u001b[32m[I 2021-09-23 05:29:50,643]\u001b[0m Trial 201 finished with value: 0.8848634377619962 and parameters: {'num_leaves': 237, 'max_depth': 8, 'min_data_in_leaf': 119, 'learning_rate': 0.05280931786781466, 'n_estimators': 843, 'lambda_l2': 0.0007463912307426652, 'bagging_fraction': 0.8145870989256389, 'bagging_freq': 3}. Best is trial 151 with value: 0.8966915301875942.\u001b[0m\n",
            "\u001b[32m[I 2021-09-23 05:29:54,149]\u001b[0m Trial 202 finished with value: 0.8818075606675697 and parameters: {'num_leaves': 240, 'max_depth': 8, 'min_data_in_leaf': 114, 'learning_rate': 0.05013278650994529, 'n_estimators': 872, 'lambda_l2': 0.0011669345751040032, 'bagging_fraction': 0.8210178416006729, 'bagging_freq': 3}. Best is trial 151 with value: 0.8966915301875942.\u001b[0m\n",
            "\u001b[32m[I 2021-09-23 05:29:57,050]\u001b[0m Trial 203 finished with value: 0.8875220545924688 and parameters: {'num_leaves': 261, 'max_depth': 8, 'min_data_in_leaf': 136, 'learning_rate': 0.057162688073531816, 'n_estimators': 811, 'lambda_l2': 0.0004147059095458219, 'bagging_fraction': 0.7894982351608508, 'bagging_freq': 3}. Best is trial 151 with value: 0.8966915301875942.\u001b[0m\n",
            "\u001b[32m[I 2021-09-23 05:30:01,016]\u001b[0m Trial 204 finished with value: 0.8847547035920504 and parameters: {'num_leaves': 1086, 'max_depth': 8, 'min_data_in_leaf': 82, 'learning_rate': 0.04707508422120008, 'n_estimators': 841, 'lambda_l2': 0.0007137361209725773, 'bagging_fraction': 0.8150926251243634, 'bagging_freq': 3}. Best is trial 151 with value: 0.8966915301875942.\u001b[0m\n",
            "\u001b[32m[I 2021-09-23 05:30:04,568]\u001b[0m Trial 205 finished with value: 0.8898043791484989 and parameters: {'num_leaves': 264, 'max_depth': 8, 'min_data_in_leaf': 100, 'learning_rate': 0.06307147603497723, 'n_estimators': 880, 'lambda_l2': 0.0009060124514397198, 'bagging_fraction': 0.8379803632485633, 'bagging_freq': 3}. Best is trial 151 with value: 0.8966915301875942.\u001b[0m\n",
            "\u001b[32m[I 2021-09-23 05:30:07,855]\u001b[0m Trial 206 finished with value: 0.8868870440865345 and parameters: {'num_leaves': 270, 'max_depth': 7, 'min_data_in_leaf': 94, 'learning_rate': 0.06607434598243637, 'n_estimators': 886, 'lambda_l2': 0.0009637210671347578, 'bagging_fraction': 0.8369596867511411, 'bagging_freq': 3}. Best is trial 151 with value: 0.8966915301875942.\u001b[0m\n",
            "\u001b[32m[I 2021-09-23 05:30:11,370]\u001b[0m Trial 207 finished with value: 0.8830256152397533 and parameters: {'num_leaves': 326, 'max_depth': 8, 'min_data_in_leaf': 104, 'learning_rate': 0.06339183096684653, 'n_estimators': 866, 'lambda_l2': 0.002201017881046855, 'bagging_fraction': 0.8502309017101981, 'bagging_freq': 4}. Best is trial 151 with value: 0.8966915301875942.\u001b[0m\n",
            "\u001b[32m[I 2021-09-23 05:30:15,142]\u001b[0m Trial 208 finished with value: 0.8884098304639528 and parameters: {'num_leaves': 365, 'max_depth': 8, 'min_data_in_leaf': 92, 'learning_rate': 0.09914872249786162, 'n_estimators': 886, 'lambda_l2': 0.0018743133315620828, 'bagging_fraction': 0.8723566432683143, 'bagging_freq': 2}. Best is trial 151 with value: 0.8966915301875942.\u001b[0m\n",
            "\u001b[32m[I 2021-09-23 05:30:18,586]\u001b[0m Trial 209 finished with value: 0.8856643026830522 and parameters: {'num_leaves': 363, 'max_depth': 7, 'min_data_in_leaf': 80, 'learning_rate': 0.09961644720342075, 'n_estimators': 884, 'lambda_l2': 0.0015807708105524208, 'bagging_fraction': 0.8843944501020515, 'bagging_freq': 3}. Best is trial 151 with value: 0.8966915301875942.\u001b[0m\n",
            "\u001b[32m[I 2021-09-23 05:30:22,294]\u001b[0m Trial 210 finished with value: 0.8798759132290996 and parameters: {'num_leaves': 379, 'max_depth': 10, 'min_data_in_leaf': 96, 'learning_rate': 0.09352084103524406, 'n_estimators': 776, 'lambda_l2': 0.001042074167592466, 'bagging_fraction': 0.8621063908181361, 'bagging_freq': 3}. Best is trial 151 with value: 0.8966915301875942.\u001b[0m\n",
            "\u001b[32m[I 2021-09-23 05:30:25,881]\u001b[0m Trial 211 finished with value: 0.8848908780325746 and parameters: {'num_leaves': 338, 'max_depth': 8, 'min_data_in_leaf': 104, 'learning_rate': 0.08790504881909436, 'n_estimators': 899, 'lambda_l2': 0.0020135922216507392, 'bagging_fraction': 0.8310684878974836, 'bagging_freq': 2}. Best is trial 151 with value: 0.8966915301875942.\u001b[0m\n",
            "\u001b[32m[I 2021-09-23 05:30:27,469]\u001b[0m Trial 212 finished with value: 0.8683794529672403 and parameters: {'num_leaves': 407, 'max_depth': 8, 'min_data_in_leaf': 462, 'learning_rate': 0.10420310348799017, 'n_estimators': 865, 'lambda_l2': 2.7829206990177205e-07, 'bagging_fraction': 0.8735894383748007, 'bagging_freq': 2}. Best is trial 151 with value: 0.8966915301875942.\u001b[0m\n",
            "\u001b[32m[I 2021-09-23 05:30:30,946]\u001b[0m Trial 213 finished with value: 0.884794133924683 and parameters: {'num_leaves': 307, 'max_depth': 8, 'min_data_in_leaf': 123, 'learning_rate': 0.08339847082668105, 'n_estimators': 873, 'lambda_l2': 0.002832293720370963, 'bagging_fraction': 0.9661470561622088, 'bagging_freq': 2}. Best is trial 151 with value: 0.8966915301875942.\u001b[0m\n",
            "\u001b[32m[I 2021-09-23 05:30:34,648]\u001b[0m Trial 214 finished with value: 0.8873261561985166 and parameters: {'num_leaves': 288, 'max_depth': 8, 'min_data_in_leaf': 80, 'learning_rate': 0.11105562519621967, 'n_estimators': 885, 'lambda_l2': 0.004645323442859421, 'bagging_fraction': 0.8484420196450819, 'bagging_freq': 4}. Best is trial 151 with value: 0.8966915301875942.\u001b[0m\n",
            "\u001b[32m[I 2021-09-23 05:30:37,453]\u001b[0m Trial 215 finished with value: 0.8846680417695714 and parameters: {'num_leaves': 774, 'max_depth': 8, 'min_data_in_leaf': 97, 'learning_rate': 0.060478254081218354, 'n_estimators': 858, 'lambda_l2': 0.0014907173128501006, 'bagging_fraction': 0.47981607329102405, 'bagging_freq': 2}. Best is trial 151 with value: 0.8966915301875942.\u001b[0m\n",
            "\u001b[32m[I 2021-09-23 05:30:40,404]\u001b[0m Trial 216 finished with value: 0.8771319151841953 and parameters: {'num_leaves': 867, 'max_depth': 7, 'min_data_in_leaf': 144, 'learning_rate': 0.09825779324460922, 'n_estimators': 854, 'lambda_l2': 0.00209692764091759, 'bagging_fraction': 0.9141379191924847, 'bagging_freq': 2}. Best is trial 151 with value: 0.8966915301875942.\u001b[0m\n",
            "\u001b[32m[I 2021-09-23 05:30:43,658]\u001b[0m Trial 217 finished with value: 0.8845469863786682 and parameters: {'num_leaves': 226, 'max_depth': 8, 'min_data_in_leaf': 110, 'learning_rate': 0.04041324880448702, 'n_estimators': 825, 'lambda_l2': 0.0005577955868811515, 'bagging_fraction': 0.8322848581869354, 'bagging_freq': 3}. Best is trial 151 with value: 0.8966915301875942.\u001b[0m\n",
            "\u001b[32m[I 2021-09-23 05:30:46,171]\u001b[0m Trial 218 finished with value: 0.8754523052704117 and parameters: {'num_leaves': 356, 'max_depth': 7, 'min_data_in_leaf': 130, 'learning_rate': 0.03566465184843893, 'n_estimators': 710, 'lambda_l2': 0.0012472862661124743, 'bagging_fraction': 0.9372375671327426, 'bagging_freq': 5}. Best is trial 151 with value: 0.8966915301875942.\u001b[0m\n",
            "\u001b[32m[I 2021-09-23 05:30:49,916]\u001b[0m Trial 219 finished with value: 0.886373467741584 and parameters: {'num_leaves': 261, 'max_depth': 8, 'min_data_in_leaf': 94, 'learning_rate': 0.09228407820720406, 'n_estimators': 885, 'lambda_l2': 0.0032144808001655658, 'bagging_fraction': 0.8691117260130249, 'bagging_freq': 2}. Best is trial 151 with value: 0.8966915301875942.\u001b[0m\n",
            "\u001b[32m[I 2021-09-23 05:30:53,857]\u001b[0m Trial 220 finished with value: 0.8784888316575017 and parameters: {'num_leaves': 1042, 'max_depth': 7, 'min_data_in_leaf': 80, 'learning_rate': 0.0313819142252138, 'n_estimators': 873, 'lambda_l2': 0.0016642479504595231, 'bagging_fraction': 0.9511551940182548, 'bagging_freq': 3}. Best is trial 151 with value: 0.8966915301875942.\u001b[0m\n",
            "\u001b[32m[I 2021-09-23 05:30:57,126]\u001b[0m Trial 221 finished with value: 0.881990685017716 and parameters: {'num_leaves': 237, 'max_depth': 8, 'min_data_in_leaf': 117, 'learning_rate': 0.05358889192070501, 'n_estimators': 843, 'lambda_l2': 0.0008342965744601039, 'bagging_fraction': 0.8027861675887252, 'bagging_freq': 3}. Best is trial 151 with value: 0.8966915301875942.\u001b[0m\n",
            "\u001b[32m[I 2021-09-23 05:31:00,510]\u001b[0m Trial 222 finished with value: 0.8781630543524469 and parameters: {'num_leaves': 249, 'max_depth': 8, 'min_data_in_leaf': 113, 'learning_rate': 0.043446640915369754, 'n_estimators': 835, 'lambda_l2': 0.0006814778523379351, 'bagging_fraction': 0.8163299572056645, 'bagging_freq': 3}. Best is trial 151 with value: 0.8966915301875942.\u001b[0m\n",
            "\u001b[32m[I 2021-09-23 05:31:03,723]\u001b[0m Trial 223 finished with value: 0.8899514839705116 and parameters: {'num_leaves': 276, 'max_depth': 8, 'min_data_in_leaf': 104, 'learning_rate': 0.0501285126090182, 'n_estimators': 797, 'lambda_l2': 0.0008721664971082003, 'bagging_fraction': 0.755472793442347, 'bagging_freq': 3}. Best is trial 151 with value: 0.8966915301875942.\u001b[0m\n",
            "\u001b[32m[I 2021-09-23 05:31:06,923]\u001b[0m Trial 224 finished with value: 0.8922524145141095 and parameters: {'num_leaves': 281, 'max_depth': 8, 'min_data_in_leaf': 94, 'learning_rate': 0.047094842520721915, 'n_estimators': 751, 'lambda_l2': 0.0010242801439187268, 'bagging_fraction': 0.7712278197023557, 'bagging_freq': 3}. Best is trial 151 with value: 0.8966915301875942.\u001b[0m\n",
            "\u001b[32m[I 2021-09-23 05:31:10,162]\u001b[0m Trial 225 finished with value: 0.8863173033128672 and parameters: {'num_leaves': 291, 'max_depth': 8, 'min_data_in_leaf': 92, 'learning_rate': 0.046270094167896465, 'n_estimators': 749, 'lambda_l2': 0.0010874687198574175, 'bagging_fraction': 0.7834143895007897, 'bagging_freq': 3}. Best is trial 151 with value: 0.8966915301875942.\u001b[0m\n",
            "\u001b[32m[I 2021-09-23 05:31:13,451]\u001b[0m Trial 226 finished with value: 0.8917961094568723 and parameters: {'num_leaves': 311, 'max_depth': 8, 'min_data_in_leaf': 94, 'learning_rate': 0.042045602300736847, 'n_estimators': 798, 'lambda_l2': 0.0004633386446611231, 'bagging_fraction': 0.7561657168802534, 'bagging_freq': 3}. Best is trial 151 with value: 0.8966915301875942.\u001b[0m\n",
            "\u001b[32m[I 2021-09-23 05:31:16,718]\u001b[0m Trial 227 finished with value: 0.8865999940440229 and parameters: {'num_leaves': 320, 'max_depth': 8, 'min_data_in_leaf': 94, 'learning_rate': 0.04240175561176107, 'n_estimators': 793, 'lambda_l2': 0.00032700120148085153, 'bagging_fraction': 0.782344661917058, 'bagging_freq': 3}. Best is trial 151 with value: 0.8966915301875942.\u001b[0m\n",
            "\u001b[32m[I 2021-09-23 05:31:19,524]\u001b[0m Trial 228 finished with value: 0.8884846163904787 and parameters: {'num_leaves': 276, 'max_depth': 7, 'min_data_in_leaf': 105, 'learning_rate': 0.03921591028743159, 'n_estimators': 777, 'lambda_l2': 0.000436485012591709, 'bagging_fraction': 0.7591896861142292, 'bagging_freq': 3}. Best is trial 151 with value: 0.8966915301875942.\u001b[0m\n",
            "\u001b[32m[I 2021-09-23 05:31:22,670]\u001b[0m Trial 229 finished with value: 0.8875037224484205 and parameters: {'num_leaves': 278, 'max_depth': 8, 'min_data_in_leaf': 104, 'learning_rate': 0.03842850386722538, 'n_estimators': 773, 'lambda_l2': 0.00046345903773934707, 'bagging_fraction': 0.773503693073828, 'bagging_freq': 3}. Best is trial 151 with value: 0.8966915301875942.\u001b[0m\n",
            "\u001b[32m[I 2021-09-23 05:31:25,301]\u001b[0m Trial 230 finished with value: 0.875043230823424 and parameters: {'num_leaves': 303, 'max_depth': 7, 'min_data_in_leaf': 129, 'learning_rate': 0.034706316046860176, 'n_estimators': 783, 'lambda_l2': 0.00029252281049492836, 'bagging_fraction': 0.7575911068992164, 'bagging_freq': 3}. Best is trial 151 with value: 0.8966915301875942.\u001b[0m\n",
            "\u001b[32m[I 2021-09-23 05:31:28,211]\u001b[0m Trial 231 finished with value: 0.8900357385918058 and parameters: {'num_leaves': 337, 'max_depth': 7, 'min_data_in_leaf': 92, 'learning_rate': 0.04605083599537658, 'n_estimators': 752, 'lambda_l2': 0.00042239313842230207, 'bagging_fraction': 0.7320409374217182, 'bagging_freq': 3}. Best is trial 151 with value: 0.8966915301875942.\u001b[0m\n",
            "\u001b[32m[I 2021-09-23 05:31:31,030]\u001b[0m Trial 232 finished with value: 0.8825263994291848 and parameters: {'num_leaves': 332, 'max_depth': 7, 'min_data_in_leaf': 104, 'learning_rate': 0.04677698241830576, 'n_estimators': 748, 'lambda_l2': 0.0004609961992537574, 'bagging_fraction': 0.7411081937715324, 'bagging_freq': 3}. Best is trial 151 with value: 0.8966915301875942.\u001b[0m\n",
            "\u001b[32m[I 2021-09-23 05:31:34,025]\u001b[0m Trial 233 finished with value: 0.8867632732323463 and parameters: {'num_leaves': 308, 'max_depth': 7, 'min_data_in_leaf': 81, 'learning_rate': 0.04082024190207521, 'n_estimators': 729, 'lambda_l2': 0.0005561463408539051, 'bagging_fraction': 0.7591580712017288, 'bagging_freq': 3}. Best is trial 151 with value: 0.8966915301875942.\u001b[0m\n",
            "\u001b[32m[I 2021-09-23 05:31:36,909]\u001b[0m Trial 234 finished with value: 0.8920679355925815 and parameters: {'num_leaves': 273, 'max_depth': 7, 'min_data_in_leaf': 93, 'learning_rate': 0.04456032245714264, 'n_estimators': 762, 'lambda_l2': 0.00041953860497173336, 'bagging_fraction': 0.7325689081651952, 'bagging_freq': 3}. Best is trial 151 with value: 0.8966915301875942.\u001b[0m\n",
            "\u001b[32m[I 2021-09-23 05:31:39,753]\u001b[0m Trial 235 finished with value: 0.8811983100801838 and parameters: {'num_leaves': 344, 'max_depth': 7, 'min_data_in_leaf': 93, 'learning_rate': 0.044019203147631664, 'n_estimators': 756, 'lambda_l2': 0.00022339730123856492, 'bagging_fraction': 0.7184161136937609, 'bagging_freq': 3}. Best is trial 151 with value: 0.8966915301875942.\u001b[0m\n",
            "\u001b[32m[I 2021-09-23 05:31:42,650]\u001b[0m Trial 236 finished with value: 0.8811005899479875 and parameters: {'num_leaves': 277, 'max_depth': 7, 'min_data_in_leaf': 94, 'learning_rate': 0.049283927972295846, 'n_estimators': 771, 'lambda_l2': 0.0003498058233286637, 'bagging_fraction': 0.7470331797224744, 'bagging_freq': 3}. Best is trial 151 with value: 0.8966915301875942.\u001b[0m\n",
            "\u001b[32m[I 2021-09-23 05:31:45,430]\u001b[0m Trial 237 finished with value: 0.8879018531467295 and parameters: {'num_leaves': 371, 'max_depth': 7, 'min_data_in_leaf': 108, 'learning_rate': 0.044639811059981854, 'n_estimators': 761, 'lambda_l2': 0.00039504490806306815, 'bagging_fraction': 0.7254529597292672, 'bagging_freq': 3}. Best is trial 151 with value: 0.8966915301875942.\u001b[0m\n",
            "\u001b[32m[I 2021-09-23 05:31:48,759]\u001b[0m Trial 238 finished with value: 0.8806982490958911 and parameters: {'num_leaves': 319, 'max_depth': 8, 'min_data_in_leaf': 92, 'learning_rate': 0.03930879567882643, 'n_estimators': 790, 'lambda_l2': 0.00014603438690878934, 'bagging_fraction': 0.7358967513600825, 'bagging_freq': 3}. Best is trial 151 with value: 0.8966915301875942.\u001b[0m\n",
            "\u001b[32m[I 2021-09-23 05:31:51,625]\u001b[0m Trial 239 finished with value: 0.8884342047834775 and parameters: {'num_leaves': 296, 'max_depth': 7, 'min_data_in_leaf': 117, 'learning_rate': 0.04793050161757902, 'n_estimators': 805, 'lambda_l2': 0.0005716843143999194, 'bagging_fraction': 0.7473630890262491, 'bagging_freq': 3}. Best is trial 151 with value: 0.8966915301875942.\u001b[0m\n",
            "\u001b[32m[I 2021-09-23 05:31:54,483]\u001b[0m Trial 240 finished with value: 0.8854768974025428 and parameters: {'num_leaves': 300, 'max_depth': 7, 'min_data_in_leaf': 119, 'learning_rate': 0.051316522196445266, 'n_estimators': 801, 'lambda_l2': 0.0005275075176666451, 'bagging_fraction': 0.7614188675999025, 'bagging_freq': 3}. Best is trial 151 with value: 0.8966915301875942.\u001b[0m\n",
            "\u001b[32m[I 2021-09-23 05:31:57,596]\u001b[0m Trial 241 finished with value: 0.8888521033963932 and parameters: {'num_leaves': 260, 'max_depth': 7, 'min_data_in_leaf': 81, 'learning_rate': 0.04776028645293648, 'n_estimators': 776, 'lambda_l2': 0.0006675972156845905, 'bagging_fraction': 0.733122022568855, 'bagging_freq': 3}. Best is trial 151 with value: 0.8966915301875942.\u001b[0m\n",
            "\u001b[32m[I 2021-09-23 05:32:00,633]\u001b[0m Trial 242 finished with value: 0.8857936891308675 and parameters: {'num_leaves': 266, 'max_depth': 7, 'min_data_in_leaf': 80, 'learning_rate': 0.04699042048779479, 'n_estimators': 773, 'lambda_l2': 0.0006624159795641711, 'bagging_fraction': 0.7380478957452316, 'bagging_freq': 3}. Best is trial 151 with value: 0.8966915301875942.\u001b[0m\n",
            "\u001b[32m[I 2021-09-23 05:32:03,471]\u001b[0m Trial 243 finished with value: 0.8855242170252533 and parameters: {'num_leaves': 292, 'max_depth': 7, 'min_data_in_leaf': 106, 'learning_rate': 0.05417231371746531, 'n_estimators': 801, 'lambda_l2': 0.0008356124602577337, 'bagging_fraction': 0.7253619020462879, 'bagging_freq': 3}. Best is trial 151 with value: 0.8966915301875942.\u001b[0m\n",
            "\u001b[32m[I 2021-09-23 05:32:07,147]\u001b[0m Trial 244 finished with value: 0.8874218022609023 and parameters: {'num_leaves': 337, 'max_depth': 12, 'min_data_in_leaf': 104, 'learning_rate': 0.04906639335387943, 'n_estimators': 747, 'lambda_l2': 0.00048667123291654184, 'bagging_fraction': 0.7589947216024368, 'bagging_freq': 3}. Best is trial 151 with value: 0.8966915301875942.\u001b[0m\n",
            "\u001b[32m[I 2021-09-23 05:32:09,951]\u001b[0m Trial 245 finished with value: 0.8906817136027061 and parameters: {'num_leaves': 269, 'max_depth': 7, 'min_data_in_leaf': 114, 'learning_rate': 0.04443780127747371, 'n_estimators': 783, 'lambda_l2': 0.0006323923640760524, 'bagging_fraction': 0.747656821817337, 'bagging_freq': 3}. Best is trial 151 with value: 0.8966915301875942.\u001b[0m\n",
            "\u001b[32m[I 2021-09-23 05:32:12,411]\u001b[0m Trial 246 finished with value: 0.8843239613720625 and parameters: {'num_leaves': 264, 'max_depth': 7, 'min_data_in_leaf': 122, 'learning_rate': 0.04209278519354734, 'n_estimators': 761, 'lambda_l2': 0.00028637841113759874, 'bagging_fraction': 0.7079029286029983, 'bagging_freq': 3}. Best is trial 151 with value: 0.8966915301875942.\u001b[0m\n",
            "\u001b[32m[I 2021-09-23 05:32:15,059]\u001b[0m Trial 247 finished with value: 0.8777376612453032 and parameters: {'num_leaves': 278, 'max_depth': 7, 'min_data_in_leaf': 121, 'learning_rate': 0.045763580497173134, 'n_estimators': 784, 'lambda_l2': 0.0006522205696974363, 'bagging_fraction': 0.7478134561668769, 'bagging_freq': 3}. Best is trial 151 with value: 0.8966915301875942.\u001b[0m\n",
            "\u001b[32m[I 2021-09-23 05:32:17,466]\u001b[0m Trial 248 finished with value: 0.8787086138203551 and parameters: {'num_leaves': 255, 'max_depth': 8, 'min_data_in_leaf': 139, 'learning_rate': 0.04968101965109932, 'n_estimators': 730, 'lambda_l2': 0.0009004159405810396, 'bagging_fraction': 0.7348425709153414, 'bagging_freq': 3}. Best is trial 151 with value: 0.8966915301875942.\u001b[0m\n",
            "\u001b[32m[I 2021-09-23 05:32:20,157]\u001b[0m Trial 249 finished with value: 0.8811111828252802 and parameters: {'num_leaves': 224, 'max_depth': 7, 'min_data_in_leaf': 108, 'learning_rate': 0.04256178346112872, 'n_estimators': 775, 'lambda_l2': 0.00043189618176282574, 'bagging_fraction': 0.7287804118223143, 'bagging_freq': 3}. Best is trial 151 with value: 0.8966915301875942.\u001b[0m\n",
            "\u001b[32m[I 2021-09-23 05:32:23,376]\u001b[0m Trial 250 finished with value: 0.8814925674773517 and parameters: {'num_leaves': 307, 'max_depth': 8, 'min_data_in_leaf': 98, 'learning_rate': 0.037095232265259875, 'n_estimators': 808, 'lambda_l2': 0.0006022546661274987, 'bagging_fraction': 0.7688283108530544, 'bagging_freq': 3}. Best is trial 151 with value: 0.8966915301875942.\u001b[0m\n",
            "\u001b[32m[I 2021-09-23 05:32:25,225]\u001b[0m Trial 251 finished with value: 0.8783501225349123 and parameters: {'num_leaves': 285, 'max_depth': 7, 'min_data_in_leaf': 260, 'learning_rate': 0.08774962436809829, 'n_estimators': 786, 'lambda_l2': 0.0009093578519496668, 'bagging_fraction': 0.7501969927521285, 'bagging_freq': 3}. Best is trial 151 with value: 0.8966915301875942.\u001b[0m\n",
            "\u001b[32m[I 2021-09-23 05:32:28,119]\u001b[0m Trial 252 finished with value: 0.8874022913089757 and parameters: {'num_leaves': 245, 'max_depth': 8, 'min_data_in_leaf': 114, 'learning_rate': 0.04669139914634264, 'n_estimators': 765, 'lambda_l2': 0.0003688496025072582, 'bagging_fraction': 0.7653923219771416, 'bagging_freq': 3}. Best is trial 151 with value: 0.8966915301875942.\u001b[0m\n",
            "\u001b[32m[I 2021-09-23 05:32:30,512]\u001b[0m Trial 253 finished with value: 0.8904332546572034 and parameters: {'num_leaves': 268, 'max_depth': 7, 'min_data_in_leaf': 131, 'learning_rate': 0.042518624487655414, 'n_estimators': 742, 'lambda_l2': 0.0007051687099445352, 'bagging_fraction': 0.7497879192246419, 'bagging_freq': 3}. Best is trial 151 with value: 0.8966915301875942.\u001b[0m\n",
            "\u001b[32m[I 2021-09-23 05:32:32,744]\u001b[0m Trial 254 finished with value: 0.8801278569020811 and parameters: {'num_leaves': 264, 'max_depth': 7, 'min_data_in_leaf': 134, 'learning_rate': 0.04124035937772039, 'n_estimators': 721, 'lambda_l2': 0.0006896071416842124, 'bagging_fraction': 0.689659908582402, 'bagging_freq': 3}. Best is trial 151 with value: 0.8966915301875942.\u001b[0m\n",
            "\u001b[32m[I 2021-09-23 05:32:35,215]\u001b[0m Trial 255 finished with value: 0.8787067164872729 and parameters: {'num_leaves': 277, 'max_depth': 7, 'min_data_in_leaf': 126, 'learning_rate': 0.05085154839885642, 'n_estimators': 750, 'lambda_l2': 0.000531192966483077, 'bagging_fraction': 0.7510647514459545, 'bagging_freq': 3}. Best is trial 151 with value: 0.8966915301875942.\u001b[0m\n",
            "\u001b[32m[I 2021-09-23 05:32:37,406]\u001b[0m Trial 256 finished with value: 0.883530549393591 and parameters: {'num_leaves': 215, 'max_depth': 7, 'min_data_in_leaf': 148, 'learning_rate': 0.04448688413297358, 'n_estimators': 737, 'lambda_l2': 0.000862857347196865, 'bagging_fraction': 0.7152965722554, 'bagging_freq': 3}. Best is trial 151 with value: 0.8966915301875942.\u001b[0m\n",
            "\u001b[32m[I 2021-09-23 05:32:38,309]\u001b[0m Trial 257 finished with value: 0.8334852436364228 and parameters: {'num_leaves': 249, 'max_depth': 7, 'min_data_in_leaf': 758, 'learning_rate': 0.03719102851734974, 'n_estimators': 814, 'lambda_l2': 0.0001779757307225112, 'bagging_fraction': 0.731632505555069, 'bagging_freq': 3}. Best is trial 151 with value: 0.8966915301875942.\u001b[0m\n",
            "\u001b[32m[I 2021-09-23 05:32:41,149]\u001b[0m Trial 258 finished with value: 0.8832327482232158 and parameters: {'num_leaves': 542, 'max_depth': 7, 'min_data_in_leaf': 112, 'learning_rate': 0.05392431028495909, 'n_estimators': 792, 'lambda_l2': 0.0005119011492123193, 'bagging_fraction': 0.7713370482749521, 'bagging_freq': 3}. Best is trial 151 with value: 0.8966915301875942.\u001b[0m\n",
            "\u001b[32m[I 2021-09-23 05:32:43,817]\u001b[0m Trial 259 finished with value: 0.8875486388606504 and parameters: {'num_leaves': 292, 'max_depth': 7, 'min_data_in_leaf': 102, 'learning_rate': 0.046565564986632904, 'n_estimators': 762, 'lambda_l2': 0.0003994329658267992, 'bagging_fraction': 0.752333559637774, 'bagging_freq': 3}. Best is trial 151 with value: 0.8966915301875942.\u001b[0m\n",
            "\u001b[32m[I 2021-09-23 05:32:46,179]\u001b[0m Trial 260 finished with value: 0.874180229061542 and parameters: {'num_leaves': 265, 'max_depth': 7, 'min_data_in_leaf': 129, 'learning_rate': 0.08260813051059801, 'n_estimators': 741, 'lambda_l2': 0.001136884595954548, 'bagging_fraction': 0.7387323477834589, 'bagging_freq': 3}. Best is trial 151 with value: 0.8966915301875942.\u001b[0m\n",
            "\u001b[32m[I 2021-09-23 05:32:49,235]\u001b[0m Trial 261 finished with value: 0.8913670617927354 and parameters: {'num_leaves': 235, 'max_depth': 7, 'min_data_in_leaf': 80, 'learning_rate': 0.04090231483806352, 'n_estimators': 780, 'lambda_l2': 0.000832859524525418, 'bagging_fraction': 0.7708492173935291, 'bagging_freq': 3}. Best is trial 151 with value: 0.8966915301875942.\u001b[0m\n",
            "\u001b[32m[I 2021-09-23 05:32:52,199]\u001b[0m Trial 262 finished with value: 0.8913390193853847 and parameters: {'num_leaves': 215, 'max_depth': 7, 'min_data_in_leaf': 90, 'learning_rate': 0.03328965293444647, 'n_estimators': 775, 'lambda_l2': 0.000772158211189979, 'bagging_fraction': 0.7887742303097373, 'bagging_freq': 3}. Best is trial 151 with value: 0.8966915301875942.\u001b[0m\n",
            "\u001b[32m[I 2021-09-23 05:32:55,038]\u001b[0m Trial 263 finished with value: 0.8882921339913263 and parameters: {'num_leaves': 213, 'max_depth': 7, 'min_data_in_leaf': 81, 'learning_rate': 0.032255803999830246, 'n_estimators': 712, 'lambda_l2': 0.0009866659840042321, 'bagging_fraction': 0.7969440315032821, 'bagging_freq': 3}. Best is trial 151 with value: 0.8966915301875942.\u001b[0m\n",
            "\u001b[32m[I 2021-09-23 05:32:57,988]\u001b[0m Trial 264 finished with value: 0.8853589232808484 and parameters: {'num_leaves': 224, 'max_depth': 7, 'min_data_in_leaf': 88, 'learning_rate': 0.037434029923840664, 'n_estimators': 751, 'lambda_l2': 0.0007576170882808374, 'bagging_fraction': 0.7826363840436658, 'bagging_freq': 3}. Best is trial 151 with value: 0.8966915301875942.\u001b[0m\n",
            "\u001b[32m[I 2021-09-23 05:33:01,015]\u001b[0m Trial 265 finished with value: 0.8803016524401335 and parameters: {'num_leaves': 236, 'max_depth': 7, 'min_data_in_leaf': 80, 'learning_rate': 0.07973485770115726, 'n_estimators': 773, 'lambda_l2': 0.0012119818057443456, 'bagging_fraction': 0.7935544587262635, 'bagging_freq': 3}. Best is trial 151 with value: 0.8966915301875942.\u001b[0m\n",
            "\u001b[32m[I 2021-09-23 05:33:03,792]\u001b[0m Trial 266 finished with value: 0.891982242554594 and parameters: {'num_leaves': 232, 'max_depth': 7, 'min_data_in_leaf': 95, 'learning_rate': 0.02812058901046993, 'n_estimators': 732, 'lambda_l2': 0.0006950967761786422, 'bagging_fraction': 0.7775252525090426, 'bagging_freq': 3}. Best is trial 151 with value: 0.8966915301875942.\u001b[0m\n",
            "\u001b[32m[I 2021-09-23 05:33:06,875]\u001b[0m Trial 267 finished with value: 0.8852797270584677 and parameters: {'num_leaves': 201, 'max_depth': 8, 'min_data_in_leaf': 97, 'learning_rate': 0.02788177614810232, 'n_estimators': 725, 'lambda_l2': 0.0009154541672555269, 'bagging_fraction': 0.7805649978974454, 'bagging_freq': 3}. Best is trial 151 with value: 0.8966915301875942.\u001b[0m\n",
            "\u001b[32m[I 2021-09-23 05:33:10,401]\u001b[0m Trial 268 finished with value: 0.8787805809919976 and parameters: {'num_leaves': 237, 'max_depth': 11, 'min_data_in_leaf': 96, 'learning_rate': 0.024999591418135528, 'n_estimators': 689, 'lambda_l2': 0.0013466785025305834, 'bagging_fraction': 0.7981290813275413, 'bagging_freq': 3}. Best is trial 151 with value: 0.8966915301875942.\u001b[0m\n",
            "\u001b[32m[I 2021-09-23 05:33:11,397]\u001b[0m Trial 269 finished with value: 0.8599591515582992 and parameters: {'num_leaves': 200, 'max_depth': 7, 'min_data_in_leaf': 524, 'learning_rate': 0.034279343960753106, 'n_estimators': 704, 'lambda_l2': 0.0007871844494615498, 'bagging_fraction': 0.7727690976309323, 'bagging_freq': 3}. Best is trial 151 with value: 0.8966915301875942.\u001b[0m\n",
            "\u001b[32m[I 2021-09-23 05:33:14,270]\u001b[0m Trial 270 finished with value: 0.8790991040013943 and parameters: {'num_leaves': 233, 'max_depth': 8, 'min_data_in_leaf': 113, 'learning_rate': 0.03100437574595494, 'n_estimators': 729, 'lambda_l2': 0.0010275208492793763, 'bagging_fraction': 0.7868690169218724, 'bagging_freq': 3}. Best is trial 151 with value: 0.8966915301875942.\u001b[0m\n",
            "\u001b[32m[I 2021-09-23 05:33:17,075]\u001b[0m Trial 271 finished with value: 0.8887533115995279 and parameters: {'num_leaves': 618, 'max_depth': 7, 'min_data_in_leaf': 94, 'learning_rate': 0.04161709398816347, 'n_estimators': 759, 'lambda_l2': 0.0006821929207724571, 'bagging_fraction': 0.7678773276907042, 'bagging_freq': 3}. Best is trial 151 with value: 0.8966915301875942.\u001b[0m\n",
            "\u001b[32m[I 2021-09-23 05:33:19,510]\u001b[0m Trial 272 finished with value: 0.8840005546473785 and parameters: {'num_leaves': 223, 'max_depth': 7, 'min_data_in_leaf': 132, 'learning_rate': 0.029213475184510375, 'n_estimators': 741, 'lambda_l2': 0.00027395106627444766, 'bagging_fraction': 0.8059043027826718, 'bagging_freq': 3}. Best is trial 151 with value: 0.8966915301875942.\u001b[0m\n",
            "\u001b[32m[I 2021-09-23 05:33:22,385]\u001b[0m Trial 273 finished with value: 0.8851908782084744 and parameters: {'num_leaves': 725, 'max_depth': 8, 'min_data_in_leaf': 106, 'learning_rate': 0.035009372569425386, 'n_estimators': 819, 'lambda_l2': 0.001230659367374947, 'bagging_fraction': 0.6089813709598834, 'bagging_freq': 3}. Best is trial 151 with value: 0.8966915301875942.\u001b[0m\n",
            "\u001b[32m[I 2021-09-23 05:33:25,078]\u001b[0m Trial 274 finished with value: 0.8804879706057263 and parameters: {'num_leaves': 247, 'max_depth': 8, 'min_data_in_leaf': 118, 'learning_rate': 0.08416913515314471, 'n_estimators': 739, 'lambda_l2': 0.0005848077973885882, 'bagging_fraction': 0.777754954582283, 'bagging_freq': 3}. Best is trial 151 with value: 0.8966915301875942.\u001b[0m\n",
            "\u001b[32m[I 2021-09-23 05:33:26,636]\u001b[0m Trial 275 finished with value: 0.8791462048415083 and parameters: {'num_leaves': 217, 'max_depth': 7, 'min_data_in_leaf': 285, 'learning_rate': 0.042649355886393125, 'n_estimators': 717, 'lambda_l2': 0.0008578170189226259, 'bagging_fraction': 0.7645215575659208, 'bagging_freq': 3}. Best is trial 151 with value: 0.8966915301875942.\u001b[0m\n",
            "\u001b[32m[I 2021-09-23 05:33:30,283]\u001b[0m Trial 276 finished with value: 0.8835858941040591 and parameters: {'num_leaves': 240, 'max_depth': 9, 'min_data_in_leaf': 93, 'learning_rate': 0.022094332550746408, 'n_estimators': 798, 'lambda_l2': 0.0012275166765566316, 'bagging_fraction': 0.7917233296269071, 'bagging_freq': 3}. Best is trial 151 with value: 0.8966915301875942.\u001b[0m\n",
            "\u001b[32m[I 2021-09-23 05:33:31,923]\u001b[0m Trial 277 finished with value: 0.8779542416209798 and parameters: {'num_leaves': 317, 'max_depth': 7, 'min_data_in_leaf': 319, 'learning_rate': 0.0867574491907289, 'n_estimators': 755, 'lambda_l2': 0.0003457947628585131, 'bagging_fraction': 0.8075202478808516, 'bagging_freq': 3}. Best is trial 151 with value: 0.8966915301875942.\u001b[0m\n",
            "\u001b[32m[I 2021-09-23 05:33:33,362]\u001b[0m Trial 278 finished with value: 0.8684878289625063 and parameters: {'num_leaves': 253, 'max_depth': 8, 'min_data_in_leaf': 148, 'learning_rate': 0.03826641982662433, 'n_estimators': 792, 'lambda_l2': 0.0007260593033081445, 'bagging_fraction': 0.38504490327132096, 'bagging_freq': 3}. Best is trial 151 with value: 0.8966915301875942.\u001b[0m\n",
            "\u001b[32m[I 2021-09-23 05:33:36,091]\u001b[0m Trial 279 finished with value: 0.8812194136697182 and parameters: {'num_leaves': 332, 'max_depth': 7, 'min_data_in_leaf': 103, 'learning_rate': 0.03325042400614346, 'n_estimators': 760, 'lambda_l2': 0.00047211905128306136, 'bagging_fraction': 0.759102086807395, 'bagging_freq': 3}. Best is trial 151 with value: 0.8966915301875942.\u001b[0m\n",
            "\u001b[32m[I 2021-09-23 05:33:38,902]\u001b[0m Trial 280 finished with value: 0.8845707816655393 and parameters: {'num_leaves': 217, 'max_depth': 8, 'min_data_in_leaf': 122, 'learning_rate': 0.02596789638815976, 'n_estimators': 816, 'lambda_l2': 0.0015044278511610705, 'bagging_fraction': 0.712233319929498, 'bagging_freq': 3}. Best is trial 151 with value: 0.8966915301875942.\u001b[0m\n",
            "\u001b[32m[I 2021-09-23 05:33:39,942]\u001b[0m Trial 281 finished with value: 0.8810914500669103 and parameters: {'num_leaves': 921, 'max_depth': 7, 'min_data_in_leaf': 94, 'learning_rate': 0.09082092787294568, 'n_estimators': 243, 'lambda_l2': 0.0010076041832235555, 'bagging_fraction': 0.7842294949716881, 'bagging_freq': 3}. Best is trial 151 with value: 0.8966915301875942.\u001b[0m\n",
            "\u001b[32m[I 2021-09-23 05:33:42,819]\u001b[0m Trial 282 finished with value: 0.8932640954387934 and parameters: {'num_leaves': 265, 'max_depth': 7, 'min_data_in_leaf': 110, 'learning_rate': 0.04124891900209067, 'n_estimators': 770, 'lambda_l2': 0.0006234592972130333, 'bagging_fraction': 0.9820013736758371, 'bagging_freq': 3}. Best is trial 151 with value: 0.8966915301875942.\u001b[0m\n",
            "\u001b[32m[I 2021-09-23 05:33:45,456]\u001b[0m Trial 283 finished with value: 0.874550549228289 and parameters: {'num_leaves': 659, 'max_depth': 7, 'min_data_in_leaf': 135, 'learning_rate': 0.04045202547523352, 'n_estimators': 733, 'lambda_l2': 0.000600194254335826, 'bagging_fraction': 0.9763245861146215, 'bagging_freq': 3}. Best is trial 151 with value: 0.8966915301875942.\u001b[0m\n",
            "\u001b[32m[I 2021-09-23 05:33:48,558]\u001b[0m Trial 284 finished with value: 0.8784195820748351 and parameters: {'num_leaves': 275, 'max_depth': 8, 'min_data_in_leaf': 116, 'learning_rate': 0.03544082156885881, 'n_estimators': 766, 'lambda_l2': 0.0004473045403218341, 'bagging_fraction': 0.9837109644029882, 'bagging_freq': 3}. Best is trial 151 with value: 0.8966915301875942.\u001b[0m\n",
            "\u001b[32m[I 2021-09-23 05:33:51,060]\u001b[0m Trial 285 finished with value: 0.8805119680569861 and parameters: {'num_leaves': 308, 'max_depth': 8, 'min_data_in_leaf': 139, 'learning_rate': 0.040122007978006996, 'n_estimators': 708, 'lambda_l2': 0.0007654755645494949, 'bagging_fraction': 0.8127938816818389, 'bagging_freq': 3}. Best is trial 151 with value: 0.8966915301875942.\u001b[0m\n",
            "\u001b[32m[I 2021-09-23 05:33:53,651]\u001b[0m Trial 286 finished with value: 0.8861640650893756 and parameters: {'num_leaves': 286, 'max_depth': 7, 'min_data_in_leaf': 107, 'learning_rate': 0.07738359108808725, 'n_estimators': 749, 'lambda_l2': 0.00023721967288023205, 'bagging_fraction': 0.7738728580237113, 'bagging_freq': 3}. Best is trial 151 with value: 0.8966915301875942.\u001b[0m\n",
            "\u001b[32m[I 2021-09-23 05:33:56,468]\u001b[0m Trial 287 finished with value: 0.8824526381141277 and parameters: {'num_leaves': 260, 'max_depth': 8, 'min_data_in_leaf': 122, 'learning_rate': 0.04400466155045858, 'n_estimators': 780, 'lambda_l2': 0.0006006836929333185, 'bagging_fraction': 0.7453267299840972, 'bagging_freq': 3}. Best is trial 151 with value: 0.8966915301875942.\u001b[0m\n",
            "\u001b[32m[I 2021-09-23 05:33:59,820]\u001b[0m Trial 288 finished with value: 0.8866598742781243 and parameters: {'num_leaves': 349, 'max_depth': 7, 'min_data_in_leaf': 80, 'learning_rate': 0.032464012357697226, 'n_estimators': 826, 'lambda_l2': 0.00036843114117752557, 'bagging_fraction': 0.7924982708416548, 'bagging_freq': 3}. Best is trial 151 with value: 0.8966915301875942.\u001b[0m\n",
            "\u001b[32m[I 2021-09-23 05:34:02,354]\u001b[0m Trial 289 finished with value: 0.8780956102268304 and parameters: {'num_leaves': 308, 'max_depth': 7, 'min_data_in_leaf': 104, 'learning_rate': 0.08103628476791189, 'n_estimators': 725, 'lambda_l2': 0.000874663975176563, 'bagging_fraction': 0.7556548036620586, 'bagging_freq': 3}. Best is trial 151 with value: 0.8966915301875942.\u001b[0m\n",
            "\u001b[32m[I 2021-09-23 05:34:06,209]\u001b[0m Trial 290 finished with value: 0.8963022003882122 and parameters: {'num_leaves': 260, 'max_depth': 8, 'min_data_in_leaf': 93, 'learning_rate': 0.043179593868514575, 'n_estimators': 900, 'lambda_l2': 0.0004754956555874063, 'bagging_fraction': 0.9909585733349284, 'bagging_freq': 3}. Best is trial 151 with value: 0.8966915301875942.\u001b[0m\n",
            "\u001b[32m[I 2021-09-23 05:34:10,326]\u001b[0m Trial 291 finished with value: 0.883660488092622 and parameters: {'num_leaves': 772, 'max_depth': 8, 'min_data_in_leaf': 80, 'learning_rate': 0.04273235641667759, 'n_estimators': 899, 'lambda_l2': 0.00030324606487523525, 'bagging_fraction': 0.9844442519469908, 'bagging_freq': 3}. Best is trial 151 with value: 0.8966915301875942.\u001b[0m\n",
            "\u001b[32m[I 2021-09-23 05:34:14,157]\u001b[0m Trial 292 finished with value: 0.8815396896071305 and parameters: {'num_leaves': 256, 'max_depth': 8, 'min_data_in_leaf': 95, 'learning_rate': 0.03581668760119681, 'n_estimators': 892, 'lambda_l2': 0.0004929984193261, 'bagging_fraction': 0.9688674170206093, 'bagging_freq': 4}. Best is trial 151 with value: 0.8966915301875942.\u001b[0m\n",
            "\u001b[32m[I 2021-09-23 05:34:17,290]\u001b[0m Trial 293 finished with value: 0.8935387712546196 and parameters: {'num_leaves': 279, 'max_depth': 8, 'min_data_in_leaf': 154, 'learning_rate': 0.044363349091363, 'n_estimators': 860, 'lambda_l2': 0.0004258831143262438, 'bagging_fraction': 0.9911146692820989, 'bagging_freq': 3}. Best is trial 151 with value: 0.8966915301875942.\u001b[0m\n",
            "\u001b[32m[I 2021-09-23 05:34:20,317]\u001b[0m Trial 294 finished with value: 0.876496734526126 and parameters: {'num_leaves': 292, 'max_depth': 8, 'min_data_in_leaf': 165, 'learning_rate': 0.045186617606983476, 'n_estimators': 850, 'lambda_l2': 0.0003670519445934241, 'bagging_fraction': 0.9842657388148304, 'bagging_freq': 3}. Best is trial 151 with value: 0.8966915301875942.\u001b[0m\n",
            "\u001b[32m[I 2021-09-23 05:34:23,510]\u001b[0m Trial 295 finished with value: 0.8840678414831585 and parameters: {'num_leaves': 241, 'max_depth': 8, 'min_data_in_leaf': 137, 'learning_rate': 0.05645077666461681, 'n_estimators': 802, 'lambda_l2': 0.00046759981538263437, 'bagging_fraction': 0.9966177103505913, 'bagging_freq': 3}. Best is trial 151 with value: 0.8966915301875942.\u001b[0m\n",
            "\u001b[32m[I 2021-09-23 05:34:27,030]\u001b[0m Trial 296 finished with value: 0.8691363153412546 and parameters: {'num_leaves': 756, 'max_depth': 9, 'min_data_in_leaf': 151, 'learning_rate': 0.0387423936181967, 'n_estimators': 835, 'lambda_l2': 0.000257001618104747, 'bagging_fraction': 0.9950896494525613, 'bagging_freq': 3}. Best is trial 151 with value: 0.8966915301875942.\u001b[0m\n",
            "\u001b[32m[I 2021-09-23 05:34:30,440]\u001b[0m Trial 297 finished with value: 0.8851485338979083 and parameters: {'num_leaves': 266, 'max_depth': 8, 'min_data_in_leaf': 112, 'learning_rate': 0.05158219537154533, 'n_estimators': 870, 'lambda_l2': 0.0006153459209155173, 'bagging_fraction': 0.9584675885254593, 'bagging_freq': 3}. Best is trial 151 with value: 0.8966915301875942.\u001b[0m\n",
            "\u001b[32m[I 2021-09-23 05:34:33,730]\u001b[0m Trial 298 finished with value: 0.8868796865832366 and parameters: {'num_leaves': 325, 'max_depth': 8, 'min_data_in_leaf': 90, 'learning_rate': 0.04454161659491273, 'n_estimators': 852, 'lambda_l2': 0.0003925382293783693, 'bagging_fraction': 0.6742294614035379, 'bagging_freq': 3}. Best is trial 151 with value: 0.8966915301875942.\u001b[0m\n",
            "\u001b[32m[I 2021-09-23 05:34:37,097]\u001b[0m Trial 299 finished with value: 0.8856003282953102 and parameters: {'num_leaves': 220, 'max_depth': 8, 'min_data_in_leaf': 100, 'learning_rate': 0.041292235097320405, 'n_estimators': 786, 'lambda_l2': 0.0005646259077412443, 'bagging_fraction': 0.9760127820883159, 'bagging_freq': 4}. Best is trial 151 with value: 0.8966915301875942.\u001b[0m\n",
            "\u001b[32m[I 2021-09-23 05:34:40,751]\u001b[0m Trial 300 finished with value: 0.8862522800212704 and parameters: {'num_leaves': 807, 'max_depth': 8, 'min_data_in_leaf': 125, 'learning_rate': 0.04949540529977595, 'n_estimators': 898, 'lambda_l2': 0.0007470045973507506, 'bagging_fraction': 0.9332176080830433, 'bagging_freq': 3}. Best is trial 151 with value: 0.8966915301875942.\u001b[0m\n",
            "\u001b[32m[I 2021-09-23 05:34:44,152]\u001b[0m Trial 301 finished with value: 0.8822707282796393 and parameters: {'num_leaves': 293, 'max_depth': 8, 'min_data_in_leaf': 110, 'learning_rate': 0.04508803849199235, 'n_estimators': 819, 'lambda_l2': 0.0004970951512564292, 'bagging_fraction': 0.9971136695785258, 'bagging_freq': 3}. Best is trial 151 with value: 0.8966915301875942.\u001b[0m\n",
            "\u001b[32m[I 2021-09-23 05:34:47,745]\u001b[0m Trial 302 finished with value: 0.8900485973238119 and parameters: {'num_leaves': 251, 'max_depth': 8, 'min_data_in_leaf': 94, 'learning_rate': 0.05197416137354116, 'n_estimators': 861, 'lambda_l2': 0.0007485191326080881, 'bagging_fraction': 0.951582371616386, 'bagging_freq': 3}. Best is trial 151 with value: 0.8966915301875942.\u001b[0m\n",
            "\u001b[32m[I 2021-09-23 05:34:50,930]\u001b[0m Trial 303 finished with value: 0.8955269708049232 and parameters: {'num_leaves': 268, 'max_depth': 7, 'min_data_in_leaf': 91, 'learning_rate': 0.05314652894610777, 'n_estimators': 831, 'lambda_l2': 0.0010655205148569838, 'bagging_fraction': 0.9424571014671215, 'bagging_freq': 3}. Best is trial 151 with value: 0.8966915301875942.\u001b[0m\n",
            "\u001b[32m[I 2021-09-23 05:34:54,207]\u001b[0m Trial 304 finished with value: 0.8917011865297557 and parameters: {'num_leaves': 269, 'max_depth': 7, 'min_data_in_leaf': 93, 'learning_rate': 0.058451456958980935, 'n_estimators': 840, 'lambda_l2': 0.0010792201242533048, 'bagging_fraction': 0.9386399581508396, 'bagging_freq': 3}. Best is trial 151 with value: 0.8966915301875942.\u001b[0m\n",
            "\u001b[32m[I 2021-09-23 05:34:57,562]\u001b[0m Trial 305 finished with value: 0.8822662805877152 and parameters: {'num_leaves': 275, 'max_depth': 7, 'min_data_in_leaf': 91, 'learning_rate': 0.056577031912268747, 'n_estimators': 838, 'lambda_l2': 0.001038614300483364, 'bagging_fraction': 0.9514138496140959, 'bagging_freq': 3}. Best is trial 151 with value: 0.8966915301875942.\u001b[0m\n",
            "\u001b[32m[I 2021-09-23 05:35:00,966]\u001b[0m Trial 306 finished with value: 0.884066924738378 and parameters: {'num_leaves': 251, 'max_depth': 7, 'min_data_in_leaf': 81, 'learning_rate': 0.05207283683254261, 'n_estimators': 854, 'lambda_l2': 0.001162005564628982, 'bagging_fraction': 0.9425259335554332, 'bagging_freq': 3}. Best is trial 151 with value: 0.8966915301875942.\u001b[0m\n",
            "\u001b[32m[I 2021-09-23 05:35:03,970]\u001b[0m Trial 307 finished with value: 0.8890761248092338 and parameters: {'num_leaves': 710, 'max_depth': 7, 'min_data_in_leaf': 121, 'learning_rate': 0.0567432868370108, 'n_estimators': 818, 'lambda_l2': 0.00018559036816706575, 'bagging_fraction': 0.930793348945813, 'bagging_freq': 3}. Best is trial 151 with value: 0.8966915301875942.\u001b[0m\n",
            "\u001b[32m[I 2021-09-23 05:35:07,215]\u001b[0m Trial 308 finished with value: 0.8846792378738528 and parameters: {'num_leaves': 285, 'max_depth': 7, 'min_data_in_leaf': 92, 'learning_rate': 0.05325261698786906, 'n_estimators': 829, 'lambda_l2': 0.0006902107363083505, 'bagging_fraction': 0.9579843521724599, 'bagging_freq': 3}. Best is trial 151 with value: 0.8966915301875942.\u001b[0m\n",
            "\u001b[32m[I 2021-09-23 05:35:10,427]\u001b[0m Trial 309 finished with value: 0.8867024978856466 and parameters: {'num_leaves': 258, 'max_depth': 7, 'min_data_in_leaf': 80, 'learning_rate': 0.049270246268057635, 'n_estimators': 803, 'lambda_l2': 0.000311943356454795, 'bagging_fraction': 0.9531798154267996, 'bagging_freq': 3}. Best is trial 151 with value: 0.8966915301875942.\u001b[0m\n",
            "\u001b[32m[I 2021-09-23 05:35:13,388]\u001b[0m Trial 310 finished with value: 0.8833503686665447 and parameters: {'num_leaves': 307, 'max_depth': 7, 'min_data_in_leaf': 106, 'learning_rate': 0.0476195954577354, 'n_estimators': 769, 'lambda_l2': 0.0007836440385541357, 'bagging_fraction': 0.9654411354298028, 'bagging_freq': 3}. Best is trial 151 with value: 0.8966915301875942.\u001b[0m\n",
            "\u001b[32m[I 2021-09-23 05:35:16,369]\u001b[0m Trial 311 finished with value: 0.8779355956336852 and parameters: {'num_leaves': 242, 'max_depth': 7, 'min_data_in_leaf': 133, 'learning_rate': 0.05235018333696595, 'n_estimators': 855, 'lambda_l2': 0.0004260421265319576, 'bagging_fraction': 0.9222963180234962, 'bagging_freq': 3}. Best is trial 151 with value: 0.8966915301875942.\u001b[0m\n",
            "\u001b[32m[I 2021-09-23 05:35:19,471]\u001b[0m Trial 312 finished with value: 0.8860748596097638 and parameters: {'num_leaves': 276, 'max_depth': 7, 'min_data_in_leaf': 115, 'learning_rate': 0.04598626293108532, 'n_estimators': 832, 'lambda_l2': 0.0011267680573997425, 'bagging_fraction': 0.9419710653184034, 'bagging_freq': 3}. Best is trial 151 with value: 0.8966915301875942.\u001b[0m\n",
            "\u001b[32m[I 2021-09-23 05:35:21,215]\u001b[0m Trial 313 finished with value: 0.874980717292124 and parameters: {'num_leaves': 202, 'max_depth': 7, 'min_data_in_leaf': 401, 'learning_rate': 0.051148962108285935, 'n_estimators': 783, 'lambda_l2': 0.0006406818405883081, 'bagging_fraction': 0.9699128879259532, 'bagging_freq': 3}. Best is trial 151 with value: 0.8966915301875942.\u001b[0m\n",
            "\u001b[32m[I 2021-09-23 05:35:24,572]\u001b[0m Trial 314 finished with value: 0.879872279742008 and parameters: {'num_leaves': 296, 'max_depth': 7, 'min_data_in_leaf': 95, 'learning_rate': 0.05818220054361461, 'n_estimators': 863, 'lambda_l2': 0.0013831707874312088, 'bagging_fraction': 0.9810741369699749, 'bagging_freq': 3}. Best is trial 151 with value: 0.8966915301875942.\u001b[0m\n",
            "\u001b[32m[I 2021-09-23 05:35:27,303]\u001b[0m Trial 315 finished with value: 0.88128609848104 and parameters: {'num_leaves': 237, 'max_depth': 9, 'min_data_in_leaf': 156, 'learning_rate': 0.04411757015059974, 'n_estimators': 688, 'lambda_l2': 0.0008659859794607623, 'bagging_fraction': 0.9197802417157649, 'bagging_freq': 3}. Best is trial 151 with value: 0.8966915301875942.\u001b[0m\n",
            "\u001b[32m[I 2021-09-23 05:35:30,342]\u001b[0m Trial 316 finished with value: 0.8824406388009689 and parameters: {'num_leaves': 267, 'max_depth': 7, 'min_data_in_leaf': 100, 'learning_rate': 0.05450949380866363, 'n_estimators': 806, 'lambda_l2': 0.0005011675598426053, 'bagging_fraction': 0.9460926177686533, 'bagging_freq': 3}. Best is trial 151 with value: 0.8966915301875942.\u001b[0m\n",
            "\u001b[32m[I 2021-09-23 05:35:33,229]\u001b[0m Trial 317 finished with value: 0.8842469908724448 and parameters: {'num_leaves': 826, 'max_depth': 7, 'min_data_in_leaf': 119, 'learning_rate': 0.04800829407406956, 'n_estimators': 836, 'lambda_l2': 0.0003343337901562224, 'bagging_fraction': 0.7225341728531361, 'bagging_freq': 3}. Best is trial 151 with value: 0.8966915301875942.\u001b[0m\n",
            "\u001b[32m[I 2021-09-23 05:35:34,382]\u001b[0m Trial 318 finished with value: 0.8595090400521799 and parameters: {'num_leaves': 323, 'max_depth': 7, 'min_data_in_leaf': 655, 'learning_rate': 0.03824113795694656, 'n_estimators': 755, 'lambda_l2': 0.0007100401226886217, 'bagging_fraction': 0.9708027548579727, 'bagging_freq': 3}. Best is trial 151 with value: 0.8966915301875942.\u001b[0m\n",
            "\u001b[32m[I 2021-09-23 05:35:36,265]\u001b[0m Trial 319 finished with value: 0.8826036475474542 and parameters: {'num_leaves': 252, 'max_depth': 7, 'min_data_in_leaf': 140, 'learning_rate': 0.1864994348616784, 'n_estimators': 540, 'lambda_l2': 0.00011250250305807239, 'bagging_fraction': 0.9287807411148878, 'bagging_freq': 3}. Best is trial 151 with value: 0.8966915301875942.\u001b[0m\n",
            "\u001b[32m[I 2021-09-23 05:35:39,364]\u001b[0m Trial 320 finished with value: 0.8881396439144493 and parameters: {'num_leaves': 287, 'max_depth': 7, 'min_data_in_leaf': 92, 'learning_rate': 0.04216544845472236, 'n_estimators': 791, 'lambda_l2': 0.0011828115641482474, 'bagging_fraction': 0.9528175024742492, 'bagging_freq': 3}. Best is trial 151 with value: 0.8966915301875942.\u001b[0m\n",
            "\u001b[32m[I 2021-09-23 05:35:42,651]\u001b[0m Trial 321 finished with value: 0.8820813345018932 and parameters: {'num_leaves': 228, 'max_depth': 8, 'min_data_in_leaf': 80, 'learning_rate': 0.0906267117563424, 'n_estimators': 767, 'lambda_l2': 0.0005642220593452846, 'bagging_fraction': 0.9875657664833473, 'bagging_freq': 3}. Best is trial 151 with value: 0.8966915301875942.\u001b[0m\n",
            "\u001b[32m[I 2021-09-23 05:35:45,540]\u001b[0m Trial 322 finished with value: 0.881365979632786 and parameters: {'num_leaves': 307, 'max_depth': 7, 'min_data_in_leaf': 110, 'learning_rate': 0.09483439692189637, 'n_estimators': 847, 'lambda_l2': 0.0009157133216966466, 'bagging_fraction': 0.7407284209734681, 'bagging_freq': 3}. Best is trial 151 with value: 0.8966915301875942.\u001b[0m\n",
            "\u001b[32m[I 2021-09-23 05:35:48,617]\u001b[0m Trial 323 finished with value: 0.8749154546812404 and parameters: {'num_leaves': 272, 'max_depth': 8, 'min_data_in_leaf': 130, 'learning_rate': 0.1549628798695993, 'n_estimators': 816, 'lambda_l2': 0.0004008247683160988, 'bagging_fraction': 0.9356075617647243, 'bagging_freq': 3}. Best is trial 151 with value: 0.8966915301875942.\u001b[0m\n",
            "\u001b[32m[I 2021-09-23 05:35:50,303]\u001b[0m Trial 324 finished with value: 0.8728450637130332 and parameters: {'num_leaves': 251, 'max_depth': 7, 'min_data_in_leaf': 355, 'learning_rate': 0.048349410807957474, 'n_estimators': 749, 'lambda_l2': 0.0007158105823327297, 'bagging_fraction': 0.912904901549095, 'bagging_freq': 3}. Best is trial 151 with value: 0.8966915301875942.\u001b[0m\n",
            "\u001b[32m[I 2021-09-23 05:35:54,364]\u001b[0m Trial 325 finished with value: 0.8839846049094928 and parameters: {'num_leaves': 218, 'max_depth': 10, 'min_data_in_leaf': 101, 'learning_rate': 0.059407348868585834, 'n_estimators': 859, 'lambda_l2': 0.00024602938582245773, 'bagging_fraction': 0.9643511059049203, 'bagging_freq': 3}. Best is trial 151 with value: 0.8966915301875942.\u001b[0m\n",
            "\u001b[32m[I 2021-09-23 05:35:57,202]\u001b[0m Trial 326 finished with value: 0.8917266877404441 and parameters: {'num_leaves': 742, 'max_depth': 8, 'min_data_in_leaf': 115, 'learning_rate': 0.043375759660376614, 'n_estimators': 735, 'lambda_l2': 0.001474567472582369, 'bagging_fraction': 0.7058906185002398, 'bagging_freq': 3}. Best is trial 151 with value: 0.8966915301875942.\u001b[0m\n",
            "\u001b[32m[I 2021-09-23 05:35:59,512]\u001b[0m Trial 327 finished with value: 0.8738958759906557 and parameters: {'num_leaves': 719, 'max_depth': 7, 'min_data_in_leaf': 145, 'learning_rate': 0.03858686247177183, 'n_estimators': 733, 'lambda_l2': 0.0014381900255433342, 'bagging_fraction': 0.7292465934320665, 'bagging_freq': 3}. Best is trial 151 with value: 0.8966915301875942.\u001b[0m\n",
            "\u001b[32m[I 2021-09-23 05:36:02,041]\u001b[0m Trial 328 finished with value: 0.8841128524418331 and parameters: {'num_leaves': 742, 'max_depth': 8, 'min_data_in_leaf': 124, 'learning_rate': 0.04199544798419606, 'n_estimators': 711, 'lambda_l2': 0.0015862829166880146, 'bagging_fraction': 0.7053788834737903, 'bagging_freq': 3}. Best is trial 151 with value: 0.8966915301875942.\u001b[0m\n",
            "\u001b[32m[I 2021-09-23 05:36:04,014]\u001b[0m Trial 329 finished with value: 0.8790031523954136 and parameters: {'num_leaves': 786, 'max_depth': 7, 'min_data_in_leaf': 93, 'learning_rate': 0.044626814346437324, 'n_estimators': 514, 'lambda_l2': 0.0004909767749054657, 'bagging_fraction': 0.6882446591365206, 'bagging_freq': 3}. Best is trial 151 with value: 0.8966915301875942.\u001b[0m\n",
            "\u001b[32m[I 2021-09-23 05:36:06,740]\u001b[0m Trial 330 finished with value: 0.8779344387586079 and parameters: {'num_leaves': 757, 'max_depth': 8, 'min_data_in_leaf': 112, 'learning_rate': 0.0397711335642283, 'n_estimators': 735, 'lambda_l2': 0.0010745477791568043, 'bagging_fraction': 0.7034896545452828, 'bagging_freq': 3}. Best is trial 151 with value: 0.8966915301875942.\u001b[0m\n",
            "\u001b[32m[I 2021-09-23 05:36:09,280]\u001b[0m Trial 331 finished with value: 0.8836575398871515 and parameters: {'num_leaves': 695, 'max_depth': 7, 'min_data_in_leaf': 125, 'learning_rate': 0.08657235305590628, 'n_estimators': 701, 'lambda_l2': 0.00029418407833351406, 'bagging_fraction': 0.9875578808111158, 'bagging_freq': 3}. Best is trial 151 with value: 0.8966915301875942.\u001b[0m\n",
            "\u001b[32m[I 2021-09-23 05:36:10,160]\u001b[0m Trial 332 finished with value: 0.8355452835851136 and parameters: {'num_leaves': 330, 'max_depth': 8, 'min_data_in_leaf': 596, 'learning_rate': 0.03573875686102029, 'n_estimators': 721, 'lambda_l2': 0.0005822652613876206, 'bagging_fraction': 0.7209731051388768, 'bagging_freq': 3}. Best is trial 151 with value: 0.8966915301875942.\u001b[0m\n",
            "\u001b[32m[I 2021-09-23 05:36:13,691]\u001b[0m Trial 333 finished with value: 0.8800566995283345 and parameters: {'num_leaves': 514, 'max_depth': 7, 'min_data_in_leaf': 92, 'learning_rate': 0.045174164388094455, 'n_estimators': 871, 'lambda_l2': 1.7143595989648484e-05, 'bagging_fraction': 0.9974333510355143, 'bagging_freq': 3}. Best is trial 151 with value: 0.8966915301875942.\u001b[0m\n",
            "\u001b[32m[I 2021-09-23 05:36:16,907]\u001b[0m Trial 334 finished with value: 0.8764891190177434 and parameters: {'num_leaves': 729, 'max_depth': 7, 'min_data_in_leaf': 80, 'learning_rate': 0.04120333561572608, 'n_estimators': 756, 'lambda_l2': 0.0012919988429445743, 'bagging_fraction': 0.9697273429416391, 'bagging_freq': 3}. Best is trial 151 with value: 0.8966915301875942.\u001b[0m\n",
            "\u001b[32m[I 2021-09-23 05:36:20,036]\u001b[0m Trial 335 finished with value: 0.8844084165345578 and parameters: {'num_leaves': 741, 'max_depth': 8, 'min_data_in_leaf': 112, 'learning_rate': 0.04694213017497866, 'n_estimators': 742, 'lambda_l2': 0.00042375375458193927, 'bagging_fraction': 0.945624127030069, 'bagging_freq': 3}. Best is trial 151 with value: 0.8966915301875942.\u001b[0m\n",
            "\u001b[32m[I 2021-09-23 05:36:22,740]\u001b[0m Trial 336 finished with value: 0.8845620604001059 and parameters: {'num_leaves': 235, 'max_depth': 7, 'min_data_in_leaf': 142, 'learning_rate': 0.037221162201203015, 'n_estimators': 774, 'lambda_l2': 0.0008926408202722258, 'bagging_fraction': 0.9598025931200457, 'bagging_freq': 3}. Best is trial 151 with value: 0.8966915301875942.\u001b[0m\n",
            "\u001b[32m[I 2021-09-23 05:36:25,436]\u001b[0m Trial 337 finished with value: 0.8878626837225275 and parameters: {'num_leaves': 201, 'max_depth': 8, 'min_data_in_leaf': 103, 'learning_rate': 0.05298725863846197, 'n_estimators': 679, 'lambda_l2': 0.0018310555419459034, 'bagging_fraction': 0.7685613867851664, 'bagging_freq': 3}. Best is trial 151 with value: 0.8966915301875942.\u001b[0m\n",
            "\u001b[32m[I 2021-09-23 05:36:26,990]\u001b[0m Trial 338 finished with value: 0.8798168239134755 and parameters: {'num_leaves': 798, 'max_depth': 7, 'min_data_in_leaf': 127, 'learning_rate': 0.04245330293853885, 'n_estimators': 376, 'lambda_l2': 0.0007056312562024439, 'bagging_fraction': 0.9760225968010587, 'bagging_freq': 3}. Best is trial 151 with value: 0.8966915301875942.\u001b[0m\n",
            "\u001b[32m[I 2021-09-23 05:36:30,795]\u001b[0m Trial 339 finished with value: 0.8884470846161503 and parameters: {'num_leaves': 307, 'max_depth': 8, 'min_data_in_leaf': 91, 'learning_rate': 0.048964439052798056, 'n_estimators': 877, 'lambda_l2': 0.0010349115189500452, 'bagging_fraction': 0.900729166876537, 'bagging_freq': 3}. Best is trial 151 with value: 0.8966915301875942.\u001b[0m\n",
            "\u001b[32m[I 2021-09-23 05:36:33,983]\u001b[0m Trial 340 finished with value: 0.8752276051086039 and parameters: {'num_leaves': 347, 'max_depth': 7, 'min_data_in_leaf': 80, 'learning_rate': 0.09097535049693918, 'n_estimators': 845, 'lambda_l2': 0.0003857561852927182, 'bagging_fraction': 0.7403916047676288, 'bagging_freq': 3}. Best is trial 151 with value: 0.8966915301875942.\u001b[0m\n",
            "\u001b[32m[I 2021-09-23 05:36:36,398]\u001b[0m Trial 341 finished with value: 0.885496681402896 and parameters: {'num_leaves': 259, 'max_depth': 7, 'min_data_in_leaf': 160, 'learning_rate': 0.044521145800984534, 'n_estimators': 723, 'lambda_l2': 0.0005849430345130211, 'bagging_fraction': 0.92986895434752, 'bagging_freq': 3}. Best is trial 151 with value: 0.8966915301875942.\u001b[0m\n",
            "\u001b[32m[I 2021-09-23 05:36:39,760]\u001b[0m Trial 342 finished with value: 0.8821126221730148 and parameters: {'num_leaves': 233, 'max_depth': 9, 'min_data_in_leaf': 114, 'learning_rate': 0.08728683826412754, 'n_estimators': 864, 'lambda_l2': 0.0014415787737973055, 'bagging_fraction': 0.7150892908596581, 'bagging_freq': 3}. Best is trial 151 with value: 0.8966915301875942.\u001b[0m\n",
            "\u001b[32m[I 2021-09-23 05:36:42,730]\u001b[0m Trial 343 finished with value: 0.8855748843393871 and parameters: {'num_leaves': 291, 'max_depth': 7, 'min_data_in_leaf': 100, 'learning_rate': 0.03942082769161194, 'n_estimators': 760, 'lambda_l2': 0.0007395518054553636, 'bagging_fraction': 0.9464257980687847, 'bagging_freq': 3}. Best is trial 151 with value: 0.8966915301875942.\u001b[0m\n",
            "\u001b[32m[I 2021-09-23 05:36:45,599]\u001b[0m Trial 344 finished with value: 0.8803443498913078 and parameters: {'num_leaves': 250, 'max_depth': 8, 'min_data_in_leaf': 116, 'learning_rate': 0.03344414130975229, 'n_estimators': 826, 'lambda_l2': 0.0010179533819474214, 'bagging_fraction': 0.6614049596793039, 'bagging_freq': 3}. Best is trial 151 with value: 0.8966915301875942.\u001b[0m\n",
            "\u001b[32m[I 2021-09-23 05:36:48,569]\u001b[0m Trial 345 finished with value: 0.8771604782685026 and parameters: {'num_leaves': 765, 'max_depth': 8, 'min_data_in_leaf': 132, 'learning_rate': 0.0514780107869375, 'n_estimators': 883, 'lambda_l2': 0.0002130556975667886, 'bagging_fraction': 0.6785623178879648, 'bagging_freq': 4}. Best is trial 151 with value: 0.8966915301875942.\u001b[0m\n",
            "\u001b[32m[I 2021-09-23 05:36:51,424]\u001b[0m Trial 346 finished with value: 0.8800964322205987 and parameters: {'num_leaves': 276, 'max_depth': 7, 'min_data_in_leaf': 93, 'learning_rate': 0.046490617112730934, 'n_estimators': 696, 'lambda_l2': 0.0004895318490665484, 'bagging_fraction': 0.999796322186712, 'bagging_freq': 3}. Best is trial 151 with value: 0.8966915301875942.\u001b[0m\n",
            "\u001b[32m[I 2021-09-23 05:36:53,997]\u001b[0m Trial 347 finished with value: 0.876351269273468 and parameters: {'num_leaves': 307, 'max_depth': 7, 'min_data_in_leaf': 105, 'learning_rate': 0.09465448857907206, 'n_estimators': 747, 'lambda_l2': 0.00036925508988015386, 'bagging_fraction': 0.7488353951982661, 'bagging_freq': 3}. Best is trial 151 with value: 0.8966915301875942.\u001b[0m\n",
            "\u001b[32m[I 2021-09-23 05:36:57,524]\u001b[0m Trial 348 finished with value: 0.8859842592938313 and parameters: {'num_leaves': 322, 'max_depth': 8, 'min_data_in_leaf': 80, 'learning_rate': 0.04158119419350044, 'n_estimators': 780, 'lambda_l2': 0.002233520020955523, 'bagging_fraction': 0.9802118326011752, 'bagging_freq': 3}. Best is trial 151 with value: 0.8966915301875942.\u001b[0m\n",
            "\u001b[32m[I 2021-09-23 05:37:00,673]\u001b[0m Trial 349 finished with value: 0.8726747907157203 and parameters: {'num_leaves': 216, 'max_depth': 7, 'min_data_in_leaf': 116, 'learning_rate': 0.05453886239620375, 'n_estimators': 900, 'lambda_l2': 0.0007951109712630075, 'bagging_fraction': 0.7672915016990065, 'bagging_freq': 3}. Best is trial 151 with value: 0.8966915301875942.\u001b[0m\n",
            "\u001b[32m[I 2021-09-23 05:37:03,021]\u001b[0m Trial 350 finished with value: 0.8770770404512784 and parameters: {'num_leaves': 394, 'max_depth': 8, 'min_data_in_leaf': 147, 'learning_rate': 0.03723756634090311, 'n_estimators': 606, 'lambda_l2': 0.0014044207317783683, 'bagging_fraction': 0.9586122619996557, 'bagging_freq': 3}. Best is trial 151 with value: 0.8966915301875942.\u001b[0m\n",
            "\u001b[32m[I 2021-09-23 05:37:05,988]\u001b[0m Trial 351 finished with value: 0.8763233571509126 and parameters: {'num_leaves': 260, 'max_depth': 7, 'min_data_in_leaf': 101, 'learning_rate': 0.015677676935378932, 'n_estimators': 849, 'lambda_l2': 0.000559513572291472, 'bagging_fraction': 0.6951659327381562, 'bagging_freq': 3}. Best is trial 151 with value: 0.8966915301875942.\u001b[0m\n",
            "\u001b[32m[I 2021-09-23 05:37:07,799]\u001b[0m Trial 352 finished with value: 0.8799854467338283 and parameters: {'num_leaves': 285, 'max_depth': 8, 'min_data_in_leaf': 129, 'learning_rate': 0.08452340960393923, 'n_estimators': 466, 'lambda_l2': 0.00028917814897551873, 'bagging_fraction': 0.9118603042716383, 'bagging_freq': 3}. Best is trial 151 with value: 0.8966915301875942.\u001b[0m\n",
            "\u001b[32m[I 2021-09-23 05:37:10,874]\u001b[0m Trial 353 finished with value: 0.8945921860285797 and parameters: {'num_leaves': 235, 'max_depth': 7, 'min_data_in_leaf': 93, 'learning_rate': 0.04797828798061172, 'n_estimators': 862, 'lambda_l2': 0.0010481403174486814, 'bagging_fraction': 0.7318521336684018, 'bagging_freq': 4}. Best is trial 151 with value: 0.8966915301875942.\u001b[0m\n",
            "\u001b[32m[I 2021-09-23 05:37:14,072]\u001b[0m Trial 354 finished with value: 0.885270133245334 and parameters: {'num_leaves': 236, 'max_depth': 7, 'min_data_in_leaf': 107, 'learning_rate': 0.04961678577966541, 'n_estimators': 867, 'lambda_l2': 0.0012112978605470746, 'bagging_fraction': 0.9359127782167942, 'bagging_freq': 4}. Best is trial 151 with value: 0.8966915301875942.\u001b[0m\n",
            "\u001b[32m[I 2021-09-23 05:37:17,437]\u001b[0m Trial 355 finished with value: 0.8821294592000759 and parameters: {'num_leaves': 200, 'max_depth': 8, 'min_data_in_leaf': 93, 'learning_rate': 0.055529035151955126, 'n_estimators': 832, 'lambda_l2': 0.0017278362068915496, 'bagging_fraction': 0.7737312821689634, 'bagging_freq': 4}. Best is trial 151 with value: 0.8966915301875942.\u001b[0m\n",
            "\u001b[32m[I 2021-09-23 05:37:20,353]\u001b[0m Trial 356 finished with value: 0.8763364898791952 and parameters: {'num_leaves': 469, 'max_depth': 7, 'min_data_in_leaf': 117, 'learning_rate': 0.0763166181341813, 'n_estimators': 860, 'lambda_l2': 0.001025199757540522, 'bagging_fraction': 0.7556501280304266, 'bagging_freq': 4}. Best is trial 151 with value: 0.8966915301875942.\u001b[0m\n",
            "\u001b[32m[I 2021-09-23 05:37:23,934]\u001b[0m Trial 357 finished with value: 0.8924402693298628 and parameters: {'num_leaves': 221, 'max_depth': 7, 'min_data_in_leaf': 80, 'learning_rate': 0.06022605456348699, 'n_estimators': 883, 'lambda_l2': 0.0008098779270541355, 'bagging_fraction': 0.9683997220414194, 'bagging_freq': 4}. Best is trial 151 with value: 0.8966915301875942.\u001b[0m\n",
            "\u001b[32m[I 2021-09-23 05:37:27,318]\u001b[0m Trial 358 finished with value: 0.8822320621402591 and parameters: {'num_leaves': 218, 'max_depth': 7, 'min_data_in_leaf': 89, 'learning_rate': 0.06005386379478075, 'n_estimators': 882, 'lambda_l2': 0.0010027983855081712, 'bagging_fraction': 0.9853703733581113, 'bagging_freq': 4}. Best is trial 151 with value: 0.8966915301875942.\u001b[0m\n",
            "\u001b[32m[I 2021-09-23 05:37:30,536]\u001b[0m Trial 359 finished with value: 0.8802549602826274 and parameters: {'num_leaves': 236, 'max_depth': 7, 'min_data_in_leaf': 105, 'learning_rate': 0.07063253360317973, 'n_estimators': 891, 'lambda_l2': 0.0016898194404136226, 'bagging_fraction': 0.9724203405210996, 'bagging_freq': 4}. Best is trial 151 with value: 0.8966915301875942.\u001b[0m\n",
            "\u001b[32m[I 2021-09-23 05:37:33,107]\u001b[0m Trial 360 finished with value: 0.8756428080519777 and parameters: {'num_leaves': 227, 'max_depth': 7, 'min_data_in_leaf': 135, 'learning_rate': 0.06498183617251466, 'n_estimators': 841, 'lambda_l2': 0.0012842972840362145, 'bagging_fraction': 0.7313019544522745, 'bagging_freq': 4}. Best is trial 151 with value: 0.8966915301875942.\u001b[0m\n",
            "\u001b[32m[I 2021-09-23 05:37:37,103]\u001b[0m Trial 361 finished with value: 0.879695365363675 and parameters: {'num_leaves': 217, 'max_depth': 11, 'min_data_in_leaf': 123, 'learning_rate': 0.17764735733446263, 'n_estimators': 884, 'lambda_l2': 0.0008190044541358165, 'bagging_fraction': 0.9707866301942771, 'bagging_freq': 4}. Best is trial 151 with value: 0.8966915301875942.\u001b[0m\n",
            "\u001b[32m[I 2021-09-23 05:37:40,314]\u001b[0m Trial 362 finished with value: 0.8888904686748447 and parameters: {'num_leaves': 258, 'max_depth': 7, 'min_data_in_leaf': 92, 'learning_rate': 0.0601400298195533, 'n_estimators': 874, 'lambda_l2': 0.0006381226010780674, 'bagging_fraction': 0.7850562281694825, 'bagging_freq': 4}. Best is trial 151 with value: 0.8966915301875942.\u001b[0m\n",
            "\u001b[32m[I 2021-09-23 05:37:43,493]\u001b[0m Trial 363 finished with value: 0.8747238258059121 and parameters: {'num_leaves': 269, 'max_depth': 7, 'min_data_in_leaf': 81, 'learning_rate': 0.04313088209804411, 'n_estimators': 814, 'lambda_l2': 0.0020438716319920104, 'bagging_fraction': 0.7443471276101336, 'bagging_freq': 4}. Best is trial 151 with value: 0.8966915301875942.\u001b[0m\n",
            "\u001b[32m[I 2021-09-23 05:37:46,129]\u001b[0m Trial 364 finished with value: 0.8785044886083799 and parameters: {'num_leaves': 242, 'max_depth': 7, 'min_data_in_leaf': 179, 'learning_rate': 0.19894527140089818, 'n_estimators': 848, 'lambda_l2': 0.0008919395649012196, 'bagging_fraction': 0.9601075190053517, 'bagging_freq': 4}. Best is trial 151 with value: 0.8966915301875942.\u001b[0m\n",
            "\u001b[32m[I 2021-09-23 05:37:49,234]\u001b[0m Trial 365 finished with value: 0.88765073007313 and parameters: {'num_leaves': 779, 'max_depth': 7, 'min_data_in_leaf': 108, 'learning_rate': 0.03457906522994966, 'n_estimators': 898, 'lambda_l2': 0.000612922081017567, 'bagging_fraction': 0.7110798329020944, 'bagging_freq': 4}. Best is trial 151 with value: 0.8966915301875942.\u001b[0m\n",
            "\u001b[32m[I 2021-09-23 05:37:52,333]\u001b[0m Trial 366 finished with value: 0.885660076332218 and parameters: {'num_leaves': 218, 'max_depth': 7, 'min_data_in_leaf': 80, 'learning_rate': 0.08927061062279447, 'n_estimators': 802, 'lambda_l2': 0.0012213709577495275, 'bagging_fraction': 0.9245210428315109, 'bagging_freq': 4}. Best is trial 151 with value: 0.8966915301875942.\u001b[0m\n",
            "\u001b[32m[I 2021-09-23 05:37:55,357]\u001b[0m Trial 367 finished with value: 0.8694399821340077 and parameters: {'num_leaves': 278, 'max_depth': 7, 'min_data_in_leaf': 148, 'learning_rate': 0.03932622456041136, 'n_estimators': 872, 'lambda_l2': 0.0009775244219180235, 'bagging_fraction': 0.9838076885537138, 'bagging_freq': 4}. Best is trial 151 with value: 0.8966915301875942.\u001b[0m\n",
            "\u001b[32m[I 2021-09-23 05:37:56,046]\u001b[0m Trial 368 finished with value: 0.8703356100043015 and parameters: {'num_leaves': 201, 'max_depth': 7, 'min_data_in_leaf': 104, 'learning_rate': 0.04694006073581557, 'n_estimators': 154, 'lambda_l2': 0.000493477131069047, 'bagging_fraction': 0.7559205993825318, 'bagging_freq': 4}. Best is trial 151 with value: 0.8966915301875942.\u001b[0m\n",
            "\u001b[32m[I 2021-09-23 05:37:59,044]\u001b[0m Trial 369 finished with value: 0.8821269451128901 and parameters: {'num_leaves': 244, 'max_depth': 7, 'min_data_in_leaf': 121, 'learning_rate': 0.08222232088896851, 'n_estimators': 829, 'lambda_l2': 0.0014129148030688084, 'bagging_fraction': 0.999682202589315, 'bagging_freq': 4}. Best is trial 151 with value: 0.8966915301875942.\u001b[0m\n",
            "\u001b[32m[I 2021-09-23 05:38:01,964]\u001b[0m Trial 370 finished with value: 0.8896810197530788 and parameters: {'num_leaves': 293, 'max_depth': 7, 'min_data_in_leaf': 80, 'learning_rate': 0.04288170041863513, 'n_estimators': 864, 'lambda_l2': 0.002527456362330664, 'bagging_fraction': 0.5564740198299113, 'bagging_freq': 4}. Best is trial 151 with value: 0.8966915301875942.\u001b[0m\n",
            "\u001b[32m[I 2021-09-23 05:38:05,052]\u001b[0m Trial 371 finished with value: 0.8883332492540222 and parameters: {'num_leaves': 264, 'max_depth': 7, 'min_data_in_leaf': 99, 'learning_rate': 0.03660633349426512, 'n_estimators': 782, 'lambda_l2': 0.00077395397509267, 'bagging_fraction': 0.9394884247600643, 'bagging_freq': 3}. Best is trial 151 with value: 0.8966915301875942.\u001b[0m\n",
            "\u001b[32m[I 2021-09-23 05:38:07,822]\u001b[0m Trial 372 finished with value: 0.8851826250935386 and parameters: {'num_leaves': 228, 'max_depth': 7, 'min_data_in_leaf': 133, 'learning_rate': 0.05681634260173089, 'n_estimators': 881, 'lambda_l2': 0.0006431074479902195, 'bagging_fraction': 0.7230114949273817, 'bagging_freq': 3}. Best is trial 151 with value: 0.8966915301875942.\u001b[0m\n",
            "\u001b[32m[I 2021-09-23 05:38:10,262]\u001b[0m Trial 373 finished with value: 0.8788011301933711 and parameters: {'num_leaves': 298, 'max_depth': 7, 'min_data_in_leaf': 112, 'learning_rate': 0.04895022618492072, 'n_estimators': 716, 'lambda_l2': 0.0011230155473696505, 'bagging_fraction': 0.7757744493255673, 'bagging_freq': 4}. Best is trial 151 with value: 0.8966915301875942.\u001b[0m\n",
            "\u001b[32m[I 2021-09-23 05:38:13,601]\u001b[0m Trial 374 finished with value: 0.8697999054143288 and parameters: {'num_leaves': 251, 'max_depth': 7, 'min_data_in_leaf': 93, 'learning_rate': 0.03257981989732717, 'n_estimators': 845, 'lambda_l2': 0.0016649088715014315, 'bagging_fraction': 0.9557266079253188, 'bagging_freq': 3}. Best is trial 151 with value: 0.8966915301875942.\u001b[0m\n",
            "\u001b[32m[I 2021-09-23 05:38:15,485]\u001b[0m Trial 375 finished with value: 0.8797407641877114 and parameters: {'num_leaves': 269, 'max_depth': 7, 'min_data_in_leaf': 158, 'learning_rate': 0.04436891507427881, 'n_estimators': 815, 'lambda_l2': 0.000540482897431943, 'bagging_fraction': 0.5332945380345755, 'bagging_freq': 3}. Best is trial 151 with value: 0.8966915301875942.\u001b[0m\n",
            "\u001b[32m[I 2021-09-23 05:38:18,176]\u001b[0m Trial 376 finished with value: 0.8887911480620199 and parameters: {'num_leaves': 235, 'max_depth': 7, 'min_data_in_leaf': 119, 'learning_rate': 0.09605024219901229, 'n_estimators': 770, 'lambda_l2': 8.309974344250564e-07, 'bagging_fraction': 0.9737282233058602, 'bagging_freq': 3}. Best is trial 151 with value: 0.8966915301875942.\u001b[0m\n",
            "\u001b[32m[I 2021-09-23 05:38:20,665]\u001b[0m Trial 377 finished with value: 0.8777544842776697 and parameters: {'num_leaves': 440, 'max_depth': 7, 'min_data_in_leaf': 80, 'learning_rate': 0.1316928558466296, 'n_estimators': 638, 'lambda_l2': 0.0008008738605245375, 'bagging_fraction': 0.7621019294701429, 'bagging_freq': 3}. Best is trial 151 with value: 0.8966915301875942.\u001b[0m\n",
            "\u001b[32m[I 2021-09-23 05:38:23,792]\u001b[0m Trial 378 finished with value: 0.8828859634478485 and parameters: {'num_leaves': 678, 'max_depth': 8, 'min_data_in_leaf': 104, 'learning_rate': 0.08659543069223037, 'n_estimators': 796, 'lambda_l2': 0.0003555531157420655, 'bagging_fraction': 0.7872272711598396, 'bagging_freq': 3}. Best is trial 151 with value: 0.8966915301875942.\u001b[0m\n",
            "\u001b[32m[I 2021-09-23 05:38:26,790]\u001b[0m Trial 379 finished with value: 0.8780716133991366 and parameters: {'num_leaves': 291, 'max_depth': 9, 'min_data_in_leaf': 140, 'learning_rate': 0.04000064813934903, 'n_estimators': 857, 'lambda_l2': 8.745995158698784e-05, 'bagging_fraction': 0.7463907605502699, 'bagging_freq': 3}. Best is trial 151 with value: 0.8966915301875942.\u001b[0m\n",
            "\u001b[32m[I 2021-09-23 05:38:29,470]\u001b[0m Trial 380 finished with value: 0.8846131279683433 and parameters: {'num_leaves': 318, 'max_depth': 7, 'min_data_in_leaf': 95, 'learning_rate': 0.05184812377228749, 'n_estimators': 737, 'lambda_l2': 0.0004337691035083951, 'bagging_fraction': 0.6995027427936713, 'bagging_freq': 3}. Best is trial 151 with value: 0.8966915301875942.\u001b[0m\n",
            "\u001b[32m[I 2021-09-23 05:38:32,748]\u001b[0m Trial 381 finished with value: 0.8756490552595095 and parameters: {'num_leaves': 215, 'max_depth': 7, 'min_data_in_leaf': 121, 'learning_rate': 0.046304651848420614, 'n_estimators': 886, 'lambda_l2': 0.0011326904702081214, 'bagging_fraction': 0.9446101355378951, 'bagging_freq': 3}. Best is trial 151 with value: 0.8966915301875942.\u001b[0m\n",
            "\u001b[32m[I 2021-09-23 05:38:36,405]\u001b[0m Trial 382 finished with value: 0.8839290189791785 and parameters: {'num_leaves': 591, 'max_depth': 8, 'min_data_in_leaf': 107, 'learning_rate': 0.028720773089061465, 'n_estimators': 828, 'lambda_l2': 0.0007065110953556473, 'bagging_fraction': 0.9840664649243889, 'bagging_freq': 3}. Best is trial 151 with value: 0.8966915301875942.\u001b[0m\n",
            "\u001b[32m[I 2021-09-23 05:38:39,470]\u001b[0m Trial 383 finished with value: 0.886435323404736 and parameters: {'num_leaves': 269, 'max_depth': 8, 'min_data_in_leaf': 93, 'learning_rate': 0.06233062730317674, 'n_estimators': 766, 'lambda_l2': 0.0009186673151618592, 'bagging_fraction': 0.7368377975793522, 'bagging_freq': 4}. Best is trial 151 with value: 0.8966915301875942.\u001b[0m\n",
            "\u001b[32m[I 2021-09-23 05:38:42,636]\u001b[0m Trial 384 finished with value: 0.8875267475569313 and parameters: {'num_leaves': 753, 'max_depth': 7, 'min_data_in_leaf': 130, 'learning_rate': 0.07880702356628506, 'n_estimators': 900, 'lambda_l2': 0.0014788096648692764, 'bagging_fraction': 0.9205696770629507, 'bagging_freq': 3}. Best is trial 151 with value: 0.8966915301875942.\u001b[0m\n",
            "\u001b[32m[I 2021-09-23 05:38:46,578]\u001b[0m Trial 385 finished with value: 0.8834553610743656 and parameters: {'num_leaves': 244, 'max_depth': 10, 'min_data_in_leaf': 113, 'learning_rate': 0.0910549700852206, 'n_estimators': 867, 'lambda_l2': 0.000504757713983798, 'bagging_fraction': 0.9610996635195298, 'bagging_freq': 3}. Best is trial 151 with value: 0.8966915301875942.\u001b[0m\n",
            "\u001b[32m[I 2021-09-23 05:38:50,053]\u001b[0m Trial 386 finished with value: 0.8894249021589544 and parameters: {'num_leaves': 290, 'max_depth': 7, 'min_data_in_leaf': 80, 'learning_rate': 0.04089209659729969, 'n_estimators': 840, 'lambda_l2': 0.0021911591472630445, 'bagging_fraction': 0.801176272381931, 'bagging_freq': 3}. Best is trial 151 with value: 0.8966915301875942.\u001b[0m\n",
            "\u001b[32m[I 2021-09-23 05:38:51,778]\u001b[0m Trial 387 finished with value: 0.8737909701408876 and parameters: {'num_leaves': 254, 'max_depth': 8, 'min_data_in_leaf': 375, 'learning_rate': 0.03655090958701167, 'n_estimators': 796, 'lambda_l2': 0.000683828660891408, 'bagging_fraction': 0.9066698832513979, 'bagging_freq': 3}. Best is trial 151 with value: 0.8966915301875942.\u001b[0m\n",
            "\u001b[32m[I 2021-09-23 05:38:54,199]\u001b[0m Trial 388 finished with value: 0.8906418668286391 and parameters: {'num_leaves': 224, 'max_depth': 7, 'min_data_in_leaf': 101, 'learning_rate': 0.10265673479450274, 'n_estimators': 699, 'lambda_l2': 0.0002787901384738072, 'bagging_fraction': 0.7662419028789799, 'bagging_freq': 3}. Best is trial 151 with value: 0.8966915301875942.\u001b[0m\n",
            "\u001b[32m[I 2021-09-23 05:38:56,699]\u001b[0m Trial 389 finished with value: 0.8814834549906002 and parameters: {'num_leaves': 203, 'max_depth': 7, 'min_data_in_leaf': 95, 'learning_rate': 0.09387220428771331, 'n_estimators': 689, 'lambda_l2': 0.0001551876537945482, 'bagging_fraction': 0.7817004813378168, 'bagging_freq': 4}. Best is trial 151 with value: 0.8966915301875942.\u001b[0m\n",
            "\u001b[32m[I 2021-09-23 05:38:59,514]\u001b[0m Trial 390 finished with value: 0.8810404681657538 and parameters: {'num_leaves': 225, 'max_depth': 8, 'min_data_in_leaf': 105, 'learning_rate': 0.08964778124206813, 'n_estimators': 709, 'lambda_l2': 0.00025261602765193716, 'bagging_fraction': 0.7741390810602673, 'bagging_freq': 3}. Best is trial 151 with value: 0.8966915301875942.\u001b[0m\n",
            "\u001b[32m[I 2021-09-23 05:39:02,884]\u001b[0m Trial 391 finished with value: 0.8815103027064283 and parameters: {'num_leaves': 224, 'max_depth': 7, 'min_data_in_leaf': 93, 'learning_rate': 0.10294159937252234, 'n_estimators': 877, 'lambda_l2': 0.0001842983341063892, 'bagging_fraction': 0.9720791495296436, 'bagging_freq': 3}. Best is trial 151 with value: 0.8966915301875942.\u001b[0m\n",
            "\u001b[32m[I 2021-09-23 05:39:06,094]\u001b[0m Trial 392 finished with value: 0.8716291691426641 and parameters: {'num_leaves': 201, 'max_depth': 8, 'min_data_in_leaf': 112, 'learning_rate': 0.12346075226357256, 'n_estimators': 854, 'lambda_l2': 6.5164842709727175e-06, 'bagging_fraction': 0.7926862038095843, 'bagging_freq': 4}. Best is trial 151 with value: 0.8966915301875942.\u001b[0m\n",
            "\u001b[32m[I 2021-09-23 05:39:09,178]\u001b[0m Trial 393 finished with value: 0.8853460899625903 and parameters: {'num_leaves': 238, 'max_depth': 7, 'min_data_in_leaf': 92, 'learning_rate': 0.11191674806275535, 'n_estimators': 814, 'lambda_l2': 0.0003436262710844946, 'bagging_fraction': 0.9502514382787439, 'bagging_freq': 3}. Best is trial 151 with value: 0.8966915301875942.\u001b[0m\n",
            "\u001b[32m[I 2021-09-23 05:39:11,771]\u001b[0m Trial 394 finished with value: 0.8836238044522152 and parameters: {'num_leaves': 368, 'max_depth': 8, 'min_data_in_leaf': 103, 'learning_rate': 0.09660006172550496, 'n_estimators': 662, 'lambda_l2': 0.0003067345334387848, 'bagging_fraction': 0.763991258098053, 'bagging_freq': 3}. Best is trial 151 with value: 0.8966915301875942.\u001b[0m\n",
            "\u001b[32m[I 2021-09-23 05:39:14,584]\u001b[0m Trial 395 finished with value: 0.886562371610602 and parameters: {'num_leaves': 249, 'max_depth': 7, 'min_data_in_leaf': 81, 'learning_rate': 0.10642915395443968, 'n_estimators': 705, 'lambda_l2': 0.0004174525180094375, 'bagging_fraction': 0.9345770465247478, 'bagging_freq': 3}. Best is trial 151 with value: 0.8966915301875942.\u001b[0m\n",
            "\u001b[32m[I 2021-09-23 05:39:16,991]\u001b[0m Trial 396 finished with value: 0.8838106651901675 and parameters: {'num_leaves': 226, 'max_depth': 7, 'min_data_in_leaf': 120, 'learning_rate': 0.0861333250473053, 'n_estimators': 696, 'lambda_l2': 0.0005201742619735495, 'bagging_fraction': 0.9912991302954572, 'bagging_freq': 4}. Best is trial 151 with value: 0.8966915301875942.\u001b[0m\n",
            "\u001b[32m[I 2021-09-23 05:39:19,978]\u001b[0m Trial 397 finished with value: 0.8792727968050195 and parameters: {'num_leaves': 705, 'max_depth': 7, 'min_data_in_leaf': 80, 'learning_rate': 0.10080024288442425, 'n_estimators': 840, 'lambda_l2': 0.00022245637204471952, 'bagging_fraction': 0.6362683044310684, 'bagging_freq': 3}. Best is trial 151 with value: 0.8966915301875942.\u001b[0m\n",
            "\u001b[32m[I 2021-09-23 05:39:22,251]\u001b[0m Trial 398 finished with value: 0.8797258110645613 and parameters: {'num_leaves': 278, 'max_depth': 8, 'min_data_in_leaf': 103, 'learning_rate': 0.08256721842236758, 'n_estimators': 867, 'lambda_l2': 0.0009446577559765858, 'bagging_fraction': 0.43156164860558177, 'bagging_freq': 3}. Best is trial 151 with value: 0.8966915301875942.\u001b[0m\n",
            "\u001b[32m[I 2021-09-23 05:39:25,892]\u001b[0m Trial 399 finished with value: 0.8807576508428857 and parameters: {'num_leaves': 310, 'max_depth': 12, 'min_data_in_leaf': 119, 'learning_rate': 0.053962104824166926, 'n_estimators': 884, 'lambda_l2': 0.0016926184341561552, 'bagging_fraction': 0.7251891972018029, 'bagging_freq': 3}. Best is trial 151 with value: 0.8966915301875942.\u001b[0m\n",
            "\u001b[32m[I 2021-09-23 05:39:28,875]\u001b[0m Trial 400 finished with value: 0.8806670449074886 and parameters: {'num_leaves': 346, 'max_depth': 7, 'min_data_in_leaf': 94, 'learning_rate': 0.11763132168496976, 'n_estimators': 788, 'lambda_l2': 0.0003111375623275454, 'bagging_fraction': 0.9641546237995426, 'bagging_freq': 3}. Best is trial 151 with value: 0.8966915301875942.\u001b[0m\n",
            "\u001b[32m[I 2021-09-23 05:39:30,217]\u001b[0m Trial 401 finished with value: 0.8806096467829992 and parameters: {'num_leaves': 257, 'max_depth': 8, 'min_data_in_leaf': 106, 'learning_rate': 0.048256828876136554, 'n_estimators': 278, 'lambda_l2': 0.001274906217163186, 'bagging_fraction': 0.8915277846518439, 'bagging_freq': 3}. Best is trial 151 with value: 0.8966915301875942.\u001b[0m\n",
            "\u001b[32m[I 2021-09-23 05:39:30,956]\u001b[0m Trial 402 finished with value: 0.8437394644873142 and parameters: {'num_leaves': 217, 'max_depth': 7, 'min_data_in_leaf': 737, 'learning_rate': 0.07568621179162159, 'n_estimators': 663, 'lambda_l2': 0.0004286725901487259, 'bagging_fraction': 0.770906629814588, 'bagging_freq': 3}. Best is trial 151 with value: 0.8966915301875942.\u001b[0m\n",
            "\u001b[32m[I 2021-09-23 05:39:33,654]\u001b[0m Trial 403 finished with value: 0.8759524798526162 and parameters: {'num_leaves': 739, 'max_depth': 7, 'min_data_in_leaf': 139, 'learning_rate': 0.019929416408568643, 'n_estimators': 674, 'lambda_l2': 0.0005641346980860651, 'bagging_fraction': 0.9863820541743454, 'bagging_freq': 3}. Best is trial 151 with value: 0.8966915301875942.\u001b[0m\n",
            "\u001b[32m[I 2021-09-23 05:39:37,477]\u001b[0m Trial 404 finished with value: 0.8975702746598491 and parameters: {'num_leaves': 240, 'max_depth': 8, 'min_data_in_leaf': 80, 'learning_rate': 0.05028349105683181, 'n_estimators': 828, 'lambda_l2': 0.0026594831526913455, 'bagging_fraction': 0.9248837626211113, 'bagging_freq': 4}. Best is trial 404 with value: 0.8975702746598491.\u001b[0m\n",
            "\u001b[32m[I 2021-09-23 05:39:41,148]\u001b[0m Trial 405 finished with value: 0.8825181358433825 and parameters: {'num_leaves': 280, 'max_depth': 8, 'min_data_in_leaf': 80, 'learning_rate': 0.05771581399028233, 'n_estimators': 827, 'lambda_l2': 0.002871269629444392, 'bagging_fraction': 0.9273679836468384, 'bagging_freq': 4}. Best is trial 404 with value: 0.8975702746598491.\u001b[0m\n",
            "\u001b[32m[I 2021-09-23 05:39:44,672]\u001b[0m Trial 406 finished with value: 0.8947454034587052 and parameters: {'num_leaves': 306, 'max_depth': 8, 'min_data_in_leaf': 92, 'learning_rate': 0.05028843851637146, 'n_estimators': 822, 'lambda_l2': 0.0026737870647974156, 'bagging_fraction': 0.9148883581986627, 'bagging_freq': 4}. Best is trial 404 with value: 0.8975702746598491.\u001b[0m\n",
            "\u001b[32m[I 2021-09-23 05:39:46,190]\u001b[0m Trial 407 finished with value: 0.8634107919267708 and parameters: {'num_leaves': 332, 'max_depth': 8, 'min_data_in_leaf': 461, 'learning_rate': 0.05462074301478304, 'n_estimators': 815, 'lambda_l2': 0.0037393655932322573, 'bagging_fraction': 0.9079480353532878, 'bagging_freq': 4}. Best is trial 404 with value: 0.8975702746598491.\u001b[0m\n",
            "\u001b[32m[I 2021-09-23 05:39:49,813]\u001b[0m Trial 408 finished with value: 0.8826742482731248 and parameters: {'num_leaves': 307, 'max_depth': 8, 'min_data_in_leaf': 80, 'learning_rate': 0.05105388243138327, 'n_estimators': 837, 'lambda_l2': 0.0026363440778376175, 'bagging_fraction': 0.9260440149526661, 'bagging_freq': 4}. Best is trial 404 with value: 0.8975702746598491.\u001b[0m\n",
            "\u001b[32m[I 2021-09-23 05:39:53,472]\u001b[0m Trial 409 finished with value: 0.8907483685257325 and parameters: {'num_leaves': 645, 'max_depth': 8, 'min_data_in_leaf': 92, 'learning_rate': 0.0503903540768734, 'n_estimators': 848, 'lambda_l2': 0.004411508166130607, 'bagging_fraction': 0.9148651194327885, 'bagging_freq': 4}. Best is trial 404 with value: 0.8975702746598491.\u001b[0m\n",
            "\u001b[32m[I 2021-09-23 05:39:56,928]\u001b[0m Trial 410 finished with value: 0.88259676618099 and parameters: {'num_leaves': 322, 'max_depth': 8, 'min_data_in_leaf': 91, 'learning_rate': 0.06881922432558532, 'n_estimators': 818, 'lambda_l2': 0.0018661383780610684, 'bagging_fraction': 0.903601568182864, 'bagging_freq': 4}. Best is trial 404 with value: 0.8975702746598491.\u001b[0m\n",
            "\u001b[32m[I 2021-09-23 05:40:00,701]\u001b[0m Trial 411 finished with value: 0.8853119294983929 and parameters: {'num_leaves': 298, 'max_depth': 8, 'min_data_in_leaf': 80, 'learning_rate': 0.05792612850069424, 'n_estimators': 858, 'lambda_l2': 0.007229892641010242, 'bagging_fraction': 0.9387102255709576, 'bagging_freq': 4}. Best is trial 404 with value: 0.8975702746598491.\u001b[0m\n",
            "\u001b[32m[I 2021-09-23 05:40:04,298]\u001b[0m Trial 412 finished with value: 0.8819699586418033 and parameters: {'num_leaves': 793, 'max_depth': 8, 'min_data_in_leaf': 94, 'learning_rate': 0.05488648313740309, 'n_estimators': 833, 'lambda_l2': 0.002600586676436791, 'bagging_fraction': 0.9222487331748922, 'bagging_freq': 4}. Best is trial 404 with value: 0.8975702746598491.\u001b[0m\n",
            "\u001b[32m[I 2021-09-23 05:40:08,010]\u001b[0m Trial 413 finished with value: 0.889397392819194 and parameters: {'num_leaves': 364, 'max_depth': 8, 'min_data_in_leaf': 104, 'learning_rate': 0.047002532394711506, 'n_estimators': 900, 'lambda_l2': 0.0020186986839634, 'bagging_fraction': 0.8985739622845089, 'bagging_freq': 4}. Best is trial 404 with value: 0.8975702746598491.\u001b[0m\n",
            "\u001b[32m[I 2021-09-23 05:40:09,971]\u001b[0m Trial 414 finished with value: 0.8755461532339837 and parameters: {'num_leaves': 239, 'max_depth': 8, 'min_data_in_leaf': 342, 'learning_rate': 0.06303083752583014, 'n_estimators': 809, 'lambda_l2': 0.00309029951363307, 'bagging_fraction': 0.9472363579985644, 'bagging_freq': 4}. Best is trial 404 with value: 0.8975702746598491.\u001b[0m\n",
            "\u001b[32m[I 2021-09-23 05:40:13,607]\u001b[0m Trial 415 finished with value: 0.8895286916220152 and parameters: {'num_leaves': 287, 'max_depth': 8, 'min_data_in_leaf': 94, 'learning_rate': 0.05068999425267857, 'n_estimators': 857, 'lambda_l2': 0.0022263865561181675, 'bagging_fraction': 0.9388746512009931, 'bagging_freq': 4}. Best is trial 404 with value: 0.8975702746598491.\u001b[0m\n",
            "\u001b[32m[I 2021-09-23 05:40:17,147]\u001b[0m Trial 416 finished with value: 0.8932886156755924 and parameters: {'num_leaves': 387, 'max_depth': 8, 'min_data_in_leaf': 112, 'learning_rate': 0.04751257181749002, 'n_estimators': 876, 'lambda_l2': 0.0045113984929308175, 'bagging_fraction': 0.9576519874366343, 'bagging_freq': 4}. Best is trial 404 with value: 0.8975702746598491.\u001b[0m\n",
            "\u001b[32m[I 2021-09-23 05:40:21,137]\u001b[0m Trial 417 finished with value: 0.8817306881700635 and parameters: {'num_leaves': 410, 'max_depth': 8, 'min_data_in_leaf': 80, 'learning_rate': 0.046764243714392674, 'n_estimators': 878, 'lambda_l2': 0.005832934045604889, 'bagging_fraction': 0.9540469175005891, 'bagging_freq': 4}. Best is trial 404 with value: 0.8975702746598491.\u001b[0m\n",
            "\u001b[32m[I 2021-09-23 05:40:24,754]\u001b[0m Trial 418 finished with value: 0.8842481735296908 and parameters: {'num_leaves': 391, 'max_depth': 8, 'min_data_in_leaf': 110, 'learning_rate': 0.05324842861873361, 'n_estimators': 884, 'lambda_l2': 0.004693168606101788, 'bagging_fraction': 0.9720732074438642, 'bagging_freq': 4}. Best is trial 404 with value: 0.8975702746598491.\u001b[0m\n",
            "\u001b[32m[I 2021-09-23 05:40:28,429]\u001b[0m Trial 419 finished with value: 0.8851575671014535 and parameters: {'num_leaves': 370, 'max_depth': 8, 'min_data_in_leaf': 96, 'learning_rate': 0.04422795363694275, 'n_estimators': 870, 'lambda_l2': 0.003967984681281683, 'bagging_fraction': 0.9379659746503686, 'bagging_freq': 4}. Best is trial 404 with value: 0.8975702746598491.\u001b[0m\n",
            "\u001b[32m[I 2021-09-23 05:40:31,773]\u001b[0m Trial 420 finished with value: 0.8944793757861434 and parameters: {'num_leaves': 556, 'max_depth': 8, 'min_data_in_leaf': 123, 'learning_rate': 0.048857286235355395, 'n_estimators': 864, 'lambda_l2': 0.004972709542214318, 'bagging_fraction': 0.9565707854634385, 'bagging_freq': 4}. Best is trial 404 with value: 0.8975702746598491.\u001b[0m\n",
            "\u001b[32m[I 2021-09-23 05:40:35,410]\u001b[0m Trial 421 finished with value: 0.8815036484386846 and parameters: {'num_leaves': 530, 'max_depth': 8, 'min_data_in_leaf': 118, 'learning_rate': 0.06006158859921869, 'n_estimators': 888, 'lambda_l2': 0.004779839447816347, 'bagging_fraction': 0.9255539334127364, 'bagging_freq': 4}. Best is trial 404 with value: 0.8975702746598491.\u001b[0m\n",
            "\u001b[32m[I 2021-09-23 05:40:39,166]\u001b[0m Trial 422 finished with value: 0.8913678415976205 and parameters: {'num_leaves': 630, 'max_depth': 8, 'min_data_in_leaf': 94, 'learning_rate': 0.049563757712510106, 'n_estimators': 869, 'lambda_l2': 0.009800682665666067, 'bagging_fraction': 0.9517736807885571, 'bagging_freq': 4}. Best is trial 404 with value: 0.8975702746598491.\u001b[0m\n",
            "\u001b[32m[I 2021-09-23 05:40:41,904]\u001b[0m Trial 423 finished with value: 0.8835487192004019 and parameters: {'num_leaves': 685, 'max_depth': 8, 'min_data_in_leaf': 235, 'learning_rate': 0.049982473232106805, 'n_estimators': 900, 'lambda_l2': 0.005997372634921935, 'bagging_fraction': 0.9484263464853713, 'bagging_freq': 4}. Best is trial 404 with value: 0.8975702746598491.\u001b[0m\n",
            "\u001b[32m[I 2021-09-23 05:40:45,823]\u001b[0m Trial 424 finished with value: 0.8885234390328652 and parameters: {'num_leaves': 671, 'max_depth': 8, 'min_data_in_leaf': 80, 'learning_rate': 0.05316916603956068, 'n_estimators': 867, 'lambda_l2': 0.007066934308202262, 'bagging_fraction': 0.9585892799927763, 'bagging_freq': 4}. Best is trial 404 with value: 0.8975702746598491.\u001b[0m\n",
            "\u001b[32m[I 2021-09-23 05:40:49,576]\u001b[0m Trial 425 finished with value: 0.887515731312112 and parameters: {'num_leaves': 594, 'max_depth': 8, 'min_data_in_leaf': 94, 'learning_rate': 0.048627033638293675, 'n_estimators': 877, 'lambda_l2': 0.0032849728069060074, 'bagging_fraction': 0.9110187463125939, 'bagging_freq': 4}. Best is trial 404 with value: 0.8975702746598491.\u001b[0m\n",
            "\u001b[32m[I 2021-09-23 05:40:53,223]\u001b[0m Trial 426 finished with value: 0.8858099797635468 and parameters: {'num_leaves': 564, 'max_depth': 8, 'min_data_in_leaf': 100, 'learning_rate': 0.058045925740101534, 'n_estimators': 850, 'lambda_l2': 0.004793115553080537, 'bagging_fraction': 0.9646224602072592, 'bagging_freq': 4}. Best is trial 404 with value: 0.8975702746598491.\u001b[0m\n",
            "\u001b[32m[I 2021-09-23 05:40:57,002]\u001b[0m Trial 427 finished with value: 0.8853197998683434 and parameters: {'num_leaves': 578, 'max_depth': 8, 'min_data_in_leaf': 92, 'learning_rate': 0.0545196523523422, 'n_estimators': 867, 'lambda_l2': 0.007940253373158313, 'bagging_fraction': 0.9323786796080749, 'bagging_freq': 4}. Best is trial 404 with value: 0.8975702746598491.\u001b[0m\n",
            "\u001b[32m[I 2021-09-23 05:41:00,724]\u001b[0m Trial 428 finished with value: 0.8811035048480977 and parameters: {'num_leaves': 625, 'max_depth': 8, 'min_data_in_leaf': 106, 'learning_rate': 0.05131863617287434, 'n_estimators': 883, 'lambda_l2': 0.005536926370900404, 'bagging_fraction': 0.9477090479318849, 'bagging_freq': 4}. Best is trial 404 with value: 0.8975702746598491.\u001b[0m\n",
            "\u001b[32m[I 2021-09-23 05:41:04,544]\u001b[0m Trial 429 finished with value: 0.884107677632256 and parameters: {'num_leaves': 618, 'max_depth': 8, 'min_data_in_leaf': 91, 'learning_rate': 0.04726179659040664, 'n_estimators': 841, 'lambda_l2': 0.003645450848888925, 'bagging_fraction': 0.9732069221203318, 'bagging_freq': 4}. Best is trial 404 with value: 0.8975702746598491.\u001b[0m\n",
            "\u001b[32m[I 2021-09-23 05:41:05,858]\u001b[0m Trial 430 finished with value: 0.8510504818670945 and parameters: {'num_leaves': 256, 'max_depth': 8, 'min_data_in_leaf': 689, 'learning_rate': 0.04191460882633836, 'n_estimators': 859, 'lambda_l2': 0.0037656604538901907, 'bagging_fraction': 0.9994796345002864, 'bagging_freq': 4}. Best is trial 404 with value: 0.8975702746598491.\u001b[0m\n",
            "\u001b[32m[I 2021-09-23 05:41:07,670]\u001b[0m Trial 431 finished with value: 0.8740665804743565 and parameters: {'num_leaves': 600, 'max_depth': 8, 'min_data_in_leaf': 111, 'learning_rate': 0.05603362965751844, 'n_estimators': 887, 'lambda_l2': 0.005520344501215146, 'bagging_fraction': 0.3238267123644695, 'bagging_freq': 4}. Best is trial 404 with value: 0.8975702746598491.\u001b[0m\n",
            "\u001b[32m[I 2021-09-23 05:41:11,254]\u001b[0m Trial 432 finished with value: 0.8883173761316137 and parameters: {'num_leaves': 631, 'max_depth': 8, 'min_data_in_leaf': 107, 'learning_rate': 0.04654496322521223, 'n_estimators': 803, 'lambda_l2': 0.006885544000453199, 'bagging_fraction': 0.9830073106704139, 'bagging_freq': 4}. Best is trial 404 with value: 0.8975702746598491.\u001b[0m\n",
            "\u001b[32m[I 2021-09-23 05:41:15,519]\u001b[0m Trial 433 finished with value: 0.8837134226144 and parameters: {'num_leaves': 660, 'max_depth': 9, 'min_data_in_leaf': 91, 'learning_rate': 0.0398292299739178, 'n_estimators': 830, 'lambda_l2': 0.00846730157619537, 'bagging_fraction': 0.9155680144665477, 'bagging_freq': 4}. Best is trial 404 with value: 0.8975702746598491.\u001b[0m\n",
            "\u001b[32m[I 2021-09-23 05:41:18,753]\u001b[0m Trial 434 finished with value: 0.8793589817478413 and parameters: {'num_leaves': 585, 'max_depth': 8, 'min_data_in_leaf': 116, 'learning_rate': 0.052245309983002065, 'n_estimators': 867, 'lambda_l2': 0.008952015562191759, 'bagging_fraction': 0.6737349249470015, 'bagging_freq': 4}. Best is trial 404 with value: 0.8975702746598491.\u001b[0m\n",
            "\u001b[32m[I 2021-09-23 05:41:19,608]\u001b[0m Trial 435 finished with value: 0.8602925775851528 and parameters: {'num_leaves': 424, 'max_depth': 8, 'min_data_in_leaf': 514, 'learning_rate': 0.04418720215745025, 'n_estimators': 418, 'lambda_l2': 0.009864397769930963, 'bagging_fraction': 0.8892326770810189, 'bagging_freq': 4}. Best is trial 404 with value: 0.8975702746598491.\u001b[0m\n",
            "\u001b[32m[I 2021-09-23 05:41:23,739]\u001b[0m Trial 436 finished with value: 0.8934174107022824 and parameters: {'num_leaves': 549, 'max_depth': 8, 'min_data_in_leaf': 92, 'learning_rate': 0.049944244270382826, 'n_estimators': 900, 'lambda_l2': 0.0029525497702310314, 'bagging_fraction': 0.9614737446738967, 'bagging_freq': 4}. Best is trial 404 with value: 0.8975702746598491.\u001b[0m\n",
            "\u001b[32m[I 2021-09-23 05:41:27,775]\u001b[0m Trial 437 finished with value: 0.8816543255439782 and parameters: {'num_leaves': 462, 'max_depth': 8, 'min_data_in_leaf': 80, 'learning_rate': 0.06180101849312723, 'n_estimators': 892, 'lambda_l2': 0.0030179441447327963, 'bagging_fraction': 0.9593176127948846, 'bagging_freq': 4}. Best is trial 404 with value: 0.8975702746598491.\u001b[0m\n",
            "\u001b[32m[I 2021-09-23 05:41:31,755]\u001b[0m Trial 438 finished with value: 0.881384616648262 and parameters: {'num_leaves': 501, 'max_depth': 8, 'min_data_in_leaf': 103, 'learning_rate': 0.05032646891170725, 'n_estimators': 900, 'lambda_l2': 0.0027177853658195577, 'bagging_fraction': 0.939615449457431, 'bagging_freq': 4}. Best is trial 404 with value: 0.8975702746598491.\u001b[0m\n",
            "\u001b[32m[I 2021-09-23 05:41:33,396]\u001b[0m Trial 439 finished with value: 0.8651693873504136 and parameters: {'num_leaves': 639, 'max_depth': 8, 'min_data_in_leaf': 552, 'learning_rate': 0.05640322935112628, 'n_estimators': 879, 'lambda_l2': 0.004730062266574419, 'bagging_fraction': 0.9558484411971966, 'bagging_freq': 4}. Best is trial 404 with value: 0.8975702746598491.\u001b[0m\n",
            "\u001b[32m[I 2021-09-23 05:41:38,286]\u001b[0m Trial 440 finished with value: 0.8902578205244093 and parameters: {'num_leaves': 533, 'max_depth': 8, 'min_data_in_leaf': 80, 'learning_rate': 0.013294286143931664, 'n_estimators': 872, 'lambda_l2': 0.0033200357754964954, 'bagging_fraction': 0.9783988576035415, 'bagging_freq': 4}. Best is trial 404 with value: 0.8975702746598491.\u001b[0m\n",
            "\u001b[32m[I 2021-09-23 05:41:41,790]\u001b[0m Trial 441 finished with value: 0.8869896439780874 and parameters: {'num_leaves': 482, 'max_depth': 8, 'min_data_in_leaf': 125, 'learning_rate': 0.04855537185627258, 'n_estimators': 851, 'lambda_l2': 4.651767976176931e-05, 'bagging_fraction': 0.9641480898487578, 'bagging_freq': 4}. Best is trial 404 with value: 0.8975702746598491.\u001b[0m\n",
            "\u001b[32m[I 2021-09-23 05:41:45,697]\u001b[0m Trial 442 finished with value: 0.880417496629704 and parameters: {'num_leaves': 606, 'max_depth': 8, 'min_data_in_leaf': 102, 'learning_rate': 0.055041035500379365, 'n_estimators': 890, 'lambda_l2': 0.006457831619266569, 'bagging_fraction': 0.9304724694376513, 'bagging_freq': 4}. Best is trial 404 with value: 0.8975702746598491.\u001b[0m\n",
            "\u001b[32m[I 2021-09-23 05:41:49,378]\u001b[0m Trial 443 finished with value: 0.8778231004636924 and parameters: {'num_leaves': 714, 'max_depth': 8, 'min_data_in_leaf': 120, 'learning_rate': 0.0516537229346073, 'n_estimators': 857, 'lambda_l2': 0.002413437835999821, 'bagging_fraction': 0.9512546137993323, 'bagging_freq': 4}. Best is trial 404 with value: 0.8975702746598491.\u001b[0m\n",
            "\u001b[32m[I 2021-09-23 05:41:53,474]\u001b[0m Trial 444 finished with value: 0.8876646262455148 and parameters: {'num_leaves': 554, 'max_depth': 8, 'min_data_in_leaf': 93, 'learning_rate': 0.06467292087938815, 'n_estimators': 900, 'lambda_l2': 0.00228884366389292, 'bagging_fraction': 0.9848646609889837, 'bagging_freq': 4}. Best is trial 404 with value: 0.8975702746598491.\u001b[0m\n",
            "\u001b[32m[I 2021-09-23 05:41:57,153]\u001b[0m Trial 445 finished with value: 0.883535214424484 and parameters: {'num_leaves': 496, 'max_depth': 8, 'min_data_in_leaf': 108, 'learning_rate': 0.05850766173266098, 'n_estimators': 877, 'lambda_l2': 0.004991454258769588, 'bagging_fraction': 0.9724335979316914, 'bagging_freq': 4}. Best is trial 404 with value: 0.8975702746598491.\u001b[0m\n",
            "\u001b[32m[I 2021-09-23 05:42:00,934]\u001b[0m Trial 446 finished with value: 0.8866506957801756 and parameters: {'num_leaves': 571, 'max_depth': 8, 'min_data_in_leaf': 94, 'learning_rate': 0.0477799387049801, 'n_estimators': 845, 'lambda_l2': 0.0017528237298855903, 'bagging_fraction': 0.9203935155427592, 'bagging_freq': 4}. Best is trial 404 with value: 0.8975702746598491.\u001b[0m\n",
            "\u001b[32m[I 2021-09-23 05:42:04,286]\u001b[0m Trial 447 finished with value: 0.8872219132459093 and parameters: {'num_leaves': 769, 'max_depth': 8, 'min_data_in_leaf': 130, 'learning_rate': 0.044710808071025315, 'n_estimators': 828, 'lambda_l2': 0.0031049775056424785, 'bagging_fraction': 0.9434552045722795, 'bagging_freq': 4}. Best is trial 404 with value: 0.8975702746598491.\u001b[0m\n",
            "\u001b[32m[I 2021-09-23 05:42:07,754]\u001b[0m Trial 448 finished with value: 0.8749242998423143 and parameters: {'num_leaves': 611, 'max_depth': 8, 'min_data_in_leaf': 80, 'learning_rate': 0.1419735268037816, 'n_estimators': 869, 'lambda_l2': 0.004169845247059737, 'bagging_fraction': 0.6153621608282918, 'bagging_freq': 4}. Best is trial 404 with value: 0.8975702746598491.\u001b[0m\n",
            "\u001b[32m[I 2021-09-23 05:42:11,018]\u001b[0m Trial 449 finished with value: 0.8790647238775646 and parameters: {'num_leaves': 509, 'max_depth': 8, 'min_data_in_leaf': 113, 'learning_rate': 0.04987560971421546, 'n_estimators': 885, 'lambda_l2': 0.0015371386235399978, 'bagging_fraction': 0.710809010162309, 'bagging_freq': 4}. Best is trial 404 with value: 0.8975702746598491.\u001b[0m\n",
            "\u001b[32m[I 2021-09-23 05:42:14,742]\u001b[0m Trial 450 finished with value: 0.8755036126854426 and parameters: {'num_leaves': 536, 'max_depth': 8, 'min_data_in_leaf': 105, 'learning_rate': 0.04243953664758167, 'n_estimators': 857, 'lambda_l2': 0.00828667279519271, 'bagging_fraction': 0.961441972417965, 'bagging_freq': 4}. Best is trial 404 with value: 0.8975702746598491.\u001b[0m\n",
            "\u001b[32m[I 2021-09-23 05:42:18,337]\u001b[0m Trial 451 finished with value: 0.892746172640732 and parameters: {'num_leaves': 446, 'max_depth': 8, 'min_data_in_leaf': 94, 'learning_rate': 0.053436537748884426, 'n_estimators': 821, 'lambda_l2': 0.0023134187348377248, 'bagging_fraction': 0.9367855013484545, 'bagging_freq': 4}. Best is trial 404 with value: 0.8975702746598491.\u001b[0m\n",
            "\u001b[32m[I 2021-09-23 05:42:20,114]\u001b[0m Trial 452 finished with value: 0.8798108375121039 and parameters: {'num_leaves': 568, 'max_depth': 8, 'min_data_in_leaf': 426, 'learning_rate': 0.06021425165019529, 'n_estimators': 823, 'lambda_l2': 0.002372405798232376, 'bagging_fraction': 0.9364005630236949, 'bagging_freq': 4}. Best is trial 404 with value: 0.8975702746598491.\u001b[0m\n",
            "\u001b[32m[I 2021-09-23 05:42:22,444]\u001b[0m Trial 453 finished with value: 0.8850081306519053 and parameters: {'num_leaves': 411, 'max_depth': 8, 'min_data_in_leaf': 125, 'learning_rate': 0.05461202601593945, 'n_estimators': 557, 'lambda_l2': 0.00988844664686593, 'bagging_fraction': 0.9040871988974329, 'bagging_freq': 4}. Best is trial 404 with value: 0.8975702746598491.\u001b[0m\n",
            "\u001b[32m[I 2021-09-23 05:42:25,917]\u001b[0m Trial 454 finished with value: 0.884095604039913 and parameters: {'num_leaves': 434, 'max_depth': 8, 'min_data_in_leaf': 116, 'learning_rate': 0.05319459071042641, 'n_estimators': 840, 'lambda_l2': 0.003538615986348316, 'bagging_fraction': 0.9171403847257245, 'bagging_freq': 4}. Best is trial 404 with value: 0.8975702746598491.\u001b[0m\n",
            "\u001b[32m[I 2021-09-23 05:42:27,319]\u001b[0m Trial 455 finished with value: 0.8594246149437286 and parameters: {'num_leaves': 441, 'max_depth': 8, 'min_data_in_leaf': 578, 'learning_rate': 0.0661114994018794, 'n_estimators': 822, 'lambda_l2': 0.0026248655980027325, 'bagging_fraction': 0.9287147654499391, 'bagging_freq': 4}. Best is trial 404 with value: 0.8975702746598491.\u001b[0m\n",
            "\u001b[32m[I 2021-09-23 05:42:31,678]\u001b[0m Trial 456 finished with value: 0.8847470522683157 and parameters: {'num_leaves': 387, 'max_depth': 8, 'min_data_in_leaf': 99, 'learning_rate': 0.04989961750980529, 'n_estimators': 845, 'lambda_l2': 0.0018710438737737057, 'bagging_fraction': 0.9569525146011522, 'bagging_freq': 4}. Best is trial 404 with value: 0.8975702746598491.\u001b[0m\n",
            "\u001b[32m[I 2021-09-23 05:42:36,601]\u001b[0m Trial 457 finished with value: 0.8858426200490014 and parameters: {'num_leaves': 552, 'max_depth': 8, 'min_data_in_leaf': 94, 'learning_rate': 0.05824911883470416, 'n_estimators': 864, 'lambda_l2': 0.0034877701341115685, 'bagging_fraction': 0.9427222163315087, 'bagging_freq': 4}. Best is trial 404 with value: 0.8975702746598491.\u001b[0m\n",
            "\u001b[32m[I 2021-09-23 05:42:37,845]\u001b[0m Trial 458 finished with value: 0.8483600718940005 and parameters: {'num_leaves': 449, 'max_depth': 8, 'min_data_in_leaf': 790, 'learning_rate': 0.053237625671596865, 'n_estimators': 884, 'lambda_l2': 1.2135538444172576e-05, 'bagging_fraction': 0.9729967079176279, 'bagging_freq': 4}. Best is trial 404 with value: 0.8975702746598491.\u001b[0m\n",
            "\u001b[32m[I 2021-09-23 05:42:41,262]\u001b[0m Trial 459 finished with value: 0.8860862252891398 and parameters: {'num_leaves': 417, 'max_depth': 9, 'min_data_in_leaf': 138, 'learning_rate': 0.07279212126325547, 'n_estimators': 831, 'lambda_l2': 0.002059493872526641, 'bagging_fraction': 0.9470484279924161, 'bagging_freq': 4}. Best is trial 404 with value: 0.8975702746598491.\u001b[0m\n",
            "\u001b[32m[I 2021-09-23 05:42:45,063]\u001b[0m Trial 460 finished with value: 0.8831625628073382 and parameters: {'num_leaves': 650, 'max_depth': 8, 'min_data_in_leaf': 114, 'learning_rate': 0.047195554416680746, 'n_estimators': 900, 'lambda_l2': 0.005971140022118805, 'bagging_fraction': 0.9319015072638576, 'bagging_freq': 4}. Best is trial 404 with value: 0.8975702746598491.\u001b[0m\n",
            "\u001b[32m[I 2021-09-23 05:42:47,247]\u001b[0m Trial 461 finished with value: 0.8686672918213928 and parameters: {'num_leaves': 404, 'max_depth': 8, 'min_data_in_leaf': 313, 'learning_rate': 0.04646279041423281, 'n_estimators': 808, 'lambda_l2': 0.0014562473138429312, 'bagging_fraction': 0.9851677656313971, 'bagging_freq': 4}. Best is trial 404 with value: 0.8975702746598491.\u001b[0m\n",
            "\u001b[32m[I 2021-09-23 05:42:51,012]\u001b[0m Trial 462 finished with value: 0.8885862179707231 and parameters: {'num_leaves': 463, 'max_depth': 8, 'min_data_in_leaf': 103, 'learning_rate': 0.05529286621511953, 'n_estimators': 872, 'lambda_l2': 3.4690027439385524e-06, 'bagging_fraction': 0.898265515109842, 'bagging_freq': 4}. Best is trial 404 with value: 0.8975702746598491.\u001b[0m\n",
            "\u001b[32m[I 2021-09-23 05:42:53,474]\u001b[0m Trial 463 finished with value: 0.8838750364080612 and parameters: {'num_leaves': 549, 'max_depth': 8, 'min_data_in_leaf': 287, 'learning_rate': 0.05178466126349294, 'n_estimators': 852, 'lambda_l2': 0.004597213630323855, 'bagging_fraction': 0.9616054080053159, 'bagging_freq': 4}. Best is trial 404 with value: 0.8975702746598491.\u001b[0m\n",
            "\u001b[32m[I 2021-09-23 05:42:57,255]\u001b[0m Trial 464 finished with value: 0.8872272234949812 and parameters: {'num_leaves': 388, 'max_depth': 8, 'min_data_in_leaf': 91, 'learning_rate': 0.06218409244373823, 'n_estimators': 874, 'lambda_l2': 1.909371726295965e-06, 'bagging_fraction': 0.9144618599930148, 'bagging_freq': 4}. Best is trial 404 with value: 0.8975702746598491.\u001b[0m\n",
            "\u001b[32m[I 2021-09-23 05:43:00,684]\u001b[0m Trial 465 finished with value: 0.884173743841696 and parameters: {'num_leaves': 520, 'max_depth': 8, 'min_data_in_leaf': 126, 'learning_rate': 0.0453439646191494, 'n_estimators': 838, 'lambda_l2': 0.0024331047150793856, 'bagging_fraction': 0.9865343339937038, 'bagging_freq': 4}. Best is trial 404 with value: 0.8975702746598491.\u001b[0m\n",
            "\u001b[32m[I 2021-09-23 05:43:04,253]\u001b[0m Trial 466 finished with value: 0.8930099095653192 and parameters: {'num_leaves': 286, 'max_depth': 8, 'min_data_in_leaf': 80, 'learning_rate': 0.057567131480379057, 'n_estimators': 856, 'lambda_l2': 0.0014055098766210608, 'bagging_fraction': 0.6882723742947519, 'bagging_freq': 4}. Best is trial 404 with value: 0.8975702746598491.\u001b[0m\n",
            "\u001b[32m[I 2021-09-23 05:43:07,605]\u001b[0m Trial 467 finished with value: 0.885819095775975 and parameters: {'num_leaves': 318, 'max_depth': 8, 'min_data_in_leaf': 81, 'learning_rate': 0.05921661126940749, 'n_estimators': 820, 'lambda_l2': 0.001508969507747005, 'bagging_fraction': 0.6702071732297683, 'bagging_freq': 4}. Best is trial 404 with value: 0.8975702746598491.\u001b[0m\n",
            "\u001b[32m[I 2021-09-23 05:43:10,813]\u001b[0m Trial 468 finished with value: 0.8855064830623028 and parameters: {'num_leaves': 295, 'max_depth': 8, 'min_data_in_leaf': 104, 'learning_rate': 0.06727459402173716, 'n_estimators': 848, 'lambda_l2': 0.00122006700839846, 'bagging_fraction': 0.715346503486606, 'bagging_freq': 4}. Best is trial 404 with value: 0.8975702746598491.\u001b[0m\n",
            "\u001b[32m[I 2021-09-23 05:43:14,391]\u001b[0m Trial 469 finished with value: 0.8791204078424297 and parameters: {'num_leaves': 340, 'max_depth': 8, 'min_data_in_leaf': 91, 'learning_rate': 0.05619424237020458, 'n_estimators': 900, 'lambda_l2': 0.0019326883512606379, 'bagging_fraction': 0.715302162283858, 'bagging_freq': 1}. Best is trial 404 with value: 0.8975702746598491.\u001b[0m\n",
            "\u001b[32m[I 2021-09-23 05:43:17,719]\u001b[0m Trial 470 finished with value: 0.8917148627920215 and parameters: {'num_leaves': 276, 'max_depth': 8, 'min_data_in_leaf': 80, 'learning_rate': 0.06227957696152988, 'n_estimators': 804, 'lambda_l2': 0.0013089393908966784, 'bagging_fraction': 0.7048575377058695, 'bagging_freq': 4}. Best is trial 404 with value: 0.8975702746598491.\u001b[0m\n",
            "\u001b[32m[I 2021-09-23 05:43:21,059]\u001b[0m Trial 471 finished with value: 0.8895852021977693 and parameters: {'num_leaves': 274, 'max_depth': 8, 'min_data_in_leaf': 80, 'learning_rate': 0.06262738915939009, 'n_estimators': 805, 'lambda_l2': 0.0013660315183364772, 'bagging_fraction': 0.6935735616944488, 'bagging_freq': 4}. Best is trial 404 with value: 0.8975702746598491.\u001b[0m\n",
            "\u001b[32m[I 2021-09-23 05:43:24,500]\u001b[0m Trial 472 finished with value: 0.8815186610583257 and parameters: {'num_leaves': 284, 'max_depth': 8, 'min_data_in_leaf': 80, 'learning_rate': 0.06758934251275388, 'n_estimators': 806, 'lambda_l2': 0.0019462892636452251, 'bagging_fraction': 0.7232460082224744, 'bagging_freq': 4}. Best is trial 404 with value: 0.8975702746598491.\u001b[0m\n",
            "\u001b[32m[I 2021-09-23 05:43:26,268]\u001b[0m Trial 473 finished with value: 0.8683975246610534 and parameters: {'num_leaves': 310, 'max_depth': 8, 'min_data_in_leaf': 254, 'learning_rate': 0.0584934824109828, 'n_estimators': 829, 'lambda_l2': 0.0012078353164609989, 'bagging_fraction': 0.6818637051243382, 'bagging_freq': 4}. Best is trial 404 with value: 0.8975702746598491.\u001b[0m\n",
            "\u001b[32m[I 2021-09-23 05:43:29,604]\u001b[0m Trial 474 finished with value: 0.883522191531545 and parameters: {'num_leaves': 270, 'max_depth': 10, 'min_data_in_leaf': 109, 'learning_rate': 0.06164427188439066, 'n_estimators': 795, 'lambda_l2': 0.002715041655896689, 'bagging_fraction': 0.7066729498438564, 'bagging_freq': 4}. Best is trial 404 with value: 0.8975702746598491.\u001b[0m\n",
            "\u001b[32m[I 2021-09-23 05:43:31,527]\u001b[0m Trial 475 finished with value: 0.8814011815306895 and parameters: {'num_leaves': 296, 'max_depth': 8, 'min_data_in_leaf': 219, 'learning_rate': 0.05722468402744395, 'n_estimators': 817, 'lambda_l2': 0.0015609191739624586, 'bagging_fraction': 0.6827116434913035, 'bagging_freq': 4}. Best is trial 404 with value: 0.8975702746598491.\u001b[0m\n",
            "\u001b[32m[I 2021-09-23 05:43:33,813]\u001b[0m Trial 476 finished with value: 0.8840124281354724 and parameters: {'num_leaves': 355, 'max_depth': 8, 'min_data_in_leaf': 93, 'learning_rate': 0.06403244234088921, 'n_estimators': 591, 'lambda_l2': 0.0011154928812933313, 'bagging_fraction': 0.6538713842497184, 'bagging_freq': 4}. Best is trial 404 with value: 0.8975702746598491.\u001b[0m\n",
            "\u001b[32m[I 2021-09-23 05:43:36,855]\u001b[0m Trial 477 finished with value: 0.8790197266108274 and parameters: {'num_leaves': 266, 'max_depth': 8, 'min_data_in_leaf': 119, 'learning_rate': 0.07168089669413341, 'n_estimators': 856, 'lambda_l2': 0.001921190868315591, 'bagging_fraction': 0.6934328396861071, 'bagging_freq': 4}. Best is trial 404 with value: 0.8975702746598491.\u001b[0m\n",
            "\u001b[32m[I 2021-09-23 05:43:40,692]\u001b[0m Trial 478 finished with value: 0.8785248103167813 and parameters: {'num_leaves': 330, 'max_depth': 9, 'min_data_in_leaf': 103, 'learning_rate': 0.052434781281261625, 'n_estimators': 841, 'lambda_l2': 0.0013366202222917635, 'bagging_fraction': 0.9750211679447439, 'bagging_freq': 4}. Best is trial 404 with value: 0.8975702746598491.\u001b[0m\n",
            "\u001b[32m[I 2021-09-23 05:43:44,238]\u001b[0m Trial 479 finished with value: 0.8802597934179832 and parameters: {'num_leaves': 284, 'max_depth': 8, 'min_data_in_leaf': 93, 'learning_rate': 0.05517419236173099, 'n_estimators': 822, 'lambda_l2': 0.003179702778961168, 'bagging_fraction': 0.9993881611956359, 'bagging_freq': 4}. Best is trial 404 with value: 0.8975702746598491.\u001b[0m\n",
            "\u001b[32m[I 2021-09-23 05:43:47,076]\u001b[0m Trial 480 finished with value: 0.8805814558415354 and parameters: {'num_leaves': 303, 'max_depth': 8, 'min_data_in_leaf': 149, 'learning_rate': 0.06157065150490285, 'n_estimators': 884, 'lambda_l2': 0.00234593629662841, 'bagging_fraction': 0.7063417699100695, 'bagging_freq': 4}. Best is trial 404 with value: 0.8975702746598491.\u001b[0m\n",
            "\u001b[32m[I 2021-09-23 05:43:50,732]\u001b[0m Trial 481 finished with value: 0.892063481472972 and parameters: {'num_leaves': 254, 'max_depth': 8, 'min_data_in_leaf': 80, 'learning_rate': 0.0492520464684803, 'n_estimators': 798, 'lambda_l2': 0.0011063281433620305, 'bagging_fraction': 0.9218987256153967, 'bagging_freq': 4}. Best is trial 404 with value: 0.8975702746598491.\u001b[0m\n",
            "\u001b[32m[I 2021-09-23 05:43:55,234]\u001b[0m Trial 482 finished with value: 0.886882546884797 and parameters: {'num_leaves': 429, 'max_depth': 11, 'min_data_in_leaf': 80, 'learning_rate': 0.04875454985012089, 'n_estimators': 793, 'lambda_l2': 0.0017875905593688233, 'bagging_fraction': 0.8990617763423888, 'bagging_freq': 4}. Best is trial 404 with value: 0.8975702746598491.\u001b[0m\n",
            "\u001b[32m[I 2021-09-23 05:43:58,717]\u001b[0m Trial 483 finished with value: 0.8837462304464033 and parameters: {'num_leaves': 252, 'max_depth': 8, 'min_data_in_leaf': 80, 'learning_rate': 0.04546227538612812, 'n_estimators': 796, 'lambda_l2': 0.003763435393681972, 'bagging_fraction': 0.689645386678021, 'bagging_freq': 4}. Best is trial 404 with value: 0.8975702746598491.\u001b[0m\n",
            "\u001b[32m[I 2021-09-23 05:44:02,245]\u001b[0m Trial 484 finished with value: 0.8884286367027736 and parameters: {'num_leaves': 813, 'max_depth': 8, 'min_data_in_leaf': 112, 'learning_rate': 0.04279885924555588, 'n_estimators': 810, 'lambda_l2': 0.001102705595907187, 'bagging_fraction': 0.9215476993506738, 'bagging_freq': 4}. Best is trial 404 with value: 0.8975702746598491.\u001b[0m\n",
            "\u001b[32m[I 2021-09-23 05:44:05,299]\u001b[0m Trial 485 finished with value: 0.889337659620825 and parameters: {'num_leaves': 255, 'max_depth': 8, 'min_data_in_leaf': 102, 'learning_rate': 0.050263196912384, 'n_estimators': 794, 'lambda_l2': 0.0015272865443544355, 'bagging_fraction': 0.6996153876255989, 'bagging_freq': 4}. Best is trial 404 with value: 0.8975702746598491.\u001b[0m\n",
            "\u001b[32m[I 2021-09-23 05:44:08,508]\u001b[0m Trial 486 finished with value: 0.8798464367205261 and parameters: {'num_leaves': 746, 'max_depth': 8, 'min_data_in_leaf': 129, 'learning_rate': 0.03960687922249338, 'n_estimators': 783, 'lambda_l2': 0.0024903481071174745, 'bagging_fraction': 0.9121774929605845, 'bagging_freq': 4}. Best is trial 404 with value: 0.8975702746598491.\u001b[0m\n",
            "\u001b[32m[I 2021-09-23 05:44:12,432]\u001b[0m Trial 487 finished with value: 0.8888964490625044 and parameters: {'num_leaves': 278, 'max_depth': 8, 'min_data_in_leaf': 80, 'learning_rate': 0.053390432392037404, 'n_estimators': 862, 'lambda_l2': 0.0010458350558905402, 'bagging_fraction': 0.8862400281046381, 'bagging_freq': 4}. Best is trial 404 with value: 0.8975702746598491.\u001b[0m\n",
            "\u001b[32m[I 2021-09-23 05:44:16,249]\u001b[0m Trial 488 finished with value: 0.8853201799189839 and parameters: {'num_leaves': 314, 'max_depth': 8, 'min_data_in_leaf': 100, 'learning_rate': 0.04722977919736922, 'n_estimators': 884, 'lambda_l2': 0.0029852322806810908, 'bagging_fraction': 0.9276068435946797, 'bagging_freq': 4}. Best is trial 404 with value: 0.8975702746598491.\u001b[0m\n",
            "\u001b[32m[I 2021-09-23 05:44:19,265]\u001b[0m Trial 489 finished with value: 0.8834819961040117 and parameters: {'num_leaves': 243, 'max_depth': 8, 'min_data_in_leaf': 118, 'learning_rate': 0.04370368829352192, 'n_estimators': 812, 'lambda_l2': 0.0015079315684351806, 'bagging_fraction': 0.7339143852305882, 'bagging_freq': 4}. Best is trial 404 with value: 0.8975702746598491.\u001b[0m\n",
            "\u001b[32m[I 2021-09-23 05:44:23,375]\u001b[0m Trial 490 finished with value: 0.8869259898025145 and parameters: {'num_leaves': 842, 'max_depth': 8, 'min_data_in_leaf': 93, 'learning_rate': 0.052806264063670436, 'n_estimators': 900, 'lambda_l2': 0.001891130511530326, 'bagging_fraction': 0.970195219046175, 'bagging_freq': 4}. Best is trial 404 with value: 0.8975702746598491.\u001b[0m\n",
            "\u001b[32m[I 2021-09-23 05:44:26,937]\u001b[0m Trial 491 finished with value: 0.8842907367360074 and parameters: {'num_leaves': 288, 'max_depth': 8, 'min_data_in_leaf': 110, 'learning_rate': 0.04716465879310329, 'n_estimators': 827, 'lambda_l2': 0.004134513634021428, 'bagging_fraction': 0.999850641697017, 'bagging_freq': 4}. Best is trial 404 with value: 0.8975702746598491.\u001b[0m\n",
            "\u001b[32m[I 2021-09-23 05:44:30,330]\u001b[0m Trial 492 finished with value: 0.8835214454939495 and parameters: {'num_leaves': 257, 'max_depth': 8, 'min_data_in_leaf': 137, 'learning_rate': 0.03837134202851891, 'n_estimators': 859, 'lambda_l2': 0.0011434311375155932, 'bagging_fraction': 0.935518887626176, 'bagging_freq': 4}. Best is trial 404 with value: 0.8975702746598491.\u001b[0m\n",
            "\u001b[32m[I 2021-09-23 05:44:34,094]\u001b[0m Trial 493 finished with value: 0.8838062733264875 and parameters: {'num_leaves': 348, 'max_depth': 8, 'min_data_in_leaf': 93, 'learning_rate': 0.1598311708991989, 'n_estimators': 869, 'lambda_l2': 0.0008555868573226226, 'bagging_fraction': 0.9532400762989096, 'bagging_freq': 4}. Best is trial 404 with value: 0.8975702746598491.\u001b[0m\n",
            "\u001b[32m[I 2021-09-23 05:44:37,656]\u001b[0m Trial 494 finished with value: 0.8838977750023171 and parameters: {'num_leaves': 375, 'max_depth': 8, 'min_data_in_leaf': 124, 'learning_rate': 0.050288101232686955, 'n_estimators': 880, 'lambda_l2': 0.0013940683258963347, 'bagging_fraction': 0.966493931604557, 'bagging_freq': 4}. Best is trial 404 with value: 0.8975702746598491.\u001b[0m\n",
            "\u001b[32m[I 2021-09-23 05:44:40,558]\u001b[0m Trial 495 finished with value: 0.8794118838666566 and parameters: {'num_leaves': 303, 'max_depth': 8, 'min_data_in_leaf': 105, 'learning_rate': 0.04292067257915935, 'n_estimators': 771, 'lambda_l2': 0.0009407610343985062, 'bagging_fraction': 0.6643840608990056, 'bagging_freq': 4}. Best is trial 404 with value: 0.8975702746598491.\u001b[0m\n",
            "\u001b[32m[I 2021-09-23 05:44:44,462]\u001b[0m Trial 496 finished with value: 0.8817433297390262 and parameters: {'num_leaves': 267, 'max_depth': 8, 'min_data_in_leaf': 80, 'learning_rate': 0.055521535650212624, 'n_estimators': 834, 'lambda_l2': 0.002298982416074674, 'bagging_fraction': 0.9859200723474801, 'bagging_freq': 4}. Best is trial 404 with value: 0.8975702746598491.\u001b[0m\n",
            "\u001b[32m[I 2021-09-23 05:44:47,977]\u001b[0m Trial 497 finished with value: 0.8907340168791436 and parameters: {'num_leaves': 329, 'max_depth': 8, 'min_data_in_leaf': 94, 'learning_rate': 0.049881069778662, 'n_estimators': 805, 'lambda_l2': 0.0016610724102690234, 'bagging_fraction': 0.9064108381560889, 'bagging_freq': 4}. Best is trial 404 with value: 0.8975702746598491.\u001b[0m\n",
            "\u001b[32m[I 2021-09-23 05:44:51,479]\u001b[0m Trial 498 finished with value: 0.8871477466191209 and parameters: {'num_leaves': 251, 'max_depth': 8, 'min_data_in_leaf': 111, 'learning_rate': 0.04457315295841955, 'n_estimators': 851, 'lambda_l2': 0.0031043326783882883, 'bagging_fraction': 0.8842904402571079, 'bagging_freq': 4}. Best is trial 404 with value: 0.8975702746598491.\u001b[0m\n",
            "\u001b[32m[I 2021-09-23 05:44:54,662]\u001b[0m Trial 499 finished with value: 0.8833293500620344 and parameters: {'num_leaves': 288, 'max_depth': 8, 'min_data_in_leaf': 129, 'learning_rate': 0.03995431302040259, 'n_estimators': 784, 'lambda_l2': 0.0009191745455289818, 'bagging_fraction': 0.9501137415745917, 'bagging_freq': 4}. Best is trial 404 with value: 0.8975702746598491.\u001b[0m\n",
            "\u001b[32m[I 2021-09-23 05:44:58,590]\u001b[0m Trial 500 finished with value: 0.8919137570602504 and parameters: {'num_leaves': 456, 'max_depth': 8, 'min_data_in_leaf': 93, 'learning_rate': 0.0464669628332949, 'n_estimators': 883, 'lambda_l2': 0.0021752358186504232, 'bagging_fraction': 0.9263947247507466, 'bagging_freq': 4}. Best is trial 404 with value: 0.8975702746598491.\u001b[0m\n",
            "\u001b[32m[I 2021-09-23 05:45:02,196]\u001b[0m Trial 501 finished with value: 0.8851840890534171 and parameters: {'num_leaves': 471, 'max_depth': 8, 'min_data_in_leaf': 120, 'learning_rate': 0.04751597384432336, 'n_estimators': 886, 'lambda_l2': 0.004180609694626505, 'bagging_fraction': 0.9253853417642295, 'bagging_freq': 4}. Best is trial 404 with value: 0.8975702746598491.\u001b[0m\n",
            "\u001b[32m[I 2021-09-23 05:45:05,700]\u001b[0m Trial 502 finished with value: 0.8806188898093149 and parameters: {'num_leaves': 444, 'max_depth': 8, 'min_data_in_leaf': 149, 'learning_rate': 0.036947502278912706, 'n_estimators': 900, 'lambda_l2': 0.0026102035534386666, 'bagging_fraction': 0.9155436048783364, 'bagging_freq': 4}. Best is trial 404 with value: 0.8975702746598491.\u001b[0m\n",
            "\u001b[32m[I 2021-09-23 05:45:06,908]\u001b[0m Trial 503 finished with value: 0.8755081643906515 and parameters: {'num_leaves': 413, 'max_depth': 9, 'min_data_in_leaf': 105, 'learning_rate': 0.04506837442407076, 'n_estimators': 215, 'lambda_l2': 0.005894402269960136, 'bagging_fraction': 0.9429164476431695, 'bagging_freq': 4}. Best is trial 404 with value: 0.8975702746598491.\u001b[0m\n",
            "\u001b[32m[I 2021-09-23 05:45:10,783]\u001b[0m Trial 504 finished with value: 0.8817275362262373 and parameters: {'num_leaves': 234, 'max_depth': 8, 'min_data_in_leaf': 95, 'learning_rate': 0.041283128704803364, 'n_estimators': 881, 'lambda_l2': 0.0020826868056923785, 'bagging_fraction': 0.9007116600984428, 'bagging_freq': 4}. Best is trial 404 with value: 0.8975702746598491.\u001b[0m\n",
            "\u001b[32m[I 2021-09-23 05:45:14,292]\u001b[0m Trial 505 finished with value: 0.8781011837773129 and parameters: {'num_leaves': 428, 'max_depth': 8, 'min_data_in_leaf': 115, 'learning_rate': 0.04973219694457191, 'n_estimators': 858, 'lambda_l2': 0.0032678969677541543, 'bagging_fraction': 0.9264997185666776, 'bagging_freq': 4}. Best is trial 404 with value: 0.8975702746598491.\u001b[0m\n",
            "\u001b[32m[I 2021-09-23 05:45:18,175]\u001b[0m Trial 506 finished with value: 0.8939956292529263 and parameters: {'num_leaves': 730, 'max_depth': 8, 'min_data_in_leaf': 95, 'learning_rate': 0.04452536438081533, 'n_estimators': 872, 'lambda_l2': 0.0023603540556086885, 'bagging_fraction': 0.9364280469315256, 'bagging_freq': 4}. Best is trial 404 with value: 0.8975702746598491.\u001b[0m\n",
            "\u001b[32m[I 2021-09-23 05:45:21,844]\u001b[0m Trial 507 finished with value: 0.8828396031344191 and parameters: {'num_leaves': 492, 'max_depth': 8, 'min_data_in_leaf': 93, 'learning_rate': 0.052321585503640744, 'n_estimators': 869, 'lambda_l2': 0.0039656665588079796, 'bagging_fraction': 0.9349557844972346, 'bagging_freq': 4}. Best is trial 404 with value: 0.8975702746598491.\u001b[0m\n",
            "\u001b[32m[I 2021-09-23 05:45:25,722]\u001b[0m Trial 508 finished with value: 0.8908501571936784 and parameters: {'num_leaves': 471, 'max_depth': 8, 'min_data_in_leaf': 94, 'learning_rate': 0.047568059570116096, 'n_estimators': 885, 'lambda_l2': 0.002555588783970482, 'bagging_fraction': 0.9118847266700247, 'bagging_freq': 4}. Best is trial 404 with value: 0.8975702746598491.\u001b[0m\n",
            "\u001b[32m[I 2021-09-23 05:45:29,582]\u001b[0m Trial 509 finished with value: 0.8842384798771687 and parameters: {'num_leaves': 394, 'max_depth': 8, 'min_data_in_leaf': 80, 'learning_rate': 0.04517663940210668, 'n_estimators': 868, 'lambda_l2': 0.004541388730206667, 'bagging_fraction': 0.94222099227686, 'bagging_freq': 4}. Best is trial 404 with value: 0.8975702746598491.\u001b[0m\n",
            "\u001b[32m[I 2021-09-23 05:45:33,298]\u001b[0m Trial 510 finished with value: 0.8928766088017539 and parameters: {'num_leaves': 462, 'max_depth': 8, 'min_data_in_leaf': 104, 'learning_rate': 0.05180022559296911, 'n_estimators': 875, 'lambda_l2': 0.0032307715118133798, 'bagging_fraction': 0.9589469474114255, 'bagging_freq': 4}. Best is trial 404 with value: 0.8975702746598491.\u001b[0m\n",
            "\u001b[32m[I 2021-09-23 05:45:36,910]\u001b[0m Trial 511 finished with value: 0.8834991345565193 and parameters: {'num_leaves': 451, 'max_depth': 8, 'min_data_in_leaf': 107, 'learning_rate': 0.05413362539471312, 'n_estimators': 883, 'lambda_l2': 0.002928254497201363, 'bagging_fraction': 0.9607907417165951, 'bagging_freq': 4}. Best is trial 404 with value: 0.8975702746598491.\u001b[0m\n",
            "\u001b[32m[I 2021-09-23 05:45:40,208]\u001b[0m Trial 512 finished with value: 0.8804132211488734 and parameters: {'num_leaves': 455, 'max_depth': 8, 'min_data_in_leaf': 134, 'learning_rate': 0.05234523550134473, 'n_estimators': 869, 'lambda_l2': 0.005100594925450358, 'bagging_fraction': 0.9499634518696305, 'bagging_freq': 4}. Best is trial 404 with value: 0.8975702746598491.\u001b[0m\n",
            "\u001b[32m[I 2021-09-23 05:45:41,963]\u001b[0m Trial 513 finished with value: 0.8792996258159291 and parameters: {'num_leaves': 492, 'max_depth': 8, 'min_data_in_leaf': 105, 'learning_rate': 0.056833668990502136, 'n_estimators': 375, 'lambda_l2': 0.0030025519503380383, 'bagging_fraction': 0.9784566210613824, 'bagging_freq': 4}. Best is trial 404 with value: 0.8975702746598491.\u001b[0m\n",
            "\u001b[32m[I 2021-09-23 05:45:45,858]\u001b[0m Trial 514 finished with value: 0.8937002129376774 and parameters: {'num_leaves': 436, 'max_depth': 9, 'min_data_in_leaf': 95, 'learning_rate': 0.04997209917770751, 'n_estimators': 853, 'lambda_l2': 0.003913484089970705, 'bagging_fraction': 0.9239635846556846, 'bagging_freq': 4}. Best is trial 404 with value: 0.8975702746598491.\u001b[0m\n",
            "\u001b[32m[I 2021-09-23 05:45:47,215]\u001b[0m Trial 515 finished with value: 0.8623645419236361 and parameters: {'num_leaves': 437, 'max_depth': 9, 'min_data_in_leaf': 615, 'learning_rate': 0.050049736066348036, 'n_estimators': 855, 'lambda_l2': 0.0057303095091301775, 'bagging_fraction': 0.9633462763728319, 'bagging_freq': 4}. Best is trial 404 with value: 0.8975702746598491.\u001b[0m\n",
            "\u001b[32m[I 2021-09-23 05:45:51,066]\u001b[0m Trial 516 finished with value: 0.879554194054866 and parameters: {'num_leaves': 444, 'max_depth': 10, 'min_data_in_leaf': 126, 'learning_rate': 0.05500307929607264, 'n_estimators': 848, 'lambda_l2': 0.0037080596865478243, 'bagging_fraction': 0.9405460057095486, 'bagging_freq': 4}. Best is trial 404 with value: 0.8975702746598491.\u001b[0m\n",
            "\u001b[32m[I 2021-09-23 05:45:54,579]\u001b[0m Trial 517 finished with value: 0.8823493466952248 and parameters: {'num_leaves': 418, 'max_depth': 8, 'min_data_in_leaf': 106, 'learning_rate': 0.05066920200005158, 'n_estimators': 845, 'lambda_l2': 0.006241505999987702, 'bagging_fraction': 0.9541724346749341, 'bagging_freq': 4}. Best is trial 404 with value: 0.8975702746598491.\u001b[0m\n",
            "\u001b[32m[I 2021-09-23 05:45:57,797]\u001b[0m Trial 518 finished with value: 0.8861331237573331 and parameters: {'num_leaves': 403, 'max_depth': 9, 'min_data_in_leaf': 167, 'learning_rate': 0.05144157351156618, 'n_estimators': 859, 'lambda_l2': 0.004416822047964, 'bagging_fraction': 0.8962388155749853, 'bagging_freq': 4}. Best is trial 404 with value: 0.8975702746598491.\u001b[0m\n",
            "\u001b[32m[I 2021-09-23 05:46:02,038]\u001b[0m Trial 519 finished with value: 0.8807394647196359 and parameters: {'num_leaves': 397, 'max_depth': 9, 'min_data_in_leaf': 80, 'learning_rate': 0.05459188415865503, 'n_estimators': 864, 'lambda_l2': 0.004132927941894483, 'bagging_fraction': 0.9211366686175524, 'bagging_freq': 4}. Best is trial 404 with value: 0.8975702746598491.\u001b[0m\n",
            "\u001b[32m[I 2021-09-23 05:46:06,208]\u001b[0m Trial 520 finished with value: 0.8883626437236553 and parameters: {'num_leaves': 427, 'max_depth': 10, 'min_data_in_leaf': 118, 'learning_rate': 0.04802327355727445, 'n_estimators': 900, 'lambda_l2': 0.0033775451950723576, 'bagging_fraction': 0.9758975622631549, 'bagging_freq': 4}. Best is trial 404 with value: 0.8975702746598491.\u001b[0m\n",
            "\u001b[32m[I 2021-09-23 05:46:10,083]\u001b[0m Trial 521 finished with value: 0.8889596556939754 and parameters: {'num_leaves': 483, 'max_depth': 9, 'min_data_in_leaf': 95, 'learning_rate': 0.05648779596251753, 'n_estimators': 839, 'lambda_l2': 0.0025491468666507806, 'bagging_fraction': 0.9352210448271321, 'bagging_freq': 4}. Best is trial 404 with value: 0.8975702746598491.\u001b[0m\n",
            "\u001b[32m[I 2021-09-23 05:46:13,658]\u001b[0m Trial 522 finished with value: 0.8829295431702592 and parameters: {'num_leaves': 415, 'max_depth': 9, 'min_data_in_leaf': 141, 'learning_rate': 0.049202023255795216, 'n_estimators': 876, 'lambda_l2': 0.00481847164619427, 'bagging_fraction': 0.9605910126253895, 'bagging_freq': 4}. Best is trial 404 with value: 0.8975702746598491.\u001b[0m\n",
            "\u001b[32m[I 2021-09-23 05:46:16,952]\u001b[0m Trial 523 finished with value: 0.8856455185321666 and parameters: {'num_leaves': 462, 'max_depth': 7, 'min_data_in_leaf': 105, 'learning_rate': 0.04481053491807381, 'n_estimators': 850, 'lambda_l2': 0.001899155020766022, 'bagging_fraction': 0.9819636886600136, 'bagging_freq': 4}. Best is trial 404 with value: 0.8975702746598491.\u001b[0m\n",
            "\u001b[32m[I 2021-09-23 05:46:20,834]\u001b[0m Trial 524 finished with value: 0.8931627765250995 and parameters: {'num_leaves': 436, 'max_depth': 8, 'min_data_in_leaf': 92, 'learning_rate': 0.05877053743625372, 'n_estimators': 871, 'lambda_l2': 0.00336737720700499, 'bagging_fraction': 0.9466024652623195, 'bagging_freq': 4}. Best is trial 404 with value: 0.8975702746598491.\u001b[0m\n",
            "\u001b[32m[I 2021-09-23 05:46:24,719]\u001b[0m Trial 525 finished with value: 0.8884518438094295 and parameters: {'num_leaves': 449, 'max_depth': 8, 'min_data_in_leaf': 80, 'learning_rate': 0.05921705734642767, 'n_estimators': 875, 'lambda_l2': 0.0034579708335529327, 'bagging_fraction': 0.9445584335964743, 'bagging_freq': 4}. Best is trial 404 with value: 0.8975702746598491.\u001b[0m\n",
            "\u001b[32m[I 2021-09-23 05:46:28,339]\u001b[0m Trial 526 finished with value: 0.8872876998328697 and parameters: {'num_leaves': 431, 'max_depth': 8, 'min_data_in_leaf': 114, 'learning_rate': 0.058544790310657, 'n_estimators': 888, 'lambda_l2': 0.003089179237118924, 'bagging_fraction': 0.9214004778594368, 'bagging_freq': 4}. Best is trial 404 with value: 0.8975702746598491.\u001b[0m\n",
            "\u001b[32m[I 2021-09-23 05:46:32,135]\u001b[0m Trial 527 finished with value: 0.878549034583699 and parameters: {'num_leaves': 469, 'max_depth': 8, 'min_data_in_leaf': 93, 'learning_rate': 0.05316937249331331, 'n_estimators': 864, 'lambda_l2': 0.004078766811441461, 'bagging_fraction': 0.9697632386147201, 'bagging_freq': 4}. Best is trial 404 with value: 0.8975702746598491.\u001b[0m\n",
            "\u001b[32m[I 2021-09-23 05:46:35,712]\u001b[0m Trial 528 finished with value: 0.8900546223644572 and parameters: {'num_leaves': 721, 'max_depth': 8, 'min_data_in_leaf': 126, 'learning_rate': 0.05850125086030418, 'n_estimators': 838, 'lambda_l2': 0.0055384856212320815, 'bagging_fraction': 0.9515044856497912, 'bagging_freq': 4}. Best is trial 404 with value: 0.8975702746598491.\u001b[0m\n",
            "\u001b[32m[I 2021-09-23 05:46:39,399]\u001b[0m Trial 529 finished with value: 0.8785648422363734 and parameters: {'num_leaves': 384, 'max_depth': 8, 'min_data_in_leaf': 104, 'learning_rate': 0.05234810493724279, 'n_estimators': 871, 'lambda_l2': 0.0024815894038092393, 'bagging_fraction': 0.9375537777776433, 'bagging_freq': 4}. Best is trial 404 with value: 0.8975702746598491.\u001b[0m\n",
            "\u001b[32m[I 2021-09-23 05:46:43,548]\u001b[0m Trial 530 finished with value: 0.8916740204027864 and parameters: {'num_leaves': 434, 'max_depth': 8, 'min_data_in_leaf': 95, 'learning_rate': 0.04190550168750259, 'n_estimators': 900, 'lambda_l2': 0.007207907536546578, 'bagging_fraction': 0.9585707131094539, 'bagging_freq': 4}. Best is trial 404 with value: 0.8975702746598491.\u001b[0m\n",
            "\u001b[32m[I 2021-09-23 05:46:47,108]\u001b[0m Trial 531 finished with value: 0.880731853519698 and parameters: {'num_leaves': 407, 'max_depth': 8, 'min_data_in_leaf': 118, 'learning_rate': 0.04784466603664577, 'n_estimators': 856, 'lambda_l2': 0.0029383156994091386, 'bagging_fraction': 0.9150782789556184, 'bagging_freq': 4}. Best is trial 404 with value: 0.8975702746598491.\u001b[0m\n",
            "\u001b[32m[I 2021-09-23 05:46:50,173]\u001b[0m Trial 532 finished with value: 0.8785954951121094 and parameters: {'num_leaves': 701, 'max_depth': 8, 'min_data_in_leaf': 192, 'learning_rate': 0.05594590567061511, 'n_estimators': 874, 'lambda_l2': 0.002144677424490248, 'bagging_fraction': 0.9336151384291478, 'bagging_freq': 4}. Best is trial 404 with value: 0.8975702746598491.\u001b[0m\n",
            "\u001b[32m[I 2021-09-23 05:46:52,254]\u001b[0m Trial 533 finished with value: 0.8774496697370885 and parameters: {'num_leaves': 485, 'max_depth': 8, 'min_data_in_leaf': 408, 'learning_rate': 0.0667284766835558, 'n_estimators': 888, 'lambda_l2': 0.004966962133574145, 'bagging_fraction': 0.9888365195074209, 'bagging_freq': 4}. Best is trial 404 with value: 0.8975702746598491.\u001b[0m\n",
            "\u001b[32m[I 2021-09-23 05:46:56,108]\u001b[0m Trial 534 finished with value: 0.882565050049916 and parameters: {'num_leaves': 444, 'max_depth': 8, 'min_data_in_leaf': 92, 'learning_rate': 0.050527981060044885, 'n_estimators': 837, 'lambda_l2': 0.0019596413275021233, 'bagging_fraction': 0.9708905678483926, 'bagging_freq': 4}. Best is trial 404 with value: 0.8975702746598491.\u001b[0m\n",
            "\u001b[32m[I 2021-09-23 05:46:57,665]\u001b[0m Trial 535 finished with value: 0.8652899791437652 and parameters: {'num_leaves': 416, 'max_depth': 8, 'min_data_in_leaf': 501, 'learning_rate': 0.045164251077557435, 'n_estimators': 855, 'lambda_l2': 0.0038133085719030072, 'bagging_fraction': 0.9039749612832974, 'bagging_freq': 4}. Best is trial 404 with value: 0.8975702746598491.\u001b[0m\n",
            "\u001b[32m[I 2021-09-23 05:47:01,196]\u001b[0m Trial 536 finished with value: 0.8848621436103719 and parameters: {'num_leaves': 431, 'max_depth': 8, 'min_data_in_leaf': 106, 'learning_rate': 0.03947471706982194, 'n_estimators': 830, 'lambda_l2': 0.00276521379909043, 'bagging_fraction': 0.9494033341128577, 'bagging_freq': 4}. Best is trial 404 with value: 0.8975702746598491.\u001b[0m\n",
            "\u001b[32m[I 2021-09-23 05:47:04,643]\u001b[0m Trial 537 finished with value: 0.879421495786227 and parameters: {'num_leaves': 374, 'max_depth': 8, 'min_data_in_leaf': 135, 'learning_rate': 0.059406482571038685, 'n_estimators': 883, 'lambda_l2': 0.006140986491747779, 'bagging_fraction': 0.8826373523759049, 'bagging_freq': 4}. Best is trial 404 with value: 0.8975702746598491.\u001b[0m\n",
            "\u001b[32m[I 2021-09-23 05:47:08,735]\u001b[0m Trial 538 finished with value: 0.8783728092216185 and parameters: {'num_leaves': 783, 'max_depth': 8, 'min_data_in_leaf': 90, 'learning_rate': 0.04852736376427346, 'n_estimators': 865, 'lambda_l2': 0.001775313386684277, 'bagging_fraction': 0.9294799827404653, 'bagging_freq': 4}. Best is trial 404 with value: 0.8975702746598491.\u001b[0m\n",
            "\u001b[32m[I 2021-09-23 05:47:10,585]\u001b[0m Trial 539 finished with value: 0.880351116873717 and parameters: {'num_leaves': 461, 'max_depth': 8, 'min_data_in_leaf': 80, 'learning_rate': 0.05371430725273439, 'n_estimators': 493, 'lambda_l2': 0.0036826544120607957, 'bagging_fraction': 0.48410449621445406, 'bagging_freq': 4}. Best is trial 404 with value: 0.8975702746598491.\u001b[0m\n",
            "\u001b[32m[I 2021-09-23 05:47:14,988]\u001b[0m Trial 540 finished with value: 0.8775625336887978 and parameters: {'num_leaves': 386, 'max_depth': 11, 'min_data_in_leaf': 116, 'learning_rate': 0.042338061542936616, 'n_estimators': 848, 'lambda_l2': 0.0022738754213552227, 'bagging_fraction': 0.9662960701356108, 'bagging_freq': 4}. Best is trial 404 with value: 0.8975702746598491.\u001b[0m\n",
            "\u001b[32m[I 2021-09-23 05:47:19,153]\u001b[0m Trial 541 finished with value: 0.8853751173791968 and parameters: {'num_leaves': 733, 'max_depth': 8, 'min_data_in_leaf': 105, 'learning_rate': 0.046200480292504724, 'n_estimators': 900, 'lambda_l2': 0.0016975495358276084, 'bagging_fraction': 0.9458204905074763, 'bagging_freq': 4}. Best is trial 404 with value: 0.8975702746598491.\u001b[0m\n",
            "\u001b[32m[I 2021-09-23 05:47:23,054]\u001b[0m Trial 542 finished with value: 0.8869743249534839 and parameters: {'num_leaves': 261, 'max_depth': 8, 'min_data_in_leaf': 92, 'learning_rate': 0.05325139566376165, 'n_estimators': 876, 'lambda_l2': 0.003131699506172528, 'bagging_fraction': 0.9887976565817298, 'bagging_freq': 4}. Best is trial 404 with value: 0.8975702746598491.\u001b[0m\n",
            "\u001b[32m[I 2021-09-23 05:47:27,031]\u001b[0m Trial 543 finished with value: 0.8843055436298789 and parameters: {'num_leaves': 406, 'max_depth': 8, 'min_data_in_leaf': 80, 'learning_rate': 0.048312554267124164, 'n_estimators': 828, 'lambda_l2': 0.0047877165324521735, 'bagging_fraction': 0.9232143461740553, 'bagging_freq': 4}. Best is trial 404 with value: 0.8975702746598491.\u001b[0m\n",
            "\u001b[32m[I 2021-09-23 05:47:30,550]\u001b[0m Trial 544 finished with value: 0.8859297552043505 and parameters: {'num_leaves': 516, 'max_depth': 8, 'min_data_in_leaf': 128, 'learning_rate': 0.05583464614725528, 'n_estimators': 856, 'lambda_l2': 0.001417954036711076, 'bagging_fraction': 0.9598299596307897, 'bagging_freq': 4}. Best is trial 404 with value: 0.8975702746598491.\u001b[0m\n",
            "\u001b[32m[I 2021-09-23 05:47:34,998]\u001b[0m Trial 545 finished with value: 0.8857098167000567 and parameters: {'num_leaves': 245, 'max_depth': 10, 'min_data_in_leaf': 107, 'learning_rate': 0.0630174015830842, 'n_estimators': 885, 'lambda_l2': 0.0066838226675770785, 'bagging_fraction': 0.975010272226613, 'bagging_freq': 4}. Best is trial 404 with value: 0.8975702746598491.\u001b[0m\n",
            "\u001b[32m[I 2021-09-23 05:47:39,479]\u001b[0m Trial 546 finished with value: 0.8877393112758805 and parameters: {'num_leaves': 275, 'max_depth': 12, 'min_data_in_leaf': 120, 'learning_rate': 0.04272062492341452, 'n_estimators': 844, 'lambda_l2': 0.0023479687439772875, 'bagging_fraction': 0.9381145849308287, 'bagging_freq': 4}. Best is trial 404 with value: 0.8975702746598491.\u001b[0m\n",
            "\u001b[32m[I 2021-09-23 05:47:42,899]\u001b[0m Trial 547 finished with value: 0.8822275756708623 and parameters: {'num_leaves': 760, 'max_depth': 8, 'min_data_in_leaf': 149, 'learning_rate': 0.05068451074498421, 'n_estimators': 867, 'lambda_l2': 0.003405205043121148, 'bagging_fraction': 0.9513810427986014, 'bagging_freq': 4}. Best is trial 404 with value: 0.8975702746598491.\u001b[0m\n",
            "\u001b[32m[I 2021-09-23 05:47:46,844]\u001b[0m Trial 548 finished with value: 0.8894705138058766 and parameters: {'num_leaves': 472, 'max_depth': 9, 'min_data_in_leaf': 101, 'learning_rate': 0.03901469409594679, 'n_estimators': 823, 'lambda_l2': 0.0012226564187984557, 'bagging_fraction': 0.9005472470755602, 'bagging_freq': 4}. Best is trial 404 with value: 0.8975702746598491.\u001b[0m\n",
            "\u001b[32m[I 2021-09-23 05:47:50,864]\u001b[0m Trial 549 finished with value: 0.8828559316395581 and parameters: {'num_leaves': 291, 'max_depth': 8, 'min_data_in_leaf': 92, 'learning_rate': 0.044125605966680616, 'n_estimators': 886, 'lambda_l2': 0.004590826118330869, 'bagging_fraction': 0.913082765182318, 'bagging_freq': 4}. Best is trial 404 with value: 0.8975702746598491.\u001b[0m\n",
            "\u001b[32m[I 2021-09-23 05:47:54,572]\u001b[0m Trial 550 finished with value: 0.8916297475540537 and parameters: {'num_leaves': 426, 'max_depth': 8, 'min_data_in_leaf': 113, 'learning_rate': 0.05748393165155383, 'n_estimators': 869, 'lambda_l2': 0.0018600552378398888, 'bagging_fraction': 0.92856737554285, 'bagging_freq': 4}. Best is trial 404 with value: 0.8975702746598491.\u001b[0m\n",
            "\u001b[32m[I 2021-09-23 05:47:58,404]\u001b[0m Trial 551 finished with value: 0.8843933280960555 and parameters: {'num_leaves': 249, 'max_depth': 8, 'min_data_in_leaf': 91, 'learning_rate': 0.048757971254657306, 'n_estimators': 845, 'lambda_l2': 2.6713507743530312e-05, 'bagging_fraction': 0.9992777003278157, 'bagging_freq': 4}. Best is trial 404 with value: 0.8975702746598491.\u001b[0m\n",
            "\u001b[32m[I 2021-09-23 05:48:01,960]\u001b[0m Trial 552 finished with value: 0.8903620920298145 and parameters: {'num_leaves': 446, 'max_depth': 8, 'min_data_in_leaf': 135, 'learning_rate': 0.036918209462159235, 'n_estimators': 889, 'lambda_l2': 0.002568175358386125, 'bagging_fraction': 0.96505110743474, 'bagging_freq': 4}. Best is trial 404 with value: 0.8975702746598491.\u001b[0m\n",
            "\u001b[32m[I 2021-09-23 05:48:05,121]\u001b[0m Trial 553 finished with value: 0.8838948009525452 and parameters: {'num_leaves': 318, 'max_depth': 8, 'min_data_in_leaf': 104, 'learning_rate': 0.051553196009114274, 'n_estimators': 865, 'lambda_l2': 0.0012422200414333065, 'bagging_fraction': 0.6356361657149402, 'bagging_freq': 4}. Best is trial 404 with value: 0.8975702746598491.\u001b[0m\n",
            "\u001b[32m[I 2021-09-23 05:48:08,845]\u001b[0m Trial 554 finished with value: 0.8852844969117111 and parameters: {'num_leaves': 347, 'max_depth': 8, 'min_data_in_leaf': 117, 'learning_rate': 0.04586913981195268, 'n_estimators': 900, 'lambda_l2': 0.0009334908491890631, 'bagging_fraction': 0.9825550648115422, 'bagging_freq': 4}. Best is trial 404 with value: 0.8975702746598491.\u001b[0m\n",
            "\u001b[32m[I 2021-09-23 05:48:12,694]\u001b[0m Trial 555 finished with value: 0.8833042841145226 and parameters: {'num_leaves': 264, 'max_depth': 8, 'min_data_in_leaf': 80, 'learning_rate': 0.06034918830211542, 'n_estimators': 841, 'lambda_l2': 0.003008813689139492, 'bagging_fraction': 0.9449759166299349, 'bagging_freq': 4}. Best is trial 404 with value: 0.8975702746598491.\u001b[0m\n",
            "\u001b[32m[I 2021-09-23 05:48:16,274]\u001b[0m Trial 556 finished with value: 0.8815923074379347 and parameters: {'num_leaves': 293, 'max_depth': 8, 'min_data_in_leaf': 101, 'learning_rate': 0.05425245959020093, 'n_estimators': 857, 'lambda_l2': 0.0018359567554495071, 'bagging_fraction': 0.912677999730475, 'bagging_freq': 4}. Best is trial 404 with value: 0.8975702746598491.\u001b[0m\n",
            "\u001b[32m[I 2021-09-23 05:48:20,069]\u001b[0m Trial 557 finished with value: 0.8844784105448008 and parameters: {'num_leaves': 242, 'max_depth': 8, 'min_data_in_leaf': 91, 'learning_rate': 0.07048734769329654, 'n_estimators': 876, 'lambda_l2': 0.0050160109904672364, 'bagging_fraction': 0.9564629107433539, 'bagging_freq': 4}. Best is trial 404 with value: 0.8975702746598491.\u001b[0m\n",
            "\u001b[32m[I 2021-09-23 05:48:23,625]\u001b[0m Trial 558 finished with value: 0.8916848687357454 and parameters: {'num_leaves': 367, 'max_depth': 7, 'min_data_in_leaf': 80, 'learning_rate': 0.04078534671069882, 'n_estimators': 824, 'lambda_l2': 0.004022030243463215, 'bagging_fraction': 0.9752378709590072, 'bagging_freq': 4}. Best is trial 404 with value: 0.8975702746598491.\u001b[0m\n",
            "\u001b[32m[I 2021-09-23 05:48:26,240]\u001b[0m Trial 559 finished with value: 0.8807142118593907 and parameters: {'num_leaves': 219, 'max_depth': 8, 'min_data_in_leaf': 125, 'learning_rate': 0.046571000317589054, 'n_estimators': 620, 'lambda_l2': 0.007229845024266143, 'bagging_fraction': 0.937026013476608, 'bagging_freq': 4}. Best is trial 404 with value: 0.8975702746598491.\u001b[0m\n",
            "\u001b[32m[I 2021-09-23 05:48:29,547]\u001b[0m Trial 560 finished with value: 0.8814226693930404 and parameters: {'num_leaves': 395, 'max_depth': 7, 'min_data_in_leaf': 103, 'learning_rate': 0.050473607021588957, 'n_estimators': 853, 'lambda_l2': 0.0009729824129266127, 'bagging_fraction': 0.8912813592044212, 'bagging_freq': 4}. Best is trial 404 with value: 0.8975702746598491.\u001b[0m\n",
            "\u001b[32m[I 2021-09-23 05:48:33,507]\u001b[0m Trial 561 finished with value: 0.8811247824344731 and parameters: {'num_leaves': 272, 'max_depth': 9, 'min_data_in_leaf': 112, 'learning_rate': 0.04318112903219314, 'n_estimators': 877, 'lambda_l2': 0.0014952012259549028, 'bagging_fraction': 0.9239067369777132, 'bagging_freq': 4}. Best is trial 404 with value: 0.8975702746598491.\u001b[0m\n",
            "\u001b[32m[I 2021-09-23 05:48:37,103]\u001b[0m Trial 562 finished with value: 0.8850061053448732 and parameters: {'num_leaves': 311, 'max_depth': 8, 'min_data_in_leaf': 92, 'learning_rate': 0.06571501869899929, 'n_estimators': 833, 'lambda_l2': 0.002283846636649818, 'bagging_fraction': 0.964798625297239, 'bagging_freq': 4}. Best is trial 404 with value: 0.8975702746598491.\u001b[0m\n",
            "\u001b[32m[I 2021-09-23 05:48:40,498]\u001b[0m Trial 563 finished with value: 0.879306521879049 and parameters: {'num_leaves': 235, 'max_depth': 8, 'min_data_in_leaf': 137, 'learning_rate': 0.07729713734610692, 'n_estimators': 887, 'lambda_l2': 0.0035340875927534774, 'bagging_fraction': 0.9489963798741122, 'bagging_freq': 4}. Best is trial 404 with value: 0.8975702746598491.\u001b[0m\n",
            "\u001b[32m[I 2021-09-23 05:48:43,764]\u001b[0m Trial 564 finished with value: 0.8907138236652768 and parameters: {'num_leaves': 501, 'max_depth': 7, 'min_data_in_leaf': 103, 'learning_rate': 0.05566338871689848, 'n_estimators': 862, 'lambda_l2': 0.0007531816204124285, 'bagging_fraction': 0.8751320056289145, 'bagging_freq': 4}. Best is trial 404 with value: 0.8975702746598491.\u001b[0m\n",
            "\u001b[32m[I 2021-09-23 05:48:46,649]\u001b[0m Trial 565 finished with value: 0.8808522944630552 and parameters: {'num_leaves': 261, 'max_depth': 8, 'min_data_in_leaf': 156, 'learning_rate': 0.05165773592543685, 'n_estimators': 842, 'lambda_l2': 0.0011909408033303117, 'bagging_fraction': 0.9369872364223915, 'bagging_freq': 1}. Best is trial 404 with value: 0.8975702746598491.\u001b[0m\n",
            "\u001b[32m[I 2021-09-23 05:48:49,950]\u001b[0m Trial 566 finished with value: 0.8813484400897045 and parameters: {'num_leaves': 296, 'max_depth': 8, 'min_data_in_leaf': 123, 'learning_rate': 0.046925316707698526, 'n_estimators': 818, 'lambda_l2': 0.002835520290878703, 'bagging_fraction': 0.97971121791456, 'bagging_freq': 4}. Best is trial 404 with value: 0.8975702746598491.\u001b[0m\n",
            "\u001b[32m[I 2021-09-23 05:48:51,452]\u001b[0m Trial 567 finished with value: 0.8741667409154603 and parameters: {'num_leaves': 212, 'max_depth': 7, 'min_data_in_leaf': 91, 'learning_rate': 0.03662226635104721, 'n_estimators': 335, 'lambda_l2': 0.0017467593900390187, 'bagging_fraction': 0.9071423872207927, 'bagging_freq': 4}. Best is trial 404 with value: 0.8975702746598491.\u001b[0m\n",
            "\u001b[32m[I 2021-09-23 05:48:55,026]\u001b[0m Trial 568 finished with value: 0.8736219064151342 and parameters: {'num_leaves': 426, 'max_depth': 8, 'min_data_in_leaf': 114, 'learning_rate': 0.05940747858110752, 'n_estimators': 870, 'lambda_l2': 0.005805167114143716, 'bagging_fraction': 0.991963963416527, 'bagging_freq': 4}. Best is trial 404 with value: 0.8975702746598491.\u001b[0m\n",
            "\u001b[32m[I 2021-09-23 05:48:58,996]\u001b[0m Trial 569 finished with value: 0.8882392389129484 and parameters: {'num_leaves': 453, 'max_depth': 8, 'min_data_in_leaf': 92, 'learning_rate': 0.043459675692711114, 'n_estimators': 887, 'lambda_l2': 0.002343887199641744, 'bagging_fraction': 0.9564067052337152, 'bagging_freq': 4}. Best is trial 404 with value: 0.8975702746598491.\u001b[0m\n",
            "\u001b[32m[I 2021-09-23 05:49:02,800]\u001b[0m Trial 570 finished with value: 0.8861482377793607 and parameters: {'num_leaves': 331, 'max_depth': 7, 'min_data_in_leaf': 80, 'learning_rate': 0.04932634079499078, 'n_estimators': 900, 'lambda_l2': 0.0009554526875361275, 'bagging_fraction': 0.9304787509325132, 'bagging_freq': 4}. Best is trial 404 with value: 0.8975702746598491.\u001b[0m\n",
            "\u001b[32m[I 2021-09-23 05:49:06,466]\u001b[0m Trial 571 finished with value: 0.8853228535423969 and parameters: {'num_leaves': 281, 'max_depth': 8, 'min_data_in_leaf': 103, 'learning_rate': 0.05377749510690523, 'n_estimators': 852, 'lambda_l2': 0.003808032585280358, 'bagging_fraction': 0.968209576649557, 'bagging_freq': 2}. Best is trial 404 with value: 0.8975702746598491.\u001b[0m\n",
            "\u001b[32m[I 2021-09-23 05:49:09,070]\u001b[0m Trial 572 finished with value: 0.8818046122813943 and parameters: {'num_leaves': 986, 'max_depth': 7, 'min_data_in_leaf': 270, 'learning_rate': 0.04020028258580545, 'n_estimators': 872, 'lambda_l2': 0.001373481308939682, 'bagging_fraction': 0.9451010105794597, 'bagging_freq': 4}. Best is trial 404 with value: 0.8975702746598491.\u001b[0m\n",
            "\u001b[32m[I 2021-09-23 05:49:12,392]\u001b[0m Trial 573 finished with value: 0.8825842740192295 and parameters: {'num_leaves': 234, 'max_depth': 8, 'min_data_in_leaf': 125, 'learning_rate': 0.046849026804771994, 'n_estimators': 840, 'lambda_l2': 0.0007540067545220235, 'bagging_fraction': 0.9867992059822545, 'bagging_freq': 4}. Best is trial 404 with value: 0.8975702746598491.\u001b[0m\n",
            "\u001b[32m[I 2021-09-23 05:49:15,882]\u001b[0m Trial 574 finished with value: 0.8812320014687363 and parameters: {'num_leaves': 201, 'max_depth': 8, 'min_data_in_leaf': 103, 'learning_rate': 0.05601395019738814, 'n_estimators': 829, 'lambda_l2': 0.0019034551639622395, 'bagging_fraction': 0.929608554150823, 'bagging_freq': 4}. Best is trial 404 with value: 0.8975702746598491.\u001b[0m\n",
            "\u001b[32m[I 2021-09-23 05:49:19,643]\u001b[0m Trial 575 finished with value: 0.8841902309396668 and parameters: {'num_leaves': 257, 'max_depth': 8, 'min_data_in_leaf': 80, 'learning_rate': 0.061397875937795394, 'n_estimators': 814, 'lambda_l2': 0.001137332328635929, 'bagging_fraction': 0.9186349528658256, 'bagging_freq': 4}. Best is trial 404 with value: 0.8975702746598491.\u001b[0m\n",
            "\u001b[32m[I 2021-09-23 05:49:22,999]\u001b[0m Trial 576 finished with value: 0.88701781466987 and parameters: {'num_leaves': 479, 'max_depth': 7, 'min_data_in_leaf': 112, 'learning_rate': 0.050514424964273046, 'n_estimators': 861, 'lambda_l2': 5.712628533456312e-07, 'bagging_fraction': 0.953538888438412, 'bagging_freq': 4}. Best is trial 404 with value: 0.8975702746598491.\u001b[0m\n",
            "\u001b[32m[I 2021-09-23 05:49:27,114]\u001b[0m Trial 577 finished with value: 0.877021936264431 and parameters: {'num_leaves': 699, 'max_depth': 10, 'min_data_in_leaf': 144, 'learning_rate': 0.044479042254848764, 'n_estimators': 886, 'lambda_l2': 0.0026460047641833316, 'bagging_fraction': 0.9691668402903951, 'bagging_freq': 4}. Best is trial 404 with value: 0.8975702746598491.\u001b[0m\n",
            "\u001b[32m[I 2021-09-23 05:49:30,347]\u001b[0m Trial 578 finished with value: 0.889547598229289 and parameters: {'num_leaves': 753, 'max_depth': 8, 'min_data_in_leaf': 95, 'learning_rate': 0.0345520320882087, 'n_estimators': 871, 'lambda_l2': 0.0045999839251945306, 'bagging_fraction': 0.5773074399343733, 'bagging_freq': 4}. Best is trial 404 with value: 0.8975702746598491.\u001b[0m\n",
            "\u001b[32m[I 2021-09-23 05:49:33,692]\u001b[0m Trial 579 finished with value: 0.8875294566545696 and parameters: {'num_leaves': 357, 'max_depth': 7, 'min_data_in_leaf': 127, 'learning_rate': 0.05376192915026449, 'n_estimators': 900, 'lambda_l2': 0.0015597220671211185, 'bagging_fraction': 0.9426986080535564, 'bagging_freq': 4}. Best is trial 404 with value: 0.8975702746598491.\u001b[0m\n",
            "\u001b[32m[I 2021-09-23 05:49:36,147]\u001b[0m Trial 580 finished with value: 0.8837473172720568 and parameters: {'num_leaves': 278, 'max_depth': 9, 'min_data_in_leaf': 92, 'learning_rate': 0.0404060169289005, 'n_estimators': 462, 'lambda_l2': 0.007052073328075791, 'bagging_fraction': 0.9103712549006405, 'bagging_freq': 4}. Best is trial 404 with value: 0.8975702746598491.\u001b[0m\n",
            "\u001b[32m[I 2021-09-23 05:49:40,210]\u001b[0m Trial 581 finished with value: 0.891729323871687 and parameters: {'num_leaves': 409, 'max_depth': 8, 'min_data_in_leaf': 80, 'learning_rate': 0.04948272759818939, 'n_estimators': 857, 'lambda_l2': 0.0031747769885274875, 'bagging_fraction': 0.8958820109282737, 'bagging_freq': 4}. Best is trial 404 with value: 0.8975702746598491.\u001b[0m\n",
            "\u001b[32m[I 2021-09-23 05:49:41,485]\u001b[0m Trial 582 finished with value: 0.8606379104401661 and parameters: {'num_leaves': 303, 'max_depth': 8, 'min_data_in_leaf': 663, 'learning_rate': 0.07370885413382652, 'n_estimators': 848, 'lambda_l2': 0.0009737204802383533, 'bagging_fraction': 0.9600685428261874, 'bagging_freq': 4}. Best is trial 404 with value: 0.8975702746598491.\u001b[0m\n",
            "\u001b[32m[I 2021-09-23 05:49:44,846]\u001b[0m Trial 583 finished with value: 0.8817352531840028 and parameters: {'num_leaves': 235, 'max_depth': 7, 'min_data_in_leaf': 111, 'learning_rate': 0.05822366307455091, 'n_estimators': 877, 'lambda_l2': 0.001996825243624568, 'bagging_fraction': 0.9749276593913722, 'bagging_freq': 4}. Best is trial 404 with value: 0.8975702746598491.\u001b[0m\n",
            "\u001b[32m[I 2021-09-23 05:49:47,020]\u001b[0m Trial 584 finished with value: 0.8724021858186576 and parameters: {'num_leaves': 725, 'max_depth': 8, 'min_data_in_leaf': 100, 'learning_rate': 0.04546998983838287, 'n_estimators': 818, 'lambda_l2': 0.00069644175582908, 'bagging_fraction': 0.38667358966850346, 'bagging_freq': 4}. Best is trial 404 with value: 0.8975702746598491.\u001b[0m\n",
            "\u001b[32m[I 2021-09-23 05:49:50,588]\u001b[0m Trial 585 finished with value: 0.8851698637754984 and parameters: {'num_leaves': 260, 'max_depth': 7, 'min_data_in_leaf': 80, 'learning_rate': 0.0509199996599392, 'n_estimators': 833, 'lambda_l2': 0.003951810919268403, 'bagging_fraction': 0.9343137883051935, 'bagging_freq': 4}. Best is trial 404 with value: 0.8975702746598491.\u001b[0m\n",
            "\u001b[32m[I 2021-09-23 05:49:54,422]\u001b[0m Trial 586 finished with value: 0.890006192542445 and parameters: {'num_leaves': 278, 'max_depth': 8, 'min_data_in_leaf': 112, 'learning_rate': 0.04295097151505163, 'n_estimators': 887, 'lambda_l2': 0.0013367237749557584, 'bagging_fraction': 0.9205346908937977, 'bagging_freq': 4}. Best is trial 404 with value: 0.8975702746598491.\u001b[0m\n",
            "\u001b[32m[I 2021-09-23 05:49:57,857]\u001b[0m Trial 587 finished with value: 0.8883441461284207 and parameters: {'num_leaves': 322, 'max_depth': 8, 'min_data_in_leaf': 134, 'learning_rate': 0.06386337176806085, 'n_estimators': 858, 'lambda_l2': 0.005664610852311127, 'bagging_fraction': 0.9898632118781017, 'bagging_freq': 4}. Best is trial 404 with value: 0.8975702746598491.\u001b[0m\n",
            "\u001b[32m[I 2021-09-23 05:50:01,484]\u001b[0m Trial 588 finished with value: 0.8859849297690023 and parameters: {'num_leaves': 246, 'max_depth': 7, 'min_data_in_leaf': 93, 'learning_rate': 0.04757275617235562, 'n_estimators': 874, 'lambda_l2': 0.002496604990327584, 'bagging_fraction': 0.9535118619350227, 'bagging_freq': 4}. Best is trial 404 with value: 0.8975702746598491.\u001b[0m\n",
            "\u001b[32m[I 2021-09-23 05:50:05,135]\u001b[0m Trial 589 finished with value: 0.8813220636808191 and parameters: {'num_leaves': 459, 'max_depth': 8, 'min_data_in_leaf': 121, 'learning_rate': 0.03799594787299381, 'n_estimators': 841, 'lambda_l2': 0.0016846370557821548, 'bagging_fraction': 0.9988662192870343, 'bagging_freq': 4}. Best is trial 404 with value: 0.8975702746598491.\u001b[0m\n",
            "\u001b[32m[I 2021-09-23 05:50:08,940]\u001b[0m Trial 590 finished with value: 0.8847206695425175 and parameters: {'num_leaves': 383, 'max_depth': 8, 'min_data_in_leaf': 102, 'learning_rate': 0.05411022938977137, 'n_estimators': 860, 'lambda_l2': 0.0008691035412661085, 'bagging_fraction': 0.9427279492343207, 'bagging_freq': 4}. Best is trial 404 with value: 0.8975702746598491.\u001b[0m\n",
            "\u001b[32m[I 2021-09-23 05:50:12,300]\u001b[0m Trial 591 finished with value: 0.8838969513356447 and parameters: {'num_leaves': 438, 'max_depth': 7, 'min_data_in_leaf': 93, 'learning_rate': 0.056700881576215764, 'n_estimators': 812, 'lambda_l2': 0.0030254508325269405, 'bagging_fraction': 0.974773610249223, 'bagging_freq': 4}. Best is trial 404 with value: 0.8975702746598491.\u001b[0m\n",
            "\u001b[32m[I 2021-09-23 05:50:15,340]\u001b[0m Trial 592 finished with value: 0.8802894541176696 and parameters: {'num_leaves': 221, 'max_depth': 8, 'min_data_in_leaf': 117, 'learning_rate': 0.047872564151391774, 'n_estimators': 881, 'lambda_l2': 0.0010271796686362083, 'bagging_fraction': 0.6483143357831178, 'bagging_freq': 4}. Best is trial 404 with value: 0.8975702746598491.\u001b[0m\n",
            "\u001b[32m[I 2021-09-23 05:50:19,310]\u001b[0m Trial 593 finished with value: 0.8872425140290955 and parameters: {'num_leaves': 299, 'max_depth': 8, 'min_data_in_leaf': 101, 'learning_rate': 0.05202656136394282, 'n_estimators': 888, 'lambda_l2': 0.0006008614475538968, 'bagging_fraction': 0.9614409289035593, 'bagging_freq': 4}. Best is trial 404 with value: 0.8975702746598491.\u001b[0m\n",
            "\u001b[32m[I 2021-09-23 05:50:22,904]\u001b[0m Trial 594 finished with value: 0.8904203447717994 and parameters: {'num_leaves': 784, 'max_depth': 7, 'min_data_in_leaf': 91, 'learning_rate': 0.04194817198599829, 'n_estimators': 830, 'lambda_l2': 4.69742958492541e-06, 'bagging_fraction': 0.8866077919971217, 'bagging_freq': 4}. Best is trial 404 with value: 0.8975702746598491.\u001b[0m\n",
            "\u001b[32m[I 2021-09-23 05:50:26,955]\u001b[0m Trial 595 finished with value: 0.8794056667746473 and parameters: {'num_leaves': 264, 'max_depth': 8, 'min_data_in_leaf': 80, 'learning_rate': 0.04435577025694773, 'n_estimators': 848, 'lambda_l2': 0.002180782626036614, 'bagging_fraction': 0.9230994914498666, 'bagging_freq': 4}. Best is trial 404 with value: 0.8975702746598491.\u001b[0m\n",
            "\u001b[32m[I 2021-09-23 05:50:30,356]\u001b[0m Trial 596 finished with value: 0.8894886637327745 and parameters: {'num_leaves': 400, 'max_depth': 8, 'min_data_in_leaf': 140, 'learning_rate': 0.05976938385591515, 'n_estimators': 867, 'lambda_l2': 0.004380719251563003, 'bagging_fraction': 0.9058049719181275, 'bagging_freq': 4}. Best is trial 404 with value: 0.8975702746598491.\u001b[0m\n",
            "\u001b[32m[I 2021-09-23 05:50:33,753]\u001b[0m Trial 597 finished with value: 0.8854698723536039 and parameters: {'num_leaves': 285, 'max_depth': 7, 'min_data_in_leaf': 114, 'learning_rate': 0.04771341331530834, 'n_estimators': 889, 'lambda_l2': 0.001364250121963268, 'bagging_fraction': 0.9469926897557095, 'bagging_freq': 4}. Best is trial 404 with value: 0.8975702746598491.\u001b[0m\n",
            "\u001b[32m[I 2021-09-23 05:50:36,885]\u001b[0m Trial 598 finished with value: 0.8815081523948801 and parameters: {'num_leaves': 339, 'max_depth': 8, 'min_data_in_leaf': 164, 'learning_rate': 0.052319314118111984, 'n_estimators': 847, 'lambda_l2': 0.0034598581582936275, 'bagging_fraction': 0.9772203660119495, 'bagging_freq': 4}. Best is trial 404 with value: 0.8975702746598491.\u001b[0m\n",
            "\u001b[32m[I 2021-09-23 05:50:40,806]\u001b[0m Trial 599 finished with value: 0.8878176445254584 and parameters: {'num_leaves': 243, 'max_depth': 8, 'min_data_in_leaf': 103, 'learning_rate': 0.03928844356660942, 'n_estimators': 899, 'lambda_l2': 0.0007382843858718338, 'bagging_fraction': 0.9359331658024428, 'bagging_freq': 4}. Best is trial 404 with value: 0.8975702746598491.\u001b[0m\n",
            "\u001b[32m[I 2021-09-23 05:50:44,590]\u001b[0m Trial 600 finished with value: 0.8811513927021135 and parameters: {'num_leaves': 419, 'max_depth': 9, 'min_data_in_leaf': 125, 'learning_rate': 0.06913970013291754, 'n_estimators': 870, 'lambda_l2': 3.949423969582277e-07, 'bagging_fraction': 0.9629995994234452, 'bagging_freq': 2}. Best is trial 404 with value: 0.8975702746598491.\u001b[0m\n",
            "\u001b[32m[I 2021-09-23 05:50:47,762]\u001b[0m Trial 601 finished with value: 0.8789662643424673 and parameters: {'num_leaves': 477, 'max_depth': 7, 'min_data_in_leaf': 93, 'learning_rate': 0.07967777955303824, 'n_estimators': 822, 'lambda_l2': 0.002127884821605917, 'bagging_fraction': 0.9231563037157112, 'bagging_freq': 3}. Best is trial 404 with value: 0.8975702746598491.\u001b[0m\n",
            "\u001b[32m[I 2021-09-23 05:50:51,050]\u001b[0m Trial 602 finished with value: 0.8774178100669162 and parameters: {'num_leaves': 227, 'max_depth': 8, 'min_data_in_leaf': 111, 'learning_rate': 0.056172796399162686, 'n_estimators': 806, 'lambda_l2': 0.0010966040359962682, 'bagging_fraction': 0.9513112939683458, 'bagging_freq': 4}. Best is trial 404 with value: 0.8975702746598491.\u001b[0m\n",
            "\u001b[32m[I 2021-09-23 05:50:54,899]\u001b[0m Trial 603 finished with value: 0.89773631262663 and parameters: {'num_leaves': 265, 'max_depth': 8, 'min_data_in_leaf': 90, 'learning_rate': 0.03465588572813726, 'n_estimators': 860, 'lambda_l2': 0.0015472753387245955, 'bagging_fraction': 0.8674475747239556, 'bagging_freq': 4}. Best is trial 603 with value: 0.89773631262663.\u001b[0m\n",
            "\u001b[32m[I 2021-09-23 05:50:56,462]\u001b[0m Trial 604 finished with value: 0.8676278979771269 and parameters: {'num_leaves': 291, 'max_depth': 7, 'min_data_in_leaf': 449, 'learning_rate': 0.02966489176650173, 'n_estimators': 858, 'lambda_l2': 0.0016479361363722679, 'bagging_fraction': 0.8781229400149788, 'bagging_freq': 3}. Best is trial 603 with value: 0.89773631262663.\u001b[0m\n",
            "\u001b[32m[I 2021-09-23 05:50:59,832]\u001b[0m Trial 605 finished with value: 0.8903469827755837 and parameters: {'num_leaves': 309, 'max_depth': 8, 'min_data_in_leaf': 127, 'learning_rate': 0.03220627972681124, 'n_estimators': 875, 'lambda_l2': 0.0026230156764086602, 'bagging_fraction': 0.8681212056372261, 'bagging_freq': 4}. Best is trial 603 with value: 0.89773631262663.\u001b[0m\n",
            "\u001b[32m[I 2021-09-23 05:51:03,043]\u001b[0m Trial 606 finished with value: 0.8771199368537642 and parameters: {'num_leaves': 275, 'max_depth': 8, 'min_data_in_leaf': 146, 'learning_rate': 0.03504619661723617, 'n_estimators': 864, 'lambda_l2': 0.0037294728051540144, 'bagging_fraction': 0.8945891193826907, 'bagging_freq': 4}. Best is trial 603 with value: 0.89773631262663.\u001b[0m\n",
            "\u001b[32m[I 2021-09-23 05:51:06,343]\u001b[0m Trial 607 finished with value: 0.8749318756053323 and parameters: {'num_leaves': 200, 'max_depth': 7, 'min_data_in_leaf': 106, 'learning_rate': 0.03706582459086828, 'n_estimators': 844, 'lambda_l2': 0.007694189296129909, 'bagging_fraction': 0.8575805906721515, 'bagging_freq': 3}. Best is trial 603 with value: 0.89773631262663.\u001b[0m\n",
            "\u001b[32m[I 2021-09-23 05:51:10,326]\u001b[0m Trial 608 finished with value: 0.8821241179078378 and parameters: {'num_leaves': 877, 'max_depth': 8, 'min_data_in_leaf': 115, 'learning_rate': 0.03491774524730999, 'n_estimators': 879, 'lambda_l2': 0.005707914097331787, 'bagging_fraction': 0.9812951620678149, 'bagging_freq': 4}. Best is trial 603 with value: 0.89773631262663.\u001b[0m\n",
            "\u001b[32m[I 2021-09-23 05:51:14,147]\u001b[0m Trial 609 finished with value: 0.8793135387657387 and parameters: {'num_leaves': 369, 'max_depth': 8, 'min_data_in_leaf': 96, 'learning_rate': 0.03240059936468841, 'n_estimators': 852, 'lambda_l2': 1.2572745183954017e-05, 'bagging_fraction': 0.9651698331956524, 'bagging_freq': 4}. Best is trial 603 with value: 0.89773631262663.\u001b[0m\n",
            "\u001b[32m[I 2021-09-23 05:51:17,327]\u001b[0m Trial 610 finished with value: 0.8856399654273199 and parameters: {'num_leaves': 332, 'max_depth': 7, 'min_data_in_leaf': 130, 'learning_rate': 0.03883309421187747, 'n_estimators': 899, 'lambda_l2': 0.002085811836368722, 'bagging_fraction': 0.8618456923372835, 'bagging_freq': 3}. Best is trial 603 with value: 0.89773631262663.\u001b[0m\n",
            "\u001b[32m[I 2021-09-23 05:51:21,093]\u001b[0m Trial 611 finished with value: 0.8879937367992587 and parameters: {'num_leaves': 448, 'max_depth': 8, 'min_data_in_leaf': 93, 'learning_rate': 0.04211110374831527, 'n_estimators': 873, 'lambda_l2': 0.0016108210346277455, 'bagging_fraction': 0.8491360891823004, 'bagging_freq': 4}. Best is trial 603 with value: 0.89773631262663.\u001b[0m\n",
            "\u001b[32m[I 2021-09-23 05:51:25,149]\u001b[0m Trial 612 finished with value: 0.8866388055851168 and parameters: {'num_leaves': 265, 'max_depth': 8, 'min_data_in_leaf': 80, 'learning_rate': 0.043783314674103305, 'n_estimators': 858, 'lambda_l2': 0.002863302609358391, 'bagging_fraction': 0.8722647905628026, 'bagging_freq': 3}. Best is trial 603 with value: 0.89773631262663.\u001b[0m\n",
            "\u001b[32m[I 2021-09-23 05:51:27,617]\u001b[0m Trial 613 finished with value: 0.8846225591080822 and parameters: {'num_leaves': 510, 'max_depth': 7, 'min_data_in_leaf': 109, 'learning_rate': 0.06526615719228845, 'n_estimators': 837, 'lambda_l2': 3.3659097720846325e-08, 'bagging_fraction': 0.509568727878968, 'bagging_freq': 4}. Best is trial 603 with value: 0.89773631262663.\u001b[0m\n",
            "\u001b[32m[I 2021-09-23 05:51:31,999]\u001b[0m Trial 614 finished with value: 0.8884087752059634 and parameters: {'num_leaves': 430, 'max_depth': 9, 'min_data_in_leaf': 101, 'learning_rate': 0.03919587377267322, 'n_estimators': 887, 'lambda_l2': 0.0036237577241170237, 'bagging_fraction': 0.9992067566760935, 'bagging_freq': 3}. Best is trial 603 with value: 0.89773631262663.\u001b[0m\n",
            "\u001b[32m[I 2021-09-23 05:51:35,671]\u001b[0m Trial 615 finished with value: 0.891378186746859 and parameters: {'num_leaves': 301, 'max_depth': 8, 'min_data_in_leaf': 118, 'learning_rate': 0.045903939484876526, 'n_estimators': 862, 'lambda_l2': 0.0050305069316637545, 'bagging_fraction': 0.9788214109266484, 'bagging_freq': 4}. Best is trial 603 with value: 0.89773631262663.\u001b[0m\n",
            "\u001b[32m[I 2021-09-23 05:51:36,521]\u001b[0m Trial 616 finished with value: 0.8710109426289068 and parameters: {'num_leaves': 315, 'max_depth': 7, 'min_data_in_leaf': 92, 'learning_rate': 0.035061223266425565, 'n_estimators': 136, 'lambda_l2': 0.0014486056559310193, 'bagging_fraction': 0.9523053446714197, 'bagging_freq': 4}. Best is trial 603 with value: 0.89773631262663.\u001b[0m\n",
            "\u001b[32m[I 2021-09-23 05:51:40,586]\u001b[0m Trial 617 finished with value: 0.885192545343945 and parameters: {'num_leaves': 251, 'max_depth': 8, 'min_data_in_leaf': 80, 'learning_rate': 0.052425001374705564, 'n_estimators': 837, 'lambda_l2': 0.0024762748109245394, 'bagging_fraction': 0.9390763205486933, 'bagging_freq': 3}. Best is trial 603 with value: 0.89773631262663.\u001b[0m\n",
            "\u001b[32m[I 2021-09-23 05:51:44,108]\u001b[0m Trial 618 finished with value: 0.8811968553136237 and parameters: {'num_leaves': 280, 'max_depth': 8, 'min_data_in_leaf': 138, 'learning_rate': 0.04261709719578299, 'n_estimators': 877, 'lambda_l2': 0.0019909516734319143, 'bagging_fraction': 0.9632020437294506, 'bagging_freq': 4}. Best is trial 603 with value: 0.89773631262663.\u001b[0m\n",
            "\u001b[32m[I 2021-09-23 05:51:46,355]\u001b[0m Trial 619 finished with value: 0.8724597892083277 and parameters: {'num_leaves': 351, 'max_depth': 7, 'min_data_in_leaf': 107, 'learning_rate': 0.05885370589953056, 'n_estimators': 852, 'lambda_l2': 0.0008332146097898287, 'bagging_fraction': 0.4439407971622496, 'bagging_freq': 4}. Best is trial 603 with value: 0.89773631262663.\u001b[0m\n",
            "\u001b[32m[I 2021-09-23 05:51:50,052]\u001b[0m Trial 620 finished with value: 0.8795324643012176 and parameters: {'num_leaves': 762, 'max_depth': 8, 'min_data_in_leaf': 124, 'learning_rate': 0.047948509334112675, 'n_estimators': 887, 'lambda_l2': 3.8706402288893975e-05, 'bagging_fraction': 0.8886747871189733, 'bagging_freq': 4}. Best is trial 603 with value: 0.89773631262663.\u001b[0m\n",
            "\u001b[32m[I 2021-09-23 05:51:54,047]\u001b[0m Trial 621 finished with value: 0.8808922369816214 and parameters: {'num_leaves': 231, 'max_depth': 8, 'min_data_in_leaf': 93, 'learning_rate': 0.06166628587359104, 'n_estimators': 900, 'lambda_l2': 1.069737801156223e-06, 'bagging_fraction': 0.9891049707122851, 'bagging_freq': 3}. Best is trial 603 with value: 0.89773631262663.\u001b[0m\n",
            "\u001b[32m[I 2021-09-23 05:51:55,707]\u001b[0m Trial 622 finished with value: 0.8712056488972207 and parameters: {'num_leaves': 394, 'max_depth': 10, 'min_data_in_leaf': 108, 'learning_rate': 0.0554303453214837, 'n_estimators': 865, 'lambda_l2': 0.002853436219291303, 'bagging_fraction': 0.3038918981393021, 'bagging_freq': 4}. Best is trial 603 with value: 0.89773631262663.\u001b[0m\n",
            "\u001b[32m[I 2021-09-23 05:51:59,156]\u001b[0m Trial 623 finished with value: 0.8826912769095557 and parameters: {'num_leaves': 249, 'max_depth': 7, 'min_data_in_leaf': 93, 'learning_rate': 0.03948666150636996, 'n_estimators': 833, 'lambda_l2': 6.380321575018825e-05, 'bagging_fraction': 0.9071571601498206, 'bagging_freq': 3}. Best is trial 603 with value: 0.89773631262663.\u001b[0m\n",
            "\u001b[32m[I 2021-09-23 05:52:00,854]\u001b[0m Trial 624 finished with value: 0.8692126731487817 and parameters: {'num_leaves': 271, 'max_depth': 8, 'min_data_in_leaf': 478, 'learning_rate': 0.08232758885712765, 'n_estimators': 880, 'lambda_l2': 0.004591717027191073, 'bagging_fraction': 0.9349858417724742, 'bagging_freq': 4}. Best is trial 603 with value: 0.89773631262663.\u001b[0m\n",
            "\u001b[32m[I 2021-09-23 05:52:04,969]\u001b[0m Trial 625 finished with value: 0.8874578896980095 and parameters: {'num_leaves': 296, 'max_depth': 8, 'min_data_in_leaf': 80, 'learning_rate': 0.0504140825154582, 'n_estimators': 849, 'lambda_l2': 0.0012629696779346132, 'bagging_fraction': 0.9491898631287736, 'bagging_freq': 4}. Best is trial 603 with value: 0.89773631262663.\u001b[0m\n",
            "\u001b[32m[I 2021-09-23 05:52:07,559]\u001b[0m Trial 626 finished with value: 0.876537805498757 and parameters: {'num_leaves': 225, 'max_depth': 7, 'min_data_in_leaf': 205, 'learning_rate': 0.044517989499066324, 'n_estimators': 867, 'lambda_l2': 0.0015850271198716642, 'bagging_fraction': 0.8307158591314486, 'bagging_freq': 3}. Best is trial 603 with value: 0.89773631262663.\u001b[0m\n",
            "\u001b[32m[I 2021-09-23 05:52:11,376]\u001b[0m Trial 627 finished with value: 0.8793917169725202 and parameters: {'num_leaves': 734, 'max_depth': 8, 'min_data_in_leaf': 117, 'learning_rate': 0.07429925008970469, 'n_estimators': 888, 'lambda_l2': 0.0006198381026333628, 'bagging_fraction': 0.9739315039140616, 'bagging_freq': 4}. Best is trial 603 with value: 0.89773631262663.\u001b[0m\n",
            "\u001b[32m[I 2021-09-23 05:52:15,215]\u001b[0m Trial 628 finished with value: 0.8846542265264509 and parameters: {'num_leaves': 463, 'max_depth': 8, 'min_data_in_leaf': 102, 'learning_rate': 0.046850030574570524, 'n_estimators': 848, 'lambda_l2': 0.0021312851020920576, 'bagging_fraction': 0.9624219956182335, 'bagging_freq': 4}. Best is trial 603 with value: 0.89773631262663.\u001b[0m\n",
            "\u001b[32m[I 2021-09-23 05:52:18,492]\u001b[0m Trial 629 finished with value: 0.8852731915227654 and parameters: {'num_leaves': 424, 'max_depth': 7, 'min_data_in_leaf': 152, 'learning_rate': 0.05231347523320726, 'n_estimators': 871, 'lambda_l2': 0.0034320831949256445, 'bagging_fraction': 0.98447816288034, 'bagging_freq': 3}. Best is trial 603 with value: 0.89773631262663.\u001b[0m\n",
            "\u001b[32m[I 2021-09-23 05:52:21,835]\u001b[0m Trial 630 finished with value: 0.8767343025500194 and parameters: {'num_leaves': 268, 'max_depth': 8, 'min_data_in_leaf': 130, 'learning_rate': 0.1826759492115052, 'n_estimators': 831, 'lambda_l2': 9.98993336024906e-08, 'bagging_fraction': 0.9128944981184196, 'bagging_freq': 4}. Best is trial 603 with value: 0.89773631262663.\u001b[0m\n",
            "\u001b[32m[I 2021-09-23 05:52:25,802]\u001b[0m Trial 631 finished with value: 0.8826034522294557 and parameters: {'num_leaves': 216, 'max_depth': 8, 'min_data_in_leaf': 102, 'learning_rate': 0.03636713158474128, 'n_estimators': 856, 'lambda_l2': 0.001004495975224684, 'bagging_fraction': 0.9353303491815651, 'bagging_freq': 4}. Best is trial 603 with value: 0.89773631262663.\u001b[0m\n",
            "\u001b[32m[I 2021-09-23 05:52:29,379]\u001b[0m Trial 632 finished with value: 0.8934614951879968 and parameters: {'num_leaves': 320, 'max_depth': 7, 'min_data_in_leaf': 94, 'learning_rate': 0.04266771904065369, 'n_estimators': 887, 'lambda_l2': 0.007058367833248335, 'bagging_fraction': 0.9510133665036418, 'bagging_freq': 1}. Best is trial 603 with value: 0.89773631262663.\u001b[0m\n",
            "\u001b[32m[I 2021-09-23 05:52:32,804]\u001b[0m Trial 633 finished with value: 0.8874159448703998 and parameters: {'num_leaves': 342, 'max_depth': 7, 'min_data_in_leaf': 117, 'learning_rate': 0.03940919298524268, 'n_estimators': 900, 'lambda_l2': 0.006984846706165227, 'bagging_fraction': 0.9512187875432663, 'bagging_freq': 1}. Best is trial 603 with value: 0.89773631262663.\u001b[0m\n",
            "\u001b[32m[I 2021-09-23 05:52:36,753]\u001b[0m Trial 634 finished with value: 0.8892904606627583 and parameters: {'num_leaves': 321, 'max_depth': 8, 'min_data_in_leaf': 92, 'learning_rate': 0.0323737060119688, 'n_estimators': 885, 'lambda_l2': 0.008916910305629397, 'bagging_fraction': 0.9615164175159217, 'bagging_freq': 1}. Best is trial 603 with value: 0.89773631262663.\u001b[0m\n",
            "\u001b[32m[I 2021-09-23 05:52:38,676]\u001b[0m Trial 635 finished with value: 0.8742926285392041 and parameters: {'num_leaves': 358, 'max_depth': 8, 'min_data_in_leaf': 378, 'learning_rate': 0.042285008189659606, 'n_estimators': 876, 'lambda_l2': 0.007932828999415218, 'bagging_fraction': 0.9429945594882506, 'bagging_freq': 1}. Best is trial 603 with value: 0.89773631262663.\u001b[0m\n",
            "\u001b[32m[I 2021-09-23 05:52:43,220]\u001b[0m Trial 636 finished with value: 0.8801992215410324 and parameters: {'num_leaves': 314, 'max_depth': 9, 'min_data_in_leaf': 80, 'learning_rate': 0.05771154276952504, 'n_estimators': 887, 'lambda_l2': 0.006337041769976886, 'bagging_fraction': 0.9702358350562444, 'bagging_freq': 4}. Best is trial 603 with value: 0.89773631262663.\u001b[0m\n",
            "\u001b[32m[I 2021-09-23 05:52:44,753]\u001b[0m Trial 637 finished with value: 0.8629489166921166 and parameters: {'num_leaves': 376, 'max_depth': 7, 'min_data_in_leaf': 539, 'learning_rate': 0.04811087640676774, 'n_estimators': 866, 'lambda_l2': 0.005622638344089729, 'bagging_fraction': 0.930951741082707, 'bagging_freq': 4}. Best is trial 603 with value: 0.89773631262663.\u001b[0m\n",
            "\u001b[32m[I 2021-09-23 05:52:48,633]\u001b[0m Trial 638 finished with value: 0.8797198826257492 and parameters: {'num_leaves': 406, 'max_depth': 8, 'min_data_in_leaf': 106, 'learning_rate': 0.053213543376342806, 'n_estimators': 899, 'lambda_l2': 0.009515571309014256, 'bagging_fraction': 0.9503371197639933, 'bagging_freq': 1}. Best is trial 603 with value: 0.89773631262663.\u001b[0m\n",
            "\u001b[32m[I 2021-09-23 05:52:51,799]\u001b[0m Trial 639 finished with value: 0.8741503482871267 and parameters: {'num_leaves': 346, 'max_depth': 7, 'min_data_in_leaf': 139, 'learning_rate': 0.0455609003366121, 'n_estimators': 875, 'lambda_l2': 0.004753847221942725, 'bagging_fraction': 0.917415540201993, 'bagging_freq': 4}. Best is trial 603 with value: 0.89773631262663.\u001b[0m\n",
            "\u001b[32m[I 2021-09-23 05:52:55,458]\u001b[0m Trial 640 finished with value: 0.8851911817943813 and parameters: {'num_leaves': 332, 'max_depth': 8, 'min_data_in_leaf': 121, 'learning_rate': 0.06230577552627685, 'n_estimators': 859, 'lambda_l2': 0.00639867002847769, 'bagging_fraction': 0.971503465022082, 'bagging_freq': 2}. Best is trial 603 with value: 0.89773631262663.\u001b[0m\n",
            "\u001b[32m[I 2021-09-23 05:52:58,063]\u001b[0m Trial 641 finished with value: 0.8960561096469486 and parameters: {'num_leaves': 484, 'max_depth': 8, 'min_data_in_leaf': 92, 'learning_rate': 0.050165438403454, 'n_estimators': 573, 'lambda_l2': 0.0035637458708745974, 'bagging_fraction': 0.9305326027424335, 'bagging_freq': 1}. Best is trial 603 with value: 0.89773631262663.\u001b[0m\n",
            "\u001b[32m[I 2021-09-23 05:53:00,485]\u001b[0m Trial 642 finished with value: 0.8933965770373349 and parameters: {'num_leaves': 484, 'max_depth': 8, 'min_data_in_leaf': 92, 'learning_rate': 0.054849365650221825, 'n_estimators': 546, 'lambda_l2': 0.004125388107916031, 'bagging_fraction': 0.9290197501893871, 'bagging_freq': 1}. Best is trial 603 with value: 0.89773631262663.\u001b[0m\n",
            "\u001b[32m[I 2021-09-23 05:53:02,710]\u001b[0m Trial 643 finished with value: 0.8775857429749105 and parameters: {'num_leaves': 504, 'max_depth': 8, 'min_data_in_leaf': 110, 'learning_rate': 0.050744997373948296, 'n_estimators': 512, 'lambda_l2': 0.004444447089519388, 'bagging_fraction': 0.9090901060071492, 'bagging_freq': 1}. Best is trial 603 with value: 0.89773631262663.\u001b[0m\n",
            "\u001b[32m[I 2021-09-23 05:53:04,410]\u001b[0m Trial 644 finished with value: 0.8782793767483182 and parameters: {'num_leaves': 525, 'max_depth': 8, 'min_data_in_leaf': 126, 'learning_rate': 0.055706245807698423, 'n_estimators': 545, 'lambda_l2': 0.0040131673693757025, 'bagging_fraction': 0.597983559542447, 'bagging_freq': 1}. Best is trial 603 with value: 0.89773631262663.\u001b[0m\n",
            "\u001b[32m[I 2021-09-23 05:53:06,450]\u001b[0m Trial 645 finished with value: 0.8848023213152666 and parameters: {'num_leaves': 496, 'max_depth': 8, 'min_data_in_leaf': 103, 'learning_rate': 0.026161430376052664, 'n_estimators': 444, 'lambda_l2': 0.005738401433349177, 'bagging_fraction': 0.9243712626332237, 'bagging_freq': 1}. Best is trial 603 with value: 0.89773631262663.\u001b[0m\n",
            "\u001b[32m[I 2021-09-23 05:53:08,777]\u001b[0m Trial 646 finished with value: 0.8842342014758147 and parameters: {'num_leaves': 542, 'max_depth': 8, 'min_data_in_leaf': 94, 'learning_rate': 0.05247640950583135, 'n_estimators': 517, 'lambda_l2': 0.003856977336629077, 'bagging_fraction': 0.9068977141314819, 'bagging_freq': 1}. Best is trial 603 with value: 0.89773631262663.\u001b[0m\n",
            "\u001b[32m[I 2021-09-23 05:53:10,763]\u001b[0m Trial 647 finished with value: 0.883631883715216 and parameters: {'num_leaves': 459, 'max_depth': 8, 'min_data_in_leaf': 116, 'learning_rate': 0.048687456841207226, 'n_estimators': 477, 'lambda_l2': 0.006687834538176291, 'bagging_fraction': 0.8907486852430234, 'bagging_freq': 1}. Best is trial 603 with value: 0.89773631262663.\u001b[0m\n",
            "\u001b[32m[I 2021-09-23 05:53:12,964]\u001b[0m Trial 648 finished with value: 0.8813246401257855 and parameters: {'num_leaves': 487, 'max_depth': 8, 'min_data_in_leaf': 140, 'learning_rate': 0.04135661685078974, 'n_estimators': 585, 'lambda_l2': 0.003195457702142231, 'bagging_fraction': 0.9326772991234435, 'bagging_freq': 1}. Best is trial 603 with value: 0.89773631262663.\u001b[0m\n",
            "\u001b[32m[I 2021-09-23 05:53:15,157]\u001b[0m Trial 649 finished with value: 0.8853892933559928 and parameters: {'num_leaves': 474, 'max_depth': 8, 'min_data_in_leaf': 93, 'learning_rate': 0.055000763848251116, 'n_estimators': 501, 'lambda_l2': 0.004333223465530158, 'bagging_fraction': 0.9220443949742987, 'bagging_freq': 1}. Best is trial 603 with value: 0.89773631262663.\u001b[0m\n",
            "\u001b[32m[I 2021-09-23 05:53:17,331]\u001b[0m Trial 650 finished with value: 0.8890025123341158 and parameters: {'num_leaves': 506, 'max_depth': 8, 'min_data_in_leaf': 170, 'learning_rate': 0.04992658599498853, 'n_estimators': 627, 'lambda_l2': 0.005060091158421992, 'bagging_fraction': 0.9328440904794453, 'bagging_freq': 1}. Best is trial 603 with value: 0.89773631262663.\u001b[0m\n",
            "\u001b[32m[I 2021-09-23 05:53:19,222]\u001b[0m Trial 651 finished with value: 0.8761388695623679 and parameters: {'num_leaves': 479, 'max_depth': 8, 'min_data_in_leaf': 106, 'learning_rate': 0.03669099611572586, 'n_estimators': 403, 'lambda_l2': 0.00329938918843771, 'bagging_fraction': 0.9161444214795181, 'bagging_freq': 1}. Best is trial 603 with value: 0.89773631262663.\u001b[0m\n",
            "\u001b[32m[I 2021-09-23 05:53:20,677]\u001b[0m Trial 652 finished with value: 0.8700364744315638 and parameters: {'num_leaves': 465, 'max_depth': 8, 'min_data_in_leaf': 129, 'learning_rate': 0.04555704022909066, 'n_estimators': 305, 'lambda_l2': 0.003014039138660008, 'bagging_fraction': 0.933183251215024, 'bagging_freq': 2}. Best is trial 603 with value: 0.89773631262663.\u001b[0m\n",
            "\u001b[32m[I 2021-09-23 05:53:23,302]\u001b[0m Trial 653 finished with value: 0.8890288197909983 and parameters: {'num_leaves': 442, 'max_depth': 8, 'min_data_in_leaf': 92, 'learning_rate': 0.05675512227985645, 'n_estimators': 589, 'lambda_l2': 0.005449285563556813, 'bagging_fraction': 0.9032298920118076, 'bagging_freq': 1}. Best is trial 603 with value: 0.89773631262663.\u001b[0m\n",
            "\u001b[32m[I 2021-09-23 05:53:25,913]\u001b[0m Trial 654 finished with value: 0.881890469551693 and parameters: {'num_leaves': 526, 'max_depth': 8, 'min_data_in_leaf': 80, 'learning_rate': 0.05019193605218733, 'n_estimators': 558, 'lambda_l2': 0.007028754176832124, 'bagging_fraction': 0.8768209871345125, 'bagging_freq': 1}. Best is trial 603 with value: 0.89773631262663.\u001b[0m\n",
            "\u001b[32m[I 2021-09-23 05:53:28,077]\u001b[0m Trial 655 finished with value: 0.8710030200767624 and parameters: {'num_leaves': 481, 'max_depth': 8, 'min_data_in_leaf': 300, 'learning_rate': 0.041218864206303815, 'n_estimators': 839, 'lambda_l2': 0.0038344946484052136, 'bagging_fraction': 0.9457314206324381, 'bagging_freq': 1}. Best is trial 603 with value: 0.89773631262663.\u001b[0m\n",
            "\u001b[32m[I 2021-09-23 05:53:31,551]\u001b[0m Trial 656 finished with value: 0.8853806194957536 and parameters: {'num_leaves': 495, 'max_depth': 8, 'min_data_in_leaf': 104, 'learning_rate': 0.04533278447978518, 'n_estimators': 843, 'lambda_l2': 0.002807674736785597, 'bagging_fraction': 0.8931030911741592, 'bagging_freq': 1}. Best is trial 603 with value: 0.89773631262663.\u001b[0m\n",
            "\u001b[32m[I 2021-09-23 05:53:32,639]\u001b[0m Trial 657 finished with value: 0.8857376367119242 and parameters: {'num_leaves': 466, 'max_depth': 8, 'min_data_in_leaf': 118, 'learning_rate': 0.053092224806016115, 'n_estimators': 213, 'lambda_l2': 0.004522558946258522, 'bagging_fraction': 0.9422449954266616, 'bagging_freq': 4}. Best is trial 603 with value: 0.89773631262663.\u001b[0m\n",
            "\u001b[32m[I 2021-09-23 05:53:35,130]\u001b[0m Trial 658 finished with value: 0.8911160254948556 and parameters: {'num_leaves': 431, 'max_depth': 8, 'min_data_in_leaf': 92, 'learning_rate': 0.03133612510266953, 'n_estimators': 543, 'lambda_l2': 0.008453761933098672, 'bagging_fraction': 0.9232886667141381, 'bagging_freq': 1}. Best is trial 603 with value: 0.89773631262663.\u001b[0m\n",
            "\u001b[32m[I 2021-09-23 05:53:37,738]\u001b[0m Trial 659 finished with value: 0.8882944257103855 and parameters: {'num_leaves': 446, 'max_depth': 8, 'min_data_in_leaf': 112, 'learning_rate': 0.04898424739785893, 'n_estimators': 641, 'lambda_l2': 0.0025367700586246766, 'bagging_fraction': 0.9526531276164616, 'bagging_freq': 1}. Best is trial 603 with value: 0.89773631262663.\u001b[0m\n",
            "\u001b[32m[I 2021-09-23 05:53:40,181]\u001b[0m Trial 660 finished with value: 0.8847344440901878 and parameters: {'num_leaves': 449, 'max_depth': 8, 'min_data_in_leaf': 128, 'learning_rate': 0.08467847338896616, 'n_estimators': 600, 'lambda_l2': 0.005308254811620716, 'bagging_fraction': 0.914569187837086, 'bagging_freq': 4}. Best is trial 603 with value: 0.89773631262663.\u001b[0m\n",
            "\u001b[32m[I 2021-09-23 05:53:44,082]\u001b[0m Trial 661 finished with value: 0.8950718044353718 and parameters: {'num_leaves': 520, 'max_depth': 8, 'min_data_in_leaf': 80, 'learning_rate': 0.04386785524450133, 'n_estimators': 860, 'lambda_l2': 0.002430866714410937, 'bagging_fraction': 0.9371075970346119, 'bagging_freq': 1}. Best is trial 603 with value: 0.89773631262663.\u001b[0m\n",
            "\u001b[32m[I 2021-09-23 05:53:45,532]\u001b[0m Trial 662 finished with value: 0.8704680481789211 and parameters: {'num_leaves': 528, 'max_depth': 8, 'min_data_in_leaf': 92, 'learning_rate': 0.03637988888712898, 'n_estimators': 273, 'lambda_l2': 0.003846673409686169, 'bagging_fraction': 0.9302554962580718, 'bagging_freq': 1}. Best is trial 603 with value: 0.89773631262663.\u001b[0m\n",
            "\u001b[32m[I 2021-09-23 05:53:47,595]\u001b[0m Trial 663 finished with value: 0.8812158476870882 and parameters: {'num_leaves': 556, 'max_depth': 8, 'min_data_in_leaf': 153, 'learning_rate': 0.04179618657672944, 'n_estimators': 545, 'lambda_l2': 0.0026937491012994272, 'bagging_fraction': 0.8991334534832259, 'bagging_freq': 1}. Best is trial 603 with value: 0.89773631262663.\u001b[0m\n",
            "\u001b[32m[I 2021-09-23 05:53:51,265]\u001b[0m Trial 664 finished with value: 0.8775901184403354 and parameters: {'num_leaves': 500, 'max_depth': 8, 'min_data_in_leaf': 80, 'learning_rate': 0.114906090745117, 'n_estimators': 858, 'lambda_l2': 0.003530268670505092, 'bagging_fraction': 0.9413636528921138, 'bagging_freq': 1}. Best is trial 603 with value: 0.89773631262663.\u001b[0m\n",
            "\u001b[32m[I 2021-09-23 05:53:53,403]\u001b[0m Trial 665 finished with value: 0.8812726869530685 and parameters: {'num_leaves': 519, 'max_depth': 9, 'min_data_in_leaf': 100, 'learning_rate': 0.11880278518169193, 'n_estimators': 529, 'lambda_l2': 0.002460812092616142, 'bagging_fraction': 0.62930355405184, 'bagging_freq': 1}. Best is trial 603 with value: 0.89773631262663.\u001b[0m\n",
            "\u001b[32m[I 2021-09-23 05:53:55,624]\u001b[0m Trial 666 finished with value: 0.8841172729552695 and parameters: {'num_leaves': 573, 'max_depth': 8, 'min_data_in_leaf': 80, 'learning_rate': 0.04397839747515972, 'n_estimators': 437, 'lambda_l2': 0.005546687432221012, 'bagging_fraction': 0.9267740222290357, 'bagging_freq': 1}. Best is trial 603 with value: 0.89773631262663.\u001b[0m\n",
            "\u001b[32m[I 2021-09-23 05:53:59,786]\u001b[0m Trial 667 finished with value: 0.889288624921097 and parameters: {'num_leaves': 520, 'max_depth': 11, 'min_data_in_leaf': 106, 'learning_rate': 0.03984894790876986, 'n_estimators': 825, 'lambda_l2': 0.007442316125821347, 'bagging_fraction': 0.9523907724333827, 'bagging_freq': 1}. Best is trial 603 with value: 0.89773631262663.\u001b[0m\n",
            "\u001b[32m[I 2021-09-23 05:54:03,258]\u001b[0m Trial 668 finished with value: 0.8807886112047543 and parameters: {'num_leaves': 509, 'max_depth': 12, 'min_data_in_leaf': 92, 'learning_rate': 0.04752056215943677, 'n_estimators': 611, 'lambda_l2': 0.0031334286455300914, 'bagging_fraction': 0.9053709177846979, 'bagging_freq': 1}. Best is trial 603 with value: 0.89773631262663.\u001b[0m\n",
            "\u001b[32m[I 2021-09-23 05:54:07,252]\u001b[0m Trial 669 finished with value: 0.8896946876543479 and parameters: {'num_leaves': 510, 'max_depth': 10, 'min_data_in_leaf': 116, 'learning_rate': 0.04389683231967613, 'n_estimators': 874, 'lambda_l2': 0.004571304891366382, 'bagging_fraction': 0.9206125582228503, 'bagging_freq': 1}. Best is trial 603 with value: 0.89773631262663.\u001b[0m\n",
            "\u001b[32m[I 2021-09-23 05:54:11,137]\u001b[0m Trial 670 finished with value: 0.890492817746346 and parameters: {'num_leaves': 559, 'max_depth': 8, 'min_data_in_leaf': 80, 'learning_rate': 0.03463134148882931, 'n_estimators': 850, 'lambda_l2': 0.0020104028038130956, 'bagging_fraction': 0.8818968053442958, 'bagging_freq': 1}. Best is trial 603 with value: 0.89773631262663.\u001b[0m\n",
            "\u001b[32m[I 2021-09-23 05:54:13,654]\u001b[0m Trial 671 finished with value: 0.8858032753954551 and parameters: {'num_leaves': 528, 'max_depth': 8, 'min_data_in_leaf': 103, 'learning_rate': 0.05172704154775487, 'n_estimators': 577, 'lambda_l2': 0.003728696582030353, 'bagging_fraction': 0.9390276991056039, 'bagging_freq': 1}. Best is trial 603 with value: 0.89773631262663.\u001b[0m\n",
            "\u001b[32m[I 2021-09-23 05:54:16,773]\u001b[0m Trial 672 finished with value: 0.8885702622880417 and parameters: {'num_leaves': 485, 'max_depth': 8, 'min_data_in_leaf': 134, 'learning_rate': 0.04649488228499125, 'n_estimators': 825, 'lambda_l2': 0.002279233645993644, 'bagging_fraction': 0.9567413414317795, 'bagging_freq': 1}. Best is trial 603 with value: 0.89773631262663.\u001b[0m\n",
            "\u001b[32m[I 2021-09-23 05:54:18,954]\u001b[0m Trial 673 finished with value: 0.8878538487796209 and parameters: {'num_leaves': 493, 'max_depth': 8, 'min_data_in_leaf': 94, 'learning_rate': 0.1083197052941246, 'n_estimators': 526, 'lambda_l2': 0.0028974880497981614, 'bagging_fraction': 0.9155142508155695, 'bagging_freq': 1}. Best is trial 603 with value: 0.89773631262663.\u001b[0m\n",
            "\u001b[32m[I 2021-09-23 05:54:21,403]\u001b[0m Trial 674 finished with value: 0.8875692253488477 and parameters: {'num_leaves': 543, 'max_depth': 8, 'min_data_in_leaf': 114, 'learning_rate': 0.038717314963533055, 'n_estimators': 563, 'lambda_l2': 0.004799377116178303, 'bagging_fraction': 0.938849176521211, 'bagging_freq': 2}. Best is trial 603 with value: 0.89773631262663.\u001b[0m\n",
            "\u001b[32m[I 2021-09-23 05:54:25,035]\u001b[0m Trial 675 finished with value: 0.8863285702170356 and parameters: {'num_leaves': 488, 'max_depth': 8, 'min_data_in_leaf': 102, 'learning_rate': 0.05544622045892498, 'n_estimators': 884, 'lambda_l2': 0.003181300256753887, 'bagging_fraction': 0.9598739606571721, 'bagging_freq': 1}. Best is trial 603 with value: 0.89773631262663.\u001b[0m\n",
            "\u001b[32m[I 2021-09-23 05:54:28,835]\u001b[0m Trial 676 finished with value: 0.878299833778905 and parameters: {'num_leaves': 537, 'max_depth': 8, 'min_data_in_leaf': 80, 'learning_rate': 0.13297944861848143, 'n_estimators': 900, 'lambda_l2': 0.006830065161219923, 'bagging_fraction': 0.8957465918006458, 'bagging_freq': 1}. Best is trial 603 with value: 0.89773631262663.\u001b[0m\n",
            "\u001b[32m[I 2021-09-23 05:54:31,139]\u001b[0m Trial 677 finished with value: 0.8818337965264058 and parameters: {'num_leaves': 480, 'max_depth': 8, 'min_data_in_leaf': 124, 'learning_rate': 0.04317467511129303, 'n_estimators': 565, 'lambda_l2': 0.0021728906818649393, 'bagging_fraction': 0.9278215698923741, 'bagging_freq': 1}. Best is trial 603 with value: 0.89773631262663.\u001b[0m\n",
            "\u001b[32m[I 2021-09-23 05:54:33,309]\u001b[0m Trial 678 finished with value: 0.8863375312417797 and parameters: {'num_leaves': 510, 'max_depth': 8, 'min_data_in_leaf': 102, 'learning_rate': 0.049687991481384836, 'n_estimators': 484, 'lambda_l2': 0.00933169655434398, 'bagging_fraction': 0.9854981000865373, 'bagging_freq': 1}. Best is trial 603 with value: 0.89773631262663.\u001b[0m\n",
            "\u001b[32m[I 2021-09-23 05:54:36,948]\u001b[0m Trial 679 finished with value: 0.8853656416948931 and parameters: {'num_leaves': 807, 'max_depth': 8, 'min_data_in_leaf': 95, 'learning_rate': 0.046263285798869, 'n_estimators': 868, 'lambda_l2': 0.004119040666314053, 'bagging_fraction': 0.9465675931812431, 'bagging_freq': 1}. Best is trial 603 with value: 0.89773631262663.\u001b[0m\n",
            "\u001b[32m[I 2021-09-23 05:54:40,590]\u001b[0m Trial 680 finished with value: 0.8833498668002238 and parameters: {'num_leaves': 541, 'max_depth': 9, 'min_data_in_leaf': 113, 'learning_rate': 0.05323174934645194, 'n_estimators': 843, 'lambda_l2': 0.005486668268131222, 'bagging_fraction': 0.9638806175568866, 'bagging_freq': 1}. Best is trial 603 with value: 0.89773631262663.\u001b[0m\n",
            "\u001b[32m[I 2021-09-23 05:54:44,399]\u001b[0m Trial 681 finished with value: 0.8888282965686359 and parameters: {'num_leaves': 476, 'max_depth': 8, 'min_data_in_leaf': 92, 'learning_rate': 0.0392717591449023, 'n_estimators': 859, 'lambda_l2': 0.0028291676527125954, 'bagging_fraction': 0.9988161986154651, 'bagging_freq': 1}. Best is trial 603 with value: 0.89773631262663.\u001b[0m\n",
            "\u001b[32m[I 2021-09-23 05:54:47,676]\u001b[0m Trial 682 finished with value: 0.882059228464235 and parameters: {'num_leaves': 557, 'max_depth': 8, 'min_data_in_leaf': 138, 'learning_rate': 0.05798320422595274, 'n_estimators': 883, 'lambda_l2': 0.0018517088689256106, 'bagging_fraction': 0.9095725432888394, 'bagging_freq': 1}. Best is trial 603 with value: 0.89773631262663.\u001b[0m\n",
            "\u001b[32m[I 2021-09-23 05:54:51,408]\u001b[0m Trial 683 finished with value: 0.8914021733759372 and parameters: {'num_leaves': 467, 'max_depth': 8, 'min_data_in_leaf': 80, 'learning_rate': 0.048894439734976015, 'n_estimators': 827, 'lambda_l2': 0.003953875821680806, 'bagging_fraction': 0.85837549155358, 'bagging_freq': 1}. Best is trial 603 with value: 0.89773631262663.\u001b[0m\n",
            "\u001b[32m[I 2021-09-23 05:54:53,628]\u001b[0m Trial 684 finished with value: 0.874009605404481 and parameters: {'num_leaves': 510, 'max_depth': 8, 'min_data_in_leaf': 337, 'learning_rate': 0.1468481966523293, 'n_estimators': 864, 'lambda_l2': 0.0023539345086905144, 'bagging_fraction': 0.9786318836048898, 'bagging_freq': 1}. Best is trial 603 with value: 0.89773631262663.\u001b[0m\n",
            "\u001b[32m[I 2021-09-23 05:54:57,226]\u001b[0m Trial 685 finished with value: 0.8827859449040674 and parameters: {'num_leaves': 459, 'max_depth': 8, 'min_data_in_leaf': 117, 'learning_rate': 0.031039104112595427, 'n_estimators': 845, 'lambda_l2': 0.006270471530699431, 'bagging_fraction': 0.9404311027990443, 'bagging_freq': 1}. Best is trial 603 with value: 0.89773631262663.\u001b[0m\n",
            "\u001b[32m[I 2021-09-23 05:55:00,959]\u001b[0m Trial 686 finished with value: 0.8817163284531137 and parameters: {'num_leaves': 495, 'max_depth': 8, 'min_data_in_leaf': 103, 'learning_rate': 0.12749712375775804, 'n_estimators': 887, 'lambda_l2': 0.0030849184092955487, 'bagging_fraction': 0.9243954655012395, 'bagging_freq': 4}. Best is trial 603 with value: 0.89773631262663.\u001b[0m\n",
            "\u001b[32m[I 2021-09-23 05:55:04,699]\u001b[0m Trial 687 finished with value: 0.8907610430815829 and parameters: {'num_leaves': 752, 'max_depth': 7, 'min_data_in_leaf': 92, 'learning_rate': 0.042279674425415525, 'n_estimators': 872, 'lambda_l2': 0.0019393142382644272, 'bagging_fraction': 0.9555736567901989, 'bagging_freq': 2}. Best is trial 603 with value: 0.89773631262663.\u001b[0m\n",
            "\u001b[32m[I 2021-09-23 05:55:08,054]\u001b[0m Trial 688 finished with value: 0.8853332830957816 and parameters: {'num_leaves': 532, 'max_depth': 8, 'min_data_in_leaf': 129, 'learning_rate': 0.05208267610160404, 'n_estimators': 835, 'lambda_l2': 0.004533924531532757, 'bagging_fraction': 0.9687237729922715, 'bagging_freq': 4}. Best is trial 603 with value: 0.89773631262663.\u001b[0m\n",
            "\u001b[32m[I 2021-09-23 05:55:11,422]\u001b[0m Trial 689 finished with value: 0.8749847383498975 and parameters: {'num_leaves': 311, 'max_depth': 8, 'min_data_in_leaf': 112, 'learning_rate': 0.045565607204273856, 'n_estimators': 818, 'lambda_l2': 0.0026422194826015394, 'bagging_fraction': 0.9451936913072576, 'bagging_freq': 4}. Best is trial 603 with value: 0.89773631262663.\u001b[0m\n",
            "\u001b[32m[I 2021-09-23 05:55:15,077]\u001b[0m Trial 690 finished with value: 0.891425608176903 and parameters: {'num_leaves': 707, 'max_depth': 7, 'min_data_in_leaf': 91, 'learning_rate': 0.03746373437666155, 'n_estimators': 855, 'lambda_l2': 9.565823581190795e-05, 'bagging_fraction': 0.9143045425908609, 'bagging_freq': 2}. Best is trial 603 with value: 0.89773631262663.\u001b[0m\n",
            "\u001b[32m[I 2021-09-23 05:55:18,596]\u001b[0m Trial 691 finished with value: 0.8906902633614262 and parameters: {'num_leaves': 330, 'max_depth': 8, 'min_data_in_leaf': 104, 'learning_rate': 0.05545642783782181, 'n_estimators': 888, 'lambda_l2': 0.0016210048580487068, 'bagging_fraction': 0.9330826468955526, 'bagging_freq': 1}. Best is trial 603 with value: 0.89773631262663.\u001b[0m\n",
            "\u001b[32m[I 2021-09-23 05:55:21,926]\u001b[0m Trial 692 finished with value: 0.8855036209616087 and parameters: {'num_leaves': 479, 'max_depth': 8, 'min_data_in_leaf': 152, 'learning_rate': 0.048697985698959195, 'n_estimators': 869, 'lambda_l2': 0.005116440467770938, 'bagging_fraction': 0.9798560445837576, 'bagging_freq': 4}. Best is trial 603 with value: 0.89773631262663.\u001b[0m\n",
            "\u001b[32m[I 2021-09-23 05:55:24,979]\u001b[0m Trial 693 finished with value: 0.8803918744164165 and parameters: {'num_leaves': 779, 'max_depth': 9, 'min_data_in_leaf': 181, 'learning_rate': 0.05949118774373524, 'n_estimators': 844, 'lambda_l2': 0.0034016832808874365, 'bagging_fraction': 0.8729975050064177, 'bagging_freq': 4}. Best is trial 603 with value: 0.89773631262663.\u001b[0m\n",
            "\u001b[32m[I 2021-09-23 05:55:28,617]\u001b[0m Trial 694 finished with value: 0.8800193290882993 and parameters: {'num_leaves': 1174, 'max_depth': 8, 'min_data_in_leaf': 123, 'learning_rate': 0.04109218799928482, 'n_estimators': 876, 'lambda_l2': 0.0073429171725555515, 'bagging_fraction': 0.8966306884512034, 'bagging_freq': 4}. Best is trial 603 with value: 0.89773631262663.\u001b[0m\n",
            "\u001b[32m[I 2021-09-23 05:55:32,221]\u001b[0m Trial 695 finished with value: 0.8953852089211797 and parameters: {'num_leaves': 460, 'max_depth': 7, 'min_data_in_leaf': 92, 'learning_rate': 0.05198269843733772, 'n_estimators': 900, 'lambda_l2': 0.002211052031139421, 'bagging_fraction': 0.9579426444767134, 'bagging_freq': 5}. Best is trial 603 with value: 0.89773631262663.\u001b[0m\n",
            "\u001b[32m[I 2021-09-23 05:55:35,873]\u001b[0m Trial 696 finished with value: 0.8810228847660776 and parameters: {'num_leaves': 502, 'max_depth': 7, 'min_data_in_leaf': 91, 'learning_rate': 0.03369635919983667, 'n_estimators': 894, 'lambda_l2': 0.00997847860667362, 'bagging_fraction': 0.9658727844262011, 'bagging_freq': 5}. Best is trial 603 with value: 0.89773631262663.\u001b[0m\n",
            "\u001b[32m[I 2021-09-23 05:55:39,526]\u001b[0m Trial 697 finished with value: 0.8825514617589789 and parameters: {'num_leaves': 295, 'max_depth': 7, 'min_data_in_leaf': 80, 'learning_rate': 0.04492969714456487, 'n_estimators': 899, 'lambda_l2': 0.0018062166250095723, 'bagging_fraction': 0.9871544837915348, 'bagging_freq': 5}. Best is trial 603 with value: 0.89773631262663.\u001b[0m\n",
            "\u001b[32m[I 2021-09-23 05:55:42,937]\u001b[0m Trial 698 finished with value: 0.8869682298081497 and parameters: {'num_leaves': 522, 'max_depth': 7, 'min_data_in_leaf': 108, 'learning_rate': 0.04901994453216749, 'n_estimators': 888, 'lambda_l2': 0.0035768434662504975, 'bagging_fraction': 0.9569814622010296, 'bagging_freq': 2}. Best is trial 603 with value: 0.89773631262663.\u001b[0m\n",
            "\u001b[32m[I 2021-09-23 05:55:45,959]\u001b[0m Trial 699 finished with value: 0.8873386375163517 and parameters: {'num_leaves': 567, 'max_depth': 7, 'min_data_in_leaf': 140, 'learning_rate': 0.04228054339430963, 'n_estimators': 886, 'lambda_l2': 0.0015388571797002597, 'bagging_fraction': 0.9734411874491175, 'bagging_freq': 1}. Best is trial 603 with value: 0.89773631262663.\u001b[0m\n",
            "\u001b[32m[I 2021-09-23 05:55:49,259]\u001b[0m Trial 700 finished with value: 0.8818420279354247 and parameters: {'num_leaves': 466, 'max_depth': 7, 'min_data_in_leaf': 119, 'learning_rate': 0.047297295803585486, 'n_estimators': 898, 'lambda_l2': 0.002510255463419517, 'bagging_fraction': 0.9990331791823011, 'bagging_freq': 5}. Best is trial 603 with value: 0.89773631262663.\u001b[0m\n",
            "\u001b[32m[I 2021-09-23 05:55:52,752]\u001b[0m Trial 701 finished with value: 0.8847623968267135 and parameters: {'num_leaves': 728, 'max_depth': 7, 'min_data_in_leaf': 102, 'learning_rate': 0.05212602779764371, 'n_estimators': 900, 'lambda_l2': 0.004279546193864298, 'bagging_fraction': 0.9512809875215686, 'bagging_freq': 5}. Best is trial 603 with value: 0.89773631262663.\u001b[0m\n",
            "\u001b[32m[I 2021-09-23 05:55:56,229]\u001b[0m Trial 702 finished with value: 0.886038496178535 and parameters: {'num_leaves': 455, 'max_depth': 7, 'min_data_in_leaf': 92, 'learning_rate': 0.03699500241872932, 'n_estimators': 871, 'lambda_l2': 0.005427805868295375, 'bagging_fraction': 0.9664073039226337, 'bagging_freq': 5}. Best is trial 603 with value: 0.89773631262663.\u001b[0m\n",
            "\u001b[32m[I 2021-09-23 05:55:57,452]\u001b[0m Trial 703 finished with value: 0.8536581764933361 and parameters: {'num_leaves': 324, 'max_depth': 7, 'min_data_in_leaf': 694, 'learning_rate': 0.04333280428491801, 'n_estimators': 876, 'lambda_l2': 0.0021188901770471734, 'bagging_fraction': 0.9530408290540797, 'bagging_freq': 1}. Best is trial 603 with value: 0.89773631262663.\u001b[0m\n",
            "\u001b[32m[I 2021-09-23 05:55:59,286]\u001b[0m Trial 704 finished with value: 0.8762562350536611 and parameters: {'num_leaves': 496, 'max_depth': 7, 'min_data_in_leaf': 247, 'learning_rate': 0.05594602030602121, 'n_estimators': 858, 'lambda_l2': 0.003375827315860143, 'bagging_fraction': 0.6619256049236026, 'bagging_freq': 5}. Best is trial 603 with value: 0.89773631262663.\u001b[0m\n",
            "\u001b[32m[I 2021-09-23 05:55:59,555]\u001b[0m Trial 705 finished with value: -3.287840720078705e-05 and parameters: {'num_leaves': 293, 'max_depth': 7, 'min_data_in_leaf': 756, 'learning_rate': 0.05088471451563993, 'n_estimators': 875, 'lambda_l2': 0.0014440900592283899, 'bagging_fraction': 0.3533646843911617, 'bagging_freq': 5}. Best is trial 603 with value: 0.89773631262663.\u001b[0m\n",
            "\u001b[32m[I 2021-09-23 05:56:02,931]\u001b[0m Trial 706 finished with value: 0.8810466564669222 and parameters: {'num_leaves': 483, 'max_depth': 7, 'min_data_in_leaf': 112, 'learning_rate': 0.046322739332875625, 'n_estimators': 883, 'lambda_l2': 0.006329506311440832, 'bagging_fraction': 0.978238154189125, 'bagging_freq': 5}. Best is trial 603 with value: 0.89773631262663.\u001b[0m\n",
            "\u001b[32m[I 2021-09-23 05:56:05,995]\u001b[0m Trial 707 finished with value: 0.8842146700187035 and parameters: {'num_leaves': 305, 'max_depth': 7, 'min_data_in_leaf': 127, 'learning_rate': 0.040709788695911, 'n_estimators': 862, 'lambda_l2': 0.002463216881655173, 'bagging_fraction': 0.9416433726928383, 'bagging_freq': 5}. Best is trial 603 with value: 0.89773631262663.\u001b[0m\n",
            "\u001b[32m[I 2021-09-23 05:56:08,121]\u001b[0m Trial 708 finished with value: 0.8907533816488982 and parameters: {'num_leaves': 578, 'max_depth': 7, 'min_data_in_leaf': 92, 'learning_rate': 0.05191297097664195, 'n_estimators': 505, 'lambda_l2': 0.004190818674558584, 'bagging_fraction': 0.9888645639801064, 'bagging_freq': 5}. Best is trial 603 with value: 0.89773631262663.\u001b[0m\n",
            "\u001b[32m[I 2021-09-23 05:56:09,662]\u001b[0m Trial 709 finished with value: 0.875756613262049 and parameters: {'num_leaves': 355, 'max_depth': 7, 'min_data_in_leaf': 105, 'learning_rate': 0.1662945051586366, 'n_estimators': 393, 'lambda_l2': 0.002799185453083975, 'bagging_fraction': 0.926926486192936, 'bagging_freq': 5}. Best is trial 603 with value: 0.89773631262663.\u001b[0m\n",
            "\u001b[32m[I 2021-09-23 05:56:13,258]\u001b[0m Trial 710 finished with value: 0.8761453738173022 and parameters: {'num_leaves': 539, 'max_depth': 7, 'min_data_in_leaf': 80, 'learning_rate': 0.0600133276691143, 'n_estimators': 884, 'lambda_l2': 0.0012705342987557537, 'bagging_fraction': 0.9630833798485637, 'bagging_freq': 5}. Best is trial 603 with value: 0.89773631262663.\u001b[0m\n",
            "\u001b[32m[I 2021-09-23 05:56:16,642]\u001b[0m Trial 711 finished with value: 0.8802746827253976 and parameters: {'num_leaves': 253, 'max_depth': 7, 'min_data_in_leaf': 80, 'learning_rate': 0.12160693814511482, 'n_estimators': 900, 'lambda_l2': 0.0020505757735723986, 'bagging_fraction': 0.8843179967238551, 'bagging_freq': 1}. Best is trial 603 with value: 0.89773631262663.\u001b[0m\n",
            "\u001b[32m[I 2021-09-23 05:56:19,954]\u001b[0m Trial 712 finished with value: 0.8787109372104127 and parameters: {'num_leaves': 283, 'max_depth': 7, 'min_data_in_leaf': 117, 'learning_rate': 0.04578976621659496, 'n_estimators': 857, 'lambda_l2': 0.007794052981433139, 'bagging_fraction': 0.9465308397597613, 'bagging_freq': 2}. Best is trial 603 with value: 0.89773631262663.\u001b[0m\n",
            "\u001b[32m[I 2021-09-23 05:56:23,629]\u001b[0m Trial 713 finished with value: 0.8877110263647859 and parameters: {'num_leaves': 769, 'max_depth': 7, 'min_data_in_leaf': 101, 'learning_rate': 0.02519413140699419, 'n_estimators': 900, 'lambda_l2': 5.951388486921387e-08, 'bagging_fraction': 0.9722263485770035, 'bagging_freq': 1}. Best is trial 603 with value: 0.89773631262663.\u001b[0m\n",
            "\u001b[32m[I 2021-09-23 05:56:27,404]\u001b[0m Trial 714 finished with value: 0.8771172937572997 and parameters: {'num_leaves': 688, 'max_depth': 7, 'min_data_in_leaf': 80, 'learning_rate': 0.035343799637150175, 'n_estimators': 871, 'lambda_l2': 0.0032114130439398906, 'bagging_fraction': 0.9132693174039282, 'bagging_freq': 4}. Best is trial 603 with value: 0.89773631262663.\u001b[0m\n",
            "\u001b[32m[I 2021-09-23 05:56:30,110]\u001b[0m Trial 715 finished with value: 0.8789717086557579 and parameters: {'num_leaves': 272, 'max_depth': 7, 'min_data_in_leaf': 141, 'learning_rate': 0.05426794997051926, 'n_estimators': 851, 'lambda_l2': 0.001680000569739352, 'bagging_fraction': 0.8436301482210226, 'bagging_freq': 1}. Best is trial 603 with value: 0.89773631262663.\u001b[0m\n",
            "\u001b[32m[I 2021-09-23 05:56:31,564]\u001b[0m Trial 716 finished with value: 0.8692184221931183 and parameters: {'num_leaves': 320, 'max_depth': 7, 'min_data_in_leaf': 570, 'learning_rate': 0.048684636048228085, 'n_estimators': 876, 'lambda_l2': 0.004979369361853471, 'bagging_fraction': 0.9279189689780909, 'bagging_freq': 4}. Best is trial 603 with value: 0.89773631262663.\u001b[0m\n",
            "\u001b[32m[I 2021-09-23 05:56:35,309]\u001b[0m Trial 717 finished with value: 0.881344967890084 and parameters: {'num_leaves': 518, 'max_depth': 8, 'min_data_in_leaf': 103, 'learning_rate': 0.0405097208773811, 'n_estimators': 861, 'lambda_l2': 0.00396617755415228, 'bagging_fraction': 0.9560590460504511, 'bagging_freq': 4}. Best is trial 603 with value: 0.89773631262663.\u001b[0m\n",
            "\u001b[32m[I 2021-09-23 05:56:38,957]\u001b[0m Trial 718 finished with value: 0.8835284038140211 and parameters: {'num_leaves': 242, 'max_depth': 7, 'min_data_in_leaf': 93, 'learning_rate': 0.02924443791471857, 'n_estimators': 885, 'lambda_l2': 0.0012444216076727208, 'bagging_fraction': 0.9844511159587753, 'bagging_freq': 4}. Best is trial 603 with value: 0.89773631262663.\u001b[0m\n",
            "\u001b[32m[I 2021-09-23 05:56:42,771]\u001b[0m Trial 719 finished with value: 0.8824020479035425 and parameters: {'num_leaves': 471, 'max_depth': 10, 'min_data_in_leaf': 123, 'learning_rate': 0.04474879995847811, 'n_estimators': 840, 'lambda_l2': 0.002767258272227037, 'bagging_fraction': 0.9375904251800392, 'bagging_freq': 4}. Best is trial 603 with value: 0.89773631262663.\u001b[0m\n",
            "\u001b[32m[I 2021-09-23 05:56:46,485]\u001b[0m Trial 720 finished with value: 0.8831506189085396 and parameters: {'num_leaves': 442, 'max_depth': 9, 'min_data_in_leaf': 109, 'learning_rate': 0.05800731816676645, 'n_estimators': 868, 'lambda_l2': 8.660707912253316e-06, 'bagging_fraction': 0.9597642187241091, 'bagging_freq': 1}. Best is trial 603 with value: 0.89773631262663.\u001b[0m\n",
            "\u001b[32m[I 2021-09-23 05:56:50,158]\u001b[0m Trial 721 finished with value: 0.8846775360250597 and parameters: {'num_leaves': 300, 'max_depth': 8, 'min_data_in_leaf': 92, 'learning_rate': 0.05042137668032535, 'n_estimators': 852, 'lambda_l2': 0.005728305580276565, 'bagging_fraction': 0.9043262248068579, 'bagging_freq': 5}. Best is trial 603 with value: 0.89773631262663.\u001b[0m\n",
            "\u001b[32m[I 2021-09-23 05:56:54,221]\u001b[0m Trial 722 finished with value: 0.8912963415564625 and parameters: {'num_leaves': 551, 'max_depth': 8, 'min_data_in_leaf': 80, 'learning_rate': 0.09942782890467362, 'n_estimators': 900, 'lambda_l2': 0.0019850597201492405, 'bagging_fraction': 0.9443281553491415, 'bagging_freq': 4}. Best is trial 603 with value: 0.89773631262663.\u001b[0m\n",
            "\u001b[32m[I 2021-09-23 05:56:57,785]\u001b[0m Trial 723 finished with value: 0.8848236887852438 and parameters: {'num_leaves': 261, 'max_depth': 8, 'min_data_in_leaf': 124, 'learning_rate': 0.03834085934893978, 'n_estimators': 878, 'lambda_l2': 0.004114902284534985, 'bagging_fraction': 0.9241849305522446, 'bagging_freq': 4}. Best is trial 603 with value: 0.89773631262663.\u001b[0m\n",
            "\u001b[32m[I 2021-09-23 05:57:00,922]\u001b[0m Trial 724 finished with value: 0.8784153581320847 and parameters: {'num_leaves': 286, 'max_depth': 7, 'min_data_in_leaf': 104, 'learning_rate': 0.19457769762931143, 'n_estimators': 863, 'lambda_l2': 0.0016483038802103933, 'bagging_fraction': 0.8629782499734961, 'bagging_freq': 4}. Best is trial 603 with value: 0.89773631262663.\u001b[0m\n",
            "\u001b[32m[I 2021-09-23 05:57:04,643]\u001b[0m Trial 725 finished with value: 0.8883456881751344 and parameters: {'num_leaves': 457, 'max_depth': 8, 'min_data_in_leaf': 93, 'learning_rate': 0.0628560200613885, 'n_estimators': 838, 'lambda_l2': 0.003280213854987439, 'bagging_fraction': 0.9689484063406275, 'bagging_freq': 4}. Best is trial 603 with value: 0.89773631262663.\u001b[0m\n",
            "\u001b[32m[I 2021-09-23 05:57:06,234]\u001b[0m Trial 726 finished with value: 0.8864936405989745 and parameters: {'num_leaves': 592, 'max_depth': 8, 'min_data_in_leaf': 114, 'learning_rate': 0.05390611066116908, 'n_estimators': 345, 'lambda_l2': 0.0023708365112162333, 'bagging_fraction': 0.9879207996238206, 'bagging_freq': 1}. Best is trial 603 with value: 0.89773631262663.\u001b[0m\n",
            "\u001b[32m[I 2021-09-23 05:57:09,319]\u001b[0m Trial 727 finished with value: 0.8774047147202555 and parameters: {'num_leaves': 341, 'max_depth': 7, 'min_data_in_leaf': 163, 'learning_rate': 0.04794900580276148, 'n_estimators': 887, 'lambda_l2': 0.0065575611083168416, 'bagging_fraction': 0.9523103280904385, 'bagging_freq': 4}. Best is trial 603 with value: 0.89773631262663.\u001b[0m\n",
            "\u001b[32m[I 2021-09-23 05:57:12,765]\u001b[0m Trial 728 finished with value: 0.8838789253516556 and parameters: {'num_leaves': 492, 'max_depth': 8, 'min_data_in_leaf': 134, 'learning_rate': 0.04340769273713392, 'n_estimators': 852, 'lambda_l2': 0.0011624044466627492, 'bagging_fraction': 0.9176641039368346, 'bagging_freq': 2}. Best is trial 603 with value: 0.89773631262663.\u001b[0m\n",
            "\u001b[32m[I 2021-09-23 05:57:16,630]\u001b[0m Trial 729 finished with value: 0.8878417100457412 and parameters: {'num_leaves': 744, 'max_depth': 8, 'min_data_in_leaf': 93, 'learning_rate': 0.050273900439365214, 'n_estimators': 874, 'lambda_l2': 2.7676818827190115e-06, 'bagging_fraction': 0.9321855618990573, 'bagging_freq': 4}. Best is trial 603 with value: 0.89773631262663.\u001b[0m\n",
            "\u001b[32m[I 2021-09-23 05:57:20,333]\u001b[0m Trial 730 finished with value: 0.8834915144143733 and parameters: {'num_leaves': 372, 'max_depth': 7, 'min_data_in_leaf': 80, 'learning_rate': 0.056666114152707094, 'n_estimators': 900, 'lambda_l2': 0.0031697061984403588, 'bagging_fraction': 0.8987080922846522, 'bagging_freq': 4}. Best is trial 603 with value: 0.89773631262663.\u001b[0m\n",
            "\u001b[32m[I 2021-09-23 05:57:21,618]\u001b[0m Trial 731 finished with value: 0.8600583425868636 and parameters: {'num_leaves': 245, 'max_depth': 8, 'min_data_in_leaf': 605, 'learning_rate': 0.04603071318221678, 'n_estimators': 833, 'lambda_l2': 0.0046825985337581155, 'bagging_fraction': 0.9759617557738387, 'bagging_freq': 1}. Best is trial 603 with value: 0.89773631262663.\u001b[0m\n",
            "\u001b[32m[I 2021-09-23 05:57:24,235]\u001b[0m Trial 732 finished with value: 0.8843479316766287 and parameters: {'num_leaves': 312, 'max_depth': 8, 'min_data_in_leaf': 109, 'learning_rate': 0.03342455154084902, 'n_estimators': 572, 'lambda_l2': 1.4412881936531124e-07, 'bagging_fraction': 0.9425194314774049, 'bagging_freq': 4}. Best is trial 603 with value: 0.89773631262663.\u001b[0m\n",
            "\u001b[32m[I 2021-09-23 05:57:27,814]\u001b[0m Trial 733 finished with value: 0.8828989959855323 and parameters: {'num_leaves': 714, 'max_depth': 7, 'min_data_in_leaf': 100, 'learning_rate': 0.040255944398051205, 'n_estimators': 883, 'lambda_l2': 0.0016238390652601464, 'bagging_fraction': 0.9574252540382829, 'bagging_freq': 4}. Best is trial 603 with value: 0.89773631262663.\u001b[0m\n",
            "\u001b[32m[I 2021-09-23 05:57:31,110]\u001b[0m Trial 734 finished with value: 0.887037165484767 and parameters: {'num_leaves': 276, 'max_depth': 8, 'min_data_in_leaf': 147, 'learning_rate': 0.052771920714447536, 'n_estimators': 866, 'lambda_l2': 0.002325423910893713, 'bagging_fraction': 0.9694906933598603, 'bagging_freq': 5}. Best is trial 603 with value: 0.89773631262663.\u001b[0m\n",
            "\u001b[32m[I 2021-09-23 05:57:34,652]\u001b[0m Trial 735 finished with value: 0.8868778826920805 and parameters: {'num_leaves': 420, 'max_depth': 8, 'min_data_in_leaf': 118, 'learning_rate': 0.043579683771572786, 'n_estimators': 853, 'lambda_l2': 0.007831416980473587, 'bagging_fraction': 0.9330137589361426, 'bagging_freq': 4}. Best is trial 603 with value: 0.89773631262663.\u001b[0m\n",
            "\u001b[32m[I 2021-09-23 05:57:37,718]\u001b[0m Trial 736 finished with value: 0.881086329377965 and parameters: {'num_leaves': 253, 'max_depth': 7, 'min_data_in_leaf': 93, 'learning_rate': 0.04825684021344509, 'n_estimators': 887, 'lambda_l2': 0.0008807339065876317, 'bagging_fraction': 0.622342636685105, 'bagging_freq': 4}. Best is trial 603 with value: 0.89773631262663.\u001b[0m\n",
            "\u001b[32m[I 2021-09-23 05:57:41,112]\u001b[0m Trial 737 finished with value: 0.8808939730363168 and parameters: {'num_leaves': 298, 'max_depth': 9, 'min_data_in_leaf': 128, 'learning_rate': 0.037120753868992135, 'n_estimators': 842, 'lambda_l2': 0.0037314134660956827, 'bagging_fraction': 0.8837200352863707, 'bagging_freq': 1}. Best is trial 603 with value: 0.89773631262663.\u001b[0m\n",
            "\u001b[32m[I 2021-09-23 05:57:45,056]\u001b[0m Trial 738 finished with value: 0.8885228191255312 and parameters: {'num_leaves': 486, 'max_depth': 8, 'min_data_in_leaf': 80, 'learning_rate': 0.05706067408724704, 'n_estimators': 869, 'lambda_l2': 0.0013034537438132543, 'bagging_fraction': 0.9164814650878874, 'bagging_freq': 4}. Best is trial 603 with value: 0.89773631262663.\u001b[0m\n",
            "\u001b[32m[I 2021-09-23 05:57:48,237]\u001b[0m Trial 739 finished with value: 0.888884569290462 and parameters: {'num_leaves': 512, 'max_depth': 7, 'min_data_in_leaf': 107, 'learning_rate': 0.06660677630536173, 'n_estimators': 823, 'lambda_l2': 0.0020476005591006214, 'bagging_fraction': 0.9917466282976392, 'bagging_freq': 4}. Best is trial 603 with value: 0.89773631262663.\u001b[0m\n",
            "\u001b[32m[I 2021-09-23 05:57:52,149]\u001b[0m Trial 740 finished with value: 0.8932276234690015 and parameters: {'num_leaves': 329, 'max_depth': 8, 'min_data_in_leaf': 93, 'learning_rate': 0.05017672800843544, 'n_estimators': 900, 'lambda_l2': 0.005451200309519348, 'bagging_fraction': 0.9511818295516594, 'bagging_freq': 4}. Best is trial 603 with value: 0.89773631262663.\u001b[0m\n",
            "\u001b[32m[I 2021-09-23 05:57:55,577]\u001b[0m Trial 741 finished with value: 0.879914199431659 and parameters: {'num_leaves': 337, 'max_depth': 8, 'min_data_in_leaf': 93, 'learning_rate': 0.041604848250637164, 'n_estimators': 888, 'lambda_l2': 0.007523418193469867, 'bagging_fraction': 0.6464519148664504, 'bagging_freq': 4}. Best is trial 603 with value: 0.89773631262663.\u001b[0m\n",
            "\u001b[32m[I 2021-09-23 05:57:59,746]\u001b[0m Trial 742 finished with value: 0.886559122767514 and parameters: {'num_leaves': 366, 'max_depth': 8, 'min_data_in_leaf': 80, 'learning_rate': 0.046260211984065165, 'n_estimators': 900, 'lambda_l2': 0.005615848339845824, 'bagging_fraction': 0.9337668185423397, 'bagging_freq': 4}. Best is trial 603 with value: 0.89773631262663.\u001b[0m\n",
            "\u001b[32m[I 2021-09-23 05:58:03,116]\u001b[0m Trial 743 finished with value: 0.890296350475115 and parameters: {'num_leaves': 329, 'max_depth': 7, 'min_data_in_leaf': 94, 'learning_rate': 0.04984279226392795, 'n_estimators': 887, 'lambda_l2': 0.005619369269671342, 'bagging_fraction': 0.9063203264465557, 'bagging_freq': 1}. Best is trial 603 with value: 0.89773631262663.\u001b[0m\n",
            "\u001b[32m[I 2021-09-23 05:58:06,809]\u001b[0m Trial 744 finished with value: 0.8807877317000047 and parameters: {'num_leaves': 327, 'max_depth': 8, 'min_data_in_leaf': 115, 'learning_rate': 0.04435082884003827, 'n_estimators': 899, 'lambda_l2': 0.0066096946830363915, 'bagging_fraction': 0.947050751658266, 'bagging_freq': 4}. Best is trial 603 with value: 0.89773631262663.\u001b[0m\n",
            "\u001b[32m[I 2021-09-23 05:58:10,816]\u001b[0m Trial 745 finished with value: 0.8795701939782644 and parameters: {'num_leaves': 346, 'max_depth': 8, 'min_data_in_leaf': 93, 'learning_rate': 0.053862530975748626, 'n_estimators': 900, 'lambda_l2': 0.005032214858614726, 'bagging_fraction': 0.9218199289113107, 'bagging_freq': 3}. Best is trial 603 with value: 0.89773631262663.\u001b[0m\n",
            "\u001b[32m[I 2021-09-23 05:58:13,064]\u001b[0m Trial 746 finished with value: 0.881307316800147 and parameters: {'num_leaves': 317, 'max_depth': 7, 'min_data_in_leaf': 105, 'learning_rate': 0.03853580907801906, 'n_estimators': 531, 'lambda_l2': 0.009658491896619957, 'bagging_fraction': 0.9449219705291604, 'bagging_freq': 4}. Best is trial 603 with value: 0.89773631262663.\u001b[0m\n",
            "\u001b[32m[I 2021-09-23 05:58:16,615]\u001b[0m Trial 747 finished with value: 0.8899514498247084 and parameters: {'num_leaves': 350, 'max_depth': 8, 'min_data_in_leaf': 131, 'learning_rate': 0.048244224833174566, 'n_estimators': 874, 'lambda_l2': 0.004058008539129402, 'bagging_fraction': 0.9764788404784092, 'bagging_freq': 4}. Best is trial 603 with value: 0.89773631262663.\u001b[0m\n",
            "\u001b[32m[I 2021-09-23 05:58:19,206]\u001b[0m Trial 748 finished with value: 0.8782148637759329 and parameters: {'num_leaves': 302, 'max_depth': 7, 'min_data_in_leaf': 80, 'learning_rate': 0.060204952903955146, 'n_estimators': 863, 'lambda_l2': 0.007277169061668576, 'bagging_fraction': 0.4264324225224535, 'bagging_freq': 3}. Best is trial 603 with value: 0.89773631262663.\u001b[0m\n",
            "\u001b[32m[I 2021-09-23 05:58:22,917]\u001b[0m Trial 749 finished with value: 0.8912223668731575 and parameters: {'num_leaves': 795, 'max_depth': 8, 'min_data_in_leaf': 102, 'learning_rate': 0.04311260325076636, 'n_estimators': 880, 'lambda_l2': 0.0008968291846086089, 'bagging_fraction': 0.9588718334292019, 'bagging_freq': 1}. Best is trial 603 with value: 0.89773631262663.\u001b[0m\n",
            "\u001b[32m[I 2021-09-23 05:58:26,569]\u001b[0m Trial 750 finished with value: 0.8816294789116857 and parameters: {'num_leaves': 281, 'max_depth': 8, 'min_data_in_leaf': 93, 'learning_rate': 0.05171022492420001, 'n_estimators': 849, 'lambda_l2': 0.005012893568695216, 'bagging_fraction': 0.9992900445843346, 'bagging_freq': 4}. Best is trial 603 with value: 0.89773631262663.\u001b[0m\n",
            "\u001b[32m[I 2021-09-23 05:58:28,528]\u001b[0m Trial 751 finished with value: 0.8831609762534519 and parameters: {'num_leaves': 309, 'max_depth': 8, 'min_data_in_leaf': 365, 'learning_rate': 0.046918485400723985, 'n_estimators': 886, 'lambda_l2': 1.9746948533660996e-05, 'bagging_fraction': 0.8978904148896448, 'bagging_freq': 4}. Best is trial 603 with value: 0.89773631262663.\u001b[0m\n",
            "\u001b[32m[I 2021-09-23 05:58:31,778]\u001b[0m Trial 752 finished with value: 0.8908695388624036 and parameters: {'num_leaves': 263, 'max_depth': 7, 'min_data_in_leaf': 116, 'learning_rate': 0.055922357309888766, 'n_estimators': 857, 'lambda_l2': 1.8544790596299642e-06, 'bagging_fraction': 0.9297995460234515, 'bagging_freq': 2}. Best is trial 603 with value: 0.89773631262663.\u001b[0m\n",
            "\u001b[32m[I 2021-09-23 05:58:35,999]\u001b[0m Trial 753 finished with value: 0.887956671242771 and parameters: {'num_leaves': 368, 'max_depth': 8, 'min_data_in_leaf': 80, 'learning_rate': 0.03529729989639678, 'n_estimators': 900, 'lambda_l2': 0.0012405555980863603, 'bagging_fraction': 0.9449957663851909, 'bagging_freq': 3}. Best is trial 603 with value: 0.89773631262663.\u001b[0m\n",
            "\u001b[32m[I 2021-09-23 05:58:39,564]\u001b[0m Trial 754 finished with value: 0.889790848278506 and parameters: {'num_leaves': 285, 'max_depth': 8, 'min_data_in_leaf': 113, 'learning_rate': 0.04103730428381154, 'n_estimators': 833, 'lambda_l2': 0.0028116293351889885, 'bagging_fraction': 0.9674172375951655, 'bagging_freq': 4}. Best is trial 603 with value: 0.89773631262663.\u001b[0m\n",
            "\u001b[32m[I 2021-09-23 05:58:42,337]\u001b[0m Trial 755 finished with value: 0.8779043474511629 and parameters: {'num_leaves': 830, 'max_depth': 9, 'min_data_in_leaf': 99, 'learning_rate': 0.04973393349161585, 'n_estimators': 873, 'lambda_l2': 0.0006996737009427783, 'bagging_fraction': 0.4668303747183723, 'bagging_freq': 4}. Best is trial 603 with value: 0.89773631262663.\u001b[0m\n",
            "\u001b[32m[I 2021-09-23 05:58:45,017]\u001b[0m Trial 756 finished with value: 0.8815064755538812 and parameters: {'num_leaves': 329, 'max_depth': 7, 'min_data_in_leaf': 126, 'learning_rate': 0.10612645980527524, 'n_estimators': 814, 'lambda_l2': 0.003936642426848264, 'bagging_fraction': 0.9109278258455586, 'bagging_freq': 1}. Best is trial 603 with value: 0.89773631262663.\u001b[0m\n",
            "\u001b[32m[I 2021-09-23 05:58:48,797]\u001b[0m Trial 757 finished with value: 0.8853547109433876 and parameters: {'num_leaves': 234, 'max_depth': 8, 'min_data_in_leaf': 93, 'learning_rate': 0.04435905471776513, 'n_estimators': 862, 'lambda_l2': 0.0016648077199173602, 'bagging_fraction': 0.9251270219571869, 'bagging_freq': 5}. Best is trial 603 with value: 0.89773631262663.\u001b[0m\n",
            "\u001b[32m[I 2021-09-23 05:58:53,260]\u001b[0m Trial 758 finished with value: 0.8851540782230345 and parameters: {'num_leaves': 388, 'max_depth': 11, 'min_data_in_leaf': 107, 'learning_rate': 0.1108498257608236, 'n_estimators': 885, 'lambda_l2': 0.009866260447231602, 'bagging_fraction': 0.9534405571292847, 'bagging_freq': 3}. Best is trial 603 with value: 0.89773631262663.\u001b[0m\n",
            "\u001b[32m[I 2021-09-23 05:58:56,332]\u001b[0m Trial 759 finished with value: 0.8800743929979646 and parameters: {'num_leaves': 296, 'max_depth': 7, 'min_data_in_leaf': 144, 'learning_rate': 0.05340430360798144, 'n_estimators': 843, 'lambda_l2': 0.005987310105421615, 'bagging_fraction': 0.9806127184288707, 'bagging_freq': 4}. Best is trial 603 with value: 0.89773631262663.\u001b[0m\n",
            "\u001b[32m[I 2021-09-23 05:58:59,656]\u001b[0m Trial 760 finished with value: 0.8796911646057237 and parameters: {'num_leaves': 267, 'max_depth': 10, 'min_data_in_leaf': 91, 'learning_rate': 0.03900772884929755, 'n_estimators': 873, 'lambda_l2': 0.0010405560325968822, 'bagging_fraction': 0.5379311704943943, 'bagging_freq': 4}. Best is trial 603 with value: 0.89773631262663.\u001b[0m\n",
            "\u001b[32m[I 2021-09-23 05:59:03,151]\u001b[0m Trial 761 finished with value: 0.8767690322353465 and parameters: {'num_leaves': 357, 'max_depth': 8, 'min_data_in_leaf': 118, 'learning_rate': 0.04737698825692505, 'n_estimators': 852, 'lambda_l2': 0.0028354185124737415, 'bagging_fraction': 0.8708477955352355, 'bagging_freq': 3}. Best is trial 603 with value: 0.89773631262663.\u001b[0m\n",
            "\u001b[32m[I 2021-09-23 05:59:06,875]\u001b[0m Trial 762 finished with value: 0.8807574549519904 and parameters: {'num_leaves': 315, 'max_depth': 8, 'min_data_in_leaf': 102, 'learning_rate': 0.06069824622321906, 'n_estimators': 885, 'lambda_l2': 1.3810757681869022e-08, 'bagging_fraction': 0.9366417940259049, 'bagging_freq': 4}. Best is trial 603 with value: 0.89773631262663.\u001b[0m\n",
            "\u001b[32m[I 2021-09-23 05:59:10,401]\u001b[0m Trial 763 finished with value: 0.8910610514116893 and parameters: {'num_leaves': 239, 'max_depth': 7, 'min_data_in_leaf': 92, 'learning_rate': 0.03234452512593738, 'n_estimators': 831, 'lambda_l2': 0.0005710282551257048, 'bagging_fraction': 0.9606983432315447, 'bagging_freq': 4}. Best is trial 603 with value: 0.89773631262663.\u001b[0m\n",
            "\u001b[32m[I 2021-09-23 05:59:11,024]\u001b[0m Trial 764 finished with value: 0.8630062385824725 and parameters: {'num_leaves': 212, 'max_depth': 8, 'min_data_in_leaf': 114, 'learning_rate': 0.04951532832352104, 'n_estimators': 108, 'lambda_l2': 0.004544518576594058, 'bagging_fraction': 0.9155661948185344, 'bagging_freq': 1}. Best is trial 603 with value: 0.89773631262663.\u001b[0m\n",
            "\u001b[32m[I 2021-09-23 05:59:14,623]\u001b[0m Trial 765 finished with value: 0.8950279945576415 and parameters: {'num_leaves': 284, 'max_depth': 7, 'min_data_in_leaf': 91, 'learning_rate': 0.0440203816227855, 'n_estimators': 900, 'lambda_l2': 0.00203551572251414, 'bagging_fraction': 0.9391361092864363, 'bagging_freq': 4}. Best is trial 603 with value: 0.89773631262663.\u001b[0m\n",
            "\u001b[32m[I 2021-09-23 05:59:18,298]\u001b[0m Trial 766 finished with value: 0.8859639566296263 and parameters: {'num_leaves': 292, 'max_depth': 7, 'min_data_in_leaf': 91, 'learning_rate': 0.03662279090092076, 'n_estimators': 900, 'lambda_l2': 0.0021226720921953017, 'bagging_fraction': 0.948124237143169, 'bagging_freq': 4}. Best is trial 603 with value: 0.89773631262663.\u001b[0m\n",
            "\u001b[32m[I 2021-09-23 05:59:20,295]\u001b[0m Trial 767 finished with value: 0.8798344208578748 and parameters: {'num_leaves': 328, 'max_depth': 7, 'min_data_in_leaf': 90, 'learning_rate': 0.041286356129626924, 'n_estimators': 428, 'lambda_l2': 0.0017800361621612836, 'bagging_fraction': 0.9635166008285078, 'bagging_freq': 4}. Best is trial 603 with value: 0.89773631262663.\u001b[0m\n",
            "\u001b[32m[I 2021-09-23 05:59:24,008]\u001b[0m Trial 768 finished with value: 0.8801574815477976 and parameters: {'num_leaves': 306, 'max_depth': 7, 'min_data_in_leaf': 80, 'learning_rate': 0.044438274692789055, 'n_estimators': 886, 'lambda_l2': 0.002349413927530179, 'bagging_fraction': 0.9820792655502223, 'bagging_freq': 4}. Best is trial 603 with value: 0.89773631262663.\u001b[0m\n",
            "\u001b[32m[I 2021-09-23 05:59:27,787]\u001b[0m Trial 769 finished with value: 0.8970448560297166 and parameters: {'num_leaves': 316, 'max_depth': 7, 'min_data_in_leaf': 80, 'learning_rate': 0.03898171103734678, 'n_estimators': 900, 'lambda_l2': 0.0031367319646276814, 'bagging_fraction': 0.9462641861399539, 'bagging_freq': 4}. Best is trial 603 with value: 0.89773631262663.\u001b[0m\n",
            "\u001b[32m[I 2021-09-23 05:59:30,498]\u001b[0m Trial 770 finished with value: 0.8831224465408428 and parameters: {'num_leaves': 344, 'max_depth': 7, 'min_data_in_leaf': 103, 'learning_rate': 0.03191665652904677, 'n_estimators': 650, 'lambda_l2': 0.003345720480616918, 'bagging_fraction': 0.9443365457932336, 'bagging_freq': 4}. Best is trial 603 with value: 0.89773631262663.\u001b[0m\n",
            "\u001b[32m[I 2021-09-23 05:59:34,113]\u001b[0m Trial 771 finished with value: 0.8822523030413609 and parameters: {'num_leaves': 335, 'max_depth': 7, 'min_data_in_leaf': 101, 'learning_rate': 0.03683440380451088, 'n_estimators': 899, 'lambda_l2': 0.0038426295592931727, 'bagging_fraction': 0.9401553908592404, 'bagging_freq': 4}. Best is trial 603 with value: 0.89773631262663.\u001b[0m\n",
            "\u001b[32m[I 2021-09-23 05:59:37,927]\u001b[0m Trial 772 finished with value: 0.8833374050826165 and parameters: {'num_leaves': 316, 'max_depth': 7, 'min_data_in_leaf': 80, 'learning_rate': 0.03811098077463708, 'n_estimators': 899, 'lambda_l2': 0.0026379323858256726, 'bagging_fraction': 0.9568522018300996, 'bagging_freq': 4}. Best is trial 603 with value: 0.89773631262663.\u001b[0m\n",
            "\u001b[32m[I 2021-09-23 05:59:40,048]\u001b[0m Trial 773 finished with value: 0.8830512187052229 and parameters: {'num_leaves': 366, 'max_depth': 7, 'min_data_in_leaf': 80, 'learning_rate': 0.04079494989663291, 'n_estimators': 468, 'lambda_l2': 0.0031012814306534855, 'bagging_fraction': 0.9718577720650762, 'bagging_freq': 4}. Best is trial 603 with value: 0.89773631262663.\u001b[0m\n",
            "\u001b[32m[I 2021-09-23 05:59:43,508]\u001b[0m Trial 774 finished with value: 0.885255789246583 and parameters: {'num_leaves': 353, 'max_depth': 7, 'min_data_in_leaf': 102, 'learning_rate': 0.03372603359607959, 'n_estimators': 884, 'lambda_l2': 0.00518124758194732, 'bagging_fraction': 0.9354688166013103, 'bagging_freq': 4}. Best is trial 603 with value: 0.89773631262663.\u001b[0m\n",
            "\u001b[32m[I 2021-09-23 05:59:47,147]\u001b[0m Trial 775 finished with value: 0.8855877204930223 and parameters: {'num_leaves': 314, 'max_depth': 7, 'min_data_in_leaf': 93, 'learning_rate': 0.03439455623834401, 'n_estimators': 887, 'lambda_l2': 0.0040588959351565024, 'bagging_fraction': 0.956716700186026, 'bagging_freq': 4}. Best is trial 603 with value: 0.89773631262663.\u001b[0m\n",
            "\u001b[32m[I 2021-09-23 05:59:50,627]\u001b[0m Trial 776 finished with value: 0.8794598910471216 and parameters: {'num_leaves': 286, 'max_depth': 7, 'min_data_in_leaf': 114, 'learning_rate': 0.03942928560288367, 'n_estimators': 899, 'lambda_l2': 0.007342269149088081, 'bagging_fraction': 0.9262821478993221, 'bagging_freq': 4}. Best is trial 603 with value: 0.89773631262663.\u001b[0m\n",
            "\u001b[32m[I 2021-09-23 05:59:53,982]\u001b[0m Trial 777 finished with value: 0.8820611467719465 and parameters: {'num_leaves': 334, 'max_depth': 7, 'min_data_in_leaf': 128, 'learning_rate': 0.0424399564552821, 'n_estimators': 875, 'lambda_l2': 0.002734968030425208, 'bagging_fraction': 0.9690295015925453, 'bagging_freq': 4}. Best is trial 603 with value: 0.89773631262663.\u001b[0m\n",
            "\u001b[32m[I 2021-09-23 05:59:57,745]\u001b[0m Trial 778 finished with value: 0.8867493163717289 and parameters: {'num_leaves': 549, 'max_depth': 7, 'min_data_in_leaf': 92, 'learning_rate': 0.029525798197559152, 'n_estimators': 877, 'lambda_l2': 0.0036237595170019363, 'bagging_fraction': 0.9459532023233976, 'bagging_freq': 4}. Best is trial 603 with value: 0.89773631262663.\u001b[0m\n",
            "\u001b[32m[I 2021-09-23 06:00:01,324]\u001b[0m Trial 779 finished with value: 0.8825495509191114 and parameters: {'num_leaves': 384, 'max_depth': 7, 'min_data_in_leaf': 106, 'learning_rate': 0.04274168222483048, 'n_estimators': 899, 'lambda_l2': 0.002322951795268209, 'bagging_fraction': 0.9348310381296348, 'bagging_freq': 4}. Best is trial 603 with value: 0.89773631262663.\u001b[0m\n",
            "\u001b[32m[I 2021-09-23 06:00:05,202]\u001b[0m Trial 780 finished with value: 0.8880696071398231 and parameters: {'num_leaves': 276, 'max_depth': 7, 'min_data_in_leaf': 92, 'learning_rate': 0.03702287848774406, 'n_estimators': 886, 'lambda_l2': 0.004651710352679514, 'bagging_fraction': 0.9867453265771664, 'bagging_freq': 4}. Best is trial 603 with value: 0.89773631262663.\u001b[0m\n",
            "\u001b[32m[I 2021-09-23 06:00:09,308]\u001b[0m Trial 781 finished with value: 0.8821248628916092 and parameters: {'num_leaves': 299, 'max_depth': 7, 'min_data_in_leaf': 80, 'learning_rate': 0.0450958915174349, 'n_estimators': 900, 'lambda_l2': 0.0031789071248703882, 'bagging_fraction': 0.9532417501783947, 'bagging_freq': 4}. Best is trial 603 with value: 0.89773631262663.\u001b[0m\n",
            "\u001b[32m[I 2021-09-23 06:00:13,194]\u001b[0m Trial 782 finished with value: 0.8795927468699569 and parameters: {'num_leaves': 744, 'max_depth': 7, 'min_data_in_leaf': 116, 'learning_rate': 0.026028570921737187, 'n_estimators': 873, 'lambda_l2': 0.002110954060149341, 'bagging_fraction': 0.9664553779947024, 'bagging_freq': 5}. Best is trial 603 with value: 0.89773631262663.\u001b[0m\n",
            "\u001b[32m[I 2021-09-23 06:00:15,942]\u001b[0m Trial 783 finished with value: 0.8857320315773287 and parameters: {'num_leaves': 316, 'max_depth': 7, 'min_data_in_leaf': 80, 'learning_rate': 0.04078452771092174, 'n_estimators': 553, 'lambda_l2': 0.005837119972793355, 'bagging_fraction': 0.9996111220295416, 'bagging_freq': 4}. Best is trial 603 with value: 0.89773631262663.\u001b[0m\n",
            "\u001b[32m[I 2021-09-23 06:00:19,684]\u001b[0m Trial 784 finished with value: 0.8821195789710843 and parameters: {'num_leaves': 771, 'max_depth': 7, 'min_data_in_leaf': 104, 'learning_rate': 0.045006710529711, 'n_estimators': 865, 'lambda_l2': 0.0043038573037360965, 'bagging_fraction': 0.9330355425984217, 'bagging_freq': 4}. Best is trial 603 with value: 0.89773631262663.\u001b[0m\n",
            "\u001b[32m[I 2021-09-23 06:00:23,339]\u001b[0m Trial 785 finished with value: 0.8789719710646562 and parameters: {'num_leaves': 272, 'max_depth': 7, 'min_data_in_leaf': 132, 'learning_rate': 0.035927547764075494, 'n_estimators': 900, 'lambda_l2': 0.002862498055123819, 'bagging_fraction': 0.9767806462709174, 'bagging_freq': 4}. Best is trial 603 with value: 0.89773631262663.\u001b[0m\n",
            "\u001b[32m[I 2021-09-23 06:00:26,771]\u001b[0m Trial 786 finished with value: 0.8873355970756358 and parameters: {'num_leaves': 295, 'max_depth': 7, 'min_data_in_leaf': 103, 'learning_rate': 0.02922592494923447, 'n_estimators': 883, 'lambda_l2': 0.007145665963104314, 'bagging_fraction': 0.9200428104808871, 'bagging_freq': 1}. Best is trial 603 with value: 0.89773631262663.\u001b[0m\n",
            "\u001b[32m[I 2021-09-23 06:00:28,651]\u001b[0m Trial 787 finished with value: 0.8660833833281377 and parameters: {'num_leaves': 328, 'max_depth': 7, 'min_data_in_leaf': 418, 'learning_rate': 0.04637319972285296, 'n_estimators': 862, 'lambda_l2': 0.0020602165260983096, 'bagging_fraction': 0.9488867333969644, 'bagging_freq': 4}. Best is trial 603 with value: 0.89773631262663.\u001b[0m\n",
            "\u001b[32m[I 2021-09-23 06:00:31,987]\u001b[0m Trial 788 finished with value: 0.8839201959837079 and parameters: {'num_leaves': 533, 'max_depth': 7, 'min_data_in_leaf': 118, 'learning_rate': 0.04033957024323924, 'n_estimators': 872, 'lambda_l2': 0.003950387435627359, 'bagging_fraction': 0.8489641385789727, 'bagging_freq': 4}. Best is trial 603 with value: 0.89773631262663.\u001b[0m\n",
            "\u001b[32m[I 2021-09-23 06:00:33,399]\u001b[0m Trial 789 finished with value: 0.8640440418209265 and parameters: {'num_leaves': 350, 'max_depth': 7, 'min_data_in_leaf': 632, 'learning_rate': 0.043746636801993415, 'n_estimators': 885, 'lambda_l2': 0.005150213304340021, 'bagging_fraction': 0.9605675060874129, 'bagging_freq': 4}. Best is trial 603 with value: 0.89773631262663.\u001b[0m\n",
            "\u001b[32m[I 2021-09-23 06:00:35,917]\u001b[0m Trial 790 finished with value: 0.8887091304984623 and parameters: {'num_leaves': 262, 'max_depth': 7, 'min_data_in_leaf': 93, 'learning_rate': 0.04919543758842941, 'n_estimators': 600, 'lambda_l2': 0.002761188004391338, 'bagging_fraction': 0.9058444571137809, 'bagging_freq': 1}. Best is trial 603 with value: 0.89773631262663.\u001b[0m\n",
            "\u001b[32m[I 2021-09-23 06:00:39,811]\u001b[0m Trial 791 finished with value: 0.8884337496817815 and parameters: {'num_leaves': 298, 'max_depth': 7, 'min_data_in_leaf': 92, 'learning_rate': 0.03857979210426424, 'n_estimators': 900, 'lambda_l2': 2.5196601814259774e-07, 'bagging_fraction': 0.9403971697250134, 'bagging_freq': 4}. Best is trial 603 with value: 0.89773631262663.\u001b[0m\n",
            "\u001b[32m[I 2021-09-23 06:00:43,581]\u001b[0m Trial 792 finished with value: 0.8857417511730353 and parameters: {'num_leaves': 936, 'max_depth': 7, 'min_data_in_leaf': 120, 'learning_rate': 0.046909777041743074, 'n_estimators': 861, 'lambda_l2': 0.0016448916143091362, 'bagging_fraction': 0.9852950873087931, 'bagging_freq': 4}. Best is trial 603 with value: 0.89773631262663.\u001b[0m\n",
            "\u001b[32m[I 2021-09-23 06:00:47,114]\u001b[0m Trial 793 finished with value: 0.8846331020948688 and parameters: {'num_leaves': 278, 'max_depth': 7, 'min_data_in_leaf': 107, 'learning_rate': 0.03318158423876472, 'n_estimators': 817, 'lambda_l2': 0.0034725069679920014, 'bagging_fraction': 0.921249959343051, 'bagging_freq': 4}. Best is trial 603 with value: 0.89773631262663.\u001b[0m\n",
            "\u001b[32m[I 2021-09-23 06:00:50,988]\u001b[0m Trial 794 finished with value: 0.8864743090601919 and parameters: {'num_leaves': 392, 'max_depth': 7, 'min_data_in_leaf': 80, 'learning_rate': 0.042307511146725166, 'n_estimators': 842, 'lambda_l2': 0.005707820205676115, 'bagging_fraction': 0.9516797837034355, 'bagging_freq': 4}. Best is trial 603 with value: 0.89773631262663.\u001b[0m\n",
            "\u001b[32m[I 2021-09-23 06:00:54,585]\u001b[0m Trial 795 finished with value: 0.8862448759424459 and parameters: {'num_leaves': 316, 'max_depth': 7, 'min_data_in_leaf': 102, 'learning_rate': 0.05116954495934546, 'n_estimators': 876, 'lambda_l2': 0.0023730075718381254, 'bagging_fraction': 0.9661578360015916, 'bagging_freq': 1}. Best is trial 603 with value: 0.89773631262663.\u001b[0m\n",
            "\u001b[32m[I 2021-09-23 06:00:58,000]\u001b[0m Trial 796 finished with value: 0.8835546964316834 and parameters: {'num_leaves': 719, 'max_depth': 7, 'min_data_in_leaf': 133, 'learning_rate': 0.048302749016428975, 'n_estimators': 855, 'lambda_l2': 0.007937013293634564, 'bagging_fraction': 0.8927872109270251, 'bagging_freq': 2}. Best is trial 603 with value: 0.89773631262663.\u001b[0m\n",
            "\u001b[32m[I 2021-09-23 06:01:02,277]\u001b[0m Trial 797 finished with value: 0.886025449745979 and parameters: {'num_leaves': 572, 'max_depth': 7, 'min_data_in_leaf': 80, 'learning_rate': 0.02340208242043497, 'n_estimators': 883, 'lambda_l2': 0.0017661688499885841, 'bagging_fraction': 0.9322928928640933, 'bagging_freq': 4}. Best is trial 603 with value: 0.89773631262663.\u001b[0m\n",
            "\u001b[32m[I 2021-09-23 06:01:03,840]\u001b[0m Trial 798 finished with value: 0.8813881054188949 and parameters: {'num_leaves': 257, 'max_depth': 7, 'min_data_in_leaf': 94, 'learning_rate': 0.045269713792468136, 'n_estimators': 330, 'lambda_l2': 0.0036889300263577133, 'bagging_fraction': 0.8239082562310103, 'bagging_freq': 4}. Best is trial 603 with value: 0.89773631262663.\u001b[0m\n",
            "\u001b[32m[I 2021-09-23 06:01:07,520]\u001b[0m Trial 799 finished with value: 0.8792507653107273 and parameters: {'num_leaves': 674, 'max_depth': 7, 'min_data_in_leaf': 115, 'learning_rate': 0.03876368676417542, 'n_estimators': 866, 'lambda_l2': 0.002802311632971514, 'bagging_fraction': 0.974559350239706, 'bagging_freq': 4}. Best is trial 603 with value: 0.89773631262663.\u001b[0m\n",
            "\u001b[32m[I 2021-09-23 06:01:11,020]\u001b[0m Trial 800 finished with value: 0.8853720393561437 and parameters: {'num_leaves': 343, 'max_depth': 7, 'min_data_in_leaf': 104, 'learning_rate': 0.0440106190864359, 'n_estimators': 846, 'lambda_l2': 0.00477698168208576, 'bagging_fraction': 0.9482054485367606, 'bagging_freq': 5}. Best is trial 603 with value: 0.89773631262663.\u001b[0m\n",
            "\u001b[32m[I 2021-09-23 06:01:13,945]\u001b[0m Trial 801 finished with value: 0.8794558768753346 and parameters: {'num_leaves': 289, 'max_depth': 7, 'min_data_in_leaf': 154, 'learning_rate': 0.051843263004444404, 'n_estimators': 810, 'lambda_l2': 0.002050405007980145, 'bagging_fraction': 0.9157097596731975, 'bagging_freq': 4}. Best is trial 603 with value: 0.89773631262663.\u001b[0m\n",
            "\u001b[32m[I 2021-09-23 06:01:18,458]\u001b[0m Trial 802 finished with value: 0.891543369056979 and parameters: {'num_leaves': 369, 'max_depth': 9, 'min_data_in_leaf': 93, 'learning_rate': 0.0361618207035836, 'n_estimators': 885, 'lambda_l2': 0.006451957399207188, 'bagging_fraction': 0.9331652514605775, 'bagging_freq': 1}. Best is trial 603 with value: 0.89773631262663.\u001b[0m\n",
            "\u001b[32m[I 2021-09-23 06:01:21,966]\u001b[0m Trial 803 finished with value: 0.8827002178547035 and parameters: {'num_leaves': 312, 'max_depth': 7, 'min_data_in_leaf': 123, 'learning_rate': 0.04761519195631605, 'n_estimators': 867, 'lambda_l2': 0.0034261694486917124, 'bagging_fraction': 0.9608308317952244, 'bagging_freq': 4}. Best is trial 603 with value: 0.89773631262663.\u001b[0m\n",
            "\u001b[32m[I 2021-09-23 06:01:25,514]\u001b[0m Trial 804 finished with value: 0.8940835283766726 and parameters: {'num_leaves': 266, 'max_depth': 7, 'min_data_in_leaf': 106, 'learning_rate': 0.041942665136670505, 'n_estimators': 831, 'lambda_l2': 1.93303042550705e-08, 'bagging_fraction': 0.9438977864353023, 'bagging_freq': 4}. Best is trial 603 with value: 0.89773631262663.\u001b[0m\n",
            "\u001b[32m[I 2021-09-23 06:01:28,914]\u001b[0m Trial 805 finished with value: 0.8821841604824135 and parameters: {'num_leaves': 252, 'max_depth': 7, 'min_data_in_leaf': 93, 'learning_rate': 0.040371210873977124, 'n_estimators': 805, 'lambda_l2': 4.263243530748005e-06, 'bagging_fraction': 0.9060081900932382, 'bagging_freq': 4}. Best is trial 603 with value: 0.89773631262663.\u001b[0m\n",
            "\u001b[32m[I 2021-09-23 06:01:32,389]\u001b[0m Trial 806 finished with value: 0.8911224506414296 and parameters: {'num_leaves': 269, 'max_depth': 7, 'min_data_in_leaf': 107, 'learning_rate': 0.035583021473810886, 'n_estimators': 824, 'lambda_l2': 0.0050398495105635314, 'bagging_fraction': 0.9262023665788202, 'bagging_freq': 4}. Best is trial 603 with value: 0.89773631262663.\u001b[0m\n",
            "\u001b[32m[I 2021-09-23 06:01:36,188]\u001b[0m Trial 807 finished with value: 0.8880796135740597 and parameters: {'num_leaves': 279, 'max_depth': 7, 'min_data_in_leaf': 80, 'learning_rate': 0.04207017533142087, 'n_estimators': 826, 'lambda_l2': 5.642427058595982e-06, 'bagging_fraction': 0.9432399407390619, 'bagging_freq': 4}. Best is trial 603 with value: 0.89773631262663.\u001b[0m\n",
            "\u001b[32m[I 2021-09-23 06:01:39,703]\u001b[0m Trial 808 finished with value: 0.8866791291088554 and parameters: {'num_leaves': 244, 'max_depth': 7, 'min_data_in_leaf': 110, 'learning_rate': 0.0316494402417486, 'n_estimators': 831, 'lambda_l2': 2.104521430438741e-08, 'bagging_fraction': 0.8910095547365876, 'bagging_freq': 4}. Best is trial 603 with value: 0.89773631262663.\u001b[0m\n",
            "\u001b[32m[I 2021-09-23 06:01:43,232]\u001b[0m Trial 809 finished with value: 0.8863500451008317 and parameters: {'num_leaves': 260, 'max_depth': 7, 'min_data_in_leaf': 92, 'learning_rate': 0.039548896597012516, 'n_estimators': 838, 'lambda_l2': 2.4448439903236918e-08, 'bagging_fraction': 0.9203984548323375, 'bagging_freq': 4}. Best is trial 603 with value: 0.89773631262663.\u001b[0m\n",
            "\u001b[32m[I 2021-09-23 06:01:46,271]\u001b[0m Trial 810 finished with value: 0.8789088204335092 and parameters: {'num_leaves': 302, 'max_depth': 7, 'min_data_in_leaf': 137, 'learning_rate': 0.044155185632271575, 'n_estimators': 818, 'lambda_l2': 5.357613611911482e-08, 'bagging_fraction': 0.9337513334716308, 'bagging_freq': 4}. Best is trial 603 with value: 0.89773631262663.\u001b[0m\n",
            "\u001b[32m[I 2021-09-23 06:01:49,483]\u001b[0m Trial 811 finished with value: 0.8836284904358354 and parameters: {'num_leaves': 267, 'max_depth': 7, 'min_data_in_leaf': 122, 'learning_rate': 0.04677802753107631, 'n_estimators': 842, 'lambda_l2': 4.184223995157348e-08, 'bagging_fraction': 0.9468556501341745, 'bagging_freq': 4}. Best is trial 603 with value: 0.89773631262663.\u001b[0m\n",
            "\u001b[32m[I 2021-09-23 06:01:53,647]\u001b[0m Trial 812 finished with value: 0.8759926017392928 and parameters: {'num_leaves': 289, 'max_depth': 9, 'min_data_in_leaf': 93, 'learning_rate': 0.041285557985369106, 'n_estimators': 811, 'lambda_l2': 0.0028020343122199818, 'bagging_fraction': 0.9103584802537465, 'bagging_freq': 4}. Best is trial 603 with value: 0.89773631262663.\u001b[0m\n",
            "\u001b[32m[I 2021-09-23 06:01:57,083]\u001b[0m Trial 813 finished with value: 0.8797424462285647 and parameters: {'num_leaves': 238, 'max_depth': 7, 'min_data_in_leaf': 102, 'learning_rate': 0.05043391330227991, 'n_estimators': 848, 'lambda_l2': 1.498549549251681e-05, 'bagging_fraction': 0.939677376825635, 'bagging_freq': 4}. Best is trial 603 with value: 0.89773631262663.\u001b[0m\n",
            "\u001b[32m[I 2021-09-23 06:02:00,373]\u001b[0m Trial 814 finished with value: 0.8836806115451756 and parameters: {'num_leaves': 512, 'max_depth': 7, 'min_data_in_leaf': 113, 'learning_rate': 0.03744218229602557, 'n_estimators': 827, 'lambda_l2': 0.009842450177320982, 'bagging_fraction': 0.8815428444401288, 'bagging_freq': 4}. Best is trial 603 with value: 0.89773631262663.\u001b[0m\n",
            "\u001b[32m[I 2021-09-23 06:02:02,893]\u001b[0m Trial 815 finished with value: 0.882522003438425 and parameters: {'num_leaves': 331, 'max_depth': 7, 'min_data_in_leaf': 80, 'learning_rate': 0.04431903432138958, 'n_estimators': 580, 'lambda_l2': 1.2952047411368291e-06, 'bagging_fraction': 0.8375259708326893, 'bagging_freq': 4}. Best is trial 603 with value: 0.89773631262663.\u001b[0m\n",
            "\u001b[32m[I 2021-09-23 06:02:05,231]\u001b[0m Trial 816 finished with value: 0.8731064101042739 and parameters: {'num_leaves': 284, 'max_depth': 7, 'min_data_in_leaf': 93, 'learning_rate': 0.05306301964244897, 'n_estimators': 527, 'lambda_l2': 0.0037600536760055295, 'bagging_fraction': 0.9997213319697605, 'bagging_freq': 4}. Best is trial 603 with value: 0.89773631262663.\u001b[0m\n",
            "\u001b[32m[I 2021-09-23 06:02:08,465]\u001b[0m Trial 817 finished with value: 0.8847335650218942 and parameters: {'num_leaves': 415, 'max_depth': 7, 'min_data_in_leaf': 127, 'learning_rate': 0.047570195107856435, 'n_estimators': 805, 'lambda_l2': 3.318991593474847e-05, 'bagging_fraction': 0.9574441527836054, 'bagging_freq': 4}. Best is trial 603 with value: 0.89773631262663.\u001b[0m\n",
            "\u001b[32m[I 2021-09-23 06:02:12,313]\u001b[0m Trial 818 finished with value: 0.893008996731472 and parameters: {'num_leaves': 260, 'max_depth': 8, 'min_data_in_leaf': 105, 'learning_rate': 0.03308286426052777, 'n_estimators': 854, 'lambda_l2': 4.152056659745847e-07, 'bagging_fraction': 0.9797952229426349, 'bagging_freq': 4}. Best is trial 603 with value: 0.89773631262663.\u001b[0m\n",
            "\u001b[32m[I 2021-09-23 06:02:15,959]\u001b[0m Trial 819 finished with value: 0.8863527793698286 and parameters: {'num_leaves': 309, 'max_depth': 7, 'min_data_in_leaf': 80, 'learning_rate': 0.04254842737976381, 'n_estimators': 833, 'lambda_l2': 1.7320818570259332e-07, 'bagging_fraction': 0.923834064789962, 'bagging_freq': 4}. Best is trial 603 with value: 0.89773631262663.\u001b[0m\n",
            "\u001b[32m[I 2021-09-23 06:02:18,641]\u001b[0m Trial 820 finished with value: 0.8800587860646757 and parameters: {'num_leaves': 280, 'max_depth': 8, 'min_data_in_leaf': 102, 'learning_rate': 0.050520638476376376, 'n_estimators': 854, 'lambda_l2': 0.004628849447226591, 'bagging_fraction': 0.5051596226539892, 'bagging_freq': 4}. Best is trial 603 with value: 0.89773631262663.\u001b[0m\n",
            "\u001b[32m[I 2021-09-23 06:02:22,020]\u001b[0m Trial 821 finished with value: 0.8823033410237948 and parameters: {'num_leaves': 436, 'max_depth': 7, 'min_data_in_leaf': 116, 'learning_rate': 0.03820432784247662, 'n_estimators': 867, 'lambda_l2': 0.002344444695496122, 'bagging_fraction': 0.8625186419644267, 'bagging_freq': 4}. Best is trial 603 with value: 0.89773631262663.\u001b[0m\n",
            "\u001b[32m[I 2021-09-23 06:02:25,328]\u001b[0m Trial 822 finished with value: 0.8894960686822633 and parameters: {'num_leaves': 248, 'max_depth': 9, 'min_data_in_leaf': 92, 'learning_rate': 0.027736828462040397, 'n_estimators': 620, 'lambda_l2': 0.00611247496405451, 'bagging_fraction': 0.9700026262991547, 'bagging_freq': 4}. Best is trial 603 with value: 0.89773631262663.\u001b[0m\n",
            "\u001b[32m[I 2021-09-23 06:02:27,687]\u001b[0m Trial 823 finished with value: 0.8852633209806642 and parameters: {'num_leaves': 306, 'max_depth': 8, 'min_data_in_leaf': 80, 'learning_rate': 0.04582696628625299, 'n_estimators': 491, 'lambda_l2': 4.6891206370257175e-05, 'bagging_fraction': 0.9508158132048474, 'bagging_freq': 1}. Best is trial 603 with value: 0.89773631262663.\u001b[0m\n",
            "\u001b[32m[I 2021-09-23 06:02:30,751]\u001b[0m Trial 824 finished with value: 0.8784023502878889 and parameters: {'num_leaves': 330, 'max_depth': 7, 'min_data_in_leaf': 140, 'learning_rate': 0.054353415837401844, 'n_estimators': 846, 'lambda_l2': 1.0456365731728117e-08, 'bagging_fraction': 0.9333298985988661, 'bagging_freq': 4}. Best is trial 603 with value: 0.89773631262663.\u001b[0m\n",
            "\u001b[32m[I 2021-09-23 06:02:35,483]\u001b[0m Trial 825 finished with value: 0.8891849233480629 and parameters: {'num_leaves': 529, 'max_depth': 10, 'min_data_in_leaf': 104, 'learning_rate': 0.0413782318948168, 'n_estimators': 871, 'lambda_l2': 0.003054592267983924, 'bagging_fraction': 0.9097654140818916, 'bagging_freq': 4}. Best is trial 603 with value: 0.89773631262663.\u001b[0m\n",
            "\u001b[32m[I 2021-09-23 06:02:39,056]\u001b[0m Trial 826 finished with value: 0.8789661704315961 and parameters: {'num_leaves': 497, 'max_depth': 8, 'min_data_in_leaf': 123, 'learning_rate': 0.017372236798800407, 'n_estimators': 802, 'lambda_l2': 0.004070590145630299, 'bagging_fraction': 0.9430472928931667, 'bagging_freq': 4}. Best is trial 603 with value: 0.89773631262663.\u001b[0m\n",
            "\u001b[32m[I 2021-09-23 06:02:43,116]\u001b[0m Trial 827 finished with value: 0.8864638901124835 and parameters: {'num_leaves': 350, 'max_depth': 8, 'min_data_in_leaf': 93, 'learning_rate': 0.04883707138385665, 'n_estimators': 900, 'lambda_l2': 0.0017988252351228697, 'bagging_fraction': 0.9637693194967811, 'bagging_freq': 5}. Best is trial 603 with value: 0.89773631262663.\u001b[0m\n",
            "\u001b[32m[I 2021-09-23 06:02:46,433]\u001b[0m Trial 828 finished with value: 0.8838563458208772 and parameters: {'num_leaves': 275, 'max_depth': 7, 'min_data_in_leaf': 113, 'learning_rate': 0.04505257812280382, 'n_estimators': 839, 'lambda_l2': 0.0024442389906339373, 'bagging_fraction': 0.9872635541684202, 'bagging_freq': 4}. Best is trial 603 with value: 0.89773631262663.\u001b[0m\n",
            "\u001b[32m[I 2021-09-23 06:02:50,434]\u001b[0m Trial 829 finished with value: 0.8904291028375626 and parameters: {'num_leaves': 300, 'max_depth': 8, 'min_data_in_leaf': 80, 'learning_rate': 0.034708304514880245, 'n_estimators': 885, 'lambda_l2': 7.307381105715057e-05, 'bagging_fraction': 0.9000078683948891, 'bagging_freq': 1}. Best is trial 603 with value: 0.89773631262663.\u001b[0m\n",
            "\u001b[32m[I 2021-09-23 06:02:53,903]\u001b[0m Trial 830 finished with value: 0.8820019263960625 and parameters: {'num_leaves': 399, 'max_depth': 7, 'min_data_in_leaf': 95, 'learning_rate': 0.05406537723474719, 'n_estimators': 825, 'lambda_l2': 0.005942585046034148, 'bagging_fraction': 0.9233426143268948, 'bagging_freq': 4}. Best is trial 603 with value: 0.89773631262663.\u001b[0m\n",
            "\u001b[32m[I 2021-09-23 06:02:55,030]\u001b[0m Trial 831 finished with value: 0.8852742540091448 and parameters: {'num_leaves': 551, 'max_depth': 8, 'min_data_in_leaf': 107, 'learning_rate': 0.049383712055811706, 'n_estimators': 201, 'lambda_l2': 0.00791198521088929, 'bagging_fraction': 0.9556160862751589, 'bagging_freq': 4}. Best is trial 603 with value: 0.89773631262663.\u001b[0m\n",
            "\u001b[32m[I 2021-09-23 06:02:56,285]\u001b[0m Trial 832 finished with value: 0.8796647815487464 and parameters: {'num_leaves': 234, 'max_depth': 7, 'min_data_in_leaf': 128, 'learning_rate': 0.039915991916244196, 'n_estimators': 267, 'lambda_l2': 0.003296249206896852, 'bagging_fraction': 0.972484224596951, 'bagging_freq': 4}. Best is trial 603 with value: 0.89773631262663.\u001b[0m\n",
            "\u001b[32m[I 2021-09-23 06:03:00,134]\u001b[0m Trial 833 finished with value: 0.8913105440673074 and parameters: {'num_leaves': 259, 'max_depth': 8, 'min_data_in_leaf': 93, 'learning_rate': 0.04562027033856146, 'n_estimators': 860, 'lambda_l2': 0.004487518239225648, 'bagging_fraction': 0.9311209662883124, 'bagging_freq': 4}. Best is trial 603 with value: 0.89773631262663.\u001b[0m\n",
            "\u001b[32m[I 2021-09-23 06:03:03,807]\u001b[0m Trial 834 finished with value: 0.888783125000612 and parameters: {'num_leaves': 470, 'max_depth': 8, 'min_data_in_leaf': 111, 'learning_rate': 0.05095555404401225, 'n_estimators': 875, 'lambda_l2': 1.1247691302886757e-07, 'bagging_fraction': 0.9412245386192424, 'bagging_freq': 4}. Best is trial 603 with value: 0.89773631262663.\u001b[0m\n",
            "\u001b[32m[I 2021-09-23 06:03:05,553]\u001b[0m Trial 835 finished with value: 0.8778364146474626 and parameters: {'num_leaves': 294, 'max_depth': 7, 'min_data_in_leaf': 143, 'learning_rate': 0.04226573138406347, 'n_estimators': 457, 'lambda_l2': 8.381136487961392e-08, 'bagging_fraction': 0.9146102820864245, 'bagging_freq': 4}. Best is trial 603 with value: 0.89773631262663.\u001b[0m\n",
            "\u001b[32m[I 2021-09-23 06:03:09,221]\u001b[0m Trial 836 finished with value: 0.8910023954664611 and parameters: {'num_leaves': 323, 'max_depth': 8, 'min_data_in_leaf': 92, 'learning_rate': 0.03567801419831146, 'n_estimators': 853, 'lambda_l2': 0.0020614300209640776, 'bagging_fraction': 0.9874161584402936, 'bagging_freq': 1}. Best is trial 603 with value: 0.89773631262663.\u001b[0m\n",
            "\u001b[32m[I 2021-09-23 06:03:10,416]\u001b[0m Trial 837 finished with value: 0.8578238688682125 and parameters: {'num_leaves': 372, 'max_depth': 7, 'min_data_in_leaf': 798, 'learning_rate': 0.0560693536151215, 'n_estimators': 887, 'lambda_l2': 0.002741595924928307, 'bagging_fraction': 0.9554435780786863, 'bagging_freq': 4}. Best is trial 603 with value: 0.89773631262663.\u001b[0m\n",
            "\u001b[32m[I 2021-09-23 06:03:15,472]\u001b[0m Trial 838 finished with value: 0.8850909121911996 and parameters: {'num_leaves': 263, 'max_depth': 12, 'min_data_in_leaf': 80, 'learning_rate': 0.0464656901362202, 'n_estimators': 816, 'lambda_l2': 0.0015204199330961915, 'bagging_fraction': 0.9729288178170531, 'bagging_freq': 2}. Best is trial 603 with value: 0.89773631262663.\u001b[0m\n",
            "\u001b[32m[I 2021-09-23 06:03:19,129]\u001b[0m Trial 839 finished with value: 0.8813183029540548 and parameters: {'num_leaves': 594, 'max_depth': 8, 'min_data_in_leaf': 105, 'learning_rate': 0.053379827093218, 'n_estimators': 836, 'lambda_l2': 0.00015127126072764317, 'bagging_fraction': 0.9283042244797653, 'bagging_freq': 4}. Best is trial 603 with value: 0.89773631262663.\u001b[0m\n",
            "\u001b[32m[I 2021-09-23 06:03:22,389]\u001b[0m Trial 840 finished with value: 0.8902605935970106 and parameters: {'num_leaves': 444, 'max_depth': 7, 'min_data_in_leaf': 122, 'learning_rate': 0.03833719434277911, 'n_estimators': 865, 'lambda_l2': 0.003461394895900584, 'bagging_fraction': 0.9495094985229174, 'bagging_freq': 4}. Best is trial 603 with value: 0.89773631262663.\u001b[0m\n",
            "\u001b[32m[I 2021-09-23 06:03:26,076]\u001b[0m Trial 841 finished with value: 0.8709807799152958 and parameters: {'num_leaves': 281, 'max_depth': 8, 'min_data_in_leaf': 93, 'learning_rate': 0.030343596375405787, 'n_estimators': 795, 'lambda_l2': 0.0046994110895323404, 'bagging_fraction': 0.9009750731840578, 'bagging_freq': 5}. Best is trial 603 with value: 0.89773631262663.\u001b[0m\n",
            "\u001b[32m[I 2021-09-23 06:03:29,064]\u001b[0m Trial 842 finished with value: 0.8765545301337256 and parameters: {'num_leaves': 238, 'max_depth': 7, 'min_data_in_leaf': 159, 'learning_rate': 0.048975317342258545, 'n_estimators': 882, 'lambda_l2': 7.446204231267327e-06, 'bagging_fraction': 0.9397587608112811, 'bagging_freq': 4}. Best is trial 603 with value: 0.89773631262663.\u001b[0m\n",
            "\u001b[32m[I 2021-09-23 06:03:33,202]\u001b[0m Trial 843 finished with value: 0.892825114202186 and parameters: {'num_leaves': 509, 'max_depth': 8, 'min_data_in_leaf': 80, 'learning_rate': 0.04265334226325166, 'n_estimators': 900, 'lambda_l2': 0.006567901817469642, 'bagging_fraction': 0.9589713852977856, 'bagging_freq': 1}. Best is trial 603 with value: 0.89773631262663.\u001b[0m\n",
            "\u001b[32m[I 2021-09-23 06:03:36,856]\u001b[0m Trial 844 finished with value: 0.8845093061355256 and parameters: {'num_leaves': 317, 'max_depth': 8, 'min_data_in_leaf': 104, 'learning_rate': 0.046339723811240095, 'n_estimators': 858, 'lambda_l2': 0.0022930583944137987, 'bagging_fraction': 0.8791479556488594, 'bagging_freq': 4}. Best is trial 603 with value: 0.89773631262663.\u001b[0m\n",
            "\u001b[32m[I 2021-09-23 06:03:40,148]\u001b[0m Trial 845 finished with value: 0.8831997813100968 and parameters: {'num_leaves': 292, 'max_depth': 7, 'min_data_in_leaf': 118, 'learning_rate': 0.05213735495122882, 'n_estimators': 874, 'lambda_l2': 0.0001156987837469147, 'bagging_fraction': 0.9179801673113784, 'bagging_freq': 4}. Best is trial 603 with value: 0.89773631262663.\u001b[0m\n",
            "\u001b[32m[I 2021-09-23 06:03:43,556]\u001b[0m Trial 846 finished with value: 0.8830393675168376 and parameters: {'num_leaves': 480, 'max_depth': 8, 'min_data_in_leaf': 134, 'learning_rate': 0.03887174321053848, 'n_estimators': 842, 'lambda_l2': 0.003561307336670655, 'bagging_fraction': 0.9707573586295607, 'bagging_freq': 4}. Best is trial 603 with value: 0.89773631262663.\u001b[0m\n",
            "\u001b[32m[I 2021-09-23 06:03:47,427]\u001b[0m Trial 847 finished with value: 0.8851533887824351 and parameters: {'num_leaves': 347, 'max_depth': 9, 'min_data_in_leaf': 102, 'learning_rate': 0.05598389148991123, 'n_estimators': 887, 'lambda_l2': 0.0016307461480427165, 'bagging_fraction': 0.9880905256970817, 'bagging_freq': 1}. Best is trial 603 with value: 0.89773631262663.\u001b[0m\n",
            "\u001b[32m[I 2021-09-23 06:03:49,136]\u001b[0m Trial 848 finished with value: 0.8657481198028932 and parameters: {'num_leaves': 424, 'max_depth': 7, 'min_data_in_leaf': 516, 'learning_rate': 0.04276279633639486, 'n_estimators': 900, 'lambda_l2': 0.0028785925321665167, 'bagging_fraction': 0.9399498528852569, 'bagging_freq': 4}. Best is trial 603 with value: 0.89773631262663.\u001b[0m\n",
            "\u001b[32m[I 2021-09-23 06:03:52,954]\u001b[0m Trial 849 finished with value: 0.8875757807147208 and parameters: {'num_leaves': 249, 'max_depth': 8, 'min_data_in_leaf': 92, 'learning_rate': 0.049187133649969364, 'n_estimators': 820, 'lambda_l2': 0.005251545656183526, 'bagging_fraction': 0.9263114784874728, 'bagging_freq': 4}. Best is trial 603 with value: 0.89773631262663.\u001b[0m\n",
            "\u001b[32m[I 2021-09-23 06:03:56,658]\u001b[0m Trial 850 finished with value: 0.8851372784948373 and parameters: {'num_leaves': 225, 'max_depth': 8, 'min_data_in_leaf': 114, 'learning_rate': 0.03449669153386252, 'n_estimators': 862, 'lambda_l2': 0.0022495385694647793, 'bagging_fraction': 0.9557204733246965, 'bagging_freq': 4}. Best is trial 603 with value: 0.89773631262663.\u001b[0m\n",
            "\u001b[32m[I 2021-09-23 06:04:00,046]\u001b[0m Trial 851 finished with value: 0.889393506910823 and parameters: {'num_leaves': 278, 'max_depth': 7, 'min_data_in_leaf': 94, 'learning_rate': 0.045475451453501764, 'n_estimators': 845, 'lambda_l2': 0.00419990245377796, 'bagging_fraction': 0.816705511443681, 'bagging_freq': 4}. Best is trial 603 with value: 0.89773631262663.\u001b[0m\n",
            "\u001b[32m[I 2021-09-23 06:04:01,911]\u001b[0m Trial 852 finished with value: 0.8774933320204873 and parameters: {'num_leaves': 263, 'max_depth': 7, 'min_data_in_leaf': 436, 'learning_rate': 0.0504496933231238, 'n_estimators': 876, 'lambda_l2': 6.40467938998068e-07, 'bagging_fraction': 0.9747840940332063, 'bagging_freq': 4}. Best is trial 603 with value: 0.89773631262663.\u001b[0m\n",
            "\u001b[32m[I 2021-09-23 06:04:05,334]\u001b[0m Trial 853 finished with value: 0.8826210400894908 and parameters: {'num_leaves': 528, 'max_depth': 8, 'min_data_in_leaf': 127, 'learning_rate': 0.039886408122444414, 'n_estimators': 831, 'lambda_l2': 0.001486753601260469, 'bagging_fraction': 0.942278235647961, 'bagging_freq': 1}. Best is trial 603 with value: 0.89773631262663.\u001b[0m\n",
            "\u001b[32m[I 2021-09-23 06:04:09,356]\u001b[0m Trial 854 finished with value: 0.8787017036859344 and parameters: {'num_leaves': 383, 'max_depth': 8, 'min_data_in_leaf': 80, 'learning_rate': 0.05578856240984363, 'n_estimators': 862, 'lambda_l2': 2.2051927448936059e-07, 'bagging_fraction': 0.8910160395944378, 'bagging_freq': 2}. Best is trial 603 with value: 0.89773631262663.\u001b[0m\n",
            "\u001b[32m[I 2021-09-23 06:04:10,963]\u001b[0m Trial 855 finished with value: 0.8876716796478484 and parameters: {'num_leaves': 311, 'max_depth': 7, 'min_data_in_leaf': 105, 'learning_rate': 0.04359099307286724, 'n_estimators': 361, 'lambda_l2': 0.007074184474114998, 'bagging_fraction': 0.9071857342788711, 'bagging_freq': 4}. Best is trial 603 with value: 0.89773631262663.\u001b[0m\n",
            "\u001b[32m[I 2021-09-23 06:04:15,763]\u001b[0m Trial 856 finished with value: 0.8857055909941431 and parameters: {'num_leaves': 337, 'max_depth': 10, 'min_data_in_leaf': 93, 'learning_rate': 0.04798629067117215, 'n_estimators': 886, 'lambda_l2': 2.3166899116309656e-05, 'bagging_fraction': 0.9618940090989099, 'bagging_freq': 4}. Best is trial 603 with value: 0.89773631262663.\u001b[0m\n",
            "\u001b[32m[I 2021-09-23 06:04:19,473]\u001b[0m Trial 857 finished with value: 0.8788130066422968 and parameters: {'num_leaves': 495, 'max_depth': 8, 'min_data_in_leaf': 115, 'learning_rate': 0.051732992180786606, 'n_estimators': 854, 'lambda_l2': 7.519265965026505e-07, 'bagging_fraction': 0.9296457180724772, 'bagging_freq': 5}. Best is trial 603 with value: 0.89773631262663.\u001b[0m\n",
            "\u001b[32m[I 2021-09-23 06:04:23,509]\u001b[0m Trial 858 finished with value: 0.8864953960675672 and parameters: {'num_leaves': 453, 'max_depth': 7, 'min_data_in_leaf': 80, 'learning_rate': 0.03737375769775739, 'n_estimators': 878, 'lambda_l2': 0.003000104140972688, 'bagging_fraction': 0.8555153497370299, 'bagging_freq': 4}. Best is trial 603 with value: 0.89773631262663.\u001b[0m\n",
            "\u001b[32m[I 2021-09-23 06:04:25,962]\u001b[0m Trial 859 finished with value: 0.87987878397535 and parameters: {'num_leaves': 293, 'max_depth': 8, 'min_data_in_leaf': 102, 'learning_rate': 0.05843213919926207, 'n_estimators': 507, 'lambda_l2': 0.0017997514679594497, 'bagging_fraction': 0.9857259320978804, 'bagging_freq': 4}. Best is trial 603 with value: 0.89773631262663.\u001b[0m\n",
            "\u001b[32m[I 2021-09-23 06:04:28,834]\u001b[0m Trial 860 finished with value: 0.8801375232411728 and parameters: {'num_leaves': 363, 'max_depth': 8, 'min_data_in_leaf': 176, 'learning_rate': 0.046099399961702196, 'n_estimators': 815, 'lambda_l2': 0.003993229105534557, 'bagging_fraction': 0.9481559238902373, 'bagging_freq': 1}. Best is trial 603 with value: 0.89773631262663.\u001b[0m\n",
            "\u001b[32m[I 2021-09-23 06:04:30,753]\u001b[0m Trial 861 finished with value: 0.87623234974416 and parameters: {'num_leaves': 403, 'max_depth': 7, 'min_data_in_leaf': 393, 'learning_rate': 0.05335478608661168, 'n_estimators': 847, 'lambda_l2': 0.0025708618981824588, 'bagging_fraction': 0.918670502176947, 'bagging_freq': 4}. Best is trial 603 with value: 0.89773631262663.\u001b[0m\n",
            "\u001b[32m[I 2021-09-23 06:04:33,765]\u001b[0m Trial 862 finished with value: 0.8747758437609792 and parameters: {'num_leaves': 265, 'max_depth': 8, 'min_data_in_leaf': 212, 'learning_rate': 0.04072898719629815, 'n_estimators': 900, 'lambda_l2': 0.007878385246246015, 'bagging_fraction': 0.9365347510870767, 'bagging_freq': 4}. Best is trial 603 with value: 0.89773631262663.\u001b[0m\n",
            "\u001b[32m[I 2021-09-23 06:04:37,137]\u001b[0m Trial 863 finished with value: 0.8847010080339957 and parameters: {'num_leaves': 240, 'max_depth': 7, 'min_data_in_leaf': 136, 'learning_rate': 0.030976992434743347, 'n_estimators': 874, 'lambda_l2': 0.0054024382334952456, 'bagging_fraction': 0.9691435258861916, 'bagging_freq': 4}. Best is trial 603 with value: 0.89773631262663.\u001b[0m\n",
            "\u001b[32m[I 2021-09-23 06:04:41,286]\u001b[0m Trial 864 finished with value: 0.8821638319694571 and parameters: {'num_leaves': 557, 'max_depth': 11, 'min_data_in_leaf': 116, 'learning_rate': 0.048840064101289854, 'n_estimators': 790, 'lambda_l2': 0.0012825936957222325, 'bagging_fraction': 0.9531311972762488, 'bagging_freq': 4}. Best is trial 603 with value: 0.89773631262663.\u001b[0m\n",
            "\u001b[32m[I 2021-09-23 06:04:43,394]\u001b[0m Trial 865 finished with value: 0.8756727135822994 and parameters: {'num_leaves': 324, 'max_depth': 8, 'min_data_in_leaf': 318, 'learning_rate': 0.044110187589225164, 'n_estimators': 832, 'lambda_l2': 0.0019083202340339693, 'bagging_fraction': 0.9123512186883281, 'bagging_freq': 4}. Best is trial 603 with value: 0.89773631262663.\u001b[0m\n",
            "\u001b[32m[I 2021-09-23 06:04:46,924]\u001b[0m Trial 866 finished with value: 0.885925326403456 and parameters: {'num_leaves': 303, 'max_depth': 7, 'min_data_in_leaf': 101, 'learning_rate': 0.041691809526541335, 'n_estimators': 865, 'lambda_l2': 0.0033295789283656666, 'bagging_fraction': 0.9647122550004353, 'bagging_freq': 5}. Best is trial 603 with value: 0.89773631262663.\u001b[0m\n",
            "\u001b[32m[I 2021-09-23 06:04:49,253]\u001b[0m Trial 867 finished with value: 0.8785424936798469 and parameters: {'num_leaves': 473, 'max_depth': 9, 'min_data_in_leaf': 286, 'learning_rate': 0.035797176847987, 'n_estimators': 886, 'lambda_l2': 2.357518705885056e-06, 'bagging_fraction': 0.9287245975235349, 'bagging_freq': 1}. Best is trial 603 with value: 0.89773631262663.\u001b[0m\n",
            "\u001b[32m[I 2021-09-23 06:04:53,466]\u001b[0m Trial 868 finished with value: 0.8883875787192445 and parameters: {'num_leaves': 276, 'max_depth': 8, 'min_data_in_leaf': 80, 'learning_rate': 0.04768087588309951, 'n_estimators': 850, 'lambda_l2': 0.004427392844874007, 'bagging_fraction': 0.9866643851677163, 'bagging_freq': 4}. Best is trial 603 with value: 0.89773631262663.\u001b[0m\n",
            "\u001b[32m[I 2021-09-23 06:04:55,094]\u001b[0m Trial 869 finished with value: 0.8837342599488084 and parameters: {'num_leaves': 251, 'max_depth': 8, 'min_data_in_leaf': 93, 'learning_rate': 0.05822693691123154, 'n_estimators': 303, 'lambda_l2': 0.002404653204469294, 'bagging_fraction': 0.873077949030848, 'bagging_freq': 4}. Best is trial 603 with value: 0.89773631262663.\u001b[0m\n",
            "\u001b[32m[I 2021-09-23 06:04:58,492]\u001b[0m Trial 870 finished with value: 0.8817549999316264 and parameters: {'num_leaves': 221, 'max_depth': 7, 'min_data_in_leaf': 148, 'learning_rate': 0.05279625756813159, 'n_estimators': 887, 'lambda_l2': 0.0057198932666912, 'bagging_fraction': 0.9993047100478643, 'bagging_freq': 4}. Best is trial 603 with value: 0.89773631262663.\u001b[0m\n",
            "\u001b[32m[I 2021-09-23 06:05:02,261]\u001b[0m Trial 871 finished with value: 0.8820158108355144 and parameters: {'num_leaves': 433, 'max_depth': 8, 'min_data_in_leaf': 126, 'learning_rate': 0.04475490418455147, 'n_estimators': 868, 'lambda_l2': 1.2919985959022766e-06, 'bagging_fraction': 0.9458501173065067, 'bagging_freq': 4}. Best is trial 603 with value: 0.89773631262663.\u001b[0m\n",
            "\u001b[32m[I 2021-09-23 06:05:04,553]\u001b[0m Trial 872 finished with value: 0.8847183797671457 and parameters: {'num_leaves': 287, 'max_depth': 7, 'min_data_in_leaf': 109, 'learning_rate': 0.13860709011892422, 'n_estimators': 567, 'lambda_l2': 0.0034653643379684387, 'bagging_fraction': 0.9012813140310503, 'bagging_freq': 4}. Best is trial 603 with value: 0.89773631262663.\u001b[0m\n",
            "\u001b[32m[I 2021-09-23 06:05:08,145]\u001b[0m Trial 873 finished with value: 0.8827652524174072 and parameters: {'num_leaves': 337, 'max_depth': 8, 'min_data_in_leaf': 98, 'learning_rate': 0.05099289767399526, 'n_estimators': 809, 'lambda_l2': 0.0019990129387263906, 'bagging_fraction': 0.9743261880824986, 'bagging_freq': 1}. Best is trial 603 with value: 0.89773631262663.\u001b[0m\n",
            "\u001b[32m[I 2021-09-23 06:05:11,727]\u001b[0m Trial 874 finished with value: 0.8860910882643633 and parameters: {'num_leaves': 517, 'max_depth': 7, 'min_data_in_leaf': 94, 'learning_rate': 0.03940940200975435, 'n_estimators': 830, 'lambda_l2': 0.00990255755503914, 'bagging_fraction': 0.9360409625734624, 'bagging_freq': 4}. Best is trial 603 with value: 0.89773631262663.\u001b[0m\n",
            "\u001b[32m[I 2021-09-23 06:05:16,010]\u001b[0m Trial 875 finished with value: 0.8919897380508673 and parameters: {'num_leaves': 306, 'max_depth': 8, 'min_data_in_leaf': 80, 'learning_rate': 0.055087915167499404, 'n_estimators': 873, 'lambda_l2': 0.00298061091779826, 'bagging_fraction': 0.9568757594249916, 'bagging_freq': 4}. Best is trial 603 with value: 0.89773631262663.\u001b[0m\n",
            "\u001b[32m[I 2021-09-23 06:05:19,616]\u001b[0m Trial 876 finished with value: 0.8825919808858789 and parameters: {'num_leaves': 265, 'max_depth': 8, 'min_data_in_leaf': 120, 'learning_rate': 0.04711343068222394, 'n_estimators': 900, 'lambda_l2': 0.0014331594669048451, 'bagging_fraction': 0.922239865260367, 'bagging_freq': 1}. Best is trial 603 with value: 0.89773631262663.\u001b[0m\n",
            "\u001b[32m[I 2021-09-23 06:05:23,306]\u001b[0m Trial 877 finished with value: 0.8820356773281617 and parameters: {'num_leaves': 456, 'max_depth': 7, 'min_data_in_leaf': 109, 'learning_rate': 0.03337703528958921, 'n_estimators': 851, 'lambda_l2': 0.004101186575096491, 'bagging_fraction': 0.9617613833897753, 'bagging_freq': 2}. Best is trial 603 with value: 0.89773631262663.\u001b[0m\n",
            "\u001b[32m[I 2021-09-23 06:05:27,348]\u001b[0m Trial 878 finished with value: 0.8879956354242599 and parameters: {'num_leaves': 493, 'max_depth': 8, 'min_data_in_leaf': 92, 'learning_rate': 0.06371267182567797, 'n_estimators': 884, 'lambda_l2': 0.005776734656055535, 'bagging_fraction': 0.9452617349502707, 'bagging_freq': 4}. Best is trial 603 with value: 0.89773631262663.\u001b[0m\n",
            "\u001b[32m[I 2021-09-23 06:05:30,949]\u001b[0m Trial 879 finished with value: 0.8848086558950528 and parameters: {'num_leaves': 245, 'max_depth': 7, 'min_data_in_leaf': 106, 'learning_rate': 0.04302527461488326, 'n_estimators': 837, 'lambda_l2': 0.0022773994805763906, 'bagging_fraction': 0.9797851890020758, 'bagging_freq': 4}. Best is trial 603 with value: 0.89773631262663.\u001b[0m\n",
            "\u001b[32m[I 2021-09-23 06:05:34,425]\u001b[0m Trial 880 finished with value: 0.8812273981672388 and parameters: {'num_leaves': 362, 'max_depth': 8, 'min_data_in_leaf': 133, 'learning_rate': 0.050719011017221045, 'n_estimators': 855, 'lambda_l2': 0.0013004924832488915, 'bagging_fraction': 0.8890512829944144, 'bagging_freq': 4}. Best is trial 603 with value: 0.89773631262663.\u001b[0m\n",
            "\u001b[32m[I 2021-09-23 06:05:38,214]\u001b[0m Trial 881 finished with value: 0.8889775429699909 and parameters: {'num_leaves': 542, 'max_depth': 7, 'min_data_in_leaf': 92, 'learning_rate': 0.037836682830559985, 'n_estimators': 868, 'lambda_l2': 0.007806683528792335, 'bagging_fraction': 0.9148212913658716, 'bagging_freq': 4}. Best is trial 603 with value: 0.89773631262663.\u001b[0m\n",
            "\u001b[32m[I 2021-09-23 06:05:41,629]\u001b[0m Trial 882 finished with value: 0.8825873416239064 and parameters: {'num_leaves': 414, 'max_depth': 8, 'min_data_in_leaf': 80, 'learning_rate': 0.04623048543229305, 'n_estimators': 884, 'lambda_l2': 0.0028834255883257655, 'bagging_fraction': 0.5649302426103568, 'bagging_freq': 5}. Best is trial 603 with value: 0.89773631262663.\u001b[0m\n",
            "\u001b[32m[I 2021-09-23 06:05:45,521]\u001b[0m Trial 883 finished with value: 0.8773610233586964 and parameters: {'num_leaves': 220, 'max_depth': 9, 'min_data_in_leaf': 116, 'learning_rate': 0.021079842853203443, 'n_estimators': 800, 'lambda_l2': 0.0047192278554370175, 'bagging_fraction': 0.9351543223020962, 'bagging_freq': 4}. Best is trial 603 with value: 0.89773631262663.\u001b[0m\n",
            "\u001b[32m[I 2021-09-23 06:05:48,690]\u001b[0m Trial 884 finished with value: 0.8882658466843323 and parameters: {'num_leaves': 289, 'max_depth': 7, 'min_data_in_leaf': 103, 'learning_rate': 0.05835790954392624, 'n_estimators': 818, 'lambda_l2': 0.0019920516298320536, 'bagging_fraction': 0.8347025576680266, 'bagging_freq': 4}. Best is trial 603 with value: 0.89773631262663.\u001b[0m\n",
            "\u001b[32m[I 2021-09-23 06:05:52,646]\u001b[0m Trial 885 finished with value: 0.8787584898082293 and parameters: {'num_leaves': 317, 'max_depth': 8, 'min_data_in_leaf': 95, 'learning_rate': 0.04238513169577075, 'n_estimators': 865, 'lambda_l2': 0.0035757816876405752, 'bagging_fraction': 0.9535563718913258, 'bagging_freq': 1}. Best is trial 603 with value: 0.89773631262663.\u001b[0m\n",
            "\u001b[32m[I 2021-09-23 06:05:56,594]\u001b[0m Trial 886 finished with value: 0.8797323229747177 and parameters: {'num_leaves': 576, 'max_depth': 8, 'min_data_in_leaf': 124, 'learning_rate': 0.048868006259268904, 'n_estimators': 887, 'lambda_l2': 1.5331709356271244e-08, 'bagging_fraction': 0.9682039747367854, 'bagging_freq': 4}. Best is trial 603 with value: 0.89773631262663.\u001b[0m\n",
            "\u001b[32m[I 2021-09-23 06:05:59,936]\u001b[0m Trial 887 finished with value: 0.884433490097924 and parameters: {'num_leaves': 1022, 'max_depth': 7, 'min_data_in_leaf': 111, 'learning_rate': 0.05442079586946136, 'n_estimators': 838, 'lambda_l2': 0.0026357183126102324, 'bagging_fraction': 0.9234944907753813, 'bagging_freq': 4}. Best is trial 603 with value: 0.89773631262663.\u001b[0m\n",
            "\u001b[32m[I 2021-09-23 06:06:02,541]\u001b[0m Trial 888 finished with value: 0.8817777500619278 and parameters: {'num_leaves': 277, 'max_depth': 8, 'min_data_in_leaf': 92, 'learning_rate': 0.04075426270526371, 'n_estimators': 546, 'lambda_l2': 0.005733457274472086, 'bagging_fraction': 0.9059231499858226, 'bagging_freq': 4}. Best is trial 603 with value: 0.89773631262663.\u001b[0m\n",
            "\u001b[32m[I 2021-09-23 06:06:06,412]\u001b[0m Trial 889 finished with value: 0.890961720372797 and parameters: {'num_leaves': 334, 'max_depth': 7, 'min_data_in_leaf': 80, 'learning_rate': 0.02863224839868965, 'n_estimators': 900, 'lambda_l2': 0.0016331679417044215, 'bagging_fraction': 0.940891835629597, 'bagging_freq': 1}. Best is trial 603 with value: 0.89773631262663.\u001b[0m\n",
            "\u001b[32m[I 2021-09-23 06:06:08,087]\u001b[0m Trial 890 finished with value: 0.8698629546283368 and parameters: {'num_leaves': 260, 'max_depth': 8, 'min_data_in_leaf': 480, 'learning_rate': 0.04540012971560529, 'n_estimators': 851, 'lambda_l2': 0.001146030209090696, 'bagging_fraction': 0.9517812199101082, 'bagging_freq': 4}. Best is trial 603 with value: 0.89773631262663.\u001b[0m\n",
            "\u001b[32m[I 2021-09-23 06:06:11,402]\u001b[0m Trial 891 finished with value: 0.8891131943562887 and parameters: {'num_leaves': 233, 'max_depth': 7, 'min_data_in_leaf': 105, 'learning_rate': 0.05110548439066438, 'n_estimators': 871, 'lambda_l2': 0.003998513570120677, 'bagging_fraction': 0.9748312248946237, 'bagging_freq': 4}. Best is trial 603 with value: 0.89773631262663.\u001b[0m\n",
            "\u001b[32m[I 2021-09-23 06:06:14,287]\u001b[0m Trial 892 finished with value: 0.8822847902632979 and parameters: {'num_leaves': 295, 'max_depth': 8, 'min_data_in_leaf': 237, 'learning_rate': 0.03727191664454223, 'n_estimators': 885, 'lambda_l2': 3.1406452463661196e-07, 'bagging_fraction': 0.9905999113539495, 'bagging_freq': 4}. Best is trial 603 with value: 0.89773631262663.\u001b[0m\n",
            "\u001b[32m[I 2021-09-23 06:06:17,707]\u001b[0m Trial 893 finished with value: 0.8873105055221534 and parameters: {'num_leaves': 380, 'max_depth': 8, 'min_data_in_leaf': 136, 'learning_rate': 0.04799348873170787, 'n_estimators': 860, 'lambda_l2': 0.006643547203495904, 'bagging_fraction': 0.9276785002947058, 'bagging_freq': 4}. Best is trial 603 with value: 0.89773631262663.\u001b[0m\n",
            "\u001b[32m[I 2021-09-23 06:06:20,321]\u001b[0m Trial 894 finished with value: 0.8854586111777578 and parameters: {'num_leaves': 473, 'max_depth': 7, 'min_data_in_leaf': 93, 'learning_rate': 0.06079620342757755, 'n_estimators': 637, 'lambda_l2': 0.002755430818478955, 'bagging_fraction': 0.9420102992346425, 'bagging_freq': 4}. Best is trial 603 with value: 0.89773631262663.\u001b[0m\n",
            "\u001b[32m[I 2021-09-23 06:06:23,207]\u001b[0m Trial 895 finished with value: 0.8926031568196078 and parameters: {'num_leaves': 442, 'max_depth': 7, 'min_data_in_leaf': 149, 'learning_rate': 0.04275962554065103, 'n_estimators': 833, 'lambda_l2': 0.0017368537912893281, 'bagging_fraction': 0.9605879143172182, 'bagging_freq': 1}. Best is trial 603 with value: 0.89773631262663.\u001b[0m\n",
            "\u001b[32m[I 2021-09-23 06:06:26,629]\u001b[0m Trial 896 finished with value: 0.8862396509601507 and parameters: {'num_leaves': 349, 'max_depth': 8, 'min_data_in_leaf': 119, 'learning_rate': 0.05450694317727636, 'n_estimators': 873, 'lambda_l2': 0.004334130589359449, 'bagging_fraction': 0.892532166030499, 'bagging_freq': 4}. Best is trial 603 with value: 0.89773631262663.\u001b[0m\n",
            "\u001b[32m[I 2021-09-23 06:06:30,041]\u001b[0m Trial 897 finished with value: 0.876141698284813 and parameters: {'num_leaves': 269, 'max_depth': 7, 'min_data_in_leaf': 104, 'learning_rate': 0.033429685884166505, 'n_estimators': 848, 'lambda_l2': 0.00337018973625407, 'bagging_fraction': 0.9306705913815335, 'bagging_freq': 4}. Best is trial 603 with value: 0.89773631262663.\u001b[0m\n",
            "\u001b[32m[I 2021-09-23 06:06:33,828]\u001b[0m Trial 898 finished with value: 0.8816409688521523 and parameters: {'num_leaves': 311, 'max_depth': 8, 'min_data_in_leaf': 91, 'learning_rate': 0.05096826033392947, 'n_estimators': 817, 'lambda_l2': 0.0020979887640691255, 'bagging_fraction': 0.9165046929126975, 'bagging_freq': 4}. Best is trial 603 with value: 0.89773631262663.\u001b[0m\n",
            "\u001b[32m[I 2021-09-23 06:06:38,692]\u001b[0m Trial 899 finished with value: 0.8834033425136975 and parameters: {'num_leaves': 251, 'max_depth': 10, 'min_data_in_leaf': 80, 'learning_rate': 0.04557787929078546, 'n_estimators': 886, 'lambda_l2': 0.004751147004160517, 'bagging_fraction': 0.9791069094078393, 'bagging_freq': 4}. Best is trial 603 with value: 0.89773631262663.\u001b[0m\n",
            "\u001b[32m[I 2021-09-23 06:06:42,264]\u001b[0m Trial 900 finished with value: 0.8893413183955329 and parameters: {'num_leaves': 516, 'max_depth': 8, 'min_data_in_leaf': 115, 'learning_rate': 0.03950132969868547, 'n_estimators': 900, 'lambda_l2': 0.0012445873875126339, 'bagging_fraction': 0.9492450996500241, 'bagging_freq': 1}. Best is trial 603 with value: 0.89773631262663.\u001b[0m\n",
            "\u001b[32m[I 2021-09-23 06:06:45,573]\u001b[0m Trial 901 finished with value: 0.8930881069264366 and parameters: {'num_leaves': 280, 'max_depth': 8, 'min_data_in_leaf': 126, 'learning_rate': 0.055931351478826316, 'n_estimators': 861, 'lambda_l2': 0.0026075832671823406, 'bagging_fraction': 0.8689765750359435, 'bagging_freq': 4}. Best is trial 603 with value: 0.89773631262663.\u001b[0m\n",
            "\u001b[32m[I 2021-09-23 06:06:49,010]\u001b[0m Trial 902 finished with value: 0.8892268366261384 and parameters: {'num_leaves': 483, 'max_depth': 7, 'min_data_in_leaf': 102, 'learning_rate': 0.048300573386796934, 'n_estimators': 875, 'lambda_l2': 0.007085359751263706, 'bagging_fraction': 0.9642976250431213, 'bagging_freq': 4}. Best is trial 603 with value: 0.89773631262663.\u001b[0m\n",
            "\u001b[32m[I 2021-09-23 06:06:52,592]\u001b[0m Trial 903 finished with value: 0.887384417875267 and parameters: {'num_leaves': 321, 'max_depth': 7, 'min_data_in_leaf': 80, 'learning_rate': 0.04299940841759702, 'n_estimators': 844, 'lambda_l2': 0.0016010370439673374, 'bagging_fraction': 0.937754412414547, 'bagging_freq': 4}. Best is trial 603 with value: 0.89773631262663.\u001b[0m\n",
            "\u001b[32m[I 2021-09-23 06:06:56,670]\u001b[0m Trial 904 finished with value: 0.8856621087071072 and parameters: {'num_leaves': 206, 'max_depth': 8, 'min_data_in_leaf': 93, 'learning_rate': 0.03818289812602137, 'n_estimators': 886, 'lambda_l2': 0.003546399351177745, 'bagging_fraction': 0.9983726411908213, 'bagging_freq': 4}. Best is trial 603 with value: 0.89773631262663.\u001b[0m\n",
            "\u001b[32m[I 2021-09-23 06:07:00,379]\u001b[0m Trial 905 finished with value: 0.8844415597111023 and parameters: {'num_leaves': 697, 'max_depth': 9, 'min_data_in_leaf': 112, 'learning_rate': 0.052618441423614375, 'n_estimators': 791, 'lambda_l2': 0.0023460187469523885, 'bagging_fraction': 0.9096657502720662, 'bagging_freq': 5}. Best is trial 603 with value: 0.89773631262663.\u001b[0m\n",
            "\u001b[32m[I 2021-09-23 06:07:03,997]\u001b[0m Trial 906 finished with value: 0.8899877812837826 and parameters: {'num_leaves': 408, 'max_depth': 8, 'min_data_in_leaf': 103, 'learning_rate': 0.04615331538475666, 'n_estimators': 825, 'lambda_l2': 0.005558726060656192, 'bagging_fraction': 0.953097817127128, 'bagging_freq': 4}. Best is trial 603 with value: 0.89773631262663.\u001b[0m\n",
            "\u001b[32m[I 2021-09-23 06:07:06,573]\u001b[0m Trial 907 finished with value: 0.8800519181549278 and parameters: {'num_leaves': 302, 'max_depth': 7, 'min_data_in_leaf': 92, 'learning_rate': 0.03439859944770941, 'n_estimators': 598, 'lambda_l2': 0.0010929599359549525, 'bagging_fraction': 0.9264284395836374, 'bagging_freq': 1}. Best is trial 603 with value: 0.89773631262663.\u001b[0m\n",
            "\u001b[32m[I 2021-09-23 06:07:10,193]\u001b[0m Trial 908 finished with value: 0.8905086405967206 and parameters: {'num_leaves': 250, 'max_depth': 8, 'min_data_in_leaf': 135, 'learning_rate': 0.04229754969281178, 'n_estimators': 863, 'lambda_l2': 0.0037308494061262217, 'bagging_fraction': 0.9821762537994415, 'bagging_freq': 4}. Best is trial 603 with value: 0.89773631262663.\u001b[0m\n",
            "\u001b[32m[I 2021-09-23 06:07:12,565]\u001b[0m Trial 909 finished with value: 0.8854960610409146 and parameters: {'num_leaves': 499, 'max_depth': 7, 'min_data_in_leaf': 80, 'learning_rate': 0.05000556150743052, 'n_estimators': 519, 'lambda_l2': 0.008203434109042021, 'bagging_fraction': 0.8475318032393624, 'bagging_freq': 4}. Best is trial 603 with value: 0.89773631262663.\u001b[0m\n",
            "\u001b[32m[I 2021-09-23 06:07:16,453]\u001b[0m Trial 910 finished with value: 0.8797685101961578 and parameters: {'num_leaves': 456, 'max_depth': 8, 'min_data_in_leaf': 117, 'learning_rate': 0.05815360072000044, 'n_estimators': 900, 'lambda_l2': 0.00041540423317867767, 'bagging_fraction': 0.9659967400316072, 'bagging_freq': 2}. Best is trial 603 with value: 0.89773631262663.\u001b[0m\n",
            "\u001b[32m[I 2021-09-23 06:07:20,302]\u001b[0m Trial 911 finished with value: 0.8796827736450686 and parameters: {'num_leaves': 232, 'max_depth': 8, 'min_data_in_leaf': 103, 'learning_rate': 0.05325535253482642, 'n_estimators': 843, 'lambda_l2': 0.0029729315946762204, 'bagging_fraction': 0.946727523721801, 'bagging_freq': 4}. Best is trial 603 with value: 0.89773631262663.\u001b[0m\n",
            "\u001b[32m[I 2021-09-23 06:07:23,836]\u001b[0m Trial 912 finished with value: 0.8817513454852509 and parameters: {'num_leaves': 431, 'max_depth': 7, 'min_data_in_leaf': 123, 'learning_rate': 0.04674072600917768, 'n_estimators': 900, 'lambda_l2': 0.0002038259941971879, 'bagging_fraction': 0.935315790243769, 'bagging_freq': 4}. Best is trial 603 with value: 0.89773631262663.\u001b[0m\n",
            "\u001b[32m[I 2021-09-23 06:07:27,269]\u001b[0m Trial 913 finished with value: 0.8867058634406111 and parameters: {'num_leaves': 281, 'max_depth': 7, 'min_data_in_leaf': 92, 'learning_rate': 0.04071855497985479, 'n_estimators': 874, 'lambda_l2': 0.0019018734705973732, 'bagging_fraction': 0.917972151595108, 'bagging_freq': 1}. Best is trial 603 with value: 0.89773631262663.\u001b[0m\n",
            "\u001b[32m[I 2021-09-23 06:07:31,014]\u001b[0m Trial 914 finished with value: 0.8799973618807737 and parameters: {'num_leaves': 356, 'max_depth': 8, 'min_data_in_leaf': 106, 'learning_rate': 0.04427147607663619, 'n_estimators': 854, 'lambda_l2': 0.0014982443595720622, 'bagging_fraction': 0.9633424230718923, 'bagging_freq': 4}. Best is trial 603 with value: 0.89773631262663.\u001b[0m\n",
            "\u001b[32m[I 2021-09-23 06:07:34,473]\u001b[0m Trial 915 finished with value: 0.8714539268220256 and parameters: {'num_leaves': 534, 'max_depth': 8, 'min_data_in_leaf': 93, 'learning_rate': 0.15248142524481706, 'n_estimators': 805, 'lambda_l2': 0.004710766059128289, 'bagging_fraction': 0.8965748689407509, 'bagging_freq': 4}. Best is trial 603 with value: 0.89773631262663.\u001b[0m\n",
            "\u001b[32m[I 2021-09-23 06:07:37,976]\u001b[0m Trial 916 finished with value: 0.8878804033884287 and parameters: {'num_leaves': 331, 'max_depth': 8, 'min_data_in_leaf': 146, 'learning_rate': 0.049550333892147025, 'n_estimators': 875, 'lambda_l2': 0.0023439716101432426, 'bagging_fraction': 0.9791215255521615, 'bagging_freq': 5}. Best is trial 603 with value: 0.89773631262663.\u001b[0m\n",
            "\u001b[32m[I 2021-09-23 06:07:40,882]\u001b[0m Trial 917 finished with value: 0.8763301966331343 and parameters: {'num_leaves': 263, 'max_depth': 7, 'min_data_in_leaf': 165, 'learning_rate': 0.03519184630952228, 'n_estimators': 830, 'lambda_l2': 0.000872830154527547, 'bagging_fraction': 0.9419400012647211, 'bagging_freq': 4}. Best is trial 603 with value: 0.89773631262663.\u001b[0m\n",
            "\u001b[32m[I 2021-09-23 06:07:44,458]\u001b[0m Trial 918 finished with value: 0.8832329306974815 and parameters: {'num_leaves': 300, 'max_depth': 8, 'min_data_in_leaf': 114, 'learning_rate': 0.06041999392404622, 'n_estimators': 854, 'lambda_l2': 1.1290937814903693e-05, 'bagging_fraction': 0.8818030954065736, 'bagging_freq': 4}. Best is trial 603 with value: 0.89773631262663.\u001b[0m\n",
            "\u001b[32m[I 2021-09-23 06:07:47,918]\u001b[0m Trial 919 finished with value: 0.8836930166884779 and parameters: {'num_leaves': 382, 'max_depth': 7, 'min_data_in_leaf': 91, 'learning_rate': 0.054492266096568445, 'n_estimators': 887, 'lambda_l2': 3.357782976902872e-08, 'bagging_fraction': 0.9549230344654588, 'bagging_freq': 1}. Best is trial 603 with value: 0.89773631262663.\u001b[0m\n",
            "\u001b[32m[I 2021-09-23 06:07:49,948]\u001b[0m Trial 920 finished with value: 0.8750023526717331 and parameters: {'num_leaves': 229, 'max_depth': 8, 'min_data_in_leaf': 197, 'learning_rate': 0.037851477682082045, 'n_estimators': 868, 'lambda_l2': 0.003245036570153225, 'bagging_fraction': 0.5976899218907544, 'bagging_freq': 4}. Best is trial 603 with value: 0.89773631262663.\u001b[0m\n",
            "\u001b[32m[I 2021-09-23 06:07:53,270]\u001b[0m Trial 921 finished with value: 0.888623089054944 and parameters: {'num_leaves': 287, 'max_depth': 7, 'min_data_in_leaf': 127, 'learning_rate': 0.047741824264353784, 'n_estimators': 838, 'lambda_l2': 0.00989986510082382, 'bagging_fraction': 0.9996977089911423, 'bagging_freq': 3}. Best is trial 603 with value: 0.89773631262663.\u001b[0m\n",
            "\u001b[32m[I 2021-09-23 06:07:58,114]\u001b[0m Trial 922 finished with value: 0.8876320911282348 and parameters: {'num_leaves': 465, 'max_depth': 9, 'min_data_in_leaf': 80, 'learning_rate': 0.030287816237297573, 'n_estimators': 887, 'lambda_l2': 0.00608534174145534, 'bagging_fraction': 0.9255705688230879, 'bagging_freq': 4}. Best is trial 603 with value: 0.89773631262663.\u001b[0m\n",
            "\u001b[32m[I 2021-09-23 06:07:59,294]\u001b[0m Trial 923 finished with value: 0.8537521931072395 and parameters: {'num_leaves': 253, 'max_depth': 8, 'min_data_in_leaf': 724, 'learning_rate': 0.04279807053424371, 'n_estimators': 862, 'lambda_l2': 0.004503843498107167, 'bagging_fraction': 0.9050543112889666, 'bagging_freq': 4}. Best is trial 603 with value: 0.89773631262663.\u001b[0m\n",
            "\u001b[32m[I 2021-09-23 06:08:02,374]\u001b[0m Trial 924 finished with value: 0.8801302970583014 and parameters: {'num_leaves': 322, 'max_depth': 7, 'min_data_in_leaf': 103, 'learning_rate': 0.15841976514544745, 'n_estimators': 815, 'lambda_l2': 0.0005074511941377591, 'bagging_fraction': 0.9749440257305002, 'bagging_freq': 4}. Best is trial 603 with value: 0.89773631262663.\u001b[0m\n",
            "\u001b[32m[I 2021-09-23 06:08:06,495]\u001b[0m Trial 925 finished with value: 0.891379834611389 and parameters: {'num_leaves': 272, 'max_depth': 8, 'min_data_in_leaf': 80, 'learning_rate': 0.05120889383121654, 'n_estimators': 886, 'lambda_l2': 0.002139459741339279, 'bagging_fraction': 0.9450030043585947, 'bagging_freq': 4}. Best is trial 603 with value: 0.89773631262663.\u001b[0m\n",
            "\u001b[32m[I 2021-09-23 06:08:10,262]\u001b[0m Trial 926 finished with value: 0.880722474166061 and parameters: {'num_leaves': 486, 'max_depth': 8, 'min_data_in_leaf': 113, 'learning_rate': 0.0570115162672422, 'n_estimators': 874, 'lambda_l2': 0.001403008116302373, 'bagging_fraction': 0.9620438587966816, 'bagging_freq': 3}. Best is trial 603 with value: 0.89773631262663.\u001b[0m\n",
            "\u001b[32m[I 2021-09-23 06:08:13,543]\u001b[0m Trial 927 finished with value: 0.8881576523071693 and parameters: {'num_leaves': 559, 'max_depth': 7, 'min_data_in_leaf': 102, 'learning_rate': 0.04497815056304502, 'n_estimators': 843, 'lambda_l2': 0.002887182197763281, 'bagging_fraction': 0.9297862480248361, 'bagging_freq': 1}. Best is trial 603 with value: 0.89773631262663.\u001b[0m\n",
            "\u001b[32m[I 2021-09-23 06:08:17,078]\u001b[0m Trial 928 finished with value: 0.8858458234487104 and parameters: {'num_leaves': 200, 'max_depth': 8, 'min_data_in_leaf': 134, 'learning_rate': 0.04038569258977324, 'n_estimators': 864, 'lambda_l2': 0.004231220103524248, 'bagging_fraction': 0.9882383593475355, 'bagging_freq': 4}. Best is trial 603 with value: 0.89773631262663.\u001b[0m\n",
            "\u001b[32m[I 2021-09-23 06:08:17,892]\u001b[0m Trial 929 finished with value: 0.8807550274154452 and parameters: {'num_leaves': 302, 'max_depth': 7, 'min_data_in_leaf': 94, 'learning_rate': 0.04921699468473629, 'n_estimators': 245, 'lambda_l2': 0.0010342362833743862, 'bagging_fraction': 0.40697421913691456, 'bagging_freq': 2}. Best is trial 603 with value: 0.89773631262663.\u001b[0m\n",
            "\u001b[32m[I 2021-09-23 06:08:21,503]\u001b[0m Trial 930 finished with value: 0.883569982788893 and parameters: {'num_leaves': 343, 'max_depth': 7, 'min_data_in_leaf': 92, 'learning_rate': 0.06363869940086478, 'n_estimators': 900, 'lambda_l2': 0.001858332051283487, 'bagging_fraction': 0.913848167511558, 'bagging_freq': 4}. Best is trial 603 with value: 0.89773631262663.\u001b[0m\n",
            "\u001b[32m[I 2021-09-23 06:08:25,081]\u001b[0m Trial 931 finished with value: 0.8841051728294081 and parameters: {'num_leaves': 603, 'max_depth': 8, 'min_data_in_leaf': 114, 'learning_rate': 0.05377295570843391, 'n_estimators': 824, 'lambda_l2': 0.006414219812282159, 'bagging_fraction': 0.9494479443644317, 'bagging_freq': 3}. Best is trial 603 with value: 0.89773631262663.\u001b[0m\n",
            "\u001b[32m[I 2021-09-23 06:08:28,716]\u001b[0m Trial 932 finished with value: 0.8814512661518763 and parameters: {'num_leaves': 425, 'max_depth': 8, 'min_data_in_leaf': 125, 'learning_rate': 0.04570678370371981, 'n_estimators': 882, 'lambda_l2': 0.0034445206662804574, 'bagging_fraction': 0.9349123776103655, 'bagging_freq': 4}. Best is trial 603 with value: 0.89773631262663.\u001b[0m\n",
            "\u001b[32m[I 2021-09-23 06:08:32,450]\u001b[0m Trial 933 finished with value: 0.8835990377827616 and parameters: {'num_leaves': 662, 'max_depth': 7, 'min_data_in_leaf': 104, 'learning_rate': 0.043037664596925165, 'n_estimators': 900, 'lambda_l2': 0.002795604813831395, 'bagging_fraction': 0.9667875296820106, 'bagging_freq': 4}. Best is trial 603 with value: 0.89773631262663.\u001b[0m\n",
            "\u001b[32m[I 2021-09-23 06:08:36,324]\u001b[0m Trial 934 finished with value: 0.8865855948267111 and parameters: {'num_leaves': 400, 'max_depth': 8, 'min_data_in_leaf': 93, 'learning_rate': 0.03792381880046515, 'n_estimators': 852, 'lambda_l2': 0.0052332551652321604, 'bagging_fraction': 0.956319791877472, 'bagging_freq': 1}. Best is trial 603 with value: 0.89773631262663.\u001b[0m\n",
            "\u001b[32m[I 2021-09-23 06:08:39,506]\u001b[0m Trial 935 finished with value: 0.8857327036143466 and parameters: {'num_leaves': 506, 'max_depth': 8, 'min_data_in_leaf': 80, 'learning_rate': 0.05079161893761736, 'n_estimators': 664, 'lambda_l2': 0.0006261413179481338, 'bagging_fraction': 0.8161967467861136, 'bagging_freq': 4}. Best is trial 603 with value: 0.89773631262663.\u001b[0m\n",
            "\u001b[32m[I 2021-09-23 06:08:42,762]\u001b[0m Trial 936 finished with value: 0.8845916110325394 and parameters: {'num_leaves': 244, 'max_depth': 7, 'min_data_in_leaf': 112, 'learning_rate': 0.04863113394169867, 'n_estimators': 802, 'lambda_l2': 0.0018698616922660858, 'bagging_fraction': 0.9206149414706719, 'bagging_freq': 3}. Best is trial 603 with value: 0.89773631262663.\u001b[0m\n",
            "\u001b[32m[I 2021-09-23 06:08:47,901]\u001b[0m Trial 937 finished with value: 0.8750078588004345 and parameters: {'num_leaves': 273, 'max_depth': 11, 'min_data_in_leaf': 92, 'learning_rate': 0.03245812911417875, 'n_estimators': 870, 'lambda_l2': 0.0013338413691355842, 'bagging_fraction': 0.8998300843996598, 'bagging_freq': 4}. Best is trial 603 with value: 0.89773631262663.\u001b[0m\n",
            "\u001b[32m[I 2021-09-23 06:08:50,393]\u001b[0m Trial 938 finished with value: 0.8876415119868881 and parameters: {'num_leaves': 312, 'max_depth': 9, 'min_data_in_leaf': 103, 'learning_rate': 0.05640066289127945, 'n_estimators': 481, 'lambda_l2': 0.002410206680625804, 'bagging_fraction': 0.9764775566836774, 'bagging_freq': 4}. Best is trial 603 with value: 0.89773631262663.\u001b[0m\n",
            "\u001b[32m[I 2021-09-23 06:08:54,498]\u001b[0m Trial 939 finished with value: 0.8861274012894267 and parameters: {'num_leaves': 224, 'max_depth': 8, 'min_data_in_leaf': 80, 'learning_rate': 0.04070333270480843, 'n_estimators': 837, 'lambda_l2': 0.0042447634286758166, 'bagging_fraction': 0.9398937588849818, 'bagging_freq': 5}. Best is trial 603 with value: 0.89773631262663.\u001b[0m\n",
            "\u001b[32m[I 2021-09-23 06:08:57,958]\u001b[0m Trial 940 finished with value: 0.8879087073231233 and parameters: {'num_leaves': 361, 'max_depth': 7, 'min_data_in_leaf': 125, 'learning_rate': 0.027167996881066508, 'n_estimators': 858, 'lambda_l2': 0.007507228293793657, 'bagging_fraction': 0.9511534847605102, 'bagging_freq': 4}. Best is trial 603 with value: 0.89773631262663.\u001b[0m\n",
            "\u001b[32m[I 2021-09-23 06:09:00,029]\u001b[0m Trial 941 finished with value: 0.878107414491468 and parameters: {'num_leaves': 290, 'max_depth': 8, 'min_data_in_leaf': 140, 'learning_rate': 0.046815267684065534, 'n_estimators': 541, 'lambda_l2': 0.00033830889331752586, 'bagging_fraction': 0.8052920102859744, 'bagging_freq': 1}. Best is trial 603 with value: 0.89773631262663.\u001b[0m\n",
            "\u001b[32m[I 2021-09-23 06:09:04,018]\u001b[0m Trial 942 finished with value: 0.8851120135741162 and parameters: {'num_leaves': 259, 'max_depth': 8, 'min_data_in_leaf': 104, 'learning_rate': 0.03607137302759282, 'n_estimators': 882, 'lambda_l2': 0.003355122448042553, 'bagging_fraction': 0.9340932872811457, 'bagging_freq': 4}. Best is trial 603 with value: 0.89773631262663.\u001b[0m\n",
            "\u001b[32m[I 2021-09-23 06:09:07,609]\u001b[0m Trial 943 finished with value: 0.8938040926426213 and parameters: {'num_leaves': 448, 'max_depth': 7, 'min_data_in_leaf': 92, 'learning_rate': 0.04332759921620011, 'n_estimators': 827, 'lambda_l2': 0.0010222142861643587, 'bagging_fraction': 0.9679180961990786, 'bagging_freq': 4}. Best is trial 603 with value: 0.89773631262663.\u001b[0m\n",
            "\u001b[32m[I 2021-09-23 06:09:10,859]\u001b[0m Trial 944 finished with value: 0.88366696578988 and parameters: {'num_leaves': 475, 'max_depth': 7, 'min_data_in_leaf': 116, 'learning_rate': 0.03810186489039831, 'n_estimators': 802, 'lambda_l2': 0.000794336033224557, 'bagging_fraction': 0.9900756675795926, 'bagging_freq': 3}. Best is trial 603 with value: 0.89773631262663.\u001b[0m\n",
            "\u001b[32m[I 2021-09-23 06:09:14,274]\u001b[0m Trial 945 finished with value: 0.8793288961883734 and parameters: {'num_leaves': 457, 'max_depth': 7, 'min_data_in_leaf': 94, 'learning_rate': 0.04111899528163137, 'n_estimators': 783, 'lambda_l2': 0.0007869448536007047, 'bagging_fraction': 0.9705610919613764, 'bagging_freq': 4}. Best is trial 603 with value: 0.89773631262663.\u001b[0m\n",
            "\u001b[32m[I 2021-09-23 06:09:17,663]\u001b[0m Trial 946 finished with value: 0.8807664606821733 and parameters: {'num_leaves': 496, 'max_depth': 7, 'min_data_in_leaf': 110, 'learning_rate': 0.0425579543007883, 'n_estimators': 819, 'lambda_l2': 0.0006798592174407536, 'bagging_fraction': 0.9833316071218607, 'bagging_freq': 4}. Best is trial 603 with value: 0.89773631262663.\u001b[0m\n",
            "\u001b[32m[I 2021-09-23 06:09:21,461]\u001b[0m Trial 947 finished with value: 0.8808632206491731 and parameters: {'num_leaves': 545, 'max_depth': 7, 'min_data_in_leaf': 80, 'learning_rate': 0.03459494265380759, 'n_estimators': 811, 'lambda_l2': 0.0008996238970352398, 'bagging_fraction': 0.9845825190727526, 'bagging_freq': 3}. Best is trial 603 with value: 0.89773631262663.\u001b[0m\n",
            "\u001b[32m[I 2021-09-23 06:09:24,996]\u001b[0m Trial 948 finished with value: 0.8772024415495033 and parameters: {'num_leaves': 513, 'max_depth': 7, 'min_data_in_leaf': 129, 'learning_rate': 0.010703433396477252, 'n_estimators': 791, 'lambda_l2': 0.0010117974072479453, 'bagging_fraction': 0.9678944820608298, 'bagging_freq': 4}. Best is trial 603 with value: 0.89773631262663.\u001b[0m\n",
            "\u001b[32m[I 2021-09-23 06:09:28,205]\u001b[0m Trial 949 finished with value: 0.8910703226452504 and parameters: {'num_leaves': 245, 'max_depth': 7, 'min_data_in_leaf': 93, 'learning_rate': 0.044305370071011166, 'n_estimators': 827, 'lambda_l2': 0.001165932946478948, 'bagging_fraction': 0.999369123888022, 'bagging_freq': 1}. Best is trial 603 with value: 0.89773631262663.\u001b[0m\n",
            "\u001b[32m[I 2021-09-23 06:09:31,168]\u001b[0m Trial 950 finished with value: 0.8830622953163145 and parameters: {'num_leaves': 291, 'max_depth': 7, 'min_data_in_leaf': 157, 'learning_rate': 0.03954971795855625, 'n_estimators': 815, 'lambda_l2': 0.0005620035155976242, 'bagging_fraction': 0.9722934199792169, 'bagging_freq': 4}. Best is trial 603 with value: 0.89773631262663.\u001b[0m\n",
            "\u001b[32m[I 2021-09-23 06:09:34,411]\u001b[0m Trial 951 finished with value: 0.8891767845749317 and parameters: {'num_leaves': 319, 'max_depth': 7, 'min_data_in_leaf': 106, 'learning_rate': 0.04446728731542171, 'n_estimators': 830, 'lambda_l2': 0.0009881311485783245, 'bagging_fraction': 0.860913742984334, 'bagging_freq': 4}. Best is trial 603 with value: 0.89773631262663.\u001b[0m\n",
            "\u001b[32m[I 2021-09-23 06:09:37,723]\u001b[0m Trial 952 finished with value: 0.8779290089379168 and parameters: {'num_leaves': 274, 'max_depth': 7, 'min_data_in_leaf': 118, 'learning_rate': 0.036112191455061365, 'n_estimators': 835, 'lambda_l2': 0.0012813686593225592, 'bagging_fraction': 0.9539811003458504, 'bagging_freq': 4}. Best is trial 603 with value: 0.89773631262663.\u001b[0m\n",
            "\u001b[32m[I 2021-09-23 06:09:38,716]\u001b[0m Trial 953 finished with value: 0.872772925275763 and parameters: {'num_leaves': 454, 'max_depth': 7, 'min_data_in_leaf': 95, 'learning_rate': 0.04122265563108786, 'n_estimators': 164, 'lambda_l2': 0.00044670572723496456, 'bagging_fraction': 0.9628170491604204, 'bagging_freq': 3}. Best is trial 603 with value: 0.89773631262663.\u001b[0m\n",
            "\u001b[32m[I 2021-09-23 06:09:41,625]\u001b[0m Trial 954 finished with value: 0.8867344539866944 and parameters: {'num_leaves': 339, 'max_depth': 7, 'min_data_in_leaf': 141, 'learning_rate': 0.04653911445702469, 'n_estimators': 806, 'lambda_l2': 0.0013345446288383204, 'bagging_fraction': 0.9831940883420143, 'bagging_freq': 5}. Best is trial 603 with value: 0.89773631262663.\u001b[0m\n",
            "\u001b[32m[I 2021-09-23 06:09:43,503]\u001b[0m Trial 955 finished with value: 0.8817993864939401 and parameters: {'num_leaves': 299, 'max_depth': 7, 'min_data_in_leaf': 93, 'learning_rate': 0.030849979894957753, 'n_estimators': 392, 'lambda_l2': 0.0008573706135222113, 'bagging_fraction': 0.9601927575180876, 'bagging_freq': 4}. Best is trial 603 with value: 0.89773631262663.\u001b[0m\n",
            "\u001b[32m[I 2021-09-23 06:09:46,137]\u001b[0m Trial 956 finished with value: 0.8835432331393855 and parameters: {'num_leaves': 583, 'max_depth': 7, 'min_data_in_leaf': 80, 'learning_rate': 0.04450856268258455, 'n_estimators': 575, 'lambda_l2': 0.0014777419524107287, 'bagging_fraction': 0.8851454389100833, 'bagging_freq': 4}. Best is trial 603 with value: 0.89773631262663.\u001b[0m\n",
            "\u001b[32m[I 2021-09-23 06:09:49,394]\u001b[0m Trial 957 finished with value: 0.8773011596207388 and parameters: {'num_leaves': 226, 'max_depth': 7, 'min_data_in_leaf': 104, 'learning_rate': 0.038681131162527374, 'n_estimators': 841, 'lambda_l2': 0.0010501279840465572, 'bagging_fraction': 0.9997345958728158, 'bagging_freq': 1}. Best is trial 603 with value: 0.89773631262663.\u001b[0m\n",
            "\u001b[32m[I 2021-09-23 06:09:52,501]\u001b[0m Trial 958 finished with value: 0.8848839086956191 and parameters: {'num_leaves': 522, 'max_depth': 7, 'min_data_in_leaf': 121, 'learning_rate': 0.0486352913859734, 'n_estimators': 788, 'lambda_l2': 4.6965983447325284e-07, 'bagging_fraction': 0.9117033889576628, 'bagging_freq': 2}. Best is trial 603 with value: 0.89773631262663.\u001b[0m\n",
            "\u001b[32m[I 2021-09-23 06:09:54,654]\u001b[0m Trial 959 finished with value: 0.876331850104338 and parameters: {'num_leaves': 475, 'max_depth': 7, 'min_data_in_leaf': 354, 'learning_rate': 0.17838196268561335, 'n_estimators': 823, 'lambda_l2': 0.0017779677163344523, 'bagging_fraction': 0.9751640249946602, 'bagging_freq': 4}. Best is trial 603 with value: 0.89773631262663.\u001b[0m\n",
            "\u001b[32m[I 2021-09-23 06:09:58,075]\u001b[0m Trial 960 finished with value: 0.8931252930631354 and parameters: {'num_leaves': 266, 'max_depth': 7, 'min_data_in_leaf': 104, 'learning_rate': 0.041839411179328705, 'n_estimators': 848, 'lambda_l2': 0.0006154766608334829, 'bagging_fraction': 0.925954626713942, 'bagging_freq': 4}. Best is trial 603 with value: 0.89773631262663.\u001b[0m\n",
            "\u001b[32m[I 2021-09-23 06:10:01,904]\u001b[0m Trial 961 finished with value: 0.8760366525962604 and parameters: {'num_leaves': 327, 'max_depth': 7, 'min_data_in_leaf': 93, 'learning_rate': 0.04751280206834425, 'n_estimators': 900, 'lambda_l2': 0.0014914694573117619, 'bagging_fraction': 0.9438895133127005, 'bagging_freq': 3}. Best is trial 603 with value: 0.89773631262663.\u001b[0m\n",
            "\u001b[32m[I 2021-09-23 06:10:05,672]\u001b[0m Trial 962 finished with value: 0.8891473082760585 and parameters: {'num_leaves': 241, 'max_depth': 7, 'min_data_in_leaf': 80, 'learning_rate': 0.034483256980310927, 'n_estimators': 844, 'lambda_l2': 0.0006790597902922996, 'bagging_fraction': 0.9601332493370506, 'bagging_freq': 4}. Best is trial 603 with value: 0.89773631262663.\u001b[0m\n",
            "\u001b[32m[I 2021-09-23 06:10:09,109]\u001b[0m Trial 963 finished with value: 0.8860358112647776 and parameters: {'num_leaves': 284, 'max_depth': 7, 'min_data_in_leaf': 114, 'learning_rate': 0.04424129500977398, 'n_estimators': 856, 'lambda_l2': 0.001153478205956068, 'bagging_fraction': 0.9779296836579358, 'bagging_freq': 4}. Best is trial 603 with value: 0.89773631262663.\u001b[0m\n",
            "\u001b[32m[I 2021-09-23 06:10:11,943]\u001b[0m Trial 964 finished with value: 0.8819623419099165 and parameters: {'num_leaves': 310, 'max_depth': 7, 'min_data_in_leaf': 130, 'learning_rate': 0.14485543979492, 'n_estimators': 819, 'lambda_l2': 0.0007644259623947633, 'bagging_fraction': 0.936373847231239, 'bagging_freq': 1}. Best is trial 603 with value: 0.89773631262663.\u001b[0m\n",
            "\u001b[32m[I 2021-09-23 06:10:13,218]\u001b[0m Trial 965 finished with value: 0.8554584736265362 and parameters: {'num_leaves': 253, 'max_depth': 7, 'min_data_in_leaf': 660, 'learning_rate': 0.05147682169722967, 'n_estimators': 886, 'lambda_l2': 0.0019984994630131456, 'bagging_fraction': 0.8997025022402462, 'bagging_freq': 4}. Best is trial 603 with value: 0.89773631262663.\u001b[0m\n",
            "\u001b[32m[I 2021-09-23 06:10:15,938]\u001b[0m Trial 966 finished with value: 0.8814569381946452 and parameters: {'num_leaves': 350, 'max_depth': 7, 'min_data_in_leaf': 102, 'learning_rate': 0.0381707058989391, 'n_estimators': 612, 'lambda_l2': 0.0015795873011672503, 'bagging_fraction': 0.9546253695498874, 'bagging_freq': 4}. Best is trial 603 with value: 0.89773631262663.\u001b[0m\n",
            "\u001b[32m[I 2021-09-23 06:10:17,563]\u001b[0m Trial 967 finished with value: 0.8559067183302457 and parameters: {'num_leaves': 499, 'max_depth': 7, 'min_data_in_leaf': 499, 'learning_rate': 0.047260703441420755, 'n_estimators': 833, 'lambda_l2': 5.400419112876222e-05, 'bagging_fraction': 0.9231544511429761, 'bagging_freq': 3}. Best is trial 603 with value: 0.89773631262663.\u001b[0m\n",
            "\u001b[32m[I 2021-09-23 06:10:21,122]\u001b[0m Trial 968 finished with value: 0.8912676355936575 and parameters: {'num_leaves': 442, 'max_depth': 7, 'min_data_in_leaf': 92, 'learning_rate': 0.04119722797425318, 'n_estimators': 857, 'lambda_l2': 0.0004662674293473525, 'bagging_fraction': 0.94378995541713, 'bagging_freq': 4}. Best is trial 603 with value: 0.89773631262663.\u001b[0m\n",
            "\u001b[32m[I 2021-09-23 06:10:24,511]\u001b[0m Trial 969 finished with value: 0.8859091863451727 and parameters: {'num_leaves': 275, 'max_depth': 7, 'min_data_in_leaf': 117, 'learning_rate': 0.051682996317776994, 'n_estimators': 874, 'lambda_l2': 0.002318235913765214, 'bagging_fraction': 0.9688111664405298, 'bagging_freq': 4}. Best is trial 603 with value: 0.89773631262663.\u001b[0m\n",
            "\u001b[32m[I 2021-09-23 06:10:27,974]\u001b[0m Trial 970 finished with value: 0.8879576071968233 and parameters: {'num_leaves': 297, 'max_depth': 7, 'min_data_in_leaf': 93, 'learning_rate': 0.04456225683708269, 'n_estimators': 846, 'lambda_l2': 0.001005907877358806, 'bagging_fraction': 0.9197879173567738, 'bagging_freq': 4}. Best is trial 603 with value: 0.89773631262663.\u001b[0m\n",
            "\u001b[32m[I 2021-09-23 06:10:31,374]\u001b[0m Trial 971 finished with value: 0.8897374395409118 and parameters: {'num_leaves': 531, 'max_depth': 7, 'min_data_in_leaf': 80, 'learning_rate': 0.02582164777915784, 'n_estimators': 799, 'lambda_l2': 0.006071181742157265, 'bagging_fraction': 0.8430931619661572, 'bagging_freq': 1}. Best is trial 603 with value: 0.89773631262663.\u001b[0m\n",
            "\u001b[32m[I 2021-09-23 06:10:34,844]\u001b[0m Trial 972 finished with value: 0.8869049932176081 and parameters: {'num_leaves': 217, 'max_depth': 7, 'min_data_in_leaf': 107, 'learning_rate': 0.03243325198434806, 'n_estimators': 886, 'lambda_l2': 0.00023853860628103622, 'bagging_fraction': 0.8728256300442986, 'bagging_freq': 5}. Best is trial 603 with value: 0.89773631262663.\u001b[0m\n",
            "\u001b[32m[I 2021-09-23 06:10:38,154]\u001b[0m Trial 973 finished with value: 0.8853486794205234 and parameters: {'num_leaves': 378, 'max_depth': 7, 'min_data_in_leaf': 129, 'learning_rate': 0.037363369683003037, 'n_estimators': 865, 'lambda_l2': 0.0024141128933598314, 'bagging_fraction': 0.9521505026168087, 'bagging_freq': 4}. Best is trial 603 with value: 0.89773631262663.\u001b[0m\n",
            "\u001b[32m[I 2021-09-23 06:10:41,706]\u001b[0m Trial 974 finished with value: 0.8845313070182175 and parameters: {'num_leaves': 328, 'max_depth': 7, 'min_data_in_leaf': 92, 'learning_rate': 0.04196938924053001, 'n_estimators': 824, 'lambda_l2': 0.001712527332711045, 'bagging_fraction': 0.9873859755588964, 'bagging_freq': 3}. Best is trial 603 with value: 0.89773631262663.\u001b[0m\n",
            "\u001b[32m[I 2021-09-23 06:10:44,241]\u001b[0m Trial 975 finished with value: 0.8771310418379097 and parameters: {'num_leaves': 264, 'max_depth': 9, 'min_data_in_leaf': 273, 'learning_rate': 0.04909998409755374, 'n_estimators': 885, 'lambda_l2': 0.00504095995416597, 'bagging_fraction': 0.933640213001507, 'bagging_freq': 4}. Best is trial 603 with value: 0.89773631262663.\u001b[0m\n",
            "\u001b[32m[I 2021-09-23 06:10:46,292]\u001b[0m Trial 976 finished with value: 0.8777347097735237 and parameters: {'num_leaves': 462, 'max_depth': 7, 'min_data_in_leaf': 109, 'learning_rate': 0.045317196405534874, 'n_estimators': 499, 'lambda_l2': 0.0012788374494706587, 'bagging_fraction': 0.8278532938651626, 'bagging_freq': 4}. Best is trial 603 with value: 0.89773631262663.\u001b[0m\n",
            "\u001b[32m[I 2021-09-23 06:10:50,228]\u001b[0m Trial 977 finished with value: 0.8853243596406428 and parameters: {'num_leaves': 309, 'max_depth': 7, 'min_data_in_leaf': 80, 'learning_rate': 0.05181604892012307, 'n_estimators': 900, 'lambda_l2': 3.6877042787293355e-06, 'bagging_fraction': 0.9092137363050797, 'bagging_freq': 3}. Best is trial 603 with value: 0.89773631262663.\u001b[0m\n",
            "\u001b[32m[I 2021-09-23 06:10:51,795]\u001b[0m Trial 978 finished with value: 0.8744344155294269 and parameters: {'num_leaves': 251, 'max_depth': 7, 'min_data_in_leaf': 552, 'learning_rate': 0.03964485215719389, 'n_estimators': 849, 'lambda_l2': 0.007940841270597375, 'bagging_fraction': 0.9630439809758921, 'bagging_freq': 4}. Best is trial 603 with value: 0.89773631262663.\u001b[0m\n",
            "\u001b[32m[I 2021-09-23 06:10:55,260]\u001b[0m Trial 979 finished with value: 0.8827929881319996 and parameters: {'num_leaves': 863, 'max_depth': 8, 'min_data_in_leaf': 147, 'learning_rate': 0.04821821536083807, 'n_estimators': 864, 'lambda_l2': 0.002774676179909947, 'bagging_fraction': 0.9888307875525265, 'bagging_freq': 1}. Best is trial 603 with value: 0.89773631262663.\u001b[0m\n",
            "\u001b[32m[I 2021-09-23 06:10:58,613]\u001b[0m Trial 980 finished with value: 0.8759764941063221 and parameters: {'num_leaves': 491, 'max_depth': 7, 'min_data_in_leaf': 118, 'learning_rate': 0.04405613051664607, 'n_estimators': 837, 'lambda_l2': 0.0037906924029823224, 'bagging_fraction': 0.9403418301399598, 'bagging_freq': 4}. Best is trial 603 with value: 0.89773631262663.\u001b[0m\n",
            "\u001b[32m[I 2021-09-23 06:11:02,992]\u001b[0m Trial 981 finished with value: 0.89322535888461 and parameters: {'num_leaves': 285, 'max_depth': 10, 'min_data_in_leaf': 103, 'learning_rate': 0.03695059224316448, 'n_estimators': 810, 'lambda_l2': 0.001980571240481052, 'bagging_fraction': 0.9741666015062106, 'bagging_freq': 4}. Best is trial 603 with value: 0.89773631262663.\u001b[0m\n",
            "\u001b[32m[I 2021-09-23 06:11:07,482]\u001b[0m Trial 982 finished with value: 0.8823719866969848 and parameters: {'num_leaves': 1127, 'max_depth': 8, 'min_data_in_leaf': 80, 'learning_rate': 0.051716597211988354, 'n_estimators': 876, 'lambda_l2': 0.0008301801825073135, 'bagging_fraction': 0.9486609667088364, 'bagging_freq': 2}. Best is trial 603 with value: 0.89773631262663.\u001b[0m\n",
            "\u001b[32m[I 2021-09-23 06:11:11,275]\u001b[0m Trial 983 finished with value: 0.8840878372607284 and parameters: {'num_leaves': 971, 'max_depth': 7, 'min_data_in_leaf': 101, 'learning_rate': 0.04718056801577867, 'n_estimators': 900, 'lambda_l2': 0.0005220156288525871, 'bagging_fraction': 0.9281941681867044, 'bagging_freq': 4}. Best is trial 603 with value: 0.89773631262663.\u001b[0m\n",
            "\u001b[32m[I 2021-09-23 06:11:14,747]\u001b[0m Trial 984 finished with value: 0.8831399164165048 and parameters: {'num_leaves': 239, 'max_depth': 8, 'min_data_in_leaf': 135, 'learning_rate': 0.041290313411048024, 'n_estimators': 870, 'lambda_l2': 0.006178630289486763, 'bagging_fraction': 0.8838112614971844, 'bagging_freq': 4}. Best is trial 603 with value: 0.89773631262663.\u001b[0m\n",
            "\u001b[32m[I 2021-09-23 06:11:19,845]\u001b[0m Trial 985 finished with value: 0.8860980219891722 and parameters: {'num_leaves': 569, 'max_depth': 12, 'min_data_in_leaf': 94, 'learning_rate': 0.03419203153469484, 'n_estimators': 856, 'lambda_l2': 0.0003450867919784813, 'bagging_fraction': 0.9623007581139486, 'bagging_freq': 1}. Best is trial 603 with value: 0.89773631262663.\u001b[0m\n",
            "\u001b[32m[I 2021-09-23 06:11:23,406]\u001b[0m Trial 986 finished with value: 0.8894461531007273 and parameters: {'num_leaves': 361, 'max_depth': 9, 'min_data_in_leaf': 120, 'learning_rate': 0.05342391974600922, 'n_estimators': 780, 'lambda_l2': 0.004743480010826832, 'bagging_fraction': 0.9149300348273373, 'bagging_freq': 3}. Best is trial 603 with value: 0.89773631262663.\u001b[0m\n",
            "\u001b[32m[I 2021-09-23 06:11:27,005]\u001b[0m Trial 987 finished with value: 0.8836176828650841 and parameters: {'num_leaves': 269, 'max_depth': 7, 'min_data_in_leaf': 80, 'learning_rate': 0.0452308177490211, 'n_estimators': 830, 'lambda_l2': 0.0011773799324811018, 'bagging_fraction': 0.8998220544494346, 'bagging_freq': 4}. Best is trial 603 with value: 0.89773631262663.\u001b[0m\n",
            "\u001b[32m[I 2021-09-23 06:11:30,867]\u001b[0m Trial 988 finished with value: 0.8901697204285621 and parameters: {'num_leaves': 417, 'max_depth': 8, 'min_data_in_leaf': 107, 'learning_rate': 0.048715168454928376, 'n_estimators': 885, 'lambda_l2': 0.0016342382001322323, 'bagging_fraction': 0.9468025482638538, 'bagging_freq': 4}. Best is trial 603 with value: 0.89773631262663.\u001b[0m\n",
            "\u001b[32m[I 2021-09-23 06:11:32,364]\u001b[0m Trial 989 finished with value: 0.8828210891655535 and parameters: {'num_leaves': 315, 'max_depth': 7, 'min_data_in_leaf': 96, 'learning_rate': 0.1258987509292412, 'n_estimators': 319, 'lambda_l2': 2.9401161764288283e-05, 'bagging_fraction': 0.9716169277397892, 'bagging_freq': 4}. Best is trial 603 with value: 0.89773631262663.\u001b[0m\n",
            "\u001b[32m[I 2021-09-23 06:11:33,606]\u001b[0m Trial 990 finished with value: 0.8458882019964014 and parameters: {'num_leaves': 479, 'max_depth': 8, 'min_data_in_leaf': 774, 'learning_rate': 0.04049029591232176, 'n_estimators': 844, 'lambda_l2': 0.0028118214077803355, 'bagging_fraction': 0.9347903786585379, 'bagging_freq': 4}. Best is trial 603 with value: 0.89773631262663.\u001b[0m\n",
            "\u001b[32m[I 2021-09-23 06:11:35,341]\u001b[0m Trial 991 finished with value: 0.8739783195665759 and parameters: {'num_leaves': 443, 'max_depth': 8, 'min_data_in_leaf': 121, 'learning_rate': 0.03021388978632636, 'n_estimators': 874, 'lambda_l2': 0.003507918707631498, 'bagging_fraction': 0.3309640554569352, 'bagging_freq': 3}. Best is trial 603 with value: 0.89773631262663.\u001b[0m\n",
            "\u001b[32m[I 2021-09-23 06:11:39,122]\u001b[0m Trial 992 finished with value: 0.893808437597549 and parameters: {'num_leaves': 297, 'max_depth': 7, 'min_data_in_leaf': 92, 'learning_rate': 0.04349692128534221, 'n_estimators': 900, 'lambda_l2': 7.912085968596941e-05, 'bagging_fraction': 0.9842760859167206, 'bagging_freq': 4}. Best is trial 603 with value: 0.89773631262663.\u001b[0m\n",
            "\u001b[32m[I 2021-09-23 06:11:41,662]\u001b[0m Trial 993 finished with value: 0.8775315690894886 and parameters: {'num_leaves': 281, 'max_depth': 7, 'min_data_in_leaf': 80, 'learning_rate': 0.036327925565661376, 'n_estimators': 555, 'lambda_l2': 0.00031790631346296193, 'bagging_fraction': 0.9898440410318508, 'bagging_freq': 1}. Best is trial 603 with value: 0.89773631262663.\u001b[0m\n",
            "\u001b[32m[I 2021-09-23 06:11:43,905]\u001b[0m Trial 994 finished with value: 0.8749301251039455 and parameters: {'num_leaves': 260, 'max_depth': 7, 'min_data_in_leaf': 329, 'learning_rate': 0.03948036648340472, 'n_estimators': 859, 'lambda_l2': 0.0003935597156168997, 'bagging_fraction': 0.9967574034872648, 'bagging_freq': 4}. Best is trial 603 with value: 0.89773631262663.\u001b[0m\n",
            "\u001b[32m[I 2021-09-23 06:11:47,059]\u001b[0m Trial 995 finished with value: 0.8852897750628769 and parameters: {'num_leaves': 294, 'max_depth': 7, 'min_data_in_leaf': 112, 'learning_rate': 0.04271078315479834, 'n_estimators': 808, 'lambda_l2': 0.0006410292534444459, 'bagging_fraction': 0.9873788970434592, 'bagging_freq': 3}. Best is trial 603 with value: 0.89773631262663.\u001b[0m\n",
            "\u001b[32m[I 2021-09-23 06:11:50,764]\u001b[0m Trial 996 finished with value: 0.8792764648904849 and parameters: {'num_leaves': 241, 'max_depth': 7, 'min_data_in_leaf': 93, 'learning_rate': 0.03832942523150539, 'n_estimators': 882, 'lambda_l2': 0.00010379584666573915, 'bagging_fraction': 0.983595316901616, 'bagging_freq': 5}. Best is trial 603 with value: 0.89773631262663.\u001b[0m\n",
            "\u001b[32m[I 2021-09-23 06:11:54,189]\u001b[0m Trial 997 finished with value: 0.8778324153682782 and parameters: {'num_leaves': 216, 'max_depth': 7, 'min_data_in_leaf': 104, 'learning_rate': 0.03375075030029022, 'n_estimators': 829, 'lambda_l2': 0.00016473499495690412, 'bagging_fraction': 0.9758806710717051, 'bagging_freq': 4}. Best is trial 603 with value: 0.89773631262663.\u001b[0m\n",
            "\u001b[32m[I 2021-09-23 06:11:57,699]\u001b[0m Trial 998 finished with value: 0.8844523813117328 and parameters: {'num_leaves': 278, 'max_depth': 7, 'min_data_in_leaf': 131, 'learning_rate': 0.043026079340340875, 'n_estimators': 862, 'lambda_l2': 5.3921098262326635e-05, 'bagging_fraction': 0.9936188978735698, 'bagging_freq': 4}. Best is trial 603 with value: 0.89773631262663.\u001b[0m\n",
            "\u001b[32m[I 2021-09-23 06:11:59,509]\u001b[0m Trial 999 finished with value: 0.8783738593663797 and parameters: {'num_leaves': 260, 'max_depth': 7, 'min_data_in_leaf': 152, 'learning_rate': 0.045224701410492715, 'n_estimators': 452, 'lambda_l2': 0.00025327899581018676, 'bagging_fraction': 0.978954173197649, 'bagging_freq': 4}. Best is trial 603 with value: 0.89773631262663.\u001b[0m\n"
          ]
        }
      ]
    },
    {
      "cell_type": "code",
      "metadata": {
        "colab": {
          "base_uri": "https://localhost:8080/"
        },
        "id": "nHGPqC0m4In7",
        "outputId": "e1d6444b-c0b9-49f1-a6c9-2414e63da4d8"
      },
      "source": [
        "print(\"Number of finished trials: {}\".format(len(study.trials)))\n",
        "print(\"Best trial:\")\n",
        "trial = study.best_trial\n",
        "print(\"  Value: {}\".format(trial.value))\n",
        "print(\"  Params: \")\n",
        "for key, value in trial.params.items():\n",
        "    print(\"    '{}': {},\".format(key, value))\n",
        "\n",
        "lgbm_bestparams = trial.params"
      ],
      "execution_count": 354,
      "outputs": [
        {
          "output_type": "stream",
          "name": "stdout",
          "text": [
            "Number of finished trials: 1000\n",
            "Best trial:\n",
            "  Value: 0.89773631262663\n",
            "  Params: \n",
            "    'num_leaves': 265,\n",
            "    'max_depth': 8,\n",
            "    'min_data_in_leaf': 90,\n",
            "    'learning_rate': 0.03465588572813726,\n",
            "    'n_estimators': 860,\n",
            "    'lambda_l2': 0.0015472753387245955,\n",
            "    'bagging_fraction': 0.8674475747239556,\n",
            "    'bagging_freq': 4,\n"
          ]
        }
      ]
    },
    {
      "cell_type": "code",
      "metadata": {
        "id": "hOH57MmkSJDl"
      },
      "source": [
        "lgbm_bestparams = {\n",
        "    'num_leaves': 265,\n",
        "    'max_depth': 8,\n",
        "    'min_data_in_leaf': 90,\n",
        "    'learning_rate': 0.03465588572813726,\n",
        "    'n_estimators': 860,\n",
        "    'lambda_l2': 0.0015472753387245955,\n",
        "    'bagging_fraction': 0.8674475747239556,\n",
        "    'bagging_freq': 4}"
      ],
      "execution_count": 355,
      "outputs": []
    },
    {
      "cell_type": "markdown",
      "metadata": {
        "id": "Rm1CyOf-lffv"
      },
      "source": [
        "#Model ensemble - Update\n"
      ]
    },
    {
      "cell_type": "markdown",
      "metadata": {
        "id": "Sl7GgyGNreDS"
      },
      "source": [
        "## XGBoost"
      ]
    },
    {
      "cell_type": "code",
      "metadata": {
        "colab": {
          "base_uri": "https://localhost:8080/"
        },
        "id": "dqqE1RK-k-tD",
        "outputId": "fc5f20db-26e2-4485-c950-4060fc6a812f"
      },
      "source": [
        "# does everything above and predict stuff with XGBoost\n",
        "pipe_xgb = make_pipeline(full_preprocess,\n",
        "                         XGBRegressor(random_state=0,verbosity=0))\n",
        "score_xgb = cross_val_score(pipe_xgb, x_train, y_train, cv=5)\n",
        "print(f'accuracy of {np.round(score_xgb.mean(),4)} and standard deviation of {score_xgb.std()}')"
      ],
      "execution_count": 271,
      "outputs": [
        {
          "output_type": "stream",
          "name": "stdout",
          "text": [
            "accuracy of 0.8691 and standard deviation of 0.00737480751676962\n"
          ]
        }
      ]
    },
    {
      "cell_type": "markdown",
      "metadata": {
        "id": "ksVqGA9qrhBS"
      },
      "source": [
        "## LGBM"
      ]
    },
    {
      "cell_type": "code",
      "metadata": {
        "colab": {
          "base_uri": "https://localhost:8080/"
        },
        "id": "mvlfTDCEozMU",
        "outputId": "0fabd113-3a8d-4dcb-a61c-1526ba93c169"
      },
      "source": [
        "# does everything above and predict stuff\n",
        "pipe_lgbm = make_pipeline(full_preprocess,\n",
        "                         LGBMRegressor(random_state=0))\n",
        "score_lgbm = cross_val_score(pipe_lgbm, x_train, y_train, cv=5)\n",
        "print(f'accuracy of {np.round(score_lgbm.mean(),4)} and standard deviation of {score_lgbm.std()}')"
      ],
      "execution_count": 358,
      "outputs": [
        {
          "output_type": "stream",
          "name": "stdout",
          "text": [
            "accuracy of 0.8803 and standard deviation of 0.004147711047362714\n"
          ]
        }
      ]
    },
    {
      "cell_type": "markdown",
      "metadata": {
        "id": "zNESTKzarjrj"
      },
      "source": [
        "## Voting"
      ]
    },
    {
      "cell_type": "code",
      "metadata": {
        "id": "vMlcPS0gt41b"
      },
      "source": [
        "#reference for implementing voting\n",
        "clf1 = XGBRegressor(random_state=0,verbosity=0)\n",
        "clf2 = RandomForestRegressor(random_state=0)\n",
        "clf3 = LGBMRegressor(**lgbm_bestparams)\n",
        "clf4 = GradientBoostingRegressor(random_state=0)\n",
        "eclf = VotingRegressor(estimators=[('xgb', clf1), ('rf', clf2), ('lgbm', clf3), ('gb',clf4)],\n",
        "                       weights=[1,1,5,1])\n",
        "\n",
        "pipe_vote = make_pipeline(full_preprocess,\n",
        "                          eclf)"
      ],
      "execution_count": 359,
      "outputs": []
    },
    {
      "cell_type": "code",
      "metadata": {
        "colab": {
          "base_uri": "https://localhost:8080/"
        },
        "id": "jjEHaceKpv7A",
        "outputId": "a119a27a-ba31-4cbb-967e-0546270f9f95"
      },
      "source": [
        "score_vote = cross_val_score(pipe_vote, x_train, y_train, cv=5)\n",
        "print(f'accuracy of {np.round(score_vote.mean(),4)} and standard deviation of {score_vote.std()}')"
      ],
      "execution_count": 360,
      "outputs": [
        {
          "output_type": "stream",
          "name": "stdout",
          "text": [
            "accuracy of 0.8832 and standard deviation of 0.00618198145301473\n"
          ]
        }
      ]
    }
  ]
}